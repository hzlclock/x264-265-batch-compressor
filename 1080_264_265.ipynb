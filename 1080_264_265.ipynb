{
 "cells": [
  {
   "cell_type": "markdown",
   "metadata": {},
   "source": [
    "# Step0: Install environment"
   ]
  },
  {
   "cell_type": "raw",
   "metadata": {},
   "source": [
    "set PYTHONHOME=%CONDA_PREFIX\n",
    "python vsrepo.py install havsfunc ffms2 d2v lsmas\n",
    "pip install git+https://git.concertos.live/AHD/awsmfunc.git"
   ]
  },
  {
   "cell_type": "raw",
   "metadata": {},
   "source": [
    "cd $HOME/.installs\n",
    "git clone https://github.com/l-smash/l-smash.git\n",
    "cd l-smash\n",
    "./configure  --prefix=/usr --enable-shared\n",
    "make lib\n",
    "sudo make install-lib\n",
    "\n",
    "cd $HOME/.installs\n",
    "git clone https://github.com/sekrit-twc/zimg.git\n",
    "cd zimg\n",
    "./autogen.sh\n",
    "./configure --prefix=/usr\n",
    "make\n",
    "sudo make install\n",
    "\n",
    "cd $HOME/.installs\n",
    "wget https://www.imagemagick.org/download/ImageMagick.tar.gz\n",
    "tar xvzf ImageMagick.tar.gz\n",
    "cd ImageMagick*/\n",
    "./configure --prefix=/usr\n",
    "make\n",
    "sudo make install\n",
    "\n",
    "git clone https://github.com/vapoursynth/vapoursynth.git\n",
    "cd vapoursynth\n",
    "./autogen.sh\n",
    "./configure\n",
    "make\n",
    "make install\n",
    "sudo ldconfig"
   ]
  },
  {
   "cell_type": "code",
   "execution_count": 3,
   "metadata": {},
   "outputs": [],
   "source": [
    "import vapoursynth as vs\n",
    "import havsfunc as haf\n",
    "import mvsfunc as mvf\n",
    "from vapoursynth import core\n",
    "import awsmfunc as awsf"
   ]
  },
  {
   "cell_type": "markdown",
   "metadata": {},
   "source": [
    "# Step1: Select BDMV Largest M2TS and its MLPS"
   ]
  },
  {
   "cell_type": "code",
   "execution_count": null,
   "metadata": {},
   "outputs": [],
   "source": [
    "x265_filename=r\"C:\\Users\\heber\\Music\\How.to.Train.Your.Dragon.2.2014.2160p.BluRay.x265.DTS-louco@PTHOME\\How.to.Train.Your.Dragon.2.2014.2160p.BluRay.x265.DTS-louco@PTHOME.mkv\""
   ]
  },
  {
   "cell_type": "markdown",
   "metadata": {},
   "source": [
    "# Step2: BDMV to MKV"
   ]
  },
  {
   "cell_type": "raw",
   "metadata": {},
   "source": [
    ".\\mkvmerge.exe -o $OUTPUT_FILE $INPUT_MLPS"
   ]
  },
  {
   "cell_type": "markdown",
   "metadata": {},
   "source": [
    "# Step3: Transcode"
   ]
  },
  {
   "cell_type": "code",
   "execution_count": 4,
   "metadata": {},
   "outputs": [],
   "source": [
    "import os, pyperclip, re, subprocess\n",
    "from pymediainfo import MediaInfo\n",
    "from datetime import datetime\n",
    "# from utils import *\n",
    "crf=17.0\n",
    "qcomp=0.7\n",
    "aq_mode=3\n",
    "aq_s=0.7\n",
    "bitdepth=8\n",
    "newline=\"\\r\\n\"\n",
    "remotecwd=\"~/compressor\"\n",
    "remotehost=\"amd\"\n",
    "PROCUCT_DEST_DIR=r\"/home/qianyi/Downloads/\"\n",
    "MOVIE=r\"/home/qianyi/Downloads/The.Boat.2018.1080p.FRA.Blu-ray.REMUX.DTS-louco@PTH.mkv\""
   ]
  },
  {
   "cell_type": "code",
   "execution_count": null,
   "metadata": {},
   "outputs": [],
   "source": []
  },
  {
   "cell_type": "markdown",
   "metadata": {},
   "source": [
    "## get remux capture and crop black borders"
   ]
  },
  {
   "cell_type": "code",
   "execution_count": 5,
   "metadata": {},
   "outputs": [
    {
     "ename": "NameError",
     "evalue": "name 'get_captures' is not defined",
     "output_type": "error",
     "traceback": [
      "\u001b[0;31m---------------------------------------------------------------------------\u001b[0m",
      "\u001b[0;31mNameError\u001b[0m                                 Traceback (most recent call last)",
      "\u001b[0;32m<ipython-input-5-82690e2ce960>\u001b[0m in \u001b[0;36m<module>\u001b[0;34m\u001b[0m\n\u001b[0;32m----> 1\u001b[0;31m \u001b[0mget_captures\u001b[0m\u001b[0;34m(\u001b[0m\u001b[0;34m\"REMUX\"\u001b[0m\u001b[0;34m,\u001b[0m \u001b[0mMOVIE\u001b[0m\u001b[0;34m)\u001b[0m\u001b[0;34m\u001b[0m\u001b[0;34m\u001b[0m\u001b[0m\n\u001b[0m",
      "\u001b[0;31mNameError\u001b[0m: name 'get_captures' is not defined"
     ]
    }
   ],
   "source": [
    "get_captures(\"REMUX\", MOVIE)"
   ]
  },
  {
   "cell_type": "markdown",
   "metadata": {},
   "source": [
    "## H264: Test params"
   ]
  },
  {
   "cell_type": "code",
   "execution_count": 10,
   "metadata": {},
   "outputs": [
    {
     "name": "stdout",
     "output_type": "stream",
     "text": [
      "==========\n",
      "远程执行编码 x264:\n",
      "set MOVIE=/home/qianyi/Downloads/The.Boat.2018.1080p.FRA.Blu-ray.REMUX.DTS-louco@PTH.mkv\n",
      "set TEST=YES\n",
      "vspipe.exe --y4m \"/home/qianyi/Downloads/x264-265-batch-compressor\\vs.py\" - |zstd -0|python /home/qianyi/Downloads/x264-265-batch-compressor\\aio_buffer.py|ssh amd \"python3 ~/compressor/aio_buffer.py|zstdcat|x264 --demuxer y4m --preset slower --profile high --level 4.1 --ref 4 --crf 17.0 --qcomp 0.7 --aq-mode 3 --aq-strength 0.7 --bframes 11 --me umh  --subme 11 --merange 48 --no-fast-pskip --no-dct-decimate --direct auto --psy-rd 1.00:0.00 --vbv-bufsize 78125 --vbv-maxrate 62500 --deblock -3:-3 --b-adapt 2 --keyint 240 --min-keyint 1 --no-mbtree --trellis 2 --chroma-qp-offset -1 --rc-lookahead 72 --output 264.mkv - 2>&1 | tee x264.log\"\n",
      "scp amd:~/264.mkv /home/qianyi/Downloads/x264-265-batch-compressor\\264.mkv\n",
      "pause\n",
      "\n",
      "===FFMPEG===\n",
      "ffmpeg -ss 3900 -t 60 -i /home/qianyi/Downloads/The.Boat.2018.1080p.FRA.Blu-ray.REMUX.DTS-louco@PTH.mkv -c:v libx264 -profile:v high -filter:v \"crop=in_w:in_h-280\" -preset slow -x264-params demuxer=y4m:preset=slower:profile=high:level=4.1:ref=4:crf=17.0:qcomp=0.7:aq-mode=3:aq-strength=0.7:bframes=11:me=umh:subme=11:merange=48:no-fast-pskip:no-dct-decimate:direct=auto:psy-rd=1.00,0.00:vbv-bufsize=78125:vbv-maxrate=62500:deblock=-3,-3:b-adapt=2:keyint=240:min-keyint=1:no-mbtree:trellis=2:chroma-qp-offset=-1:rc-lookahead=72 -max_muxing_queue_size 1024 -c:a copy -c:s copy -max_muxing_queue_size 1024 -map 0 /home/qianyi/Downloads/The.Boat.2018.1080p.FRA.Blu-ray.x264.DTS-louco@PTH.mkv 2>&1|tee x264.log\n",
      "ffmpeg -ss 3900 -t 60 -i /home/qianyi/Downloads/The.Boat.2018.1080p.FRA.Blu-ray.REMUX.DTS-louco@PTH.mkv -c:v libx265 -profile:v main10 -filter:v \"crop=in_w:in_h-280\" -preset slow -x265-params y4m=-D=10:profile=main10:level-idc=5.1:high-tier:preset=slower:crf=17.0:qcomp=0.7:aq-mode=3:aq-strength=0.7:rd=4:psy-rd=2.0:psy-rdoq=1.0:rdoq-level=2:deblock=-1,-1:cbqpoffs=-1:crqpoffs=-3:ctu=32:qg-size=8:no-sao:no-sao-non-deblock:selective-sao=0:tu-intra-depth=4:tu-inter-depth=4:no-opt-qp-pps:no-opt-ref-list-length-pps:aud:repeat-headers:me=3:subme=5:merange=48:b-intra:limit-tu=0:no-rect:no-amp:no-open-gop:pools=+:keyint=240:min-keyint=1:bframes=8:max-merge=4:ref=4:weightb:rc-lookahead=72:scenecut=40:no-strong-intra-smoothing:vbv-bufsize=160000:vbv-maxrate=160000:input-depth=10 -max_muxing_queue_size 1024 -c:a copy -c:s copy -max_muxing_queue_size 1024 -map 0 /home/qianyi/Downloads/The.Boat.2018.1080p.FRA.Blu-ray.x265.10bit.DTS-louco@PTH.mkv 2>&1|tee x265.log\n",
      "echo DONE\n"
     ]
    }
   ],
   "source": [
    "test=\"\"\n",
    "x264_stmt=f\"x264 --demuxer y4m --preset slower --profile high --level 4.1 --ref 4 \\\n",
    "--crf {crf} --qcomp {qcomp} --aq-mode {aq_mode} --aq-strength {aq_s} --bframes 11 --me umh  --subme 11 \\\n",
    "--merange 48 --no-fast-pskip --no-dct-decimate --direct auto --psy-rd 1.00:0.00 \\\n",
    "--vbv-bufsize 78125 --vbv-maxrate 62500 --deblock -3:-3 --b-adapt 2 --keyint 240 \\\n",
    "--min-keyint 1 --no-mbtree --trellis 2 --chroma-qp-offset -1 --rc-lookahead 72 --output 264.mkv -\"\n",
    "\n",
    "x265_stmt=f\"x265 --y4m -D 10 --profile main10 --level-idc 5.1 --high-tier --preset slower --crf {crf} --qcomp {qcomp} --aq-mode {aq_mode} \\\n",
    "--aq-strength {aq_s} --rd 4 --psy-rd 2.0 --psy-rdoq 1.0 --rdoq-level 2 --deblock -1:-1 --cbqpoffs -1 --crqpoffs -3 --ctu 32 \\\n",
    "--qg-size 8 --no-sao --no-sao-non-deblock --selective-sao 0 --tu-intra-depth 4 --tu-inter-depth 4 --no-opt-qp-pps \\\n",
    "--no-opt-ref-list-length-pps --aud --repeat-headers --me 3 --subme 5 --merange 48 --b-intra --limit-tu 0 --no-rect \\\n",
    "--no-amp --no-open-gop --pools + --keyint 240 --min-keyint 1 --bframes 8 --max-merge 4 --ref 4 --weightb --rc-lookahead 72 \\\n",
    "--scenecut 40 --no-strong-intra-smoothing --vbv-bufsize 160000 --vbv-maxrate 160000 --input-depth 10 --output 265.mkv -\"\n",
    "\n",
    "test=\"-ss 3900 -t 60\"\n",
    "crop=\"-filter:v \\\"crop=in_w:in_h-280\\\"\"\n",
    "\n",
    "args=x264_stmt.replace(\" --\",\"\\n --\").split(\"\\n\")[1:-1]\n",
    "args=[i.strip().replace(\"--\",\"\").replace(\" \",\"=\").replace(\":\",\",\") for i in args]\n",
    "args5=x265_stmt.replace(\" --\",\"\\n --\").split(\"\\n\")[1:-1]\n",
    "args5=[i.strip().replace(\"--\",\"\").replace(\" \",\"=\").replace(\":\",\",\") for i in args5]\n",
    "# print(\"\\n\".join([\"x264 参数：\"]+args))\n",
    "\n",
    "remote_x264stmt=f'vspipe.exe --y4m \"{os. getcwd()}\\\\vs.py\" - |zstd -0|python {os. getcwd()}\\\\aio_buffer.py|\\\n",
    "ssh {remotehost} \"python3 {remotecwd}/aio_buffer.py|zstdcat|{x264_stmt} 2>&1 | tee x264.log\"{newline}'\n",
    "\n",
    "print(\"==========\\n远程执行编码 x264:\")\n",
    "cmd=f'set MOVIE={MOVIE}{newline}'\n",
    "cmd+=f'set TEST=YES{newline}'\n",
    "cmd+=remote_x264stmt\n",
    "cmd+=f'scp {remotehost}:~/264.mkv {os. getcwd()}\\\\264.mkv{newline}'\n",
    "# cmd+=f'scp {remotehost}:~/264.mkv D:\\\\BT\\\\samples\\\\264.mkv{newline}'\n",
    "cmd+=f'pause{newline}'\n",
    "pyperclip.copy(cmd)\n",
    "print(cmd)\n",
    "\n",
    "print(\"===FFMPEG===\")\n",
    "x264_filename=\"\".join(re.findall(r'([^\\\\]*$)', MOVIE)).replace(\"REMUX\", \"x264\")\n",
    "x265_filename=\"\".join(re.findall(r'([^\\\\]*$)', MOVIE)).replace(\"REMUX\", \"x265.10bit\")\n",
    "\n",
    "print(f\"ffmpeg {test} -i {MOVIE} -c:v libx264 -profile:v high {crop} -preset slow -x264-params {':'.join(args)} \\\n",
    "-max_muxing_queue_size 1024 -c:a copy -c:s copy -max_muxing_queue_size 1024 -map 0 {x264_filename} 2>&1|tee x264.log\" )\n",
    "print(f\"ffmpeg {test} -i {MOVIE} -c:v libx265 -profile:v main10 {crop} -preset slow -x265-params {':'.join(args5)} \\\n",
    "-max_muxing_queue_size 1024 -c:a copy -c:s copy -max_muxing_queue_size 1024 -map 0 {x265_filename} 2>&1|tee x265.log\" )\n",
    "print(f\"echo DONE\")"
   ]
  },
  {
   "cell_type": "markdown",
   "metadata": {},
   "source": [
    "## H264&H265"
   ]
  },
  {
   "cell_type": "code",
   "execution_count": 2,
   "metadata": {},
   "outputs": [
    {
     "name": "stdout",
     "output_type": "stream",
     "text": [
      "==========\n",
      "远程执行编码 x264+x265:\n",
      "set TEST=NO\n",
      "vspipe.exe --y4m \"C:\\Users\\heber\\Documents\\Compressor\\vs.py\" - |zstd -0 -T4|python C:\\Users\\heber\\Documents\\Compressor\\aio_buffer.py|ssh amd \"python3 ~/compressor/aio_buffer.py|zstdcat| tee >(x264 --demuxer y4m --preset slower --profile high --level 4.1 --ref 4 --crf 19.0 --qcomp 0.7 --aq-mode 3 --aq-strength 0.7 --bframes 11 --me umh  --subme 11 --merange 48 --no-fast-pskip --no-dct-decimate --direct auto --psy-rd 1.00:0.00 --vbv-bufsize 78125 --vbv-maxrate 62500 --deblock -3:-3 --b-adapt 2 --keyint 240 --min-keyint 1 --no-mbtree --trellis 2 --chroma-qp-offset -1 --rc-lookahead 72 --output 264.mkv - 2>&1 | tee x264.log) >(x265 --y4m -D 10 --profile main10 --level-idc 5.1 --high-tier --preset slower --crf 19.0 --qcomp 0.7 --aq-mode 3 --aq-strength 0.7 --rd 4 --psy-rd 2.0 --psy-rdoq 1.0 --rdoq-level 2 --deblock -1:-1 --cbqpoffs -1 --crqpoffs -3 --ctu 32 --qg-size 8 --no-sao --no-sao-non-deblock --selective-sao 0 --tu-intra-depth 4 --tu-inter-depth 4 --no-opt-qp-pps --no-opt-ref-list-length-pps --aud --repeat-headers --me 3 --subme 5 --merange 48 --b-intra --limit-tu 0 --no-rect --no-amp --no-open-gop --pools + --keyint 240 --min-keyint 1 --bframes 8 --max-merge 4 --ref 4 --weightb --rc-lookahead 72 --scenecut 40 --no-strong-intra-smoothing --vbv-bufsize 160000 --vbv-maxrate 160000 --input-depth 10 --output 265.mkv - 2>&1 | tee x265.log) >/dev/null\"\n",
      "scp amd:~/264.mkv C:\\Users\\heber\\Documents\\Compressor\\264.mkv\n",
      "scp amd:~/265.mkv C:\\Users\\heber\\Documents\\Compressor\\265.mkv\n",
      "ssh amd \"cat x264.log|sed \\\"s/.*\\r//g\\\" \" >C:\\Users\\heber\\Documents\\Compressor\\x264.log & ssh amd \"cat x265.log|sed \\\"s/.*\\r//g\\\" \" >C:\\Users\\heber\\Documents\\Compressor\\x265.log\n",
      "pause\n",
      "\n"
     ]
    }
   ],
   "source": [
    "x264_stmt=f\"x264 --demuxer y4m --preset slower --profile high --level 4.1 --ref 4 \\\n",
    "--crf {crf} --qcomp {qcomp} --aq-mode {aq_mode} --aq-strength {aq_s} --bframes 11 --me umh  --subme 11 \\\n",
    "--merange 48 --no-fast-pskip --no-dct-decimate --direct auto --psy-rd 1.00:0.00 \\\n",
    "--vbv-bufsize 78125 --vbv-maxrate 62500 --deblock -3:-3 --b-adapt 2 --keyint 240 \\\n",
    "--min-keyint 1 --no-mbtree --trellis 2 --chroma-qp-offset -1 --rc-lookahead 72 --output 264.mkv -\"\n",
    "\n",
    "x265_stmt=f\"x265 --y4m -D 10 --profile main10 --level-idc 5.1 --high-tier --preset slower --crf {crf} --qcomp {qcomp} --aq-mode {aq_mode} \\\n",
    "--aq-strength {aq_s} --rd 4 --psy-rd 2.0 --psy-rdoq 1.0 --rdoq-level 2 --deblock -1:-1 --cbqpoffs -1 --crqpoffs -3 --ctu 32 \\\n",
    "--qg-size 8 --no-sao --no-sao-non-deblock --selective-sao 0 --tu-intra-depth 4 --tu-inter-depth 4 --no-opt-qp-pps \\\n",
    "--no-opt-ref-list-length-pps --aud --repeat-headers --me 3 --subme 5 --merange 48 --b-intra --limit-tu 0 --no-rect \\\n",
    "--no-amp --no-open-gop --pools + --keyint 240 --min-keyint 1 --bframes 8 --max-merge 4 --ref 4 --weightb --rc-lookahead 72 \\\n",
    "--scenecut 40 --no-strong-intra-smoothing --vbv-bufsize 160000 --vbv-maxrate 160000 --input-depth 10 --output 265.mkv -\"\n",
    "\n",
    "\n",
    "remote_stmt=f'vspipe.exe --y4m \"{os. getcwd()}\\\\vs.py\" - |zstd -0 -T4|python {os. getcwd()}\\\\aio_buffer.py|\\\n",
    "ssh {remotehost} \"python3 {remotecwd}/aio_buffer.py|zstdcat| tee \\\n",
    ">({x264_stmt} 2>&1 | tee x264.log) \\\n",
    ">({x265_stmt} 2>&1 | tee x265.log) \\\n",
    ">/dev/null\"{newline}'\n",
    "\n",
    "\n",
    "print(\"==========\\n远程执行编码 x264+x265:\")\n",
    "cmd=f'set MOVIE={MOVIE}{newline}'\n",
    "cmd=f'set TEST=NO{newline}'\n",
    "cmd+=remote_stmt\n",
    "cmd+=f'scp {remotehost}:~/264.mkv {os. getcwd()}\\\\264.mkv{newline}'\n",
    "cmd+=f'scp {remotehost}:~/265.mkv {os. getcwd()}\\\\265.mkv{newline}'\n",
    "\n",
    "cmd+=f'ssh {remotehost} \"cat x264.log|sed \\\\\"s/.*\\\\r//g\\\\\" \" >{os. getcwd()}\\\\x264.log & '\n",
    "cmd+=f'ssh {remotehost} \"cat x265.log|sed \\\\\"s/.*\\\\r//g\\\\\" \" >{os. getcwd()}\\\\x265.log{newline}'\n",
    "cmd+=f'pause{newline}'\n",
    "pyperclip.copy(cmd)\n",
    "print(cmd)"
   ]
  },
  {
   "cell_type": "markdown",
   "metadata": {},
   "source": [
    "# H265 4K"
   ]
  },
  {
   "cell_type": "code",
   "execution_count": 2,
   "metadata": {},
   "outputs": [
    {
     "name": "stdout",
     "output_type": "stream",
     "text": [
      "==========\n",
      "远程执行编码 x265:\n",
      "set MOVIE=C:\\Users\\heber\\Music\\Get.Out.2017.UHD.Blu-Ray.2160p.REMUX.DTS-louco@PTH.mkv\n",
      "set TEST=NO\n",
      "vspipe.exe --y4m \"C:\\Users\\heber\\Documents\\Compressor\\vs.py\" - |zstd -0 -T4|python C:\\Users\\heber\\Documents\\Compressor\\aio_buffer.py|ssh amd \"python3 ~/compressor/aio_buffer.py|zstdcat| tee >(x265 --y4m -D 10 --profile main10 --level-idc 5.1 --high-tier --preset slower --crf 18.0 --qcomp 0.7 --aq-mode 3 --aq-strength 0.7 --psy-rdoq 1 --psy-rd 2  --bframes 11 --ctu 64 --min-cu-size 8 --limit-tu 0 --tu-intra-depth 4 --tu-inter-depth 4 --me 3 --subme 6 --merange 48 --analyze-src-pics --max-merge 5 --early-skip --b-intra --no-open-gop --min-keyint 1 --keyint 240 --ref 6 --fades --b-adapt 2 --no-strong-intra-smoothing --cbqpoffs -1 --crqpoffs -3 --rdoq-level 2 --nr-inter 20 --nr-intra 10 --qg-size 32 --rd 4 --no-limit-modes --limit-refs 1 --no-rect --rc-lookahead 72 --tskip-fast --rdpenalty 0 --no-splitrd-skip --deblock -3:-3 --nr-inter 20 --nr-intra 10 --no-sao --no-sao-non-deblock --selective-sao 0 --no-opt-qp-pps --no-opt-ref-list-length-pps --repeat-headers --no-temporal-layers --no-amp --pools + --vbv-bufsize 160000 --vbv-maxrate 150000 --lookahead-slices 5 --input-depth 10 --hdr10 --hdr10-opt --colormatrix bt2020nc --colorprim bt2020 --transfer smpte2084 --master-display 'G(13250,34500)B(7500,3000)R(34000,16000)WP(15635,16450)L(10000000,0)' --output 265.mkv - 2>&1 | tee x265.log) >/dev/null\"\n",
      "scp amd:~/265.mkv C:\\Users\\heber\\Documents\\Compressor\\265.mkv\n",
      "ssh amd \"cat x265.log|sed 's/.*\\r//g' \" >C:\\Users\\heber\\Documents\\Compressor\\x265.log\n",
      "\n"
     ]
    }
   ],
   "source": [
    "x265_stmt=f'x265 --y4m -D 10 --profile main10 --level-idc 5.1 --high-tier --preset slower \\\n",
    "--crf {crf} --qcomp {qcomp} --aq-mode {aq_mode} \\\n",
    "--aq-strength {aq_s} --psy-rdoq 1 --psy-rd 2  --bframes 11 \\\n",
    "--ctu 64 --min-cu-size 8 --limit-tu 0 --tu-intra-depth 4 --tu-inter-depth 4 \\\n",
    "--me 3 --subme 6 --merange 48 --analyze-src-pics \\\n",
    "--max-merge 5 --early-skip --b-intra \\\n",
    "--no-open-gop --min-keyint 1 --keyint 240 --ref 6 --fades --b-adapt 2 \\\n",
    "--no-strong-intra-smoothing --cbqpoffs -1 --crqpoffs -3 \\\n",
    "--rdoq-level 2 --nr-inter 20 --nr-intra 10 \\\n",
    "--qg-size 32 \\\n",
    "--rd 4 --no-limit-modes --limit-refs 1 --no-rect --rc-lookahead 72 --tskip-fast \\\n",
    "--rdpenalty 0 --no-splitrd-skip \\\n",
    "--deblock -3:-3 --nr-inter 20 --nr-intra 10 \\\n",
    "--no-sao --no-sao-non-deblock --selective-sao 0 \\\n",
    "--no-opt-qp-pps --no-opt-ref-list-length-pps --repeat-headers \\\n",
    "--no-temporal-layers --no-amp --pools + \\\n",
    "--vbv-bufsize 160000 --vbv-maxrate 150000 --lookahead-slices 5 --input-depth 10 \\\n",
    "--hdr10 --hdr10-opt --colormatrix bt2020nc --colorprim bt2020 --transfer smpte2084 \\\n",
    "--master-display \\'G(13250,34500)B(7500,3000)R(34000,16000)WP(15635,16450)L(10000000,0)\\' --output 265.mkv -'\n",
    "# --max-cll 922,239 \n",
    "'''\n",
    "BT.2020 \tG(8500,39850)B(6550,2300)R(35400,14600)WP(15635,16450)L(40000000,50)\n",
    "Display P3    G(13250,34500)B(7500,3000)R(34000,16000)WP(15635,16450)L(40000000,50)\n",
    "'''\n",
    "\n",
    "# with open(\"x265.sh\",\"w\") as f:\n",
    "#     f.write(f'zstdcat ~/yrm/src|{x265_stmt} 2>&1 | tee x265.log')\n",
    "# remote_x265stmt=f'vspipe.exe --y4m \"{os. getcwd()}\\\\vs.py\" - |zstd -0 -T8|ssh {remotehost} \"cat>~/y4m/src\"'\n",
    "# remote_convertcmd=f'scp {os.getcwd()}\\\\x265.sh {remotehost}:{remotecwd}'\n",
    "    \n",
    "remote_stmt=f'vspipe.exe --y4m \"{os. getcwd()}\\\\vs.py\" - |zstd -0 -T4|python {os. getcwd()}\\\\aio_buffer.py|\\\n",
    "ssh {remotehost} \"python3 {remotecwd}/aio_buffer.py|zstdcat| tee \\\n",
    ">({x265_stmt} 2>&1 | tee x265.log) \\\n",
    ">/dev/null\"{newline}'\n",
    "\n",
    "\n",
    "print(\"==========\\n远程执行编码 x265:\")\n",
    "cmd=f'set MOVIE={MOVIE}{newline}'\n",
    "cmd+=f'set TEST=NO{newline}'\n",
    "cmd+=remote_stmt\n",
    "cmd+=f'scp {remotehost}:~/265.mkv {os. getcwd()}\\\\265.mkv{newline}'\n",
    "\n",
    "cmd+=f'ssh {remotehost} \"cat x265.log|sed \\'s/.*\\\\r//g\\' \" >{os. getcwd()}\\\\x265.log{newline}'\n",
    "\n",
    "pyperclip.copy(cmd)\n",
    "print(cmd)"
   ]
  },
  {
   "cell_type": "markdown",
   "metadata": {},
   "source": [
    "## H264 & H265 offline"
   ]
  },
  {
   "cell_type": "code",
   "execution_count": 5,
   "metadata": {},
   "outputs": [
    {
     "name": "stdout",
     "output_type": "stream",
     "text": [
      "==========\n",
      "远程执行编码 x265:\n",
      "set MOVIE=C:\\Users\\heber\\Music\\How.to.Train.Your.Dragon.2.2014.2160p.BluRay.REMUX.HEVC.DTS-MA.7.1-PTHOME\\How.to.Train.Your.Dragon.2.2014.2160p.BluRay.REMUX.HEVC.DTS-MA.7.1-PTHOME.mkv\n",
      "set TEST=NO\n",
      "vspipe.exe --y4m \"C:\\Users\\heber\\Documents\\Compressor\\vs.py\" - |zstd -0 -T8|ssh ubuntu20local \"cat>~/y4m/src\"\n",
      "scp C:\\Users\\heber\\Documents\\Compressor\\x26x.sh ubuntu20local:~/compressor\n",
      "pause\n",
      "scp ubuntu20local:~/compressor/265.mkv C:\\Users\\heber\\Documents\\Compressor\\265.mkv\n",
      "\n"
     ]
    }
   ],
   "source": [
    "x264_stmt=f\"x264 --demuxer y4m --preset slower --profile high --level 4.1 --ref 4 \\\n",
    "--crf {crf} --qcomp {qcomp} --aq-mode {aq_mode} --aq-strength {aq_s} --bframes 11 --me umh  --subme 11 \\\n",
    "--merange 48 --no-fast-pskip --no-dct-decimate --direct auto --psy-rd 1.00:0.00 \\\n",
    "--vbv-bufsize 78125 --vbv-maxrate 62500 --deblock -3:-3 --b-adapt 2 --keyint 240 \\\n",
    "--min-keyint 1 --no-mbtree --trellis 2 --chroma-qp-offset -1 --rc-lookahead 72 --output 264.mkv -\"\n",
    "\n",
    "x265_stmt=f\"x265 --y4m -D 10 --profile main10 --level-idc 5.1 --high-tier --preset slower --crf {crf} --qcomp {qcomp} --aq-mode {aq_mode} \\\n",
    "--aq-strength {aq_s} --rd 4 --psy-rd 2.0 --psy-rdoq 1.0 --rdoq-level 2 --deblock -1:-1 --cbqpoffs -1 --crqpoffs -3 --ctu 32 \\\n",
    "--qg-size 8 --no-sao --no-sao-non-deblock --selective-sao 0 --tu-intra-depth 4 --tu-inter-depth 4 --no-opt-qp-pps \\\n",
    "--no-opt-ref-list-length-pps --aud --repeat-headers --me 3 --subme 5 --merange 48 --b-intra --limit-tu 0 --no-rect \\\n",
    "--no-amp --no-open-gop --pools + --keyint 240 --min-keyint 1 --bframes 8 --max-merge 4 --ref 4 --weightb --rc-lookahead 72 \\\n",
    "--scenecut 40 --no-strong-intra-smoothing --vbv-bufsize 160000 --vbv-maxrate 160000 --input-depth 10 --output 265.mkv -\"\n",
    "\n",
    "remote_stmt=f'zstdcat ~/yrm/src| tee \\\n",
    ">({x264_stmt} 2>&1 | tee x264.log) \\\n",
    ">({x265_stmt} 2>&1 | tee x265.log) \\\n",
    ">/dev/null{newline}'\n",
    "\n",
    "with open(\"x26x.sh\",\"w\") as f:\n",
    "    f.write(remote_stmt)\n",
    "remote_x265stmt=f'vspipe.exe --y4m \"{os. getcwd()}\\\\vs.py\" - |zstd -0 -T8|ssh {remotehost} \"cat>~/y4m/src\"'\n",
    "remote_convertcmd=f'scp {os.getcwd()}\\\\x26x.sh {remotehost}:{remotecwd}'\n",
    "\n",
    "print(\"==========\\n远程执行编码 x265:\")\n",
    "cmd=f'set MOVIE={MOVIE}{newline}'\n",
    "cmd+=f'set TEST=NO{newline}'\n",
    "cmd+=remote_x265stmt+newline\n",
    "cmd+=remote_convertcmd+newline\n",
    "cmd+=f'pause{newline}'\n",
    "cmd+=f'scp {remotehost}:{remotecwd}/264.mkv {os. getcwd()}\\\\264.mkv{newline}'\n",
    "cmd+=f'scp {remotehost}:{remotecwd}/265.mkv {os. getcwd()}\\\\265.mkv{newline}'\n",
    "\n",
    "pyperclip.copy(cmd)\n",
    "print(cmd)"
   ]
  },
  {
   "cell_type": "markdown",
   "metadata": {},
   "source": [
    "# Step4: Remux MKV\n",
    "## x264"
   ]
  },
  {
   "cell_type": "code",
   "execution_count": 6,
   "metadata": {},
   "outputs": [
    {
     "name": "stdout",
     "output_type": "stream",
     "text": [
      "Legendary.La.Rose.Noire.1992.Blu-ray.1080p.x264.TrueHD.5.1-louco@PTHome.mkv\n",
      "即将执行: \n",
      "   [剩] Legendary.La.Rose.Noire.1992.Blu-ray.1080p.REMUX.TrueHD.5.1-louco@PTHome.mkv\n",
      " + [视] I:\\Users\\heber\\Documents\\Compressor\\264.mkv\n",
      "-> [全] I:\\Users\\heber\\Music\\Legendary.La.Rose.Noire.1992.Blu-ray.1080p.x264.TrueHD.5.1-louco@PTHome\\Legendary.La.Rose.Noire.1992.Blu-ray.1080p.x264.TrueHD.5.1-louco@PTHome.mkv\n",
      "=================\n",
      "mkdir I:\\Users\\heber\\Music\\Legendary.La.Rose.Noire.1992.Blu-ray.1080p.x264.TrueHD.5.1-louco@PTHome ^& I:\\Users\\heber\\Documents\\Compressor\\mkvtoolnix\\mkvmerge.exe -o \"I:\\Users\\heber\\Music\\Legendary.La.Rose.Noire.1992.Blu-ray.1080p.x264.TrueHD.5.1-louco@PTHome\\Legendary.La.Rose.Noire.1992.Blu-ray.1080p.x264.TrueHD.5.1-louco@PTHome.mkv\" -D ( \"Legendary.La.Rose.Noire.1992.Blu-ray.1080p.REMUX.TrueHD.5.1-louco@PTHome.mkv\" )    -A -S -T -M -B --no-chapters ( \"I:\\Users\\heber\\Documents\\Compressor\\264.mkv\" )\n"
     ]
    }
   ],
   "source": [
    "# title=\"\".join(re.findall(r'([^\\\\]*\\d{4}p)', MOVIE))\n",
    "# NEWMOVIE=f'{os.getcwd()}\\\\{title}.BluRay.x264.DTS-PTH.mkv'\n",
    "x264_filename=\"\".join(re.findall(r'([^\\\\]*$)', MOVIE)).replace(\"REMUX\", \"x264\")\n",
    "x264_foldername=PROCUCT_DEST_DIR+\"\\\\\"+x264_filename.replace(\".mkv\",'')\n",
    "x264_fullpath=f'{x264_foldername}\\\\{x264_filename}'\n",
    "print(x264_filename)\n",
    "cmd=f'mkdir {x264_foldername} ^& '\n",
    "cmd+=f'{os. getcwd()}\\\\mkvtoolnix\\\\mkvmerge.exe -o \"{x264_fullpath}\" -D ( \"{MOVIE}\" )\\\n",
    "    -A -S -T -M -B --no-chapters ( \"{os. getcwd()}\\\\264.mkv\" )'\n",
    "pyperclip.copy(cmd)\n",
    "print(f\"即将执行: \\n   [剩] {MOVIE}\\n + [视] {os. getcwd()}\\\\264.mkv\\n-> [全] {x264_fullpath}\\n=================\")\n",
    "print(cmd)"
   ]
  },
  {
   "cell_type": "code",
   "execution_count": 21,
   "metadata": {},
   "outputs": [],
   "source": [
    "subprocess.run(f\"start cmd /c {cmd} ^& pause\", shell=True)\n",
    "None"
   ]
  },
  {
   "cell_type": "code",
   "execution_count": 12,
   "metadata": {},
   "outputs": [
    {
     "name": "stdout",
     "output_type": "stream",
     "text": [
      "Capture x264\n",
      "[quote][font=Lucida Console]\n",
      ".Release.Info\n",
      "ENCODER...................: PTH\n",
      "RELEASE NAME..............: Legendary.La.Rose.Noire.1992.Blu-ray.1080p.REMUX.TrueHD.5.1-loudo@PTHome\n",
      "RELEASE DATE..............: 2021-01-25\n",
      "RELEASE SiZE..............: 10.084 GB\n",
      "SOURCE....................: \n",
      "\n",
      ".Media.Info\n",
      "RUNTiME...................: 1 h 34 min\n",
      "ViDEO CODEC...............: x264 High@L4.1 @ 11.97Mb/s\n",
      "RESOLUTiON................: 1920x1080\n",
      "DiSPLAY ASPECT RATiO......: 1.778\n",
      "FRAME RATE................: 24.000\n",
      "BIT DEPTH.................: 8 bits\n",
      "AUDiO CODEC...............: Chinese AC-3 2 @ 384.0Kb/s \n",
      "AUDiO CODEC...............: Chinese MLP FBA 5.1 @ 2745.61Kb/s \n",
      " \n",
      "SUBTiTLES.................: S_HDMV/PGS : Chinese(chs)\n",
      "SUBTiTLES.................: S_HDMV/PGS : Chinese(cht)\n",
      "SUBTiTLES.................: S_HDMV/PGS : English(eng)\n",
      "\n",
      "\n",
      ".x264.Info\n",
      "[/quote]\n"
     ]
    },
    {
     "data": {
      "text/plain": [
       "'[quote][font=Lucida Console]\\n.Release.Info\\nENCODER...................: PTH\\nRELEASE NAME..............: Legendary.La.Rose.Noire.1992.Blu-ray.1080p.REMUX.TrueHD.5.1-loudo@PTHome\\nRELEASE DATE..............: 2021-01-25\\nRELEASE SiZE..............: 10.084 GB\\nSOURCE....................: \\n\\n.Media.Info\\nRUNTiME...................: 1 h 34 min\\nViDEO CODEC...............: x264 High@L4.1 @ 11.97Mb/s\\nRESOLUTiON................: 1920x1080\\nDiSPLAY ASPECT RATiO......: 1.778\\nFRAME RATE................: 24.000\\nBIT DEPTH.................: 8 bits\\nAUDiO CODEC...............: Chinese AC-3 2 @ 384.0Kb/s \\nAUDiO CODEC...............: Chinese MLP FBA 5.1 @ 2745.61Kb/s \\n \\nSUBTiTLES.................: S_HDMV/PGS : Chinese(chs)\\nSUBTiTLES.................: S_HDMV/PGS : Chinese(cht)\\nSUBTiTLES.................: S_HDMV/PGS : English(eng)\\n\\n\\n.x264.Info\\n[/quote]'"
      ]
     },
     "execution_count": 12,
     "metadata": {},
     "output_type": "execute_result"
    }
   ],
   "source": [
    "get_captures(\"x264\", x264_filename)\n",
    "generate_videoinfo(f'{x264_foldername}\\\\{x264_filename}',\"x264.log\")"
   ]
  },
  {
   "cell_type": "markdown",
   "metadata": {},
   "source": [
    "## x265"
   ]
  },
  {
   "cell_type": "code",
   "execution_count": 7,
   "metadata": {},
   "outputs": [
    {
     "name": "stdout",
     "output_type": "stream",
     "text": [
      "即将执行: \n",
      "   [剩] Legendary.La.Rose.Noire.1992.Blu-ray.1080p.REMUX.TrueHD.5.1-louco@PTHome.mkv\n",
      " + [视] I:\\Users\\heber\\Documents\\Compressor\\265.mkv\n",
      "-> [全] I:\\Users\\heber\\Music\\Legendary.La.Rose.Noire.1992.Blu-ray.1080p.x265.10bit.TrueHD.5.1-louco@PTHome\\Legendary.La.Rose.Noire.1992.Blu-ray.1080p.x265.10bit.TrueHD.5.1-louco@PTHome.mkv\n",
      "=================\n",
      "mkdir I:\\Users\\heber\\Music\\Legendary.La.Rose.Noire.1992.Blu-ray.1080p.x265.10bit.TrueHD.5.1-louco@PTHome ^& I:\\Users\\heber\\Documents\\Compressor\\mkvtoolnix\\mkvmerge.exe -o \"I:\\Users\\heber\\Music\\Legendary.La.Rose.Noire.1992.Blu-ray.1080p.x265.10bit.TrueHD.5.1-louco@PTHome\\Legendary.La.Rose.Noire.1992.Blu-ray.1080p.x265.10bit.TrueHD.5.1-louco@PTHome.mkv\" -D ( \"Legendary.La.Rose.Noire.1992.Blu-ray.1080p.REMUX.TrueHD.5.1-louco@PTHome.mkv\" )    -A -S -T -M -B --no-chapters ( \"I:\\Users\\heber\\Documents\\Compressor\\265.mkv\" )\n"
     ]
    }
   ],
   "source": [
    "x265_filename=\"\".join(re.findall(r'([^\\\\]*$)', MOVIE)).replace(\"REMUX\", \"x265.10bit\")\n",
    "x265_foldername=PROCUCT_DEST_DIR+\"\\\\\"+x265_filename.replace(\".mkv\",'')\n",
    "NEWMOVIE=f'{x265_foldername}\\\\{x265_filename}'\n",
    "x265_fullpath=NEWMOVIE\n",
    "cmd=f'mkdir {x265_foldername} ^& '\n",
    "cmd+=f'{os. getcwd()}\\\\mkvtoolnix\\\\mkvmerge.exe -o \"{NEWMOVIE}\" -D ( \"{MOVIE}\" )\\\n",
    "    -A -S -T -M -B --no-chapters ( \"{os. getcwd()}\\\\265.mkv\" )'\n",
    "pyperclip.copy(cmd)\n",
    "print(f\"即将执行: \\n   [剩] {MOVIE}\\n + [视] {os. getcwd()}\\\\265.mkv\\n-> [全] {NEWMOVIE}\\n=================\")\n",
    "print(cmd)"
   ]
  },
  {
   "cell_type": "code",
   "execution_count": 23,
   "metadata": {},
   "outputs": [
    {
     "data": {
      "text/plain": [
       "CompletedProcess(args='start cmd /c mkdir I:\\\\Users\\\\heber\\\\Music\\\\Legendary.La.Rose.Noire.1992.Blu-ray.1080p.x265.10bit.TrueHD.5.1-louco@PTHome ^& I:\\\\Users\\\\heber\\\\Documents\\\\Compressor\\\\mkvtoolnix\\\\mkvmerge.exe -o \"I:\\\\Users\\\\heber\\\\Music\\\\Legendary.La.Rose.Noire.1992.Blu-ray.1080p.x265.10bit.TrueHD.5.1-louco@PTHome\\\\Legendary.La.Rose.Noire.1992.Blu-ray.1080p.x265.10bit.TrueHD.5.1-louco@PTHome.mkv\" -D ( \"Legendary.La.Rose.Noire.1992.Blu-ray.1080p.REMUX.TrueHD.5.1-louco@PTHome.mkv\" )    -A -S -T -M -B --no-chapters ( \"I:\\\\Users\\\\heber\\\\Documents\\\\Compressor\\\\265.mkv\" ) ^& pause', returncode=0)"
      ]
     },
     "execution_count": 23,
     "metadata": {},
     "output_type": "execute_result"
    }
   ],
   "source": [
    "subprocess.run(f\"start cmd /c {cmd} ^& pause\", shell=True)"
   ]
  },
  {
   "cell_type": "code",
   "execution_count": 27,
   "metadata": {},
   "outputs": [
    {
     "name": "stdout",
     "output_type": "stream",
     "text": [
      "[quote][font=Lucida Console]\n",
      ".Release.Info\n",
      "ENCODER...................: PTH\n",
      "RELEASE NAME..............: Forrest.Gump.1994.Remastered.1080p.Blu-ray.x265.10bit.Atmos.TrueHD.7.1-louco@PTHome\n",
      "RELEASE DATE..............: 2021-01-21\n",
      "RELEASE SiZE..............: 16.885 GB\n",
      "SOURCE....................: \n",
      "\n",
      ".Media.Info\n",
      "RUNTiME...................: 2 h 22 min\n",
      "ViDEO CODEC...............: x265 Main 10@L5.1@High @ 12.54Mb/s\n",
      "RESOLUTiON................: 1920x800\n",
      "DiSPLAY ASPECT RATiO......: 2.400\n",
      "FRAME RATE................: 23.976\n",
      "BIT DEPTH.................: 10 bits\n",
      "AUDiO CODEC...............: English MLP FBA 8 @ 4271.44Kb/s \n",
      " \n",
      "SUBTiTLES.................: S_HDMV/PGS : Chinese(chs&eng)\n",
      "SUBTiTLES.................: S_HDMV/PGS : Chinese(cht&eng)\n",
      "SUBTiTLES.................: S_HDMV/PGS : Chinese(chs)\n",
      "SUBTiTLES.................: S_HDMV/PGS : Chinese(cht)\n",
      "SUBTiTLES.................: S_HDMV/PGS : English(eng)\n",
      "\n",
      "\n",
      ".x265.Info\n",
      "x265 [info]: Main 10 profile, Level-5.1 (High tier)\n",
      "x265 [info]: frame I:   1505, Avg QP:17.73  kb/s: 29780.76\n",
      "x265 [info]: frame P:  22883, Avg QP:18.93  kb/s: 16949.42\n",
      "x265 [info]: frame B: 125348, Avg QP:23.04  kb/s: 2669.28 \n",
      "x265 [info]: Weighted P-Frames: Y:4.1% UV:1.5%\n",
      "x265 [info]: Weighted B-Frames: Y:3.7% UV:1.0%\n",
      "x265 [info]: consecutive B-frames: 9.5% 3.8% 4.5% 16.3% 7.3% 23.3% 4.8% 6.5% 7.5% 3.1% 2.9% 10.5% \n",
      "[/quote]\n",
      "Forrest.Gump.1994.Remastered.1080p.Blu-ray.x265.10bit.Atmos.TrueHD.7.1-louco@PTHome.mkv\n",
      "Capture x265\n"
     ]
    }
   ],
   "source": [
    "generate_videoinfo(x265_fullpath,\"x265.log\")\n",
    "print(x265_filename)\n",
    "get_captures(\"x265\", x265_fullpath)"
   ]
  },
  {
   "cell_type": "markdown",
   "metadata": {},
   "source": [
    "# Step5 发布"
   ]
  },
  {
   "cell_type": "code",
   "execution_count": 1,
   "metadata": {},
   "outputs": [],
   "source": [
    "# https://api.rhilip.info/ptgen.html\n",
    "\n",
    "def get_bbcode(file, src=\"\",logname=\"\", title=None):\n",
    "    print(\"Title:\", file.replace(\".\",\" \"))\n",
    "#     由ZERO13@PTHome字幕组完成校对、调整。\n",
    "    picbed='''\n",
    "[url=https://sm.ms/image/PkKxy3XIiSgqF9E][img]https://i.loli.net/2021/01/25/PkKxy3XIiSgqF9E.jpg[/img][/url]\n",
    "[url=https://sm.ms/image/DGFzvXgyKbiHAk6][img]https://i.loli.net/2021/01/25/DGFzvXgyKbiHAk6.jpg[/img][/url]\n",
    "[url=https://sm.ms/image/gv97sCnXqeoywcK][img]https://i.loli.net/2021/01/25/gv97sCnXqeoywcK.jpg[/img][/url]\n",
    "[url=https://sm.ms/image/xeb4HpnTQYAEJaK][img]https://i.loli.net/2021/01/25/xeb4HpnTQYAEJaK.jpg[/img][/url]\n",
    "[url=https://sm.ms/image/1OLXTaMWNscAgEI][img]https://i.loli.net/2021/01/25/1OLXTaMWNscAgEI.jpg[/img][/url]\n",
    "[url=https://sm.ms/image/CZyprLqXVl9kESU][img]https://i.loli.net/2021/01/25/CZyprLqXVl9kESU.jpg[/img][/url]\n",
    "    '''\n",
    "    if \"REMUX\" in file:\n",
    "        picbed='''\n",
    "[url=https://sm.ms/image/DXSGehZUtavp51n][img]https://i.loli.net/2021/01/21/DXSGehZUtavp51n.jpg[/img][/url]\n",
    "[url=https://sm.ms/image/5tGfhgXBnrQCO1b][img]https://i.loli.net/2021/01/21/5tGfhgXBnrQCO1b.jpg[/img][/url]\n",
    "[url=https://sm.ms/image/13UCdleYK7vAioP][img]https://i.loli.net/2021/01/21/13UCdleYK7vAioP.jpg[/img][/url]\n",
    "[url=https://sm.ms/image/gFnQiyUTY4uH1Xj][img]https://i.loli.net/2021/01/21/gFnQiyUTY4uH1Xj.jpg[/img][/url]\n",
    "[url=https://sm.ms/image/bpewl6C1vnYX5cF][img]https://i.loli.net/2021/01/21/bpewl6C1vnYX5cF.jpg[/img][/url]\n",
    "[url=https://sm.ms/image/VpQHfztGyUBN2jX][img]https://i.loli.net/2021/01/21/VpQHfztGyUBN2jX.jpg[/img][/url]\n",
    "    '''\n",
    "    bbcode='''\n",
    "[quote][size=5][color=RoyalBlue]原盘来自M-Team，diy来自xixihaha\n",
    "字幕转载务必注意礼节，请保留原作者信息，谢绝二次提取修改！\n",
    "在此感谢各位原作者及分享者！如有侵权请联系删除！[/color][/size][/quote]\n",
    "\n",
    "[img]https://pic.imgdb.cn/item/600e6e7b3ffa7d37b3e7e87d.jpg[/img]\n",
    "\n",
    "◎译　　名　92黑玫瑰对黑玫瑰 / 92 Legendary La Rose Noire / 黑蔷薇对黑蔷薇\n",
    "◎片　　名　92黑玫瑰對黑玫瑰\n",
    "◎年　　代　1992\n",
    "◎产　　地　中国香港\n",
    "◎类　　别　喜剧 / 动作 / 爱情 / 歌舞\n",
    "◎语　　言　粤语\n",
    "◎上映日期　1992-07-02\n",
    "◎IMDb评分  6.8/10 from 315 users\n",
    "◎IMDb链接  https://www.imdb.com/title/tt0103602\n",
    "◎豆瓣评分　7.4/10 from 18366 users\n",
    "◎豆瓣链接　https://movie.douban.com/subject/1299135/\n",
    "◎片　　长　95分钟\n",
    "◎导　　演　刘镇伟 Jeffrey Lau\n",
    "◎编　　剧　刘镇伟 Jeffrey Lau\n",
    "◎主　　演　梁家辉 Tony Leung\n",
    "　　　　　  邵美琪 Maggie Siu\n",
    "　　　　　  毛舜筠 Teresa Mo\n",
    "　　　　　  黄韵诗 Wan-Si Wong\n",
    "　　　　　  冯宝宝 Bo-Bo Fung\n",
    "　　　　　  伍国健 Kwok-Kin Ng\n",
    "　　　　　  孙名翠 Karen Suen\n",
    "　　　　　  陈远佳 Yuen Kai Chan\n",
    "　　　　　  司马华龙 Wah Lung Szema\n",
    "　　　　　  叶进 Chun Yip\n",
    "　　　　　  叶荣祖 Wing-Cho Yip\n",
    "　　　　　  林祖辉 Thomas Lam\n",
    "　　　　　  刘国昌 Lawrence Ah Mon\n",
    "　　　　　  邓泰和 Tai Wo Tang\n",
    "\n",
    "\n",
    "◎标　　签　香港 | 喜剧 | 梁家辉 | 刘镇伟 | 香港电影 | 毛舜筠 | 邵美琪 | 1992\n",
    "\n",
    "◎简　　介  \n",
    "\n",
    "　　黄蝴蝶（邵美琪 饰）是一个失意的编剧，几经波折，已经堕落到向闺蜜阿娟（毛舜筠 饰）探讨三级片的程度。胡蝶的邻居警官吕奇（梁家辉 饰）对她颇有好感，后者在英雄救美后意外得到了她家的钥匙，然而他的不请自来，却落得狼狈而逃。因为事业接连遭受重创，胡蝶决定在江边横刀自尽，然而怯懦 的她终于没有自裁，反而盲打误撞惊扰了一对偷情的鸳鸯。后者仓皇逃窜，却遗留了一些私人财物。为了物归原主，胡蝶和阿娟一同登门，却无意中卷入了一场黑吃黑的血案。侥幸逃生的胡蝶临走前，还多事地留下了黑玫瑰的字条，而阿娟却因为留下了手印而被警方对号入座。结果，黑玫瑰成为了全城热议的话题，而这也引起了黑玫瑰掌门人（冯宝宝 饰）与师姐（黄韵诗 饰）的注意，于是一场剪不断理还乱的情场争夺战开始上演了……\n",
    "\n",
    "◎获奖情况  \n",
    "\n",
    "　　第12届香港电影金像奖(1993)\n",
    "　　最佳电影(提名) 浮乐莲\n",
    "　　最佳导演(提名) 刘镇伟\n",
    "　　最佳编剧(提名) 刘镇伟\n",
    "　　最佳男主角 梁家辉\n",
    "　　最佳女配角 冯宝宝\n",
    "　　最佳女配角(提名) 毛舜筠 / 黄韵诗\n",
    "　　最佳服装造型设计(提名) Joseph Chan\n",
    "　　最佳原创电影音乐(提名) 卢冠廷\n",
    "\n",
    "[img]https://images2.imgbox.com/04/6b/Ggp5ReQb_o.png[/img]\n",
    "\n",
    "'''+f'{generate_videoinfo(file,logname,src=src)}\\n{picbed}\\n{get_mediainfo(file)}'\n",
    "    pyperclip.copy(bbcode)\n",
    "SRC=r\"Legendary La Rose Noire 1992 REMUX Blu-ray 1080p AVC TrueHD 5.1-DIY@xixihaha\".replace(\" \",\".\")"
   ]
  },
  {
   "cell_type": "code",
   "execution_count": 4,
   "metadata": {},
   "outputs": [
    {
     "name": "stdout",
     "output_type": "stream",
     "text": [
      "Title: Legendary La Rose Noire 1992 Blu-ray 1080p REMUX TrueHD 5 1-louco@PTHome mkv\n",
      "[quote][font=Lucida Console]\n",
      ".Release.Info\n",
      "ENCODER...................: PTH\n",
      "RELEASE NAME..............: Legendary.La.Rose.Noire.1992.Blu-ray.1080p.REMUX.TrueHD.5.1-louco@PTHome\n",
      "RELEASE DATE..............: 2021-01-25\n",
      "RELEASE SiZE..............: 19.005 GB\n",
      "SOURCE....................: Legendary.La.Rose.Noire.1992.REMUX.Blu-ray.1080p.AVC.TrueHD.5.1-DIY@xixihaha\n",
      "\n",
      ".Media.Info\n",
      "RUNTiME...................: 1 h 34 min\n",
      "ViDEO CODEC...............: ? High@L4.1 @ 25.43Mb/s\n",
      "RESOLUTiON................: 1920x1080\n",
      "DiSPLAY ASPECT RATiO......: 1.778\n",
      "FRAME RATE................: 24.000\n",
      "BIT DEPTH.................: 8 bits\n",
      "AUDiO CODEC...............: Chinese AC-3 2 @ 384.0Kb/s \n",
      "AUDiO CODEC...............: Chinese MLP FBA 5.1 @ 2745.61Kb/s \n",
      " \n",
      "SUBTiTLES.................: S_HDMV/PGS : Chinese(chs)\n",
      "SUBTiTLES.................: S_HDMV/PGS : Chinese(cht)\n",
      "SUBTiTLES.................: S_HDMV/PGS : English(eng)\n",
      "\n",
      "\n",
      "[/quote]\n",
      "Copy Mediainfo\n"
     ]
    }
   ],
   "source": [
    "from utils import *\n",
    "REMUX=MOVIE\n",
    "get_bbcode(REMUX,src=SRC)"
   ]
  },
  {
   "cell_type": "code",
   "execution_count": 13,
   "metadata": {},
   "outputs": [],
   "source": [
    "def generate_videoinfo(filename, logname=\"\", src=\"\"):\n",
    "    media_info = MediaInfo.parse(filename)\n",
    "    for t in media_info.video_tracks:\n",
    "        props=nullabledict(t.to_data())\n",
    "#         for i in props.items(): print(i)\n",
    "        video_codec=f\"{props['encoded_library_name']} {props['format_profile']} @ {str(round(props['bit_rate'] / (1000 * 1000), 2))}Mb/s\"\n",
    "        runtime=props['other_duration'][0]\n",
    "        resolution=f\"{props['sampled_width']}x{props['sampled_height']}\"\n",
    "        display_aspect_ratio=props['display_aspect_ratio']\n",
    "        frame_rate=props[\"frame_rate\"]\n",
    "        bit_depth=props[\"other_bit_depth\"][0]\n",
    "    audio_codec=[]\n",
    "    for t in media_info.audio_tracks:\n",
    "        props=nullabledict(t.to_data())\n",
    "#         for i in t.to_data().items(): print(i)\n",
    "        chns=props['channel_s']\n",
    "        if chns==6: chns=\"5.1\"\n",
    "        dtsma=\"\"\n",
    "        if props['commercial_name']=='DTS-HD Master Audio':dtsma=\"-HD MA\"\n",
    "        audio_codec.append(f\"{props['other_language'][0]} {props['format']}{dtsma} {chns}\\\n",
    " @ {str(round(props['bit_rate'] / (1000), 2))}Kb/s\")\n",
    "    audioinfo=\"\"    \n",
    "    for ac in audio_codec:\n",
    "        audioinfo+=f'AUDiO CODEC...............: {ac} \\n'\n",
    "    chscnt=0\n",
    "    subtitledesc=''\n",
    "    for t in media_info.text_tracks:\n",
    "        props=nullabledict(t.to_data(),default=[\"Chinese\"])\n",
    "    #     for i in props.items(): print(i)\n",
    "        if 'title' in props:\n",
    "            title=props['title']\n",
    "        else: title=props['language']\n",
    "        \n",
    "        if title=='zh': \n",
    "            title='chs';chscnt+=1\n",
    "            if chscnt>2: title='cht'\n",
    "            if chscnt%2==0: title+='&eng'\n",
    "        subtitlefmt=f\"{props['codec_id']} : {props['other_language'][0]}({title})\"\n",
    "        subtitledesc+=f\"SUBTiTLES.................: {subtitlefmt}\\n\"\n",
    "    NEWMOVIE_size=str(round(os.path.getsize(filename) / (1024 * 1024 * 1024), 3)) + ' GB'\n",
    "    MOVIE_filename=\"\".join(re.findall(r'([^\\\\]*$)', src))\n",
    "    RELEASE_filename=\"\".join(re.findall(r\"([^\\\\]*$)\", filename.replace(\".mkv\",\"\")))\n",
    "    \n",
    "    transcodelog=\"\"\n",
    "    if len(logname)>0:\n",
    "        transcodelog=f'.{logname.replace(\".log\",\"\")}.Info\\n'\n",
    "        with open(logname, encoding=\"utf-8\") as f:\n",
    "            lines=f.readlines()\n",
    "            for line in lines:\n",
    "                if ('[libx' in line or '[info]' in line) and 'profile' not in line:\n",
    "                    if 'Avg QP' in line or 'profile' in line or 'rames:' in line:\n",
    "                        transcodelog+=line\n",
    "    release_info=f'''[quote][font=Lucida Console]\n",
    ".Release.Info\n",
    "ENCODER...................: PTH\n",
    "RELEASE NAME..............: {RELEASE_filename}\n",
    "RELEASE DATE..............: {datetime.today().strftime('%Y-%m-%d')}\n",
    "RELEASE SiZE..............: {NEWMOVIE_size}\n",
    "SOURCE....................: {MOVIE_filename.replace(\".mkv\",\"\")}\n",
    "\n",
    ".Media.Info\n",
    "RUNTiME...................: {runtime}\n",
    "ViDEO CODEC...............: {video_codec}\n",
    "RESOLUTiON................: {resolution}\n",
    "DiSPLAY ASPECT RATiO......: {display_aspect_ratio}\n",
    "FRAME RATE................: {frame_rate}\n",
    "BIT DEPTH.................: {bit_depth}\n",
    "{audioinfo} \n",
    "{subtitledesc}\n",
    "\n",
    "{transcodelog}[/quote]'''\n",
    "    print(release_info)\n",
    "    pyperclip.copy(release_info)\n",
    "    return release_info"
   ]
  },
  {
   "cell_type": "code",
   "execution_count": 11,
   "metadata": {},
   "outputs": [
    {
     "name": "stdout",
     "output_type": "stream",
     "text": [
      "Title: I:\\Users\\heber\\Music\\Legendary La Rose Noire 1992 Blu-ray 1080p x264 TrueHD 5 1-louco@PTHome\\Legendary La Rose Noire 1992 Blu-ray 1080p x264 TrueHD 5 1-louco@PTHome mkv\n",
      "[quote][font=Lucida Console]\n",
      ".Release.Info\n",
      "ENCODER...................: PTH\n",
      "RELEASE NAME..............: Legendary.La.Rose.Noire.1992.Blu-ray.1080p.x264.TrueHD.5.1-louco@PTHome\n",
      "RELEASE DATE..............: 2021-01-25\n",
      "RELEASE SiZE..............: 10.084 GB\n",
      "SOURCE....................: Legendary.La.Rose.Noire.1992.REMUX.Blu-ray.1080p.AVC.TrueHD.5.1-DIY@xixihaha\n",
      "\n",
      ".Media.Info\n",
      "RUNTiME...................: 1 h 34 min\n",
      "ViDEO CODEC...............: x264 High@L4.1 @ 11.97Mb/s\n",
      "RESOLUTiON................: 1920x1080\n",
      "DiSPLAY ASPECT RATiO......: 1.778\n",
      "FRAME RATE................: 24.000\n",
      "BIT DEPTH.................: 8 bits\n",
      "AUDiO CODEC...............: Chinese AC-3 2 @ 384.0Kb/s \n",
      "AUDiO CODEC...............: Chinese MLP FBA 5.1 @ 2745.61Kb/s \n",
      " \n",
      "SUBTiTLES.................: S_HDMV/PGS : Chinese(chs)\n",
      "SUBTiTLES.................: S_HDMV/PGS : Chinese(cht)\n",
      "SUBTiTLES.................: S_HDMV/PGS : English(eng)\n",
      "\n",
      "\n",
      ".x264.Info\n",
      "[libx264 @ 0x5571c2a71900] Error parsing option 'profile = high'.\n",
      "[libx264 @ 0x5571c2a71900] profile High, level 4.1, 4:2:0, 8-bit\n",
      "[libx264 @ 0x5571c2a71900] frame I:748   Avg QP:16.86  size:222677\n",
      "[libx264 @ 0x5571c2a71900] frame P:34476 Avg QP:19.44  size:101561\n",
      "[libx264 @ 0x5571c2a71900] frame B:101432 Avg QP:20.94  size: 47817\n",
      "[libx264 @ 0x5571c2a71900] consecutive B-frames:  2.3%  2.4% 21.0% 25.8% 21.8% 25.9%  0.3%  0.1%  0.2%  0.0%  0.0%  0.1%\n",
      "[libx264 @ 0x5571c2a71900] Weighted P-Frames: Y:2.4% UV:1.4%\n",
      "[/quote]\n",
      "Copy Mediainfo\n"
     ]
    }
   ],
   "source": [
    "get_bbcode(x264_fullpath,src=SRC,logname=\"x264.log\")"
   ]
  },
  {
   "cell_type": "code",
   "execution_count": 14,
   "metadata": {},
   "outputs": [
    {
     "name": "stdout",
     "output_type": "stream",
     "text": [
      "Title: I:\\Users\\heber\\Music\\Legendary La Rose Noire 1992 Blu-ray 1080p x265 10bit TrueHD 5 1-louco@PTHome\\Legendary La Rose Noire 1992 Blu-ray 1080p x265 10bit TrueHD 5 1-louco@PTHome mkv\n",
      "[quote][font=Lucida Console]\n",
      ".Release.Info\n",
      "ENCODER...................: PTH\n",
      "RELEASE NAME..............: Legendary.La.Rose.Noire.1992.Blu-ray.1080p.x265.10bit.TrueHD.5.1-louco@PTHome\n",
      "RELEASE DATE..............: 2021-01-25\n",
      "RELEASE SiZE..............: 7.717 GB\n",
      "SOURCE....................: Legendary.La.Rose.Noire.1992.REMUX.Blu-ray.1080p.AVC.TrueHD.5.1-DIY@xixihaha\n",
      "\n",
      ".Media.Info\n",
      "RUNTiME...................: 1 h 34 min\n",
      "ViDEO CODEC...............: x265 Main@L5.1@High @ 8.4Mb/s\n",
      "RESOLUTiON................: 1920x1080\n",
      "DiSPLAY ASPECT RATiO......: 1.778\n",
      "FRAME RATE................: 24.000\n",
      "BIT DEPTH.................: 8 bits\n",
      "AUDiO CODEC...............: Chinese AC-3 2 @ 384.0Kb/s \n",
      "AUDiO CODEC...............: Chinese MLP FBA 5.1 @ 2745.61Kb/s \n",
      " \n",
      "SUBTiTLES.................: S_HDMV/PGS : Chinese(chs)\n",
      "SUBTiTLES.................: S_HDMV/PGS : Chinese(cht)\n",
      "SUBTiTLES.................: S_HDMV/PGS : English(eng)\n",
      "\n",
      "\n",
      ".x265.Info\n",
      "x265 [info]: frame I:   1106, Avg QP:17.56  kb/s: 33014.17\n",
      "x265 [info]: frame P:  30210, Avg QP:18.85  kb/s: 18355.15\n",
      "x265 [info]: frame B: 105340, Avg QP:22.17  kb/s: 5281.80 \n",
      "x265 [info]: Weighted P-Frames: Y:1.3% UV:0.5%\n",
      "x265 [info]: Weighted B-Frames: Y:0.7% UV:0.3%\n",
      "x265 [info]: consecutive B-frames: 5.6% 2.8% 11.9% 36.3% 19.2% 22.1% 1.7% 0.2% 0.2% \n",
      "[/quote]\n",
      "Copy Mediainfo\n"
     ]
    }
   ],
   "source": [
    "get_bbcode(x265_fullpath,src=SRC,logname=\"x265.log\")"
   ]
  },
  {
   "cell_type": "markdown",
   "metadata": {},
   "source": [
    "# 备忘录"
   ]
  },
  {
   "cell_type": "code",
   "execution_count": null,
   "metadata": {},
   "outputs": [],
   "source": []
  }
 ],
 "metadata": {
  "kernelspec": {
   "display_name": "Python 3",
   "language": "python",
   "name": "python3"
  },
  "language_info": {
   "codemirror_mode": {
    "name": "ipython",
    "version": 3
   },
   "file_extension": ".py",
   "mimetype": "text/x-python",
   "name": "python",
   "nbconvert_exporter": "python",
   "pygments_lexer": "ipython3",
   "version": "3.8.5"
  }
 },
 "nbformat": 4,
 "nbformat_minor": 4
}
