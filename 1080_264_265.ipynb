{
 "cells": [
  {
   "cell_type": "markdown",
   "metadata": {},
   "source": [
    "# Step0: Install environment"
   ]
  },
  {
   "cell_type": "raw",
   "metadata": {
    "jupyter": {
     "source_hidden": true
    }
   },
   "source": [
    "set PYTHONHOME=%CONDA_PREFIX\n",
    "python vsrepo.py install havsfunc ffms2 d2v lsmas\n",
    "pip install git+https://git.concertos.live/AHD/awsmfunc.git"
   ]
  },
  {
   "cell_type": "raw",
   "metadata": {
    "jupyter": {
     "source_hidden": true
    }
   },
   "source": [
    "cd $HOME/.installs\n",
    "git clone https://github.com/l-smash/l-smash.git\n",
    "cd l-smash\n",
    "./configure  --prefix=/usr --enable-shared\n",
    "make lib\n",
    "sudo make install-lib\n",
    "\n",
    "cd $HOME/.installs\n",
    "git clone https://github.com/sekrit-twc/zimg.git\n",
    "cd zimg\n",
    "./autogen.sh\n",
    "./configure --prefix=/usr\n",
    "make\n",
    "sudo make install\n",
    "\n",
    "cd $HOME/.installs\n",
    "wget https://www.imagemagick.org/download/ImageMagick.tar.gz\n",
    "tar xvzf ImageMagick.tar.gz\n",
    "cd ImageMagick*/\n",
    "./configure --prefix=/usr\n",
    "make\n",
    "sudo make install\n",
    "\n",
    "git clone https://github.com/vapoursynth/vapoursynth.git\n",
    "cd vapoursynth\n",
    "./autogen.sh\n",
    "./configure\n",
    "make\n",
    "make install\n",
    "sudo ldconfig"
   ]
  },
  {
   "cell_type": "code",
   "execution_count": 3,
   "metadata": {},
   "outputs": [],
   "source": [
    "import vapoursynth as vs\n",
    "import havsfunc as haf\n",
    "import mvsfunc as mvf\n",
    "from vapoursynth import core\n",
    "import awsmfunc as awsf"
   ]
  },
  {
   "cell_type": "markdown",
   "metadata": {},
   "source": [
    "# Step1: Select BDMV Largest M2TS and its MLPS"
   ]
  },
  {
   "cell_type": "code",
   "execution_count": null,
   "metadata": {},
   "outputs": [],
   "source": [
    "x265_filename=r\"C:\\Users\\heber\\Music\\How.to.Train.Your.Dragon.2.2014.2160p.BluRay.x265.DTS-louco@PTHOME\\How.to.Train.Your.Dragon.2.2014.2160p.BluRay.x265.DTS-louco@PTHOME.mkv\""
   ]
  },
  {
   "cell_type": "markdown",
   "metadata": {},
   "source": [
    "# Step2: BDMV to MKV"
   ]
  },
  {
   "cell_type": "raw",
   "metadata": {},
   "source": [
    ".\\mkvmerge.exe -o $OUTPUT_FILE $INPUT_MLPS"
   ]
  },
  {
   "cell_type": "markdown",
   "metadata": {},
   "source": [
    "# Step3: Transcode"
   ]
  },
  {
   "cell_type": "code",
   "execution_count": 1,
   "metadata": {},
   "outputs": [],
   "source": [
    "import os, pyperclip, re, subprocess\n",
    "from pymediainfo import MediaInfo\n",
    "from datetime import datetime\n",
    "from utils import *\n",
    "crf=18.0\n",
    "qcomp=0.7\n",
    "aq_mode=3\n",
    "aq_s=0.7\n",
    "bitdepth=8\n",
    "newline=\"\\r\\n\"\n",
    "remotecwd=\"~/compressor\"\n",
    "remotehost=\"amd\"\n",
    "PROCUCT_DEST_DIR=r\"C:\\Users\\heber\\Music\"\n",
    "MOVIE=r\"C:\\Users\\heber\\Music\\Get.Out.2017.UHD.Blu-Ray.2160p.HEVC.REMUX.DTS-louco@PTH.mkv\""
   ]
  },
  {
   "cell_type": "markdown",
   "metadata": {},
   "source": [
    "## get remux capture and crop black borders"
   ]
  },
  {
   "cell_type": "code",
   "execution_count": 6,
   "metadata": {},
   "outputs": [
    {
     "name": "stdout",
     "output_type": "stream",
     "text": [
      "Capture REMUX\n"
     ]
    }
   ],
   "source": [
    "get_captures(\"REMUX\", MOVIE)"
   ]
  },
  {
   "cell_type": "markdown",
   "metadata": {},
   "source": [
    "## H264: Test params"
   ]
  },
  {
   "cell_type": "code",
   "execution_count": 12,
   "metadata": {},
   "outputs": [
    {
     "name": "stdout",
     "output_type": "stream",
     "text": [
      "==========\n",
      "远程执行编码 x264:\n",
      "set MOVIE=C:\\Users\\heber\\Music\\Forrest.Gump.1994.Remastered.1080p.Blu-ray.REMUX.AVC.Atmos.TrueHD.7.1-louco@PTHome.mkv\n",
      "set TEST=YES\n",
      "vspipe.exe --y4m \"C:\\Users\\heber\\Documents\\Compressor\\vs.py\" - |zstd -0|python C:\\Users\\heber\\Documents\\Compressor\\aio_buffer.py|ssh amd \"python3 ~/compressor/aio_buffer.py|zstdcat|x264 --demuxer y4m --preset slower --profile high --level 4.1 --ref 4 --crf 18.0 --qcomp 0.7 --aq-mode 3 --aq-strength 0.7 --bframes 11 --me umh  --subme 11 --merange 48 --no-fast-pskip --no-dct-decimate --direct auto --psy-rd 1.00:0.00 --vbv-bufsize 78125 --vbv-maxrate 62500 --deblock -3:-3 --b-adapt 2 --keyint 240 --min-keyint 1 --no-mbtree --trellis 2 --chroma-qp-offset -1 --rc-lookahead 72 --output 264.mkv - 2>&1 | tee x264.log\"\n",
      "scp amd:~/264.mkv C:\\Users\\heber\\Documents\\Compressor\\264.mkv\n",
      "pause\n",
      "\n"
     ]
    }
   ],
   "source": [
    "x264_stmt=f\"x264 --demuxer y4m --preset slower --profile high --level 4.1 --ref 4 \\\n",
    "--crf {crf} --qcomp {qcomp} --aq-mode {aq_mode} --aq-strength {aq_s} --bframes 11 --me umh  --subme 11 \\\n",
    "--merange 48 --no-fast-pskip --no-dct-decimate --direct auto --psy-rd 1.00:0.00 \\\n",
    "--vbv-bufsize 78125 --vbv-maxrate 62500 --deblock -3:-3 --b-adapt 2 --keyint 240 \\\n",
    "--min-keyint 1 --no-mbtree --trellis 2 --chroma-qp-offset -1 --rc-lookahead 72 --output 264.mkv -\"\n",
    "\n",
    "args=x264_stmt.replace(\" --\",\"\\n --\").split(\"\\n\")[1:]\n",
    "args=sorted(args)\n",
    "# print(\"\\n\".join([\"x264 参数：\"]+args))\n",
    "\n",
    "remote_x264stmt=f'vspipe.exe --y4m \"{os. getcwd()}\\\\vs.py\" - |zstd -0|python {os. getcwd()}\\\\aio_buffer.py|\\\n",
    "ssh {remotehost} \"python3 {remotecwd}/aio_buffer.py|zstdcat|{x264_stmt} 2>&1 | tee x264.log\"{newline}'\n",
    "\n",
    "print(\"==========\\n远程执行编码 x264:\")\n",
    "cmd=f'set MOVIE={MOVIE}{newline}'\n",
    "cmd+=f'set TEST=YES{newline}'\n",
    "cmd+=remote_x264stmt\n",
    "cmd+=f'scp {remotehost}:~/264.mkv {os. getcwd()}\\\\264.mkv{newline}'\n",
    "# cmd+=f'scp {remotehost}:~/264.mkv D:\\\\BT\\\\samples\\\\264.mkv{newline}'\n",
    "cmd+=f'pause{newline}'\n",
    "pyperclip.copy(cmd)\n",
    "print(cmd)"
   ]
  },
  {
   "cell_type": "markdown",
   "metadata": {},
   "source": [
    "## H264&H265"
   ]
  },
  {
   "cell_type": "code",
   "execution_count": 2,
   "metadata": {},
   "outputs": [
    {
     "name": "stdout",
     "output_type": "stream",
     "text": [
      "==========\n",
      "远程执行编码 x264+x265:\n",
      "set TEST=NO\n",
      "vspipe.exe --y4m \"C:\\Users\\heber\\Documents\\Compressor\\vs.py\" - |zstd -0 -T4|python C:\\Users\\heber\\Documents\\Compressor\\aio_buffer.py|ssh amd \"python3 ~/compressor/aio_buffer.py|zstdcat| tee >(x264 --demuxer y4m --preset slower --profile high --level 4.1 --ref 4 --crf 19.0 --qcomp 0.7 --aq-mode 3 --aq-strength 0.7 --bframes 11 --me umh  --subme 11 --merange 48 --no-fast-pskip --no-dct-decimate --direct auto --psy-rd 1.00:0.00 --vbv-bufsize 78125 --vbv-maxrate 62500 --deblock -3:-3 --b-adapt 2 --keyint 240 --min-keyint 1 --no-mbtree --trellis 2 --chroma-qp-offset -1 --rc-lookahead 72 --output 264.mkv - 2>&1 | tee x264.log) >(x265 --y4m -D 10 --profile main10 --level-idc 5.1 --high-tier --preset slower --crf 19.0 --qcomp 0.7 --aq-mode 3 --aq-strength 0.7 --rd 4 --psy-rd 2.0 --psy-rdoq 1.0 --rdoq-level 2 --deblock -1:-1 --cbqpoffs -1 --crqpoffs -3 --ctu 32 --qg-size 8 --no-sao --no-sao-non-deblock --selective-sao 0 --tu-intra-depth 4 --tu-inter-depth 4 --no-opt-qp-pps --no-opt-ref-list-length-pps --aud --repeat-headers --me 3 --subme 5 --merange 48 --b-intra --limit-tu 0 --no-rect --no-amp --no-open-gop --pools + --keyint 240 --min-keyint 1 --bframes 8 --max-merge 4 --ref 4 --weightb --rc-lookahead 72 --scenecut 40 --no-strong-intra-smoothing --vbv-bufsize 160000 --vbv-maxrate 160000 --input-depth 10 --output 265.mkv - 2>&1 | tee x265.log) >/dev/null\"\n",
      "scp amd:~/264.mkv C:\\Users\\heber\\Documents\\Compressor\\264.mkv\n",
      "scp amd:~/265.mkv C:\\Users\\heber\\Documents\\Compressor\\265.mkv\n",
      "ssh amd \"cat x264.log|sed \\\"s/.*\\r//g\\\" \" >C:\\Users\\heber\\Documents\\Compressor\\x264.log & ssh amd \"cat x265.log|sed \\\"s/.*\\r//g\\\" \" >C:\\Users\\heber\\Documents\\Compressor\\x265.log\n",
      "pause\n",
      "\n"
     ]
    }
   ],
   "source": [
    "x264_stmt=f\"x264 --demuxer y4m --preset slower --profile high --level 4.1 --ref 4 \\\n",
    "--crf {crf} --qcomp {qcomp} --aq-mode {aq_mode} --aq-strength {aq_s} --bframes 11 --me umh  --subme 11 \\\n",
    "--merange 48 --no-fast-pskip --no-dct-decimate --direct auto --psy-rd 1.00:0.00 \\\n",
    "--vbv-bufsize 78125 --vbv-maxrate 62500 --deblock -3:-3 --b-adapt 2 --keyint 240 \\\n",
    "--min-keyint 1 --no-mbtree --trellis 2 --chroma-qp-offset -1 --rc-lookahead 72 --output 264.mkv -\"\n",
    "\n",
    "x265_stmt=f\"x265 --y4m -D 10 --profile main10 --level-idc 5.1 --high-tier --preset slower --crf {crf} --qcomp {qcomp} --aq-mode {aq_mode} \\\n",
    "--aq-strength {aq_s} --rd 4 --psy-rd 2.0 --psy-rdoq 1.0 --rdoq-level 2 --deblock -1:-1 --cbqpoffs -1 --crqpoffs -3 --ctu 32 \\\n",
    "--qg-size 8 --no-sao --no-sao-non-deblock --selective-sao 0 --tu-intra-depth 4 --tu-inter-depth 4 --no-opt-qp-pps \\\n",
    "--no-opt-ref-list-length-pps --aud --repeat-headers --me 3 --subme 5 --merange 48 --b-intra --limit-tu 0 --no-rect \\\n",
    "--no-amp --no-open-gop --pools + --keyint 240 --min-keyint 1 --bframes 8 --max-merge 4 --ref 4 --weightb --rc-lookahead 72 \\\n",
    "--scenecut 40 --no-strong-intra-smoothing --vbv-bufsize 160000 --vbv-maxrate 160000 --input-depth 10 --output 265.mkv -\"\n",
    "\n",
    "\n",
    "remote_stmt=f'vspipe.exe --y4m \"{os. getcwd()}\\\\vs.py\" - |zstd -0 -T4|python {os. getcwd()}\\\\aio_buffer.py|\\\n",
    "ssh {remotehost} \"python3 {remotecwd}/aio_buffer.py|zstdcat| tee \\\n",
    ">({x264_stmt} 2>&1 | tee x264.log) \\\n",
    ">({x265_stmt} 2>&1 | tee x265.log) \\\n",
    ">/dev/null\"{newline}'\n",
    "\n",
    "\n",
    "print(\"==========\\n远程执行编码 x264+x265:\")\n",
    "cmd=f'set MOVIE={MOVIE}{newline}'\n",
    "cmd=f'set TEST=NO{newline}'\n",
    "cmd+=remote_stmt\n",
    "cmd+=f'scp {remotehost}:~/264.mkv {os. getcwd()}\\\\264.mkv{newline}'\n",
    "cmd+=f'scp {remotehost}:~/265.mkv {os. getcwd()}\\\\265.mkv{newline}'\n",
    "\n",
    "cmd+=f'ssh {remotehost} \"cat x264.log|sed \\\\\"s/.*\\\\r//g\\\\\" \" >{os. getcwd()}\\\\x264.log & '\n",
    "cmd+=f'ssh {remotehost} \"cat x265.log|sed \\\\\"s/.*\\\\r//g\\\\\" \" >{os. getcwd()}\\\\x265.log{newline}'\n",
    "cmd+=f'pause{newline}'\n",
    "pyperclip.copy(cmd)\n",
    "print(cmd)"
   ]
  },
  {
   "cell_type": "markdown",
   "metadata": {},
   "source": [
    "# H265 4K offline"
   ]
  },
  {
   "cell_type": "code",
   "execution_count": 3,
   "metadata": {},
   "outputs": [
    {
     "name": "stdout",
     "output_type": "stream",
     "text": [
      "==========\n",
      "远程执行编码 x265:\n",
      "set MOVIE=C:\\Users\\heber\\Music\\Get.Out.2017.UHD.Blu-Ray.2160p.HEVC.REMUX.DTS-louco@PTH.mkv\n",
      "set TEST=NO\n",
      "vspipe.exe --y4m \"C:\\Users\\heber\\Documents\\Compressor\\vs.py\" - |zstd -0 -T4|python C:\\Users\\heber\\Documents\\Compressor\\aio_buffer.py|ssh amd \"python3 ~/compressor/aio_buffer.py|zstdcat| tee >(x265 --y4m -D 10 --profile main10 --level-idc 5.1 --high-tier --preset slower --crf 18.0 --qcomp 0.7 --aq-mode 3 --aq-strength 0.7 --psy-rdoq 1 --psy-rd 2  --bframes 11 --ctu 64 --min-cu-size 8 --limit-tu 0 --tu-intra-depth 4 --tu-inter-depth 4 --me 3 --subme 6 --merange 48 --analyze-src-pics --max-merge 5 --early-skip --b-intra --no-open-gop --min-keyint 1 --keyint 240 --ref 6 --fades --b-adapt 2 --no-strong-intra-smoothing --cbqpoffs -1 --crqpoffs -3 --rdoq-level 2 --nr-inter 20 --nr-intra 10 --qg-size 32 --rd 4 --no-limit-modes --limit-refs 1 --no-rect --rc-lookahead 72 --tskip-fast --rdpenalty 0 --no-splitrd-skip --deblock -3:-3 --nr-inter 20 --nr-intra 10 --no-sao --no-sao-non-deblock --selective-sao 0 --no-opt-qp-pps --no-opt-ref-list-length-pps --repeat-headers --no-temporal-layers --no-amp --pools + --vbv-bufsize 160000 --vbv-maxrate 150000 --lookahead-slices 5 --input-depth 10 --hdr10 --hdr10-opt --colormatrix bt2020nc --colorprim bt2020 --transfer smpte2084 --master-display 'G(13250,34500)B(7500,3000)R(34000,16000)WP(15635,16450)L(10000000,0)' --output 265.mkv - 2>&1 | tee x265.log) >/dev/null\"\n",
      "scp amd:~/265.mkv C:\\Users\\heber\\Documents\\Compressor\\265.mkv\n",
      "ssh amd \"cat x265.log|sed 's/.*\\r//g' \" >C:\\Users\\heber\\Documents\\Compressor\\x265.log\n",
      "\n"
     ]
    }
   ],
   "source": [
    "x265_stmt=f'x265 --y4m -D 10 --profile main10 --level-idc 5.1 --high-tier --preset slower \\\n",
    "--crf {crf} --qcomp {qcomp} --aq-mode {aq_mode} \\\n",
    "--aq-strength {aq_s} --psy-rdoq 1 --psy-rd 2  --bframes 11 \\\n",
    "--ctu 64 --min-cu-size 8 --limit-tu 0 --tu-intra-depth 4 --tu-inter-depth 4 \\\n",
    "--me 3 --subme 6 --merange 48 --analyze-src-pics \\\n",
    "--max-merge 5 --early-skip --b-intra \\\n",
    "--no-open-gop --min-keyint 1 --keyint 240 --ref 6 --fades --b-adapt 2 \\\n",
    "--no-strong-intra-smoothing --cbqpoffs -1 --crqpoffs -3 \\\n",
    "--rdoq-level 2 --nr-inter 20 --nr-intra 10 \\\n",
    "--qg-size 32 \\\n",
    "--rd 4 --no-limit-modes --limit-refs 1 --no-rect --rc-lookahead 72 --tskip-fast \\\n",
    "--rdpenalty 0 --no-splitrd-skip \\\n",
    "--deblock -3:-3 --nr-inter 20 --nr-intra 10 \\\n",
    "--no-sao --no-sao-non-deblock --selective-sao 0 \\\n",
    "--no-opt-qp-pps --no-opt-ref-list-length-pps --repeat-headers \\\n",
    "--no-temporal-layers --no-amp --pools + \\\n",
    "--vbv-bufsize 160000 --vbv-maxrate 150000 --lookahead-slices 5 --input-depth 10 \\\n",
    "--hdr10 --hdr10-opt --colormatrix bt2020nc --colorprim bt2020 --transfer smpte2084 \\\n",
    "--master-display \\'G(13250,34500)B(7500,3000)R(34000,16000)WP(15635,16450)L(10000000,0)\\' --output 265.mkv -'\n",
    "# --max-cll 922,239 \n",
    "'''\n",
    "BT.2020 \tG(8500,39850)B(6550,2300)R(35400,14600)WP(15635,16450)L(40000000,50)\n",
    "Display P3    G(13250,34500)B(7500,3000)R(34000,16000)WP(15635,16450)L(40000000,50)\n",
    "'''\n",
    "\n",
    "# with open(\"x265.sh\",\"w\") as f:\n",
    "#     f.write(f'zstdcat ~/yrm/src|{x265_stmt} 2>&1 | tee x265.log')\n",
    "# remote_x265stmt=f'vspipe.exe --y4m \"{os. getcwd()}\\\\vs.py\" - |zstd -0 -T8|ssh {remotehost} \"cat>~/y4m/src\"'\n",
    "# remote_convertcmd=f'scp {os.getcwd()}\\\\x265.sh {remotehost}:{remotecwd}'\n",
    "    \n",
    "remote_stmt=f'vspipe.exe --y4m \"{os. getcwd()}\\\\vs.py\" - |zstd -0 -T4|python {os. getcwd()}\\\\aio_buffer.py|\\\n",
    "ssh {remotehost} \"python3 {remotecwd}/aio_buffer.py|zstdcat| tee \\\n",
    ">({x265_stmt} 2>&1 | tee x265.log) \\\n",
    ">/dev/null\"{newline}'\n",
    "\n",
    "\n",
    "print(\"==========\\n远程执行编码 x265:\")\n",
    "cmd=f'set MOVIE={MOVIE}{newline}'\n",
    "cmd+=f'set TEST=NO{newline}'\n",
    "cmd+=remote_stmt\n",
    "cmd+=f'scp {remotehost}:~/265.mkv {os. getcwd()}\\\\265.mkv{newline}'\n",
    "\n",
    "cmd+=f'ssh {remotehost} \"cat x265.log|sed \\'s/.*\\\\r//g\\' \" >{os. getcwd()}\\\\x265.log{newline}'\n",
    "\n",
    "pyperclip.copy(cmd)\n",
    "print(cmd)"
   ]
  },
  {
   "cell_type": "markdown",
   "metadata": {},
   "source": [
    "## H264 & H265 offline"
   ]
  },
  {
   "cell_type": "code",
   "execution_count": 5,
   "metadata": {},
   "outputs": [
    {
     "name": "stdout",
     "output_type": "stream",
     "text": [
      "==========\n",
      "远程执行编码 x265:\n",
      "set MOVIE=C:\\Users\\heber\\Music\\How.to.Train.Your.Dragon.2.2014.2160p.BluRay.REMUX.HEVC.DTS-MA.7.1-PTHOME\\How.to.Train.Your.Dragon.2.2014.2160p.BluRay.REMUX.HEVC.DTS-MA.7.1-PTHOME.mkv\n",
      "set TEST=NO\n",
      "vspipe.exe --y4m \"C:\\Users\\heber\\Documents\\Compressor\\vs.py\" - |zstd -0 -T8|ssh ubuntu20local \"cat>~/y4m/src\"\n",
      "scp C:\\Users\\heber\\Documents\\Compressor\\x26x.sh ubuntu20local:~/compressor\n",
      "pause\n",
      "scp ubuntu20local:~/compressor/265.mkv C:\\Users\\heber\\Documents\\Compressor\\265.mkv\n",
      "\n"
     ]
    }
   ],
   "source": [
    "x264_stmt=f\"x264 --demuxer y4m --preset slower --profile high --level 4.1 --ref 4 \\\n",
    "--crf {crf} --qcomp {qcomp} --aq-mode {aq_mode} --aq-strength {aq_s} --bframes 11 --me umh  --subme 11 \\\n",
    "--merange 48 --no-fast-pskip --no-dct-decimate --direct auto --psy-rd 1.00:0.00 \\\n",
    "--vbv-bufsize 78125 --vbv-maxrate 62500 --deblock -3:-3 --b-adapt 2 --keyint 240 \\\n",
    "--min-keyint 1 --no-mbtree --trellis 2 --chroma-qp-offset -1 --rc-lookahead 72 --output 264.mkv -\"\n",
    "\n",
    "x265_stmt=f\"x265 --y4m -D 10 --profile main10 --level-idc 5.1 --high-tier --preset slower --crf {crf} --qcomp {qcomp} --aq-mode {aq_mode} \\\n",
    "--aq-strength {aq_s} --rd 4 --psy-rd 2.0 --psy-rdoq 1.0 --rdoq-level 2 --deblock -1:-1 --cbqpoffs -1 --crqpoffs -3 --ctu 32 \\\n",
    "--qg-size 8 --no-sao --no-sao-non-deblock --selective-sao 0 --tu-intra-depth 4 --tu-inter-depth 4 --no-opt-qp-pps \\\n",
    "--no-opt-ref-list-length-pps --aud --repeat-headers --me 3 --subme 5 --merange 48 --b-intra --limit-tu 0 --no-rect \\\n",
    "--no-amp --no-open-gop --pools + --keyint 240 --min-keyint 1 --bframes 8 --max-merge 4 --ref 4 --weightb --rc-lookahead 72 \\\n",
    "--scenecut 40 --no-strong-intra-smoothing --vbv-bufsize 160000 --vbv-maxrate 160000 --input-depth 10 --output 265.mkv -\"\n",
    "\n",
    "remote_stmt=f'zstdcat ~/yrm/src| tee \\\n",
    ">({x264_stmt} 2>&1 | tee x264.log) \\\n",
    ">({x265_stmt} 2>&1 | tee x265.log) \\\n",
    ">/dev/null{newline}'\n",
    "\n",
    "with open(\"x26x.sh\",\"w\") as f:\n",
    "    f.write(remote_stmt)\n",
    "remote_x265stmt=f'vspipe.exe --y4m \"{os. getcwd()}\\\\vs.py\" - |zstd -0 -T8|ssh {remotehost} \"cat>~/y4m/src\"'\n",
    "remote_convertcmd=f'scp {os.getcwd()}\\\\x26x.sh {remotehost}:{remotecwd}'\n",
    "\n",
    "print(\"==========\\n远程执行编码 x265:\")\n",
    "cmd=f'set MOVIE={MOVIE}{newline}'\n",
    "cmd+=f'set TEST=NO{newline}'\n",
    "cmd+=remote_x265stmt+newline\n",
    "cmd+=remote_convertcmd+newline\n",
    "cmd+=f'pause{newline}'\n",
    "cmd+=f'scp {remotehost}:{remotecwd}/264.mkv {os. getcwd()}\\\\264.mkv{newline}'\n",
    "cmd+=f'scp {remotehost}:{remotecwd}/265.mkv {os. getcwd()}\\\\265.mkv{newline}'\n",
    "\n",
    "pyperclip.copy(cmd)\n",
    "print(cmd)"
   ]
  },
  {
   "cell_type": "markdown",
   "metadata": {},
   "source": [
    "# Step4: Remux MKV\n",
    "## x264"
   ]
  },
  {
   "cell_type": "code",
   "execution_count": 17,
   "metadata": {},
   "outputs": [
    {
     "name": "stdout",
     "output_type": "stream",
     "text": [
      "Forrest.Gump.1994.Remastered.1080p.Blu-ray.x264.Atmos.TrueHD.7.1-louco@PTHome.mkv\n",
      "即将执行: \n",
      "   [剩] C:\\Users\\heber\\Music\\Forrest.Gump.1994.Remastered.1080p.Blu-ray.REMUX.AVC.Atmos.TrueHD.7.1-louco@PTHome.mkv\n",
      " + [视] C:\\Users\\heber\\Documents\\Compressor\\264.mkv\n",
      "-> [全] C:\\Users\\heber\\Music\\Forrest.Gump.1994.Remastered.1080p.Blu-ray.x264.Atmos.TrueHD.7.1-louco@PTHome\\Forrest.Gump.1994.Remastered.1080p.Blu-ray.x264.Atmos.TrueHD.7.1-louco@PTHome.mkv\n",
      "=================\n",
      "mkdir C:\\Users\\heber\\Music\\Forrest.Gump.1994.Remastered.1080p.Blu-ray.x264.Atmos.TrueHD.7.1-louco@PTHome ^& C:\\Users\\heber\\Documents\\Compressor\\mkvtoolnix\\mkvmerge.exe -o \"C:\\Users\\heber\\Music\\Forrest.Gump.1994.Remastered.1080p.Blu-ray.x264.Atmos.TrueHD.7.1-louco@PTHome\\Forrest.Gump.1994.Remastered.1080p.Blu-ray.x264.Atmos.TrueHD.7.1-louco@PTHome.mkv\" -D ( \"C:\\Users\\heber\\Music\\Forrest.Gump.1994.Remastered.1080p.Blu-ray.REMUX.AVC.Atmos.TrueHD.7.1-louco@PTHome.mkv\" )    -A -S -T -M -B --no-chapters ( \"C:\\Users\\heber\\Documents\\Compressor\\264.mkv\" )\n"
     ]
    }
   ],
   "source": [
    "# title=\"\".join(re.findall(r'([^\\\\]*\\d{4}p)', MOVIE))\n",
    "# NEWMOVIE=f'{os.getcwd()}\\\\{title}.BluRay.x264.DTS-PTH.mkv'\n",
    "x264_filename=\"\".join(re.findall(r'([^\\\\]*$)', MOVIE)).replace(\"REMUX.AVC\", \"x264\")\n",
    "x264_foldername=PROCUCT_DEST_DIR+\"\\\\\"+x264_filename.replace(\".mkv\",'')\n",
    "NEWMOVIE=f'{x264_foldername}\\\\{x264_filename}'\n",
    "print(x264_filename)\n",
    "cmd=f'mkdir {x264_foldername} ^& '\n",
    "cmd+=f'{os. getcwd()}\\\\mkvtoolnix\\\\mkvmerge.exe -o \"{NEWMOVIE}\" -D ( \"{MOVIE}\" )\\\n",
    "    -A -S -T -M -B --no-chapters ( \"{os. getcwd()}\\\\264.mkv\" )'\n",
    "pyperclip.copy(cmd)\n",
    "print(f\"即将执行: \\n   [剩] {MOVIE}\\n + [视] {os. getcwd()}\\\\264.mkv\\n-> [全] {NEWMOVIE}\\n=================\")\n",
    "print(cmd)"
   ]
  },
  {
   "cell_type": "code",
   "execution_count": 18,
   "metadata": {},
   "outputs": [],
   "source": [
    "subprocess.run(f\"start cmd /c {cmd} ^& pause\", shell=True)\n",
    "None"
   ]
  },
  {
   "cell_type": "code",
   "execution_count": 22,
   "metadata": {},
   "outputs": [
    {
     "name": "stdout",
     "output_type": "stream",
     "text": [
      "[quote][font=Lucida Console]\n",
      ".Release.Info\n",
      "ENCODER...................: PTH\n",
      "RELEASE NAME..............: Forrest.Gump.1994.Remastered.1080p.Blu-ray.x264.Atmos.TrueHD.7.1-louco@PTHome\n",
      "RELEASE DATE..............: 2021-01-12\n",
      "RELEASE SiZE..............: 17.591 GB\n",
      "SOURCE....................: \n",
      "\n",
      ".Media.Info\n",
      "RUNTiME...................: 2 h 22 min\n",
      "ViDEO CODEC...............: x264 High@L4.1 @ 13.35Mb/s\n",
      "RESOLUTiON................: 1920x800\n",
      "DiSPLAY ASPECT RATiO......: 2.400\n",
      "FRAME RATE................: 23.976\n",
      "BIT DEPTH.................: 8 bits\n",
      "AUDiO CODEC...............: English MLP FBA 8 @ 4271.44Kb/s \n",
      " \n",
      "SUBTiTLES.................: S_HDMV/PGS : Chinese(chs)\n",
      "SUBTiTLES.................: S_HDMV/PGS : English(en)\n",
      "SUBTiTLES.................: S_HDMV/PGS : Chinese(chs&eng)\n",
      "\n",
      "\n",
      ".x264.Info\n",
      "x264 [info]: profile High, level 4.1, 4:2:0, 8-bit\n",
      "x264 [info]: frame I:1182  Avg QP:17.00  size:270311\n",
      "x264 [info]: frame P:49116 Avg QP:18.81  size:113585\n",
      "x264 [info]: frame B:154121 Avg QP:20.83  size: 54055\n",
      "x264 [info]: consecutive B-frames:  3.4%  3.6% 11.7% 18.6% 17.1% 42.5%  1.7%  0.6%  0.2%  0.2%  0.2%  0.2%\n",
      "x264 [info]: Weighted P-Frames: Y:3.4% UV:2.0%\n",
      "[/quote]\n"
     ]
    }
   ],
   "source": [
    "generate_videoinfo(f'{x264_foldername}\\\\{x264_filename}',\"x264.log\")\n",
    "None"
   ]
  },
  {
   "cell_type": "code",
   "execution_count": 51,
   "metadata": {},
   "outputs": [
    {
     "name": "stdout",
     "output_type": "stream",
     "text": [
      "Capture x264\n"
     ]
    }
   ],
   "source": [
    "get_captures(\"x264\", x264_filename)"
   ]
  },
  {
   "cell_type": "markdown",
   "metadata": {},
   "source": [
    "## x265"
   ]
  },
  {
   "cell_type": "code",
   "execution_count": 14,
   "metadata": {},
   "outputs": [
    {
     "name": "stdout",
     "output_type": "stream",
     "text": [
      "即将执行: \n",
      "   [剩] C:\\Users\\heber\\Music\\菠萝快车.Pineapple.Express.2008.BluRay.2160p.x265.10bit.HDR.mUHD-FRDS\\Pineapple.Express.2008.BluRay.2160p.UHD.HEVC.HDR.REMUX.TrueHD.7.1.mkv\n",
      " + [视] C:\\Users\\heber\\Documents\\Compressor\\265.mkv\n",
      "-> [全] C:\\Users\\heber\\Music\\Pineapple.Express.2008.BluRay.2160p.UHD.HEVC.HDR.x265.10bit.TrueHD.7.1\\Pineapple.Express.2008.BluRay.2160p.UHD.HEVC.HDR.x265.10bit.TrueHD.7.1.mkv\n",
      "=================\n",
      "mkdir C:\\Users\\heber\\Music\\Pineapple.Express.2008.BluRay.2160p.UHD.HEVC.HDR.x265.10bit.TrueHD.7.1 ^& C:\\Users\\heber\\Documents\\Compressor\\mkvtoolnix\\mkvmerge.exe -o \"C:\\Users\\heber\\Music\\Pineapple.Express.2008.BluRay.2160p.UHD.HEVC.HDR.x265.10bit.TrueHD.7.1\\Pineapple.Express.2008.BluRay.2160p.UHD.HEVC.HDR.x265.10bit.TrueHD.7.1.mkv\" -D ( \"C:\\Users\\heber\\Music\\菠萝快车.Pineapple.Express.2008.BluRay.2160p.x265.10bit.HDR.mUHD-FRDS\\Pineapple.Express.2008.BluRay.2160p.UHD.HEVC.HDR.REMUX.TrueHD.7.1.mkv\" )    -A -S -T -M -B --no-chapters ( \"C:\\Users\\heber\\Documents\\Compressor\\265.mkv\" )\n"
     ]
    }
   ],
   "source": [
    "x265_filename=\"\".join(re.findall(r'([^\\\\]*$)', MOVIE)).replace(\"REMUX\", \"x265.10bit\")\n",
    "x265_foldername=PROCUCT_DEST_DIR+\"\\\\\"+x265_filename.replace(\".mkv\",'')\n",
    "NEWMOVIE=f'{x265_foldername}\\\\{x265_filename}'\n",
    "x265_filename=NEWMOVIE\n",
    "cmd=f'mkdir {x265_foldername} ^& '\n",
    "cmd+=f'{os. getcwd()}\\\\mkvtoolnix\\\\mkvmerge.exe -o \"{NEWMOVIE}\" -D ( \"{MOVIE}\" )\\\n",
    "    -A -S -T -M -B --no-chapters ( \"{os. getcwd()}\\\\265.mkv\" )'\n",
    "pyperclip.copy(cmd)\n",
    "print(f\"即将执行: \\n   [剩] {MOVIE}\\n + [视] {os. getcwd()}\\\\265.mkv\\n-> [全] {NEWMOVIE}\\n=================\")\n",
    "print(cmd)"
   ]
  },
  {
   "cell_type": "code",
   "execution_count": 11,
   "metadata": {},
   "outputs": [
    {
     "data": {
      "text/plain": [
       "CompletedProcess(args='start cmd /c mkdir C:\\\\Users\\\\heber\\\\Music\\\\Pineapple.Express.2008.BluRay.2160p.UHD.HEVC.HDR.x265.10bit.TrueHD.7.1 ^& C:\\\\Users\\\\heber\\\\Documents\\\\Compressor\\\\mkvtoolnix\\\\mkvmerge.exe -o \"C:\\\\Users\\\\heber\\\\Music\\\\Pineapple.Express.2008.BluRay.2160p.UHD.HEVC.HDR.x265.10bit.TrueHD.7.1\\\\Pineapple.Express.2008.BluRay.2160p.UHD.HEVC.HDR.x265.10bit.TrueHD.7.1.mkv\" -D ( \"C:\\\\Users\\\\heber\\\\Music\\\\菠萝快车.Pineapple.Express.2008.BluRay.2160p.x265.10bit.HDR.mUHD-FRDS\\\\Pineapple.Express.2008.BluRay.2160p.UHD.HEVC.HDR.REMUX.TrueHD.7.1.mkv\" )    -A -S -T -M -B --no-chapters ( \"C:\\\\Users\\\\heber\\\\Documents\\\\Compressor\\\\265.mkv\" ) ^& pause', returncode=0)"
      ]
     },
     "execution_count": 11,
     "metadata": {},
     "output_type": "execute_result"
    }
   ],
   "source": [
    "subprocess.run(f\"start cmd /c {cmd} ^& pause\", shell=True)"
   ]
  },
  {
   "cell_type": "code",
   "execution_count": 15,
   "metadata": {},
   "outputs": [
    {
     "name": "stdout",
     "output_type": "stream",
     "text": [
      "[quote][font=Lucida Console]\n",
      ".Release.Info\n",
      "ENCODER...................: PTH\n",
      "RELEASE NAME..............: Pineapple.Express.2008.BluRay.2160p.UHD.HEVC.HDR.x265.10bit.TrueHD.7.1\n",
      "RELEASE DATE..............: 2021-01-19\n",
      "RELEASE SiZE..............: 10.264 GB\n",
      "SOURCE....................: \n",
      "\n",
      ".Media.Info\n",
      "RUNTiME...................: 1 h 52 min\n",
      "ViDEO CODEC...............: x265 Main 10@L5.1@High @ 8.55Mb/s\n",
      "RESOLUTiON................: 3840x1328\n",
      "DiSPLAY ASPECT RATiO......: 2.892\n",
      "FRAME RATE................: 23.976\n",
      "BIT DEPTH.................: 10 bits\n",
      "AUDiO CODEC...............: English MLP FBA 8 @ 4482.23Kb/s \n",
      " \n",
      "SUBTiTLES.................: S_HDMV/PGS : English(en)\n",
      "SUBTiTLES.................: S_TEXT/ASS : Chinese(简体中文)\n",
      "\n",
      "\n",
      ".x265.Info\n",
      "[/quote]\n"
     ]
    }
   ],
   "source": [
    "generate_videoinfo(x265_filename,\"x265.log\")\n",
    "None"
   ]
  },
  {
   "cell_type": "code",
   "execution_count": 13,
   "metadata": {},
   "outputs": [
    {
     "name": "stdout",
     "output_type": "stream",
     "text": [
      "Pineapple.Express.2008.BluRay.2160p.UHD.HEVC.HDR.x265.10bit.TrueHD.7.1.mkv\n",
      "Capture x265\n"
     ]
    }
   ],
   "source": [
    "print(x265_filename)\n",
    "get_captures(\"x265\", x265_filename)"
   ]
  },
  {
   "cell_type": "code",
   "execution_count": 34,
   "metadata": {},
   "outputs": [
    {
     "name": "stdout",
     "output_type": "stream",
     "text": [
      "Copy Mediainfo\n"
     ]
    }
   ],
   "source": [
    "get_mediainfo(x265_filename)\n",
    "None"
   ]
  },
  {
   "cell_type": "markdown",
   "metadata": {},
   "source": [
    "# Step5 发布"
   ]
  },
  {
   "cell_type": "code",
   "execution_count": 3,
   "metadata": {},
   "outputs": [],
   "source": [
    "def get_bbcode(file, src=\"\",logname=\"\"):\n",
    "    print(\"Title:\", file.replace(\".\",\" \"))\n",
    "#     由ZERO13@PTHome字幕组完成校对、调整。\n",
    "    picbed='''\n",
    "[url=https://sm.ms/image/OgQbM7si1YImXye][img]https://i.loli.net/2021/01/19/OgQbM7si1YImXye.jpg[/img][/url]\n",
    "[url=https://sm.ms/image/ErSyogQaxX5sUfq][img]https://i.loli.net/2021/01/19/ErSyogQaxX5sUfq.jpg[/img][/url]\n",
    "[url=https://sm.ms/image/aN9gFDyKH7OGIMo][img]https://i.loli.net/2021/01/19/aN9gFDyKH7OGIMo.jpg[/img][/url]\n",
    "[url=https://sm.ms/image/5MPY7ox6wXE4bdV][img]https://i.loli.net/2021/01/19/5MPY7ox6wXE4bdV.jpg[/img][/url]\n",
    "[url=https://sm.ms/image/yJ7nuXhsBe9NCgf][img]https://i.loli.net/2021/01/19/yJ7nuXhsBe9NCgf.jpg[/img][/url]\n",
    "[url=https://sm.ms/image/OTfmvWFHbYtQBha][img]https://i.loli.net/2021/01/19/OTfmvWFHbYtQBha.jpg[/img][/url]\n",
    "    '''\n",
    "    if \"REMUX\" in file:\n",
    "        picbed='''\n",
    "[url=https://sm.ms/image/FjRpzKqL2rkdGCA][img]https://i.loli.net/2021/01/06/FjRpzKqL2rkdGCA.jpg[/img][/url]\n",
    "[url=https://sm.ms/image/DR79FMJIpYS1O42][img]https://i.loli.net/2021/01/06/DR79FMJIpYS1O42.jpg[/img][/url]\n",
    "[url=https://sm.ms/image/nHLCScypZ4wVP7N][img]https://i.loli.net/2021/01/06/nHLCScypZ4wVP7N.jpg[/img][/url]\n",
    "[url=https://sm.ms/image/LilaOG3cDn7qzQg][img]https://i.loli.net/2021/01/06/LilaOG3cDn7qzQg.jpg[/img][/url]\n",
    "[url=https://sm.ms/image/ZYVtgW8Eo45McDG][img]https://i.loli.net/2021/01/06/ZYVtgW8Eo45McDG.jpg[/img][/url]\n",
    "[url=https://sm.ms/image/sHNcvD1mP8bCkoB][img]https://i.loli.net/2021/01/06/sHNcvD1mP8bCkoB.jpg[/img][/url]\n",
    "    '''\n",
    "    bbcode='''\n",
    "[quote][size=5][color=RoyalBlue]原盘来自TTG，字幕素材来TTG-R3\n",
    "字幕转载务必注意礼节，请保留原作者信息，谢绝二次提取修改！\n",
    "在此感谢各位原作者及分享者！如有侵权请联系删除！[/color][/size][/quote]\n",
    "[img]https://pic.imgdb.cn/item/5ff590053ffa7d37b3bd4495.jpg[/img]\n",
    "\n",
    "◎译　　名　菠萝快车 / 菠萝快递 / 菠萝特快\n",
    "◎片　　名　Pineapple Express\n",
    "◎年　　代　2008\n",
    "◎产　　地　美国\n",
    "◎类　　别　喜剧 / 动作 / 惊悚 / 犯罪 / 冒险\n",
    "◎语　　言　英语 / 粤语 / 韩语\n",
    "◎上映日期　2008-08-06(美国)\n",
    "◎IMDb评分  7.0/10 from 298101 users\n",
    "◎IMDb链接  http://www.imdb.com/title/tt0910936\n",
    "◎豆瓣评分　7.0/10 from 14777 users\n",
    "◎豆瓣链接　https://movie.douban.com/subject/2074035/\n",
    "◎片　　长　111 分钟\n",
    "◎导　　演　David Gordon Green\n",
    "◎编　　剧　Seth Rogen / 埃文·戈德堡 Evan Goldberg / 贾德·阿帕图 Judd Apatow\n",
    "◎主　　演　塞斯·罗根 Seth Rogen\n",
    "　　　　　  詹姆斯·弗兰科 James Franco\n",
    "　　　　　  丹尼·麦克布耐德 Danny McBride\n",
    "　　　　　  凯文·考利甘 Kevin Corrigan\n",
    "　　　　　  克雷格·罗宾森 Craig Robinson\n",
    "　　　　　  盖瑞·科尔 Gary Cole\n",
    "　　　　　  罗西·培瑞兹 Rosie Perez\n",
    "　　　　　  小艾德·博格里 Ed Begley Jr.\n",
    "　　　　　  诺拉·邓恩 Nora Dunn\n",
    "　　　　　  安布尔·赫德 Amber Heard\n",
    "　　　　　  乔·洛·特鲁格里奥 Joe Lo Truglio\n",
    "　　　　　  亚瑟·纳平泰克 Arthur Napiontek\n",
    "　　　　　  克利奥·金 Cleo King\n",
    "　　　　　  比尔·哈德尔 Bill Hader\n",
    "　　　　　  詹姆斯·瑞马尔 James Remar\n",
    "\n",
    "\n",
    "◎标　　签　喜剧 | 美国 | JamesFranco | 黑色幽默 | 犯罪 | 美国电影 | 2008 | SethRogen\n",
    "\n",
    "◎简　　介  \n",
    "\n",
    "　　戴尔（塞斯•罗根 Seth Rogen 饰）有一份令自己和别人都生厌的工作——传票递送员，高中生女友安吉的帅气男同学们又时时令戴尔如坐针毡，于是抽大麻成了他最好的寄托甚至是信仰。戴尔定期在小混混索尔（詹姆斯•弗兰科 James Franco 饰）的家中购买大麻，索尔视其为朋友，推销给他最好的大麻“菠萝快车”，可戴尔只拿对方当做比自己更失败的落寞者。当晚戴尔偶然撞见当地大毒贩瑞德和一名女警联手杀人，慌不择路逃跑的戴尔将菠萝快车这种罕见大麻遗落在现场，担心被瑞德杀人灭口的戴尔和索尔只得选择逃亡，但他们谨慎又笨拙的隐匿方式只是将更多人卷入这场风波，而逃避性格的两人，在这次事件中渐渐学会正视自己的弱点……\n",
    "\n",
    "◎获奖情况  \n",
    "\n",
    "　　第66届金球奖(2009)\n",
    "　　电影类 音乐/喜剧片最佳男主角(提名) 詹姆斯·弗兰科\n",
    "\n",
    "　　第18届MTV电影奖(2009)\n",
    "　　MTV电影奖 最佳喜剧表演(提名) 詹姆斯·弗兰科\n",
    "　　MTV电影奖 最佳打斗(提名) 詹姆斯·弗兰科 / 塞斯·罗根 / 丹尼·麦克布莱德\n",
    "\n",
    "　　第11届美国青少年选择奖(2009)\n",
    "　　最佳喜剧片男演员(提名) 塞斯·罗根\n",
    "　　Choice Movie: Bromantic Comedy(提名)\n",
    "[img]https://images2.imgbox.com/04/6b/Ggp5ReQb_o.png[/img]\n",
    "\n",
    "'''+f'{generate_videoinfo(file,logname,src=src)}\\n{picbed}\\n{get_mediainfo(file)}'\n",
    "    pyperclip.copy(bbcode)\n",
    "SRC=r\"Pineapple Express 2008 2160p UHD Blu-ray HEVC Atmos TrueHD 7.1-DIY@TTG\".replace(\" \",\".\")"
   ]
  },
  {
   "cell_type": "code",
   "execution_count": 19,
   "metadata": {},
   "outputs": [
    {
     "name": "stdout",
     "output_type": "stream",
     "text": [
      "Title: C:\\Users\\heber\\Music\\A Good Old Fashioned Orgy 2011 Blu-ray RUS 1080p REMUX AVC DTS-HD 5 1-louco@PTH\\A Good Old Fashioned Orgy 2011 Blu-ray RUS 1080p REMUX AVC DTS-HD 5 1-louco@PTH mkv\n"
     ]
    },
    {
     "ename": "FileNotFoundError",
     "evalue": "C:\\Users\\heber\\Music\\A.Good.Old.Fashioned.Orgy.2011.Blu-ray.RUS.1080p.REMUX.AVC.DTS-HD 5.1-louco@PTH\\A.Good.Old.Fashioned.Orgy.2011.Blu-ray.RUS.1080p.REMUX.AVC.DTS-HD 5.1-louco@PTH.mkv",
     "output_type": "error",
     "traceback": [
      "\u001b[1;31m---------------------------------------------------------------------------\u001b[0m",
      "\u001b[1;31mFileNotFoundError\u001b[0m                         Traceback (most recent call last)",
      "\u001b[1;32m<ipython-input-19-c78933716a4e>\u001b[0m in \u001b[0;36m<module>\u001b[1;34m\u001b[0m\n\u001b[0;32m      1\u001b[0m \u001b[1;32mfrom\u001b[0m \u001b[0mutils\u001b[0m \u001b[1;32mimport\u001b[0m \u001b[1;33m*\u001b[0m\u001b[1;33m\u001b[0m\u001b[1;33m\u001b[0m\u001b[0m\n\u001b[0;32m      2\u001b[0m \u001b[0mREMUX\u001b[0m\u001b[1;33m=\u001b[0m\u001b[1;34mr\"C:\\Users\\heber\\Music\\A.Good.Old.Fashioned.Orgy.2011.Blu-ray.RUS.1080p.REMUX.AVC.DTS-HD 5.1-louco@PTH\\A.Good.Old.Fashioned.Orgy.2011.Blu-ray.RUS.1080p.REMUX.AVC.DTS-HD 5.1-louco@PTH.mkv\"\u001b[0m\u001b[1;33m\u001b[0m\u001b[1;33m\u001b[0m\u001b[0m\n\u001b[1;32m----> 3\u001b[1;33m \u001b[0mget_bbcode\u001b[0m\u001b[1;33m(\u001b[0m\u001b[0mREMUX\u001b[0m\u001b[1;33m,\u001b[0m\u001b[0msrc\u001b[0m\u001b[1;33m=\u001b[0m\u001b[0mSRC\u001b[0m\u001b[1;33m)\u001b[0m\u001b[1;33m\u001b[0m\u001b[1;33m\u001b[0m\u001b[0m\n\u001b[0m",
      "\u001b[1;32m<ipython-input-18-3ea70e527d45>\u001b[0m in \u001b[0;36mget_bbcode\u001b[1;34m(file, src, logname)\u001b[0m\n\u001b[0;32m     76\u001b[0m \u001b[1;33m[\u001b[0m\u001b[0mimg\u001b[0m\u001b[1;33m]\u001b[0m\u001b[0mhttps\u001b[0m\u001b[1;33m:\u001b[0m\u001b[1;33m//\u001b[0m\u001b[0mimages2\u001b[0m\u001b[1;33m.\u001b[0m\u001b[0mimgbox\u001b[0m\u001b[1;33m.\u001b[0m\u001b[0mcom\u001b[0m\u001b[1;33m/\u001b[0m\u001b[1;36m0\u001b[0m\u001b[1;36m4\u001b[0m\u001b[1;33m/\u001b[0m\u001b[1;36m6\u001b[0m\u001b[0mb\u001b[0m\u001b[1;33m/\u001b[0m\u001b[0mGgp5ReQb_o\u001b[0m\u001b[1;33m.\u001b[0m\u001b[0mpng\u001b[0m\u001b[1;33m[\u001b[0m\u001b[1;33m/\u001b[0m\u001b[0mimg\u001b[0m\u001b[1;33m]\u001b[0m\u001b[1;33m\u001b[0m\u001b[1;33m\u001b[0m\u001b[0m\n\u001b[0;32m     77\u001b[0m \u001b[1;33m\u001b[0m\u001b[0m\n\u001b[1;32m---> 78\u001b[1;33m '''+f'{generate_videoinfo(file,logname,src=src)}\\n{picbed}\\n{get_mediainfo(file)}'\n\u001b[0m\u001b[0;32m     79\u001b[0m     \u001b[0mpyperclip\u001b[0m\u001b[1;33m.\u001b[0m\u001b[0mcopy\u001b[0m\u001b[1;33m(\u001b[0m\u001b[0mbbcode\u001b[0m\u001b[1;33m)\u001b[0m\u001b[1;33m\u001b[0m\u001b[1;33m\u001b[0m\u001b[0m\n\u001b[0;32m     80\u001b[0m \u001b[0mSRC\u001b[0m\u001b[1;33m=\u001b[0m\u001b[1;34mr\"Pineapple Express 2008 2160p UHD Blu-ray HEVC Atmos TrueHD 7.1-DIY@TTG\"\u001b[0m\u001b[1;33m.\u001b[0m\u001b[0mreplace\u001b[0m\u001b[1;33m(\u001b[0m\u001b[1;34m\" \"\u001b[0m\u001b[1;33m,\u001b[0m\u001b[1;34m\".\"\u001b[0m\u001b[1;33m)\u001b[0m\u001b[1;33m\u001b[0m\u001b[1;33m\u001b[0m\u001b[0m\n",
      "\u001b[1;32m~\\Documents\\Compressor\\utils.py\u001b[0m in \u001b[0;36mgenerate_videoinfo\u001b[1;34m(filename, logname, src)\u001b[0m\n\u001b[0;32m     16\u001b[0m \u001b[1;33m\u001b[0m\u001b[0m\n\u001b[0;32m     17\u001b[0m \u001b[1;32mdef\u001b[0m \u001b[0mgenerate_videoinfo\u001b[0m\u001b[1;33m(\u001b[0m\u001b[0mfilename\u001b[0m\u001b[1;33m,\u001b[0m \u001b[0mlogname\u001b[0m\u001b[1;33m=\u001b[0m\u001b[1;34m\"\"\u001b[0m\u001b[1;33m,\u001b[0m \u001b[0msrc\u001b[0m\u001b[1;33m=\u001b[0m\u001b[1;34m\"\"\u001b[0m\u001b[1;33m)\u001b[0m\u001b[1;33m:\u001b[0m\u001b[1;33m\u001b[0m\u001b[1;33m\u001b[0m\u001b[0m\n\u001b[1;32m---> 18\u001b[1;33m     \u001b[0mmedia_info\u001b[0m \u001b[1;33m=\u001b[0m \u001b[0mMediaInfo\u001b[0m\u001b[1;33m.\u001b[0m\u001b[0mparse\u001b[0m\u001b[1;33m(\u001b[0m\u001b[0mfilename\u001b[0m\u001b[1;33m)\u001b[0m\u001b[1;33m\u001b[0m\u001b[1;33m\u001b[0m\u001b[0m\n\u001b[0m\u001b[0;32m     19\u001b[0m     \u001b[1;32mfor\u001b[0m \u001b[0mt\u001b[0m \u001b[1;32min\u001b[0m \u001b[0mmedia_info\u001b[0m\u001b[1;33m.\u001b[0m\u001b[0mvideo_tracks\u001b[0m\u001b[1;33m:\u001b[0m\u001b[1;33m\u001b[0m\u001b[1;33m\u001b[0m\u001b[0m\n\u001b[0;32m     20\u001b[0m         \u001b[0mprops\u001b[0m\u001b[1;33m=\u001b[0m\u001b[0mnullabledict\u001b[0m\u001b[1;33m(\u001b[0m\u001b[0mt\u001b[0m\u001b[1;33m.\u001b[0m\u001b[0mto_data\u001b[0m\u001b[1;33m(\u001b[0m\u001b[1;33m)\u001b[0m\u001b[1;33m)\u001b[0m\u001b[1;33m\u001b[0m\u001b[1;33m\u001b[0m\u001b[0m\n",
      "\u001b[1;32m~\\anaconda3\\lib\\site-packages\\pymediainfo\\__init__.py\u001b[0m in \u001b[0;36mparse\u001b[1;34m(cls, filename, library_file, cover_data, encoding_errors, parse_speed, full, legacy_stream_display, mediainfo_options, output)\u001b[0m\n\u001b[0;32m    482\u001b[0m                 \u001b[1;31m# If filename doesn't look like a URL and doesn't exist\u001b[0m\u001b[1;33m\u001b[0m\u001b[1;33m\u001b[0m\u001b[1;33m\u001b[0m\u001b[0m\n\u001b[0;32m    483\u001b[0m                 \u001b[1;32mif\u001b[0m \u001b[1;34m\"://\"\u001b[0m \u001b[1;32mnot\u001b[0m \u001b[1;32min\u001b[0m \u001b[0mfilename\u001b[0m \u001b[1;32mand\u001b[0m \u001b[1;32mnot\u001b[0m \u001b[0mos\u001b[0m\u001b[1;33m.\u001b[0m\u001b[0mpath\u001b[0m\u001b[1;33m.\u001b[0m\u001b[0mexists\u001b[0m\u001b[1;33m(\u001b[0m\u001b[0mfilename\u001b[0m\u001b[1;33m)\u001b[0m\u001b[1;33m:\u001b[0m\u001b[1;33m\u001b[0m\u001b[1;33m\u001b[0m\u001b[0m\n\u001b[1;32m--> 484\u001b[1;33m                     \u001b[1;32mraise\u001b[0m \u001b[0mFileNotFoundError\u001b[0m\u001b[1;33m(\u001b[0m\u001b[0mfilename\u001b[0m\u001b[1;33m)\u001b[0m\u001b[1;33m\u001b[0m\u001b[1;33m\u001b[0m\u001b[0m\n\u001b[0m\u001b[0;32m    485\u001b[0m                 \u001b[1;31m# We ran into another kind of error\u001b[0m\u001b[1;33m\u001b[0m\u001b[1;33m\u001b[0m\u001b[1;33m\u001b[0m\u001b[0m\n\u001b[0;32m    486\u001b[0m                 raise RuntimeError(\n",
      "\u001b[1;31mFileNotFoundError\u001b[0m: C:\\Users\\heber\\Music\\A.Good.Old.Fashioned.Orgy.2011.Blu-ray.RUS.1080p.REMUX.AVC.DTS-HD 5.1-louco@PTH\\A.Good.Old.Fashioned.Orgy.2011.Blu-ray.RUS.1080p.REMUX.AVC.DTS-HD 5.1-louco@PTH.mkv"
     ]
    }
   ],
   "source": [
    "from utils import *\n",
    "REMUX=r\"C:\\Users\\heber\\Music\\A.Good.Old.Fashioned.Orgy.2011.Blu-ray.RUS.1080p.REMUX.AVC.DTS-HD 5.1-louco@PTH\\A.Good.Old.Fashioned.Orgy.2011.Blu-ray.RUS.1080p.REMUX.AVC.DTS-HD 5.1-louco@PTH.mkv\"\n",
    "get_bbcode(REMUX,src=SRC)"
   ]
  },
  {
   "cell_type": "code",
   "execution_count": 47,
   "metadata": {},
   "outputs": [
    {
     "name": "stdout",
     "output_type": "stream",
     "text": [
      "Title: C:\\Users\\heber\\Music\\A Good Old Fashioned Orgy 2011 Blu-ray RUS 1080p x264 DTS-louco@PTH\\A Good Old Fashioned Orgy 2011 Blu-ray RUS 1080p x264 DTS-louco@PTH mkv\n",
      "[quote][font=Lucida Console]\n",
      ".Release.Info\n",
      "ENCODER...................: PTH\n",
      "RELEASE NAME..............: A.Good.Old.Fashioned.Orgy.2011.Blu-ray.RUS.1080p.x264.DTS-louco@PTH\n",
      "RELEASE DATE..............: 2021-01-06\n",
      "RELEASE SiZE..............: 11.457 GB\n",
      "SOURCE....................: A Good Old Fashioned Orgy 2011 Blu-ray RUS 1080p AVC DTS-HD 5.1-hdsng@HDSky\n",
      "\n",
      ".Media.Info\n",
      "RUNTiME...................: 1 h 34 min\n",
      "ViDEO CODEC...............: x264 High@L4.1 @ 16.47Mb/s\n",
      "RESOLUTiON................: 1920x1036\n",
      "DiSPLAY ASPECT RATiO......: 1.853\n",
      "FRAME RATE................: 24.000\n",
      "BIT DEPTH.................: 8 bits\n",
      "AUDiO CODEC...............: Russian DTS 5.1 @ 768.0Kb/s \n",
      " \n",
      "SUBTiTLES.................: S_HDMV/PGS : Chinese(zhs)\n",
      "SUBTiTLES.................: S_HDMV/PGS : Chinese(zht)\n",
      "SUBTiTLES.................: S_HDMV/PGS : Russian(ru)\n",
      "\n",
      "\n",
      ".x264.Info\n",
      "x264 [info]: profile High, level 4.1, 4:2:0, 8-bit\n",
      "x264 [info]: frame I:1092  Avg QP:19.43  size:240300\n",
      "x264 [info]: frame P:25746 Avg QP:20.80  size:148331\n",
      "x264 [info]: frame B:109504 Avg QP:23.07  size: 69524\n",
      "x264 [info]: consecutive B-frames:  1.4%  1.3%  4.1% 10.9% 14.2% 51.2%  9.1%  1.6%  3.2%  1.5%  0.8%  0.6%\n",
      "x264 [info]: Weighted P-Frames: Y:2.6% UV:1.1%\n",
      "[/quote]\n",
      "Copy Mediainfo\n"
     ]
    }
   ],
   "source": [
    "X264FINAL=r\"C:\\Users\\heber\\Music\\A.Good.Old.Fashioned.Orgy.2011.Blu-ray.RUS.1080p.x264.DTS-louco@PTH\\A.Good.Old.Fashioned.Orgy.2011.Blu-ray.RUS.1080p.x264.DTS-louco@PTH.mkv\"\n",
    "get_bbcode(X264FINAL,src=SRC,logname=\"x264.log\")"
   ]
  },
  {
   "cell_type": "code",
   "execution_count": 4,
   "metadata": {},
   "outputs": [
    {
     "name": "stdout",
     "output_type": "stream",
     "text": [
      "Title: C:\\Users\\heber\\Music\\Pineapple Express 2008 BluRay 2160p UHD HEVC HDR x265 10bit TrueHD 7 1-louco@PTH\\Pineapple Express 2008 BluRay 2160p UHD HEVC HDR x265 10bit TrueHD 7 1-louco@PTH mkv\n"
     ]
    },
    {
     "ename": "UnicodeDecodeError",
     "evalue": "'utf-8' codec can't decode byte 0xff in position 0: invalid start byte",
     "output_type": "error",
     "traceback": [
      "\u001b[1;31m---------------------------------------------------------------------------\u001b[0m",
      "\u001b[1;31mUnicodeDecodeError\u001b[0m                        Traceback (most recent call last)",
      "\u001b[1;32m<ipython-input-4-fc646d086e18>\u001b[0m in \u001b[0;36m<module>\u001b[1;34m\u001b[0m\n\u001b[0;32m      1\u001b[0m \u001b[0mX265FINAL\u001b[0m\u001b[1;33m=\u001b[0m\u001b[1;34mr\"C:\\Users\\heber\\Music\\Pineapple.Express.2008.BluRay.2160p.UHD.HEVC.HDR.x265.10bit.TrueHD.7.1-louco@PTH\\Pineapple.Express.2008.BluRay.2160p.UHD.HEVC.HDR.x265.10bit.TrueHD.7.1-louco@PTH.mkv\"\u001b[0m\u001b[1;33m\u001b[0m\u001b[1;33m\u001b[0m\u001b[0m\n\u001b[0;32m      2\u001b[0m \u001b[1;31m# get_captures(\"x265\",X265FINAL)\u001b[0m\u001b[1;33m\u001b[0m\u001b[1;33m\u001b[0m\u001b[1;33m\u001b[0m\u001b[0m\n\u001b[1;32m----> 3\u001b[1;33m \u001b[0mget_bbcode\u001b[0m\u001b[1;33m(\u001b[0m\u001b[0mX265FINAL\u001b[0m\u001b[1;33m,\u001b[0m\u001b[0msrc\u001b[0m\u001b[1;33m=\u001b[0m\u001b[0mSRC\u001b[0m\u001b[1;33m,\u001b[0m\u001b[0mlogname\u001b[0m\u001b[1;33m=\u001b[0m\u001b[1;34m\"x265.log\"\u001b[0m\u001b[1;33m)\u001b[0m\u001b[1;33m\u001b[0m\u001b[1;33m\u001b[0m\u001b[0m\n\u001b[0m",
      "\u001b[1;32m<ipython-input-3-3ea70e527d45>\u001b[0m in \u001b[0;36mget_bbcode\u001b[1;34m(file, src, logname)\u001b[0m\n\u001b[0;32m     76\u001b[0m \u001b[1;33m[\u001b[0m\u001b[0mimg\u001b[0m\u001b[1;33m]\u001b[0m\u001b[0mhttps\u001b[0m\u001b[1;33m:\u001b[0m\u001b[1;33m//\u001b[0m\u001b[0mimages2\u001b[0m\u001b[1;33m.\u001b[0m\u001b[0mimgbox\u001b[0m\u001b[1;33m.\u001b[0m\u001b[0mcom\u001b[0m\u001b[1;33m/\u001b[0m\u001b[1;36m0\u001b[0m\u001b[1;36m4\u001b[0m\u001b[1;33m/\u001b[0m\u001b[1;36m6\u001b[0m\u001b[0mb\u001b[0m\u001b[1;33m/\u001b[0m\u001b[0mGgp5ReQb_o\u001b[0m\u001b[1;33m.\u001b[0m\u001b[0mpng\u001b[0m\u001b[1;33m[\u001b[0m\u001b[1;33m/\u001b[0m\u001b[0mimg\u001b[0m\u001b[1;33m]\u001b[0m\u001b[1;33m\u001b[0m\u001b[1;33m\u001b[0m\u001b[0m\n\u001b[0;32m     77\u001b[0m \u001b[1;33m\u001b[0m\u001b[0m\n\u001b[1;32m---> 78\u001b[1;33m '''+f'{generate_videoinfo(file,logname,src=src)}\\n{picbed}\\n{get_mediainfo(file)}'\n\u001b[0m\u001b[0;32m     79\u001b[0m     \u001b[0mpyperclip\u001b[0m\u001b[1;33m.\u001b[0m\u001b[0mcopy\u001b[0m\u001b[1;33m(\u001b[0m\u001b[0mbbcode\u001b[0m\u001b[1;33m)\u001b[0m\u001b[1;33m\u001b[0m\u001b[1;33m\u001b[0m\u001b[0m\n\u001b[0;32m     80\u001b[0m \u001b[0mSRC\u001b[0m\u001b[1;33m=\u001b[0m\u001b[1;34mr\"Pineapple Express 2008 2160p UHD Blu-ray HEVC Atmos TrueHD 7.1-DIY@TTG\"\u001b[0m\u001b[1;33m.\u001b[0m\u001b[0mreplace\u001b[0m\u001b[1;33m(\u001b[0m\u001b[1;34m\" \"\u001b[0m\u001b[1;33m,\u001b[0m\u001b[1;34m\".\"\u001b[0m\u001b[1;33m)\u001b[0m\u001b[1;33m\u001b[0m\u001b[1;33m\u001b[0m\u001b[0m\n",
      "\u001b[1;32m~\\Documents\\Compressor\\utils.py\u001b[0m in \u001b[0;36mgenerate_videoinfo\u001b[1;34m(filename, logname, src)\u001b[0m\n\u001b[0;32m     62\u001b[0m         \u001b[0mtranscodelog\u001b[0m\u001b[1;33m=\u001b[0m\u001b[1;34mf'.{logname.replace(\".log\",\"\")}.Info\\n'\u001b[0m\u001b[1;33m\u001b[0m\u001b[1;33m\u001b[0m\u001b[0m\n\u001b[0;32m     63\u001b[0m         \u001b[1;32mwith\u001b[0m \u001b[0mopen\u001b[0m\u001b[1;33m(\u001b[0m\u001b[0mlogname\u001b[0m\u001b[1;33m,\u001b[0m \u001b[0mencoding\u001b[0m\u001b[1;33m=\u001b[0m\u001b[1;34m\"utf-8\"\u001b[0m\u001b[1;33m)\u001b[0m \u001b[1;32mas\u001b[0m \u001b[0mf\u001b[0m\u001b[1;33m:\u001b[0m\u001b[1;33m\u001b[0m\u001b[1;33m\u001b[0m\u001b[0m\n\u001b[1;32m---> 64\u001b[1;33m             \u001b[0mlines\u001b[0m\u001b[1;33m=\u001b[0m\u001b[0mf\u001b[0m\u001b[1;33m.\u001b[0m\u001b[0mreadlines\u001b[0m\u001b[1;33m(\u001b[0m\u001b[1;33m)\u001b[0m\u001b[1;33m\u001b[0m\u001b[1;33m\u001b[0m\u001b[0m\n\u001b[0m\u001b[0;32m     65\u001b[0m             \u001b[1;32mfor\u001b[0m \u001b[0mline\u001b[0m \u001b[1;32min\u001b[0m \u001b[0mlines\u001b[0m\u001b[1;33m:\u001b[0m\u001b[1;33m\u001b[0m\u001b[1;33m\u001b[0m\u001b[0m\n\u001b[0;32m     66\u001b[0m                 \u001b[1;32mif\u001b[0m \u001b[1;34m'[info]'\u001b[0m \u001b[1;32min\u001b[0m \u001b[0mline\u001b[0m\u001b[1;33m:\u001b[0m\u001b[1;33m\u001b[0m\u001b[1;33m\u001b[0m\u001b[0m\n",
      "\u001b[1;32m~\\anaconda3\\lib\\codecs.py\u001b[0m in \u001b[0;36mdecode\u001b[1;34m(self, input, final)\u001b[0m\n\u001b[0;32m    320\u001b[0m         \u001b[1;31m# decode input (taking the buffer into account)\u001b[0m\u001b[1;33m\u001b[0m\u001b[1;33m\u001b[0m\u001b[1;33m\u001b[0m\u001b[0m\n\u001b[0;32m    321\u001b[0m         \u001b[0mdata\u001b[0m \u001b[1;33m=\u001b[0m \u001b[0mself\u001b[0m\u001b[1;33m.\u001b[0m\u001b[0mbuffer\u001b[0m \u001b[1;33m+\u001b[0m \u001b[0minput\u001b[0m\u001b[1;33m\u001b[0m\u001b[1;33m\u001b[0m\u001b[0m\n\u001b[1;32m--> 322\u001b[1;33m         \u001b[1;33m(\u001b[0m\u001b[0mresult\u001b[0m\u001b[1;33m,\u001b[0m \u001b[0mconsumed\u001b[0m\u001b[1;33m)\u001b[0m \u001b[1;33m=\u001b[0m \u001b[0mself\u001b[0m\u001b[1;33m.\u001b[0m\u001b[0m_buffer_decode\u001b[0m\u001b[1;33m(\u001b[0m\u001b[0mdata\u001b[0m\u001b[1;33m,\u001b[0m \u001b[0mself\u001b[0m\u001b[1;33m.\u001b[0m\u001b[0merrors\u001b[0m\u001b[1;33m,\u001b[0m \u001b[0mfinal\u001b[0m\u001b[1;33m)\u001b[0m\u001b[1;33m\u001b[0m\u001b[1;33m\u001b[0m\u001b[0m\n\u001b[0m\u001b[0;32m    323\u001b[0m         \u001b[1;31m# keep undecoded input until the next call\u001b[0m\u001b[1;33m\u001b[0m\u001b[1;33m\u001b[0m\u001b[1;33m\u001b[0m\u001b[0m\n\u001b[0;32m    324\u001b[0m         \u001b[0mself\u001b[0m\u001b[1;33m.\u001b[0m\u001b[0mbuffer\u001b[0m \u001b[1;33m=\u001b[0m \u001b[0mdata\u001b[0m\u001b[1;33m[\u001b[0m\u001b[0mconsumed\u001b[0m\u001b[1;33m:\u001b[0m\u001b[1;33m]\u001b[0m\u001b[1;33m\u001b[0m\u001b[1;33m\u001b[0m\u001b[0m\n",
      "\u001b[1;31mUnicodeDecodeError\u001b[0m: 'utf-8' codec can't decode byte 0xff in position 0: invalid start byte"
     ]
    }
   ],
   "source": [
    "X265FINAL=r\"C:\\Users\\heber\\Music\\Pineapple.Express.2008.BluRay.2160p.UHD.HEVC.HDR.x265.10bit.TrueHD.7.1-louco@PTH\\Pineapple.Express.2008.BluRay.2160p.UHD.HEVC.HDR.x265.10bit.TrueHD.7.1-louco@PTH.mkv\"\n",
    "# get_captures(\"x265\",X265FINAL)\n",
    "get_bbcode(X265FINAL,src=SRC,logname=\"x265.log\")"
   ]
  },
  {
   "cell_type": "markdown",
   "metadata": {},
   "source": [
    "# 备忘录"
   ]
  },
  {
   "cell_type": "code",
   "execution_count": null,
   "metadata": {},
   "outputs": [],
   "source": []
  }
 ],
 "metadata": {
  "kernelspec": {
   "display_name": "Python 3",
   "language": "python",
   "name": "python3"
  },
  "language_info": {
   "codemirror_mode": {
    "name": "ipython",
    "version": 3
   },
   "file_extension": ".py",
   "mimetype": "text/x-python",
   "name": "python",
   "nbconvert_exporter": "python",
   "pygments_lexer": "ipython3",
   "version": "3.8.3"
  }
 },
 "nbformat": 4,
 "nbformat_minor": 4
}
