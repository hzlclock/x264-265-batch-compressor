{
 "cells": [
  {
   "cell_type": "markdown",
   "metadata": {},
   "source": [
    "# Step0: Install environment"
   ]
  },
  {
   "cell_type": "raw",
   "metadata": {
    "jupyter": {
     "source_hidden": true
    }
   },
   "source": [
    "set PYTHONHOME=%CONDA_PREFIX\n",
    "python vsrepo.py install havsfunc ffms2 d2v lsmas\n",
    "pip install git+https://git.concertos.live/AHD/awsmfunc.git"
   ]
  },
  {
   "cell_type": "raw",
   "metadata": {
    "jupyter": {
     "source_hidden": true
    }
   },
   "source": [
    "cd $HOME/.installs\n",
    "git clone https://github.com/l-smash/l-smash.git\n",
    "cd l-smash\n",
    "./configure  --prefix=/usr --enable-shared\n",
    "make lib\n",
    "sudo make install-lib\n",
    "\n",
    "cd $HOME/.installs\n",
    "git clone https://github.com/sekrit-twc/zimg.git\n",
    "cd zimg\n",
    "./autogen.sh\n",
    "./configure --prefix=/usr\n",
    "make\n",
    "sudo make install\n",
    "\n",
    "cd $HOME/.installs\n",
    "wget https://www.imagemagick.org/download/ImageMagick.tar.gz\n",
    "tar xvzf ImageMagick.tar.gz\n",
    "cd ImageMagick*/\n",
    "./configure --prefix=/usr\n",
    "make\n",
    "sudo make install\n",
    "\n",
    "git clone https://github.com/vapoursynth/vapoursynth.git\n",
    "cd vapoursynth\n",
    "./autogen.sh\n",
    "./configure\n",
    "make\n",
    "make install\n",
    "sudo ldconfig"
   ]
  },
  {
   "cell_type": "code",
   "execution_count": 3,
   "metadata": {},
   "outputs": [],
   "source": [
    "import vapoursynth as vs\n",
    "import havsfunc as haf\n",
    "import mvsfunc as mvf\n",
    "from vapoursynth import core\n",
    "import awsmfunc as awsf"
   ]
  },
  {
   "cell_type": "markdown",
   "metadata": {},
   "source": [
    "# Step1: Select BDMV Largest M2TS and its MLPS"
   ]
  },
  {
   "cell_type": "code",
   "execution_count": null,
   "metadata": {},
   "outputs": [],
   "source": [
    "x265_filename=r\"C:\\Users\\heber\\Music\\How.to.Train.Your.Dragon.2.2014.2160p.BluRay.x265.DTS-louco@PTHOME\\How.to.Train.Your.Dragon.2.2014.2160p.BluRay.x265.DTS-louco@PTHOME.mkv\""
   ]
  },
  {
   "cell_type": "markdown",
   "metadata": {},
   "source": [
    "# Step2: BDMV to MKV"
   ]
  },
  {
   "cell_type": "raw",
   "metadata": {},
   "source": [
    ".\\mkvmerge.exe -o $OUTPUT_FILE $INPUT_MLPS"
   ]
  },
  {
   "cell_type": "markdown",
   "metadata": {},
   "source": [
    "# Step3: Transcode"
   ]
  },
  {
   "cell_type": "code",
   "execution_count": 1,
   "metadata": {},
   "outputs": [],
   "source": [
    "import os, pyperclip, re, subprocess\n",
    "from pymediainfo import MediaInfo\n",
    "from datetime import datetime\n",
    "from utils import *\n",
    "crf=18.0\n",
    "qcomp=0.7\n",
    "aq_mode=3\n",
    "aq_s=0.7\n",
    "bitdepth=8\n",
    "newline=\"\\r\\n\"\n",
    "remotecwd=\"~/compressor\"\n",
    "remotehost=\"amd\"\n",
    "PROCUCT_DEST_DIR=r\"C:\\Users\\heber\\Music\"\n",
    "MOVIE=r\"C:\\Users\\heber\\Music\\Forrest.Gump.1994.Remastered.1080p.Blu-ray.REMUX.AVC.Atmos.TrueHD.7.1-louco@PTHome.mkv\""
   ]
  },
  {
   "cell_type": "markdown",
   "metadata": {},
   "source": [
    "## get remux capture and crop black borders"
   ]
  },
  {
   "cell_type": "code",
   "execution_count": 5,
   "metadata": {},
   "outputs": [
    {
     "name": "stdout",
     "output_type": "stream",
     "text": [
      "Capture REMUX\n"
     ]
    }
   ],
   "source": [
    "get_captures(\"REMUX\", MOVIE)"
   ]
  },
  {
   "cell_type": "markdown",
   "metadata": {},
   "source": [
    "## H264: Test params"
   ]
  },
  {
   "cell_type": "code",
   "execution_count": 12,
   "metadata": {},
   "outputs": [
    {
     "name": "stdout",
     "output_type": "stream",
     "text": [
      "==========\n",
      "远程执行编码 x264:\n",
      "set MOVIE=C:\\Users\\heber\\Music\\Forrest.Gump.1994.Remastered.1080p.Blu-ray.REMUX.AVC.Atmos.TrueHD.7.1-louco@PTHome.mkv\n",
      "set TEST=YES\n",
      "vspipe.exe --y4m \"C:\\Users\\heber\\Documents\\Compressor\\vs.py\" - |zstd -0|python C:\\Users\\heber\\Documents\\Compressor\\aio_buffer.py|ssh amd \"python3 ~/compressor/aio_buffer.py|zstdcat|x264 --demuxer y4m --preset slower --profile high --level 4.1 --ref 4 --crf 18.0 --qcomp 0.7 --aq-mode 3 --aq-strength 0.7 --bframes 11 --me umh  --subme 11 --merange 48 --no-fast-pskip --no-dct-decimate --direct auto --psy-rd 1.00:0.00 --vbv-bufsize 78125 --vbv-maxrate 62500 --deblock -3:-3 --b-adapt 2 --keyint 240 --min-keyint 1 --no-mbtree --trellis 2 --chroma-qp-offset -1 --rc-lookahead 72 --output 264.mkv - 2>&1 | tee x264.log\"\n",
      "scp amd:~/264.mkv C:\\Users\\heber\\Documents\\Compressor\\264.mkv\n",
      "pause\n",
      "\n"
     ]
    }
   ],
   "source": [
    "x264_stmt=f\"x264 --demuxer y4m --preset slower --profile high --level 4.1 --ref 4 \\\n",
    "--crf {crf} --qcomp {qcomp} --aq-mode {aq_mode} --aq-strength {aq_s} --bframes 11 --me umh  --subme 11 \\\n",
    "--merange 48 --no-fast-pskip --no-dct-decimate --direct auto --psy-rd 1.00:0.00 \\\n",
    "--vbv-bufsize 78125 --vbv-maxrate 62500 --deblock -3:-3 --b-adapt 2 --keyint 240 \\\n",
    "--min-keyint 1 --no-mbtree --trellis 2 --chroma-qp-offset -1 --rc-lookahead 72 --output 264.mkv -\"\n",
    "\n",
    "args=x264_stmt.replace(\" --\",\"\\n --\").split(\"\\n\")[1:]\n",
    "args=sorted(args)\n",
    "# print(\"\\n\".join([\"x264 参数：\"]+args))\n",
    "\n",
    "remote_x264stmt=f'vspipe.exe --y4m \"{os. getcwd()}\\\\vs.py\" - |zstd -0|python {os. getcwd()}\\\\aio_buffer.py|\\\n",
    "ssh {remotehost} \"python3 {remotecwd}/aio_buffer.py|zstdcat|{x264_stmt} 2>&1 | tee x264.log\"{newline}'\n",
    "\n",
    "print(\"==========\\n远程执行编码 x264:\")\n",
    "cmd=f'set MOVIE={MOVIE}{newline}'\n",
    "cmd+=f'set TEST=YES{newline}'\n",
    "cmd+=remote_x264stmt\n",
    "cmd+=f'scp {remotehost}:~/264.mkv {os. getcwd()}\\\\264.mkv{newline}'\n",
    "# cmd+=f'scp {remotehost}:~/264.mkv D:\\\\BT\\\\samples\\\\264.mkv{newline}'\n",
    "cmd+=f'pause{newline}'\n",
    "pyperclip.copy(cmd)\n",
    "print(cmd)"
   ]
  },
  {
   "cell_type": "markdown",
   "metadata": {},
   "source": [
    "## H264&H265"
   ]
  },
  {
   "cell_type": "code",
   "execution_count": 13,
   "metadata": {},
   "outputs": [
    {
     "name": "stdout",
     "output_type": "stream",
     "text": [
      "==========\n",
      "远程执行编码 x264+x265:\n",
      "set TEST=NO\n",
      "vspipe.exe --y4m \"C:\\Users\\heber\\Documents\\Compressor\\vs.py\" - |zstd -0 -T4|python C:\\Users\\heber\\Documents\\Compressor\\aio_buffer.py|ssh amd \"python3 ~/compressor/aio_buffer.py|zstdcat| tee >(x264 --demuxer y4m --preset slower --profile high --level 4.1 --ref 4 --crf 18.0 --qcomp 0.7 --aq-mode 3 --aq-strength 0.7 --bframes 11 --me umh  --subme 11 --merange 48 --no-fast-pskip --no-dct-decimate --direct auto --psy-rd 1.00:0.00 --vbv-bufsize 78125 --vbv-maxrate 62500 --deblock -3:-3 --b-adapt 2 --keyint 240 --min-keyint 1 --no-mbtree --trellis 2 --chroma-qp-offset -1 --rc-lookahead 72 --output 264.mkv - 2>&1 | tee x264.log) >(x265 --y4m -D 10 --profile main10 --level-idc 5.1 --high-tier --preset slower --crf 18.0 --qcomp 0.7 --aq-mode 3 --aq-strength 0.7 --rd 4 --psy-rd 2.0 --psy-rdoq 1.0 --rdoq-level 2 --deblock -1:-1 --cbqpoffs -1 --crqpoffs -3 --ctu 32 --qg-size 8 --no-sao --no-sao-non-deblock --selective-sao 0 --tu-intra-depth 4 --tu-inter-depth 4 --no-opt-qp-pps --no-opt-ref-list-length-pps --aud --repeat-headers --me 3 --subme 5 --merange 48 --b-intra --limit-tu 0 --no-rect --no-amp --no-open-gop --pools + --keyint 240 --min-keyint 1 --bframes 8 --max-merge 4 --ref 4 --weightb --rc-lookahead 72 --scenecut 40 --no-strong-intra-smoothing --vbv-bufsize 160000 --vbv-maxrate 160000 --input-depth 10 --output 265.mkv - 2>&1 | tee x265.log) >/dev/null\n",
      "scp amd:~/264.mkv C:\\Users\\heber\\Documents\\Compressor\\264.mkv\n",
      "scp amd:~/265.mkv C:\\Users\\heber\\Documents\\Compressor\\265.mkv\n",
      "ssh amd \"cat x264.log|sed \\\"s/.*\\r//g\\\" \" >C:\\Users\\heber\\Documents\\Compressor\\x264.log & ssh amd \"cat x265.log|sed \\\"s/.*\\r//g\\\" \" >C:\\Users\\heber\\Documents\\Compressor\\x265.log\n",
      "pause\n",
      "\n"
     ]
    }
   ],
   "source": [
    "x264_stmt=f\"x264 --demuxer y4m --preset slower --profile high --level 4.1 --ref 4 \\\n",
    "--crf {crf} --qcomp {qcomp} --aq-mode {aq_mode} --aq-strength {aq_s} --bframes 11 --me umh  --subme 11 \\\n",
    "--merange 48 --no-fast-pskip --no-dct-decimate --direct auto --psy-rd 1.00:0.00 \\\n",
    "--vbv-bufsize 78125 --vbv-maxrate 62500 --deblock -3:-3 --b-adapt 2 --keyint 240 \\\n",
    "--min-keyint 1 --no-mbtree --trellis 2 --chroma-qp-offset -1 --rc-lookahead 72 --output 264.mkv -\"\n",
    "\n",
    "x265_stmt=f\"x265 --y4m -D 10 --profile main10 --level-idc 5.1 --high-tier --preset slower --crf {crf} --qcomp {qcomp} --aq-mode {aq_mode} \\\n",
    "--aq-strength {aq_s} --rd 4 --psy-rd 2.0 --psy-rdoq 1.0 --rdoq-level 2 --deblock -1:-1 --cbqpoffs -1 --crqpoffs -3 --ctu 32 \\\n",
    "--qg-size 8 --no-sao --no-sao-non-deblock --selective-sao 0 --tu-intra-depth 4 --tu-inter-depth 4 --no-opt-qp-pps \\\n",
    "--no-opt-ref-list-length-pps --aud --repeat-headers --me 3 --subme 5 --merange 48 --b-intra --limit-tu 0 --no-rect \\\n",
    "--no-amp --no-open-gop --pools + --keyint 240 --min-keyint 1 --bframes 8 --max-merge 4 --ref 4 --weightb --rc-lookahead 72 \\\n",
    "--scenecut 40 --no-strong-intra-smoothing --vbv-bufsize 160000 --vbv-maxrate 160000 --input-depth 10 --output 265.mkv -\"\n",
    "\n",
    "\n",
    "remote_stmt=f'vspipe.exe --y4m \"{os. getcwd()}\\\\vs.py\" - |zstd -0 -T4|python {os. getcwd()}\\\\aio_buffer.py|\\\n",
    "ssh {remotehost} \"python3 {remotecwd}/aio_buffer.py|zstdcat| tee \\\n",
    ">({x264_stmt} 2>&1 | tee x264.log) \\\n",
    ">({x265_stmt} 2>&1 | tee x265.log) \\\n",
    ">/dev/null{newline}'\n",
    "\n",
    "\n",
    "print(\"==========\\n远程执行编码 x264+x265:\")\n",
    "cmd=f'set MOVIE={MOVIE}{newline}'\n",
    "cmd=f'set TEST=NO{newline}'\n",
    "cmd+=remote_stmt\n",
    "cmd+=f'scp {remotehost}:~/264.mkv {os. getcwd()}\\\\264.mkv{newline}'\n",
    "cmd+=f'scp {remotehost}:~/265.mkv {os. getcwd()}\\\\265.mkv{newline}'\n",
    "\n",
    "cmd+=f'ssh {remotehost} \"cat x264.log|sed \\\\\"s/.*\\\\r//g\\\\\" \" >{os. getcwd()}\\\\x264.log & '\n",
    "cmd+=f'ssh {remotehost} \"cat x265.log|sed \\\\\"s/.*\\\\r//g\\\\\" \" >{os. getcwd()}\\\\x265.log{newline}'\n",
    "cmd+=f'pause{newline}'\n",
    "pyperclip.copy(cmd)\n",
    "print(cmd)"
   ]
  },
  {
   "cell_type": "markdown",
   "metadata": {},
   "source": [
    "## H264 & H265 offline"
   ]
  },
  {
   "cell_type": "code",
   "execution_count": 5,
   "metadata": {},
   "outputs": [
    {
     "name": "stdout",
     "output_type": "stream",
     "text": [
      "==========\n",
      "远程执行编码 x265:\n",
      "set MOVIE=C:\\Users\\heber\\Music\\How.to.Train.Your.Dragon.2.2014.2160p.BluRay.REMUX.HEVC.DTS-MA.7.1-PTHOME\\How.to.Train.Your.Dragon.2.2014.2160p.BluRay.REMUX.HEVC.DTS-MA.7.1-PTHOME.mkv\n",
      "set TEST=NO\n",
      "vspipe.exe --y4m \"C:\\Users\\heber\\Documents\\Compressor\\vs.py\" - |zstd -0 -T8|ssh ubuntu20local \"cat>~/y4m/src\"\n",
      "scp C:\\Users\\heber\\Documents\\Compressor\\x26x.sh ubuntu20local:~/compressor\n",
      "pause\n",
      "scp ubuntu20local:~/compressor/265.mkv C:\\Users\\heber\\Documents\\Compressor\\265.mkv\n",
      "\n"
     ]
    }
   ],
   "source": [
    "x264_stmt=f\"x264 --demuxer y4m --preset slower --profile high --level 4.1 --ref 4 \\\n",
    "--crf {crf} --qcomp {qcomp} --aq-mode {aq_mode} --aq-strength {aq_s} --bframes 11 --me umh  --subme 11 \\\n",
    "--merange 48 --no-fast-pskip --no-dct-decimate --direct auto --psy-rd 1.00:0.00 \\\n",
    "--vbv-bufsize 78125 --vbv-maxrate 62500 --deblock -3:-3 --b-adapt 2 --keyint 240 \\\n",
    "--min-keyint 1 --no-mbtree --trellis 2 --chroma-qp-offset -1 --rc-lookahead 72 --output 264.mkv -\"\n",
    "\n",
    "x265_stmt=f\"x265 --y4m -D 10 --profile main10 --level-idc 5.1 --high-tier --preset slower --crf {crf} --qcomp {qcomp} --aq-mode {aq_mode} \\\n",
    "--aq-strength {aq_s} --rd 4 --psy-rd 2.0 --psy-rdoq 1.0 --rdoq-level 2 --deblock -1:-1 --cbqpoffs -1 --crqpoffs -3 --ctu 32 \\\n",
    "--qg-size 8 --no-sao --no-sao-non-deblock --selective-sao 0 --tu-intra-depth 4 --tu-inter-depth 4 --no-opt-qp-pps \\\n",
    "--no-opt-ref-list-length-pps --aud --repeat-headers --me 3 --subme 5 --merange 48 --b-intra --limit-tu 0 --no-rect \\\n",
    "--no-amp --no-open-gop --pools + --keyint 240 --min-keyint 1 --bframes 8 --max-merge 4 --ref 4 --weightb --rc-lookahead 72 \\\n",
    "--scenecut 40 --no-strong-intra-smoothing --vbv-bufsize 160000 --vbv-maxrate 160000 --input-depth 10 --output 265.mkv -\"\n",
    "\n",
    "remote_stmt=f'zstdcat ~/yrm/src| tee \\\n",
    ">({x264_stmt} 2>&1 | tee x264.log) \\\n",
    ">({x265_stmt} 2>&1 | tee x265.log) \\\n",
    ">/dev/null{newline}'\n",
    "\n",
    "with open(\"x26x.sh\",\"w\") as f:\n",
    "    f.write(remote_stmt)\n",
    "remote_x265stmt=f'vspipe.exe --y4m \"{os. getcwd()}\\\\vs.py\" - |zstd -0 -T8|ssh {remotehost} \"cat>~/y4m/src\"'\n",
    "remote_convertcmd=f'scp {os.getcwd()}\\\\x26x.sh {remotehost}:{remotecwd}'\n",
    "\n",
    "print(\"==========\\n远程执行编码 x265:\")\n",
    "cmd=f'set MOVIE={MOVIE}{newline}'\n",
    "cmd+=f'set TEST=NO{newline}'\n",
    "cmd+=remote_x265stmt+newline\n",
    "cmd+=remote_convertcmd+newline\n",
    "cmd+=f'pause{newline}'\n",
    "cmd+=f'scp {remotehost}:{remotecwd}/264.mkv {os. getcwd()}\\\\264.mkv{newline}'\n",
    "cmd+=f'scp {remotehost}:{remotecwd}/265.mkv {os. getcwd()}\\\\265.mkv{newline}'\n",
    "\n",
    "pyperclip.copy(cmd)\n",
    "print(cmd)"
   ]
  },
  {
   "cell_type": "markdown",
   "metadata": {},
   "source": [
    "# Step4: Remux MKV\n",
    "## x264"
   ]
  },
  {
   "cell_type": "code",
   "execution_count": 17,
   "metadata": {},
   "outputs": [
    {
     "name": "stdout",
     "output_type": "stream",
     "text": [
      "Forrest.Gump.1994.Remastered.1080p.Blu-ray.x264.Atmos.TrueHD.7.1-louco@PTHome.mkv\n",
      "即将执行: \n",
      "   [剩] C:\\Users\\heber\\Music\\Forrest.Gump.1994.Remastered.1080p.Blu-ray.REMUX.AVC.Atmos.TrueHD.7.1-louco@PTHome.mkv\n",
      " + [视] C:\\Users\\heber\\Documents\\Compressor\\264.mkv\n",
      "-> [全] C:\\Users\\heber\\Music\\Forrest.Gump.1994.Remastered.1080p.Blu-ray.x264.Atmos.TrueHD.7.1-louco@PTHome\\Forrest.Gump.1994.Remastered.1080p.Blu-ray.x264.Atmos.TrueHD.7.1-louco@PTHome.mkv\n",
      "=================\n",
      "mkdir C:\\Users\\heber\\Music\\Forrest.Gump.1994.Remastered.1080p.Blu-ray.x264.Atmos.TrueHD.7.1-louco@PTHome ^& C:\\Users\\heber\\Documents\\Compressor\\mkvtoolnix\\mkvmerge.exe -o \"C:\\Users\\heber\\Music\\Forrest.Gump.1994.Remastered.1080p.Blu-ray.x264.Atmos.TrueHD.7.1-louco@PTHome\\Forrest.Gump.1994.Remastered.1080p.Blu-ray.x264.Atmos.TrueHD.7.1-louco@PTHome.mkv\" -D ( \"C:\\Users\\heber\\Music\\Forrest.Gump.1994.Remastered.1080p.Blu-ray.REMUX.AVC.Atmos.TrueHD.7.1-louco@PTHome.mkv\" )    -A -S -T -M -B --no-chapters ( \"C:\\Users\\heber\\Documents\\Compressor\\264.mkv\" )\n"
     ]
    }
   ],
   "source": [
    "# title=\"\".join(re.findall(r'([^\\\\]*\\d{4}p)', MOVIE))\n",
    "# NEWMOVIE=f'{os.getcwd()}\\\\{title}.BluRay.x264.DTS-PTH.mkv'\n",
    "x264_filename=\"\".join(re.findall(r'([^\\\\]*$)', MOVIE)).replace(\"REMUX.AVC\", \"x264\")\n",
    "x264_foldername=PROCUCT_DEST_DIR+\"\\\\\"+x264_filename.replace(\".mkv\",'')\n",
    "NEWMOVIE=f'{x264_foldername}\\\\{x264_filename}'\n",
    "print(x264_filename)\n",
    "cmd=f'mkdir {x264_foldername} ^& '\n",
    "cmd+=f'{os. getcwd()}\\\\mkvtoolnix\\\\mkvmerge.exe -o \"{NEWMOVIE}\" -D ( \"{MOVIE}\" )\\\n",
    "    -A -S -T -M -B --no-chapters ( \"{os. getcwd()}\\\\264.mkv\" )'\n",
    "pyperclip.copy(cmd)\n",
    "print(f\"即将执行: \\n   [剩] {MOVIE}\\n + [视] {os. getcwd()}\\\\264.mkv\\n-> [全] {NEWMOVIE}\\n=================\")\n",
    "print(cmd)"
   ]
  },
  {
   "cell_type": "code",
   "execution_count": 18,
   "metadata": {},
   "outputs": [],
   "source": [
    "subprocess.run(f\"start cmd /c {cmd} ^& pause\", shell=True)\n",
    "None"
   ]
  },
  {
   "cell_type": "code",
   "execution_count": 22,
   "metadata": {},
   "outputs": [
    {
     "name": "stdout",
     "output_type": "stream",
     "text": [
      "[quote][font=Lucida Console]\n",
      ".Release.Info\n",
      "ENCODER...................: PTH\n",
      "RELEASE NAME..............: Forrest.Gump.1994.Remastered.1080p.Blu-ray.x264.Atmos.TrueHD.7.1-louco@PTHome\n",
      "RELEASE DATE..............: 2021-01-12\n",
      "RELEASE SiZE..............: 17.591 GB\n",
      "SOURCE....................: \n",
      "\n",
      ".Media.Info\n",
      "RUNTiME...................: 2 h 22 min\n",
      "ViDEO CODEC...............: x264 High@L4.1 @ 13.35Mb/s\n",
      "RESOLUTiON................: 1920x800\n",
      "DiSPLAY ASPECT RATiO......: 2.400\n",
      "FRAME RATE................: 23.976\n",
      "BIT DEPTH.................: 8 bits\n",
      "AUDiO CODEC...............: English MLP FBA 8 @ 4271.44Kb/s \n",
      " \n",
      "SUBTiTLES.................: S_HDMV/PGS : Chinese(chs)\n",
      "SUBTiTLES.................: S_HDMV/PGS : English(en)\n",
      "SUBTiTLES.................: S_HDMV/PGS : Chinese(chs&eng)\n",
      "\n",
      "\n",
      ".x264.Info\n",
      "x264 [info]: profile High, level 4.1, 4:2:0, 8-bit\n",
      "x264 [info]: frame I:1182  Avg QP:17.00  size:270311\n",
      "x264 [info]: frame P:49116 Avg QP:18.81  size:113585\n",
      "x264 [info]: frame B:154121 Avg QP:20.83  size: 54055\n",
      "x264 [info]: consecutive B-frames:  3.4%  3.6% 11.7% 18.6% 17.1% 42.5%  1.7%  0.6%  0.2%  0.2%  0.2%  0.2%\n",
      "x264 [info]: Weighted P-Frames: Y:3.4% UV:2.0%\n",
      "[/quote]\n"
     ]
    }
   ],
   "source": [
    "generate_videoinfo(f'{x264_foldername}\\\\{x264_filename}',\"x264.log\")\n",
    "None"
   ]
  },
  {
   "cell_type": "code",
   "execution_count": 51,
   "metadata": {},
   "outputs": [
    {
     "name": "stdout",
     "output_type": "stream",
     "text": [
      "Capture x264\n"
     ]
    }
   ],
   "source": [
    "get_captures(\"x264\", x264_filename)"
   ]
  },
  {
   "cell_type": "markdown",
   "metadata": {},
   "source": [
    "## x265"
   ]
  },
  {
   "cell_type": "code",
   "execution_count": 24,
   "metadata": {},
   "outputs": [
    {
     "name": "stdout",
     "output_type": "stream",
     "text": [
      "即将执行: \n",
      "   [剩] C:\\Users\\heber\\Music\\Forrest.Gump.1994.Remastered.1080p.Blu-ray.REMUX.AVC.Atmos.TrueHD.7.1-louco@PTHome.mkv\n",
      " + [视] C:\\Users\\heber\\Documents\\Compressor\\265.mkv\n",
      "-> [全] C:\\Users\\heber\\Music\\Forrest.Gump.1994.Remastered.1080p.Blu-ray.x265.10bit.Atmos.TrueHD.7.1-louco@PTHome\\Forrest.Gump.1994.Remastered.1080p.Blu-ray.x265.10bit.Atmos.TrueHD.7.1-louco@PTHome.mkv\n",
      "=================\n",
      "mkdir C:\\Users\\heber\\Music\\Forrest.Gump.1994.Remastered.1080p.Blu-ray.x264.Atmos.TrueHD.7.1-louco@PTHome ^& C:\\Users\\heber\\Documents\\Compressor\\mkvtoolnix\\mkvmerge.exe -o \"C:\\Users\\heber\\Music\\Forrest.Gump.1994.Remastered.1080p.Blu-ray.x265.10bit.Atmos.TrueHD.7.1-louco@PTHome\\Forrest.Gump.1994.Remastered.1080p.Blu-ray.x265.10bit.Atmos.TrueHD.7.1-louco@PTHome.mkv\" -D ( \"C:\\Users\\heber\\Music\\Forrest.Gump.1994.Remastered.1080p.Blu-ray.REMUX.AVC.Atmos.TrueHD.7.1-louco@PTHome.mkv\" )    -A -S -T -M -B --no-chapters ( \"C:\\Users\\heber\\Documents\\Compressor\\265.mkv\" )\n"
     ]
    }
   ],
   "source": [
    "x265_filename=\"\".join(re.findall(r'([^\\\\]*$)', MOVIE)).replace(\"REMUX.AVC\", \"x265.10bit\")\n",
    "x265_foldername=PROCUCT_DEST_DIR+\"\\\\\"+x265_filename.replace(\".mkv\",'')\n",
    "NEWMOVIE=f'{x265_foldername}\\\\{x265_filename}'\n",
    "cmd=f'mkdir {x264_foldername} ^& '\n",
    "cmd+=f'{os. getcwd()}\\\\mkvtoolnix\\\\mkvmerge.exe -o \"{NEWMOVIE}\" -D ( \"{MOVIE}\" )\\\n",
    "    -A -S -T -M -B --no-chapters ( \"{os. getcwd()}\\\\265.mkv\" )'\n",
    "pyperclip.copy(cmd)\n",
    "print(f\"即将执行: \\n   [剩] {MOVIE}\\n + [视] {os. getcwd()}\\\\265.mkv\\n-> [全] {NEWMOVIE}\\n=================\")\n",
    "print(cmd)"
   ]
  },
  {
   "cell_type": "code",
   "execution_count": 25,
   "metadata": {},
   "outputs": [
    {
     "data": {
      "text/plain": [
       "CompletedProcess(args='start cmd /c mkdir C:\\\\Users\\\\heber\\\\Music\\\\Forrest.Gump.1994.Remastered.1080p.Blu-ray.x264.Atmos.TrueHD.7.1-louco@PTHome ^& C:\\\\Users\\\\heber\\\\Documents\\\\Compressor\\\\mkvtoolnix\\\\mkvmerge.exe -o \"C:\\\\Users\\\\heber\\\\Music\\\\Forrest.Gump.1994.Remastered.1080p.Blu-ray.x265.10bit.Atmos.TrueHD.7.1-louco@PTHome\\\\Forrest.Gump.1994.Remastered.1080p.Blu-ray.x265.10bit.Atmos.TrueHD.7.1-louco@PTHome.mkv\" -D ( \"C:\\\\Users\\\\heber\\\\Music\\\\Forrest.Gump.1994.Remastered.1080p.Blu-ray.REMUX.AVC.Atmos.TrueHD.7.1-louco@PTHome.mkv\" )    -A -S -T -M -B --no-chapters ( \"C:\\\\Users\\\\heber\\\\Documents\\\\Compressor\\\\265.mkv\" ) ^& pause', returncode=0)"
      ]
     },
     "execution_count": 25,
     "metadata": {},
     "output_type": "execute_result"
    }
   ],
   "source": [
    "subprocess.run(f\"start cmd /c {cmd} ^& pause\", shell=True)"
   ]
  },
  {
   "cell_type": "code",
   "execution_count": 32,
   "metadata": {},
   "outputs": [
    {
     "name": "stdout",
     "output_type": "stream",
     "text": [
      "[quote][font=Lucida Console]\n",
      ".Release.Info\n",
      "ENCODER...................: PTH\n",
      "RELEASE NAME..............: A Gentleman.2017.1080p.BluRay.x265.10bit-louco@PTH\n",
      "RELEASE DATE..............: 2020-12-15\n",
      "RELEASE SiZE..............: 10.446 GB\n",
      "SOURCE....................: A Gentleman.2017.1080p.BluRay.REMUX.AVC-louco@PTH\n",
      "\n",
      ".Media.Info\n",
      "RUNTiME...................: 2 h 12 min\n",
      "ViDEO CODEC...............: x265 Main 10@L5.1@High @ 9.31Mb/s\n",
      "RESOLUTiON................: 1920x800\n",
      "DiSPLAY ASPECT RATiO......: 2.400\n",
      "FRAME RATE................: 24.000\n",
      "BIT DEPTH.................: 10 bits\n",
      "AUDiO CODEC...............: Hindi DTS 5.1 @ 1473.63Kb/s \n",
      " \n",
      "SUBTiTLES.................: S_HDMV/PGS : English(en)\n",
      "SUBTiTLES.................: S_TEXT/ASS : Chinese(cht&eng)\n",
      "SUBTiTLES.................: S_TEXT/ASS : Chinese(cht)\n",
      "SUBTiTLES.................: S_TEXT/ASS : Chinese(chs&eng)\n",
      "SUBTiTLES.................: S_TEXT/ASS : Chinese(chs)\n",
      "\n",
      "\n",
      ".x265.Info\n",
      "[/quote]\n"
     ]
    }
   ],
   "source": [
    "generate_videoinfo(x265_filename,\"x265.log\")\n",
    "None"
   ]
  },
  {
   "cell_type": "code",
   "execution_count": 39,
   "metadata": {},
   "outputs": [
    {
     "name": "stdout",
     "output_type": "stream",
     "text": [
      "A.Good.Old.Fashioned.Orgy.2011.Blu-ray.RUS.1080p.x265.10bit.DTS-louco@PTH.mkv\n",
      "Capture x265\n"
     ]
    }
   ],
   "source": [
    "print(x265_filename)\n",
    "get_captures(\"x265\", x265_filename)"
   ]
  },
  {
   "cell_type": "code",
   "execution_count": 34,
   "metadata": {},
   "outputs": [
    {
     "name": "stdout",
     "output_type": "stream",
     "text": [
      "Copy Mediainfo\n"
     ]
    }
   ],
   "source": [
    "get_mediainfo(x265_filename)\n",
    "None"
   ]
  },
  {
   "cell_type": "markdown",
   "metadata": {},
   "source": [
    "# Step5 发布"
   ]
  },
  {
   "cell_type": "code",
   "execution_count": 43,
   "metadata": {},
   "outputs": [],
   "source": [
    "def get_bbcode(file, src=\"\",logname=\"\"):\n",
    "    print(\"Title:\", file.replace(\".\",\" \"))\n",
    "#     由ZERO13@PTHome字幕组完成校对、调整。\n",
    "    picbed='''\n",
    "[url=https://sm.ms/image/bNrH6hTY4oIEjla][img]https://i.loli.net/2021/01/06/bNrH6hTY4oIEjla.jpg[/img][/url]\n",
    "[url=https://sm.ms/image/TFwQIK4VOsnUiW9][img]https://i.loli.net/2021/01/06/TFwQIK4VOsnUiW9.jpg[/img][/url]\n",
    "[url=https://sm.ms/image/KGM6as9Xyp1oxqf][img]https://i.loli.net/2021/01/06/KGM6as9Xyp1oxqf.jpg[/img][/url]\n",
    "[url=https://sm.ms/image/nlVLM3adumEHScA][img]https://i.loli.net/2021/01/06/nlVLM3adumEHScA.jpg[/img][/url]\n",
    "[url=https://sm.ms/image/9dQrFLlCh51csRP][img]https://i.loli.net/2021/01/06/9dQrFLlCh51csRP.jpg[/img][/url]\n",
    "[url=https://sm.ms/image/TjNZKcG3USAO8EQ][img]https://i.loli.net/2021/01/06/TjNZKcG3USAO8EQ.jpg[/img][/url]\n",
    "    '''\n",
    "    if \"REMUX\" in file:\n",
    "        picbed='''\n",
    "[url=https://sm.ms/image/FjRpzKqL2rkdGCA][img]https://i.loli.net/2021/01/06/FjRpzKqL2rkdGCA.jpg[/img][/url]\n",
    "[url=https://sm.ms/image/DR79FMJIpYS1O42][img]https://i.loli.net/2021/01/06/DR79FMJIpYS1O42.jpg[/img][/url]\n",
    "[url=https://sm.ms/image/nHLCScypZ4wVP7N][img]https://i.loli.net/2021/01/06/nHLCScypZ4wVP7N.jpg[/img][/url]\n",
    "[url=https://sm.ms/image/LilaOG3cDn7qzQg][img]https://i.loli.net/2021/01/06/LilaOG3cDn7qzQg.jpg[/img][/url]\n",
    "[url=https://sm.ms/image/ZYVtgW8Eo45McDG][img]https://i.loli.net/2021/01/06/ZYVtgW8Eo45McDG.jpg[/img][/url]\n",
    "[url=https://sm.ms/image/sHNcvD1mP8bCkoB][img]https://i.loli.net/2021/01/06/sHNcvD1mP8bCkoB.jpg[/img][/url]\n",
    "    '''\n",
    "    bbcode='''\n",
    "[quote][size=5][color=RoyalBlue]原盘来自TTG，字幕素材来自人人字幕组\n",
    "字幕转载务必注意礼节，请保留原作者信息，谢绝二次提取修改！\n",
    "在此感谢各位原作者及分享者！如有侵权请联系删除！[/color][/size][/quote]\n",
    "[img]https://pic.imgdb.cn/item/5ff590053ffa7d37b3bd4495.jpg[/img]\n",
    "\n",
    "◎译　　名　怀旧范儿的狂欢节\n",
    "◎片　　名　A Good Old Fashioned Orgy\n",
    "◎年　　代　2011\n",
    "◎产　　地　美国\n",
    "◎类　　别　喜剧\n",
    "◎语　　言　英语\n",
    "◎上映日期　2011-09-02(美国)\n",
    "◎IMDb评分  6.1/10 from 21101 users\n",
    "◎IMDb链接  https://www.imdb.com/title/tt1231586\n",
    "◎豆瓣评分　5.6/10 from 1038 users\n",
    "◎豆瓣链接　https://movie.douban.com/subject/3158436/\n",
    "◎片　　长　95分钟\n",
    "◎导　　演　亚历克斯·格瑞格里 Alex Gregory / 皮特·海克 Peter Huyck\n",
    "◎编　　剧　亚历克斯·格瑞格里 Alex Gregory / 皮特·海克 Peter Huyck\n",
    "◎主　　演　莱丝莉·比伯 Leslie Bibb\n",
    "　　　　　  林赛·斯隆 Lindsay Sloane\n",
    "　　　　　  蕾克·贝尔 Lake Bell\n",
    "　　　　　  林·沙烨 Lin Shaye\n",
    "　　　　　  威尔·福特 Will Forte\n",
    "　　　　　  杰森·苏戴奇斯 Jason Sudeikis\n",
    "　　　　　  米歇尔·博斯 Michelle Borth\n",
    "　　　　　  尼克·克罗尔 Nick Kroll\n",
    "　　　　　  William Hutchings\n",
    "　　　　　  Luka Apt\n",
    "　　　　　  Aaron Pushkar\n",
    "　　　　　  Lauren Crawford\n",
    "　　　　　  露茜·彭奇 Lucy Punch\n",
    "　　　　　  Jason Ciok\n",
    "　　　　　  Kristin Mellian\n",
    "　　　　　  乔·蒙坦蒂 Joe Montanti\n",
    "　　　　　  马丁·斯塔尔 Martin Starr\n",
    "　　　　　  瑞斯·考罗 Rhys Coiro\n",
    "　　　　　  泰勒·莱伯恩 Tyler Labine\n",
    "　　　　　  大卫·科恩查内 David Koechner\n",
    "　　　　　  唐·约翰逊 Don Johnson\n",
    "　　　　　  Jack Landry\n",
    "　　　　　  安吉拉·萨拉弗安 Angela Sarafyan\n",
    "\n",
    "\n",
    "◎标　　签　喜剧 | 美国 | 2011 | 情色 | 文艺 | 剧情 | 友谊,性,自信,偶尔的放纵,缓解压力,羡慕!!! | Sex\n",
    "\n",
    "◎简　　介  \n",
    "\n",
    "　　在富豪老爹的豪宅里，三十岁的埃里克（杰森·苏戴奇斯 Jason Sudeikis 饰）过着衣食无忧的生活，趁着老爹不在家，他还会召集狐朋狗友们举办疯狂的派对，派对俨然成为了埃里克生命中不可分割的一部分。突然有一天，这样惬意的生活走到了尽头，老爹告诉埃里克，他要把豪宅卖掉。为了纪念曾经的生活，埃里克决定在豪宅中举办最后一次派对，这一消息让埃里克的朋友们个个蠢蠢欲动，每一个人都将生命中的种种希望寄托于这场空前盛大的狂欢节中。与此同时，为了能够尽可能长时间的将房子留在手中，埃里克开始和负责此宗买卖的房产经纪人凯丽（莱丝莉·比伯 Leslie Bibb 饰）约会，令埃里可没有想到的是，自己竟然陷入了凯丽的温柔乡中无法自拔。\n",
    "\n",
    "[img]https://images2.imgbox.com/04/6b/Ggp5ReQb_o.png[/img]\n",
    "\n",
    "'''+f'{generate_videoinfo(file,logname,src=src)}\\n{picbed}\\n{get_mediainfo(file)}'\n",
    "    pyperclip.copy(bbcode)"
   ]
  },
  {
   "cell_type": "code",
   "execution_count": 48,
   "metadata": {},
   "outputs": [
    {
     "name": "stdout",
     "output_type": "stream",
     "text": [
      "Title: C:\\Users\\heber\\Music\\A Good Old Fashioned Orgy 2011 Blu-ray RUS 1080p REMUX AVC DTS-HD 5 1-louco@PTH\\A Good Old Fashioned Orgy 2011 Blu-ray RUS 1080p REMUX AVC DTS-HD 5 1-louco@PTH mkv\n",
      "[quote][font=Lucida Console]\n",
      ".Release.Info\n",
      "ENCODER...................: PTH\n",
      "RELEASE NAME..............: A.Good.Old.Fashioned.Orgy.2011.Blu-ray.RUS.1080p.REMUX.AVC.DTS-HD 5.1-louco@PTH\n",
      "RELEASE DATE..............: 2021-01-06\n",
      "RELEASE SiZE..............: 18.259 GB\n",
      "SOURCE....................: A Good Old Fashioned Orgy 2011 Blu-ray RUS 1080p AVC DTS-HD 5.1-hdsng@HDSky\n",
      "\n",
      ".Media.Info\n",
      "RUNTiME...................: 1 h 34 min\n",
      "ViDEO CODEC...............: ? High@L4.1 @ 24.0Mb/s\n",
      "RESOLUTiON................: 1920x1080\n",
      "DiSPLAY ASPECT RATiO......: 1.778\n",
      "FRAME RATE................: 24.000\n",
      "BIT DEPTH.................: 8 bits\n",
      "AUDiO CODEC...............: Russian DTS-HD MA 5.1 @ 3702.48Kb/s \n",
      " \n",
      "SUBTiTLES.................: S_HDMV/PGS : Chinese(zhs)\n",
      "SUBTiTLES.................: S_HDMV/PGS : Chinese(zht)\n",
      "SUBTiTLES.................: S_HDMV/PGS : Russian(ru)\n",
      "\n",
      "\n",
      "[/quote]\n",
      "Copy Mediainfo\n"
     ]
    }
   ],
   "source": [
    "from utils import *\n",
    "REMUX=r\"C:\\Users\\heber\\Music\\A.Good.Old.Fashioned.Orgy.2011.Blu-ray.RUS.1080p.REMUX.AVC.DTS-HD 5.1-louco@PTH\\A.Good.Old.Fashioned.Orgy.2011.Blu-ray.RUS.1080p.REMUX.AVC.DTS-HD 5.1-louco@PTH.mkv\"\n",
    "SRC=r\"A Good Old Fashioned Orgy 2011 Blu-ray RUS 1080p AVC DTS-HD 5.1-hdsng@HDSky\"\n",
    "get_bbcode(REMUX,src=SRC)"
   ]
  },
  {
   "cell_type": "code",
   "execution_count": 47,
   "metadata": {},
   "outputs": [
    {
     "name": "stdout",
     "output_type": "stream",
     "text": [
      "Title: C:\\Users\\heber\\Music\\A Good Old Fashioned Orgy 2011 Blu-ray RUS 1080p x264 DTS-louco@PTH\\A Good Old Fashioned Orgy 2011 Blu-ray RUS 1080p x264 DTS-louco@PTH mkv\n",
      "[quote][font=Lucida Console]\n",
      ".Release.Info\n",
      "ENCODER...................: PTH\n",
      "RELEASE NAME..............: A.Good.Old.Fashioned.Orgy.2011.Blu-ray.RUS.1080p.x264.DTS-louco@PTH\n",
      "RELEASE DATE..............: 2021-01-06\n",
      "RELEASE SiZE..............: 11.457 GB\n",
      "SOURCE....................: A Good Old Fashioned Orgy 2011 Blu-ray RUS 1080p AVC DTS-HD 5.1-hdsng@HDSky\n",
      "\n",
      ".Media.Info\n",
      "RUNTiME...................: 1 h 34 min\n",
      "ViDEO CODEC...............: x264 High@L4.1 @ 16.47Mb/s\n",
      "RESOLUTiON................: 1920x1036\n",
      "DiSPLAY ASPECT RATiO......: 1.853\n",
      "FRAME RATE................: 24.000\n",
      "BIT DEPTH.................: 8 bits\n",
      "AUDiO CODEC...............: Russian DTS 5.1 @ 768.0Kb/s \n",
      " \n",
      "SUBTiTLES.................: S_HDMV/PGS : Chinese(zhs)\n",
      "SUBTiTLES.................: S_HDMV/PGS : Chinese(zht)\n",
      "SUBTiTLES.................: S_HDMV/PGS : Russian(ru)\n",
      "\n",
      "\n",
      ".x264.Info\n",
      "x264 [info]: profile High, level 4.1, 4:2:0, 8-bit\n",
      "x264 [info]: frame I:1092  Avg QP:19.43  size:240300\n",
      "x264 [info]: frame P:25746 Avg QP:20.80  size:148331\n",
      "x264 [info]: frame B:109504 Avg QP:23.07  size: 69524\n",
      "x264 [info]: consecutive B-frames:  1.4%  1.3%  4.1% 10.9% 14.2% 51.2%  9.1%  1.6%  3.2%  1.5%  0.8%  0.6%\n",
      "x264 [info]: Weighted P-Frames: Y:2.6% UV:1.1%\n",
      "[/quote]\n",
      "Copy Mediainfo\n"
     ]
    }
   ],
   "source": [
    "X264FINAL=r\"C:\\Users\\heber\\Music\\A.Good.Old.Fashioned.Orgy.2011.Blu-ray.RUS.1080p.x264.DTS-louco@PTH\\A.Good.Old.Fashioned.Orgy.2011.Blu-ray.RUS.1080p.x264.DTS-louco@PTH.mkv\"\n",
    "get_bbcode(X264FINAL,src=SRC,logname=\"x264.log\")"
   ]
  },
  {
   "cell_type": "code",
   "execution_count": 49,
   "metadata": {},
   "outputs": [
    {
     "name": "stdout",
     "output_type": "stream",
     "text": [
      "Title: C:\\Users\\heber\\Music\\A Good Old Fashioned Orgy 2011 Blu-ray RUS 1080p x265 10bit DTS-louco@PTH\\A Good Old Fashioned Orgy 2011 Blu-ray RUS 1080p x265 10bit DTS-louco@PTH mkv\n",
      "[quote][font=Lucida Console]\n",
      ".Release.Info\n",
      "ENCODER...................: PTH\n",
      "RELEASE NAME..............: A.Good.Old.Fashioned.Orgy.2011.Blu-ray.RUS.1080p.x265.10bit.DTS-louco@PTH\n",
      "RELEASE DATE..............: 2021-01-06\n",
      "RELEASE SiZE..............: 10.563 GB\n",
      "SOURCE....................: A Good Old Fashioned Orgy 2011 Blu-ray RUS 1080p AVC DTS-HD 5.1-hdsng@HDSky\n",
      "\n",
      ".Media.Info\n",
      "RUNTiME...................: 1 h 34 min\n",
      "ViDEO CODEC...............: x265 Main 10@L5.1@High @ 15.12Mb/s\n",
      "RESOLUTiON................: 1920x1036\n",
      "DiSPLAY ASPECT RATiO......: 1.853\n",
      "FRAME RATE................: 24.000\n",
      "BIT DEPTH.................: 10 bits\n",
      "AUDiO CODEC...............: Russian DTS 5.1 @ 768.0Kb/s \n",
      " \n",
      "SUBTiTLES.................: S_HDMV/PGS : Chinese(zhs)\n",
      "SUBTiTLES.................: S_HDMV/PGS : Chinese(zht)\n",
      "SUBTiTLES.................: S_HDMV/PGS : Russian(ru)\n",
      "\n",
      "\n",
      ".x265.Info\n",
      "x265 [info]: Main 10 profile, Level-5.1 (High tier)\n",
      "x265 [info]: frame I:   1280, Avg QP:19.28  kb/s: 40448.75\n",
      "x265 [info]: frame P:  22063, Avg QP:20.28  kb/s: 33374.21\n",
      "x265 [info]: frame B: 112999, Avg QP:24.30  kb/s: 11259.57\n",
      "x265 [info]: Weighted P-Frames: Y:5.5% UV:4.0%\n",
      "x265 [info]: Weighted B-Frames: Y:4.1% UV:2.3%\n",
      "x265 [info]: consecutive B-frames: 8.8% 1.2% 2.8% 9.5% 9.2% 34.3% 11.1% 10.8% 12.2% \n",
      "[/quote]\n",
      "Copy Mediainfo\n"
     ]
    }
   ],
   "source": [
    "X265FINAL=r\"C:\\Users\\heber\\Music\\A.Good.Old.Fashioned.Orgy.2011.Blu-ray.RUS.1080p.x265.10bit.DTS-louco@PTH\\A.Good.Old.Fashioned.Orgy.2011.Blu-ray.RUS.1080p.x265.10bit.DTS-louco@PTH.mkv\"\n",
    "# get_captures(\"x265\",X265FINAL)\n",
    "get_bbcode(X265FINAL,src=SRC,logname=\"x265.log\")"
   ]
  },
  {
   "cell_type": "markdown",
   "metadata": {},
   "source": [
    "# 备忘录"
   ]
  },
  {
   "cell_type": "code",
   "execution_count": null,
   "metadata": {},
   "outputs": [],
   "source": []
  }
 ],
 "metadata": {
  "kernelspec": {
   "display_name": "Python 3",
   "language": "python",
   "name": "python3"
  },
  "language_info": {
   "codemirror_mode": {
    "name": "ipython",
    "version": 3
   },
   "file_extension": ".py",
   "mimetype": "text/x-python",
   "name": "python",
   "nbconvert_exporter": "python",
   "pygments_lexer": "ipython3",
   "version": "3.8.3"
  }
 },
 "nbformat": 4,
 "nbformat_minor": 4
}
