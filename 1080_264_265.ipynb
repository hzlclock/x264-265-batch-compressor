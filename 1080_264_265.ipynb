{
 "cells": [
  {
   "cell_type": "markdown",
   "metadata": {},
   "source": [
    "# Step0: Install environment"
   ]
  },
  {
   "cell_type": "raw",
   "metadata": {
    "jupyter": {
     "source_hidden": true
    }
   },
   "source": [
    "set PYTHONHOME=%CONDA_PREFIX\n",
    "python vsrepo.py install havsfunc ffms2 d2v lsmas\n",
    "pip install git+https://git.concertos.live/AHD/awsmfunc.git"
   ]
  },
  {
   "cell_type": "raw",
   "metadata": {
    "jupyter": {
     "source_hidden": true
    }
   },
   "source": [
    "cd $HOME/.installs\n",
    "git clone https://github.com/l-smash/l-smash.git\n",
    "cd l-smash\n",
    "./configure  --prefix=/usr --enable-shared\n",
    "make lib\n",
    "sudo make install-lib\n",
    "\n",
    "cd $HOME/.installs\n",
    "git clone https://github.com/sekrit-twc/zimg.git\n",
    "cd zimg\n",
    "./autogen.sh\n",
    "./configure --prefix=/usr\n",
    "make\n",
    "sudo make install\n",
    "\n",
    "cd $HOME/.installs\n",
    "wget https://www.imagemagick.org/download/ImageMagick.tar.gz\n",
    "tar xvzf ImageMagick.tar.gz\n",
    "cd ImageMagick*/\n",
    "./configure --prefix=/usr\n",
    "make\n",
    "sudo make install\n",
    "\n",
    "git clone https://github.com/vapoursynth/vapoursynth.git\n",
    "cd vapoursynth\n",
    "./autogen.sh\n",
    "./configure\n",
    "make\n",
    "make install\n",
    "sudo ldconfig"
   ]
  },
  {
   "cell_type": "code",
   "execution_count": 3,
   "metadata": {},
   "outputs": [],
   "source": [
    "import vapoursynth as vs\n",
    "import havsfunc as haf\n",
    "import mvsfunc as mvf\n",
    "from vapoursynth import core\n",
    "import awsmfunc as awsf"
   ]
  },
  {
   "cell_type": "markdown",
   "metadata": {},
   "source": [
    "# Step1: Select BDMV Largest M2TS and its MLPS"
   ]
  },
  {
   "cell_type": "code",
   "execution_count": null,
   "metadata": {},
   "outputs": [],
   "source": [
    "x265_filename=r\"C:\\Users\\heber\\Music\\How.to.Train.Your.Dragon.2.2014.2160p.BluRay.x265.DTS-louco@PTHOME\\How.to.Train.Your.Dragon.2.2014.2160p.BluRay.x265.DTS-louco@PTHOME.mkv\""
   ]
  },
  {
   "cell_type": "markdown",
   "metadata": {},
   "source": [
    "# Step2: BDMV to MKV"
   ]
  },
  {
   "cell_type": "raw",
   "metadata": {},
   "source": [
    ".\\mkvmerge.exe -o $OUTPUT_FILE $INPUT_MLPS"
   ]
  },
  {
   "cell_type": "markdown",
   "metadata": {},
   "source": [
    "# Step3: Transcode"
   ]
  },
  {
   "cell_type": "code",
   "execution_count": 16,
   "metadata": {},
   "outputs": [],
   "source": [
    "import os, pyperclip, re, subprocess\n",
    "from pymediainfo import MediaInfo\n",
    "from datetime import datetime\n",
    "from utils import *\n",
    "crf=18.0\n",
    "qcomp=0.7\n",
    "aq_mode=3\n",
    "aq_s=0.7\n",
    "bitdepth=8\n",
    "newline=\"\\r\\n\"\n",
    "remotecwd=\"~/compressor\"\n",
    "remotehost=\"amd\"\n",
    "PROCUCT_DEST_DIR=r\"C:\\Users\\heber\\Music\"\n",
    "MOVIE=r\"C:\\Users\\heber\\Music\\Forrest.Gump.1994.Remastered.1080p.Blu-ray.REMUX.AVC.Atmos.TrueHD.7.1-louco@PTHome\\Forrest.Gump.1994.Remastered.1080p.Blu-ray.REMUX.AVC.Atmos.TrueHD.7.1-louco@PTHome.mkv\""
   ]
  },
  {
   "cell_type": "markdown",
   "metadata": {},
   "source": [
    "## get remux capture and crop black borders"
   ]
  },
  {
   "cell_type": "code",
   "execution_count": 17,
   "metadata": {},
   "outputs": [
    {
     "name": "stdout",
     "output_type": "stream",
     "text": [
      "Capture REMUX\n"
     ]
    }
   ],
   "source": [
    "get_captures(\"REMUX\", MOVIE)"
   ]
  },
  {
   "cell_type": "markdown",
   "metadata": {},
   "source": [
    "## H264: Test params"
   ]
  },
  {
   "cell_type": "code",
   "execution_count": 12,
   "metadata": {},
   "outputs": [
    {
     "name": "stdout",
     "output_type": "stream",
     "text": [
      "==========\n",
      "远程执行编码 x264:\n",
      "set MOVIE=C:\\Users\\heber\\Music\\Forrest.Gump.1994.Remastered.1080p.Blu-ray.REMUX.AVC.Atmos.TrueHD.7.1-louco@PTHome.mkv\n",
      "set TEST=YES\n",
      "vspipe.exe --y4m \"C:\\Users\\heber\\Documents\\Compressor\\vs.py\" - |zstd -0|python C:\\Users\\heber\\Documents\\Compressor\\aio_buffer.py|ssh amd \"python3 ~/compressor/aio_buffer.py|zstdcat|x264 --demuxer y4m --preset slower --profile high --level 4.1 --ref 4 --crf 18.0 --qcomp 0.7 --aq-mode 3 --aq-strength 0.7 --bframes 11 --me umh  --subme 11 --merange 48 --no-fast-pskip --no-dct-decimate --direct auto --psy-rd 1.00:0.00 --vbv-bufsize 78125 --vbv-maxrate 62500 --deblock -3:-3 --b-adapt 2 --keyint 240 --min-keyint 1 --no-mbtree --trellis 2 --chroma-qp-offset -1 --rc-lookahead 72 --output 264.mkv - 2>&1 | tee x264.log\"\n",
      "scp amd:~/264.mkv C:\\Users\\heber\\Documents\\Compressor\\264.mkv\n",
      "pause\n",
      "\n"
     ]
    }
   ],
   "source": [
    "x264_stmt=f\"x264 --demuxer y4m --preset slower --profile high --level 4.1 --ref 4 \\\n",
    "--crf {crf} --qcomp {qcomp} --aq-mode {aq_mode} --aq-strength {aq_s} --bframes 11 --me umh  --subme 11 \\\n",
    "--merange 48 --no-fast-pskip --no-dct-decimate --direct auto --psy-rd 1.00:0.00 \\\n",
    "--vbv-bufsize 78125 --vbv-maxrate 62500 --deblock -3:-3 --b-adapt 2 --keyint 240 \\\n",
    "--min-keyint 1 --no-mbtree --trellis 2 --chroma-qp-offset -1 --rc-lookahead 72 --output 264.mkv -\"\n",
    "\n",
    "args=x264_stmt.replace(\" --\",\"\\n --\").split(\"\\n\")[1:]\n",
    "args=sorted(args)\n",
    "# print(\"\\n\".join([\"x264 参数：\"]+args))\n",
    "\n",
    "remote_x264stmt=f'vspipe.exe --y4m \"{os. getcwd()}\\\\vs.py\" - |zstd -0|python {os. getcwd()}\\\\aio_buffer.py|\\\n",
    "ssh {remotehost} \"python3 {remotecwd}/aio_buffer.py|zstdcat|{x264_stmt} 2>&1 | tee x264.log\"{newline}'\n",
    "\n",
    "print(\"==========\\n远程执行编码 x264:\")\n",
    "cmd=f'set MOVIE={MOVIE}{newline}'\n",
    "cmd+=f'set TEST=YES{newline}'\n",
    "cmd+=remote_x264stmt\n",
    "cmd+=f'scp {remotehost}:~/264.mkv {os. getcwd()}\\\\264.mkv{newline}'\n",
    "# cmd+=f'scp {remotehost}:~/264.mkv D:\\\\BT\\\\samples\\\\264.mkv{newline}'\n",
    "cmd+=f'pause{newline}'\n",
    "pyperclip.copy(cmd)\n",
    "print(cmd)"
   ]
  },
  {
   "cell_type": "markdown",
   "metadata": {},
   "source": [
    "## H264&H265"
   ]
  },
  {
   "cell_type": "code",
   "execution_count": 2,
   "metadata": {},
   "outputs": [
    {
     "name": "stdout",
     "output_type": "stream",
     "text": [
      "==========\n",
      "远程执行编码 x264+x265:\n",
      "set TEST=NO\n",
      "vspipe.exe --y4m \"C:\\Users\\heber\\Documents\\Compressor\\vs.py\" - |zstd -0 -T4|python C:\\Users\\heber\\Documents\\Compressor\\aio_buffer.py|ssh amd \"python3 ~/compressor/aio_buffer.py|zstdcat| tee >(x264 --demuxer y4m --preset slower --profile high --level 4.1 --ref 4 --crf 19.0 --qcomp 0.7 --aq-mode 3 --aq-strength 0.7 --bframes 11 --me umh  --subme 11 --merange 48 --no-fast-pskip --no-dct-decimate --direct auto --psy-rd 1.00:0.00 --vbv-bufsize 78125 --vbv-maxrate 62500 --deblock -3:-3 --b-adapt 2 --keyint 240 --min-keyint 1 --no-mbtree --trellis 2 --chroma-qp-offset -1 --rc-lookahead 72 --output 264.mkv - 2>&1 | tee x264.log) >(x265 --y4m -D 10 --profile main10 --level-idc 5.1 --high-tier --preset slower --crf 19.0 --qcomp 0.7 --aq-mode 3 --aq-strength 0.7 --rd 4 --psy-rd 2.0 --psy-rdoq 1.0 --rdoq-level 2 --deblock -1:-1 --cbqpoffs -1 --crqpoffs -3 --ctu 32 --qg-size 8 --no-sao --no-sao-non-deblock --selective-sao 0 --tu-intra-depth 4 --tu-inter-depth 4 --no-opt-qp-pps --no-opt-ref-list-length-pps --aud --repeat-headers --me 3 --subme 5 --merange 48 --b-intra --limit-tu 0 --no-rect --no-amp --no-open-gop --pools + --keyint 240 --min-keyint 1 --bframes 8 --max-merge 4 --ref 4 --weightb --rc-lookahead 72 --scenecut 40 --no-strong-intra-smoothing --vbv-bufsize 160000 --vbv-maxrate 160000 --input-depth 10 --output 265.mkv - 2>&1 | tee x265.log) >/dev/null\"\n",
      "scp amd:~/264.mkv C:\\Users\\heber\\Documents\\Compressor\\264.mkv\n",
      "scp amd:~/265.mkv C:\\Users\\heber\\Documents\\Compressor\\265.mkv\n",
      "ssh amd \"cat x264.log|sed \\\"s/.*\\r//g\\\" \" >C:\\Users\\heber\\Documents\\Compressor\\x264.log & ssh amd \"cat x265.log|sed \\\"s/.*\\r//g\\\" \" >C:\\Users\\heber\\Documents\\Compressor\\x265.log\n",
      "pause\n",
      "\n"
     ]
    }
   ],
   "source": [
    "x264_stmt=f\"x264 --demuxer y4m --preset slower --profile high --level 4.1 --ref 4 \\\n",
    "--crf {crf} --qcomp {qcomp} --aq-mode {aq_mode} --aq-strength {aq_s} --bframes 11 --me umh  --subme 11 \\\n",
    "--merange 48 --no-fast-pskip --no-dct-decimate --direct auto --psy-rd 1.00:0.00 \\\n",
    "--vbv-bufsize 78125 --vbv-maxrate 62500 --deblock -3:-3 --b-adapt 2 --keyint 240 \\\n",
    "--min-keyint 1 --no-mbtree --trellis 2 --chroma-qp-offset -1 --rc-lookahead 72 --output 264.mkv -\"\n",
    "\n",
    "x265_stmt=f\"x265 --y4m -D 10 --profile main10 --level-idc 5.1 --high-tier --preset slower --crf {crf} --qcomp {qcomp} --aq-mode {aq_mode} \\\n",
    "--aq-strength {aq_s} --rd 4 --psy-rd 2.0 --psy-rdoq 1.0 --rdoq-level 2 --deblock -1:-1 --cbqpoffs -1 --crqpoffs -3 --ctu 32 \\\n",
    "--qg-size 8 --no-sao --no-sao-non-deblock --selective-sao 0 --tu-intra-depth 4 --tu-inter-depth 4 --no-opt-qp-pps \\\n",
    "--no-opt-ref-list-length-pps --aud --repeat-headers --me 3 --subme 5 --merange 48 --b-intra --limit-tu 0 --no-rect \\\n",
    "--no-amp --no-open-gop --pools + --keyint 240 --min-keyint 1 --bframes 8 --max-merge 4 --ref 4 --weightb --rc-lookahead 72 \\\n",
    "--scenecut 40 --no-strong-intra-smoothing --vbv-bufsize 160000 --vbv-maxrate 160000 --input-depth 10 --output 265.mkv -\"\n",
    "\n",
    "\n",
    "remote_stmt=f'vspipe.exe --y4m \"{os. getcwd()}\\\\vs.py\" - |zstd -0 -T4|python {os. getcwd()}\\\\aio_buffer.py|\\\n",
    "ssh {remotehost} \"python3 {remotecwd}/aio_buffer.py|zstdcat| tee \\\n",
    ">({x264_stmt} 2>&1 | tee x264.log) \\\n",
    ">({x265_stmt} 2>&1 | tee x265.log) \\\n",
    ">/dev/null\"{newline}'\n",
    "\n",
    "\n",
    "print(\"==========\\n远程执行编码 x264+x265:\")\n",
    "cmd=f'set MOVIE={MOVIE}{newline}'\n",
    "cmd=f'set TEST=NO{newline}'\n",
    "cmd+=remote_stmt\n",
    "cmd+=f'scp {remotehost}:~/264.mkv {os. getcwd()}\\\\264.mkv{newline}'\n",
    "cmd+=f'scp {remotehost}:~/265.mkv {os. getcwd()}\\\\265.mkv{newline}'\n",
    "\n",
    "cmd+=f'ssh {remotehost} \"cat x264.log|sed \\\\\"s/.*\\\\r//g\\\\\" \" >{os. getcwd()}\\\\x264.log & '\n",
    "cmd+=f'ssh {remotehost} \"cat x265.log|sed \\\\\"s/.*\\\\r//g\\\\\" \" >{os. getcwd()}\\\\x265.log{newline}'\n",
    "cmd+=f'pause{newline}'\n",
    "pyperclip.copy(cmd)\n",
    "print(cmd)"
   ]
  },
  {
   "cell_type": "markdown",
   "metadata": {},
   "source": [
    "# H265 4K"
   ]
  },
  {
   "cell_type": "code",
   "execution_count": 2,
   "metadata": {},
   "outputs": [
    {
     "name": "stdout",
     "output_type": "stream",
     "text": [
      "==========\n",
      "远程执行编码 x265:\n",
      "set MOVIE=C:\\Users\\heber\\Music\\Get.Out.2017.UHD.Blu-Ray.2160p.REMUX.DTS-louco@PTH.mkv\n",
      "set TEST=NO\n",
      "vspipe.exe --y4m \"C:\\Users\\heber\\Documents\\Compressor\\vs.py\" - |zstd -0 -T4|python C:\\Users\\heber\\Documents\\Compressor\\aio_buffer.py|ssh amd \"python3 ~/compressor/aio_buffer.py|zstdcat| tee >(x265 --y4m -D 10 --profile main10 --level-idc 5.1 --high-tier --preset slower --crf 18.0 --qcomp 0.7 --aq-mode 3 --aq-strength 0.7 --psy-rdoq 1 --psy-rd 2  --bframes 11 --ctu 64 --min-cu-size 8 --limit-tu 0 --tu-intra-depth 4 --tu-inter-depth 4 --me 3 --subme 6 --merange 48 --analyze-src-pics --max-merge 5 --early-skip --b-intra --no-open-gop --min-keyint 1 --keyint 240 --ref 6 --fades --b-adapt 2 --no-strong-intra-smoothing --cbqpoffs -1 --crqpoffs -3 --rdoq-level 2 --nr-inter 20 --nr-intra 10 --qg-size 32 --rd 4 --no-limit-modes --limit-refs 1 --no-rect --rc-lookahead 72 --tskip-fast --rdpenalty 0 --no-splitrd-skip --deblock -3:-3 --nr-inter 20 --nr-intra 10 --no-sao --no-sao-non-deblock --selective-sao 0 --no-opt-qp-pps --no-opt-ref-list-length-pps --repeat-headers --no-temporal-layers --no-amp --pools + --vbv-bufsize 160000 --vbv-maxrate 150000 --lookahead-slices 5 --input-depth 10 --hdr10 --hdr10-opt --colormatrix bt2020nc --colorprim bt2020 --transfer smpte2084 --master-display 'G(13250,34500)B(7500,3000)R(34000,16000)WP(15635,16450)L(10000000,0)' --output 265.mkv - 2>&1 | tee x265.log) >/dev/null\"\n",
      "scp amd:~/265.mkv C:\\Users\\heber\\Documents\\Compressor\\265.mkv\n",
      "ssh amd \"cat x265.log|sed 's/.*\\r//g' \" >C:\\Users\\heber\\Documents\\Compressor\\x265.log\n",
      "\n"
     ]
    }
   ],
   "source": [
    "x265_stmt=f'x265 --y4m -D 10 --profile main10 --level-idc 5.1 --high-tier --preset slower \\\n",
    "--crf {crf} --qcomp {qcomp} --aq-mode {aq_mode} \\\n",
    "--aq-strength {aq_s} --psy-rdoq 1 --psy-rd 2  --bframes 11 \\\n",
    "--ctu 64 --min-cu-size 8 --limit-tu 0 --tu-intra-depth 4 --tu-inter-depth 4 \\\n",
    "--me 3 --subme 6 --merange 48 --analyze-src-pics \\\n",
    "--max-merge 5 --early-skip --b-intra \\\n",
    "--no-open-gop --min-keyint 1 --keyint 240 --ref 6 --fades --b-adapt 2 \\\n",
    "--no-strong-intra-smoothing --cbqpoffs -1 --crqpoffs -3 \\\n",
    "--rdoq-level 2 --nr-inter 20 --nr-intra 10 \\\n",
    "--qg-size 32 \\\n",
    "--rd 4 --no-limit-modes --limit-refs 1 --no-rect --rc-lookahead 72 --tskip-fast \\\n",
    "--rdpenalty 0 --no-splitrd-skip \\\n",
    "--deblock -3:-3 --nr-inter 20 --nr-intra 10 \\\n",
    "--no-sao --no-sao-non-deblock --selective-sao 0 \\\n",
    "--no-opt-qp-pps --no-opt-ref-list-length-pps --repeat-headers \\\n",
    "--no-temporal-layers --no-amp --pools + \\\n",
    "--vbv-bufsize 160000 --vbv-maxrate 150000 --lookahead-slices 5 --input-depth 10 \\\n",
    "--hdr10 --hdr10-opt --colormatrix bt2020nc --colorprim bt2020 --transfer smpte2084 \\\n",
    "--master-display \\'G(13250,34500)B(7500,3000)R(34000,16000)WP(15635,16450)L(10000000,0)\\' --output 265.mkv -'\n",
    "# --max-cll 922,239 \n",
    "'''\n",
    "BT.2020 \tG(8500,39850)B(6550,2300)R(35400,14600)WP(15635,16450)L(40000000,50)\n",
    "Display P3    G(13250,34500)B(7500,3000)R(34000,16000)WP(15635,16450)L(40000000,50)\n",
    "'''\n",
    "\n",
    "# with open(\"x265.sh\",\"w\") as f:\n",
    "#     f.write(f'zstdcat ~/yrm/src|{x265_stmt} 2>&1 | tee x265.log')\n",
    "# remote_x265stmt=f'vspipe.exe --y4m \"{os. getcwd()}\\\\vs.py\" - |zstd -0 -T8|ssh {remotehost} \"cat>~/y4m/src\"'\n",
    "# remote_convertcmd=f'scp {os.getcwd()}\\\\x265.sh {remotehost}:{remotecwd}'\n",
    "    \n",
    "remote_stmt=f'vspipe.exe --y4m \"{os. getcwd()}\\\\vs.py\" - |zstd -0 -T4|python {os. getcwd()}\\\\aio_buffer.py|\\\n",
    "ssh {remotehost} \"python3 {remotecwd}/aio_buffer.py|zstdcat| tee \\\n",
    ">({x265_stmt} 2>&1 | tee x265.log) \\\n",
    ">/dev/null\"{newline}'\n",
    "\n",
    "\n",
    "print(\"==========\\n远程执行编码 x265:\")\n",
    "cmd=f'set MOVIE={MOVIE}{newline}'\n",
    "cmd+=f'set TEST=NO{newline}'\n",
    "cmd+=remote_stmt\n",
    "cmd+=f'scp {remotehost}:~/265.mkv {os. getcwd()}\\\\265.mkv{newline}'\n",
    "\n",
    "cmd+=f'ssh {remotehost} \"cat x265.log|sed \\'s/.*\\\\r//g\\' \" >{os. getcwd()}\\\\x265.log{newline}'\n",
    "\n",
    "pyperclip.copy(cmd)\n",
    "print(cmd)"
   ]
  },
  {
   "cell_type": "markdown",
   "metadata": {},
   "source": [
    "## H264 & H265 offline"
   ]
  },
  {
   "cell_type": "code",
   "execution_count": 5,
   "metadata": {},
   "outputs": [
    {
     "name": "stdout",
     "output_type": "stream",
     "text": [
      "==========\n",
      "远程执行编码 x265:\n",
      "set MOVIE=C:\\Users\\heber\\Music\\How.to.Train.Your.Dragon.2.2014.2160p.BluRay.REMUX.HEVC.DTS-MA.7.1-PTHOME\\How.to.Train.Your.Dragon.2.2014.2160p.BluRay.REMUX.HEVC.DTS-MA.7.1-PTHOME.mkv\n",
      "set TEST=NO\n",
      "vspipe.exe --y4m \"C:\\Users\\heber\\Documents\\Compressor\\vs.py\" - |zstd -0 -T8|ssh ubuntu20local \"cat>~/y4m/src\"\n",
      "scp C:\\Users\\heber\\Documents\\Compressor\\x26x.sh ubuntu20local:~/compressor\n",
      "pause\n",
      "scp ubuntu20local:~/compressor/265.mkv C:\\Users\\heber\\Documents\\Compressor\\265.mkv\n",
      "\n"
     ]
    }
   ],
   "source": [
    "x264_stmt=f\"x264 --demuxer y4m --preset slower --profile high --level 4.1 --ref 4 \\\n",
    "--crf {crf} --qcomp {qcomp} --aq-mode {aq_mode} --aq-strength {aq_s} --bframes 11 --me umh  --subme 11 \\\n",
    "--merange 48 --no-fast-pskip --no-dct-decimate --direct auto --psy-rd 1.00:0.00 \\\n",
    "--vbv-bufsize 78125 --vbv-maxrate 62500 --deblock -3:-3 --b-adapt 2 --keyint 240 \\\n",
    "--min-keyint 1 --no-mbtree --trellis 2 --chroma-qp-offset -1 --rc-lookahead 72 --output 264.mkv -\"\n",
    "\n",
    "x265_stmt=f\"x265 --y4m -D 10 --profile main10 --level-idc 5.1 --high-tier --preset slower --crf {crf} --qcomp {qcomp} --aq-mode {aq_mode} \\\n",
    "--aq-strength {aq_s} --rd 4 --psy-rd 2.0 --psy-rdoq 1.0 --rdoq-level 2 --deblock -1:-1 --cbqpoffs -1 --crqpoffs -3 --ctu 32 \\\n",
    "--qg-size 8 --no-sao --no-sao-non-deblock --selective-sao 0 --tu-intra-depth 4 --tu-inter-depth 4 --no-opt-qp-pps \\\n",
    "--no-opt-ref-list-length-pps --aud --repeat-headers --me 3 --subme 5 --merange 48 --b-intra --limit-tu 0 --no-rect \\\n",
    "--no-amp --no-open-gop --pools + --keyint 240 --min-keyint 1 --bframes 8 --max-merge 4 --ref 4 --weightb --rc-lookahead 72 \\\n",
    "--scenecut 40 --no-strong-intra-smoothing --vbv-bufsize 160000 --vbv-maxrate 160000 --input-depth 10 --output 265.mkv -\"\n",
    "\n",
    "remote_stmt=f'zstdcat ~/yrm/src| tee \\\n",
    ">({x264_stmt} 2>&1 | tee x264.log) \\\n",
    ">({x265_stmt} 2>&1 | tee x265.log) \\\n",
    ">/dev/null{newline}'\n",
    "\n",
    "with open(\"x26x.sh\",\"w\") as f:\n",
    "    f.write(remote_stmt)\n",
    "remote_x265stmt=f'vspipe.exe --y4m \"{os. getcwd()}\\\\vs.py\" - |zstd -0 -T8|ssh {remotehost} \"cat>~/y4m/src\"'\n",
    "remote_convertcmd=f'scp {os.getcwd()}\\\\x26x.sh {remotehost}:{remotecwd}'\n",
    "\n",
    "print(\"==========\\n远程执行编码 x265:\")\n",
    "cmd=f'set MOVIE={MOVIE}{newline}'\n",
    "cmd+=f'set TEST=NO{newline}'\n",
    "cmd+=remote_x265stmt+newline\n",
    "cmd+=remote_convertcmd+newline\n",
    "cmd+=f'pause{newline}'\n",
    "cmd+=f'scp {remotehost}:{remotecwd}/264.mkv {os. getcwd()}\\\\264.mkv{newline}'\n",
    "cmd+=f'scp {remotehost}:{remotecwd}/265.mkv {os. getcwd()}\\\\265.mkv{newline}'\n",
    "\n",
    "pyperclip.copy(cmd)\n",
    "print(cmd)"
   ]
  },
  {
   "cell_type": "markdown",
   "metadata": {},
   "source": [
    "# Step4: Remux MKV\n",
    "## x264"
   ]
  },
  {
   "cell_type": "code",
   "execution_count": 23,
   "metadata": {},
   "outputs": [
    {
     "name": "stdout",
     "output_type": "stream",
     "text": [
      "Forrest.Gump.1994.Remastered.1080p.Blu-ray.x264.Atmos.TrueHD.7.1-louco@PTHome.mkv\n",
      "即将执行: \n",
      "   [剩] C:\\Users\\heber\\Music\\Forrest.Gump.1994.Remastered.1080p.Blu-ray.REMUX.AVC.Atmos.TrueHD.7.1-louco@PTHome\\Forrest.Gump.1994.Remastered.1080p.Blu-ray.REMUX.AVC.Atmos.TrueHD.7.1-louco@PTHome.mkv\n",
      " + [视] C:\\Users\\heber\\Documents\\Compressor\\264.mkv\n",
      "-> [全] C:\\Users\\heber\\Music\\Forrest.Gump.1994.Remastered.1080p.Blu-ray.x265.10bit.AVC.Atmos.TrueHD.7.1-louco@PTHome\\Forrest.Gump.1994.Remastered.1080p.Blu-ray.x265.10bit.AVC.Atmos.TrueHD.7.1-louco@PTHome.mkv\n",
      "=================\n",
      "mkdir C:\\Users\\heber\\Music\\Forrest.Gump.1994.Remastered.1080p.Blu-ray.x264.Atmos.TrueHD.7.1-louco@PTHome ^& C:\\Users\\heber\\Documents\\Compressor\\mkvtoolnix\\mkvmerge.exe -o \"C:\\Users\\heber\\Music\\Forrest.Gump.1994.Remastered.1080p.Blu-ray.x265.10bit.AVC.Atmos.TrueHD.7.1-louco@PTHome\\Forrest.Gump.1994.Remastered.1080p.Blu-ray.x265.10bit.AVC.Atmos.TrueHD.7.1-louco@PTHome.mkv\" -D ( \"C:\\Users\\heber\\Music\\Forrest.Gump.1994.Remastered.1080p.Blu-ray.REMUX.AVC.Atmos.TrueHD.7.1-louco@PTHome\\Forrest.Gump.1994.Remastered.1080p.Blu-ray.REMUX.AVC.Atmos.TrueHD.7.1-louco@PTHome.mkv\" )    -A -S -T -M -B --no-chapters ( \"C:\\Users\\heber\\Documents\\Compressor\\264.mkv\" )\n"
     ]
    }
   ],
   "source": [
    "# title=\"\".join(re.findall(r'([^\\\\]*\\d{4}p)', MOVIE))\n",
    "# NEWMOVIE=f'{os.getcwd()}\\\\{title}.BluRay.x264.DTS-PTH.mkv'\n",
    "x264_filename=\"\".join(re.findall(r'([^\\\\]*$)', MOVIE)).replace(\"REMUX.AVC\", \"x264\")\n",
    "x264_foldername=PROCUCT_DEST_DIR+\"\\\\\"+x264_filename.replace(\".mkv\",'')\n",
    "x264_fullpath=f'{x264_foldername}\\\\{x264_filename}'\n",
    "print(x264_filename)\n",
    "cmd=f'mkdir {x264_foldername} ^& '\n",
    "cmd+=f'{os. getcwd()}\\\\mkvtoolnix\\\\mkvmerge.exe -o \"{NEWMOVIE}\" -D ( \"{MOVIE}\" )\\\n",
    "    -A -S -T -M -B --no-chapters ( \"{os. getcwd()}\\\\264.mkv\" )'\n",
    "pyperclip.copy(cmd)\n",
    "print(f\"即将执行: \\n   [剩] {MOVIE}\\n + [视] {os. getcwd()}\\\\264.mkv\\n-> [全] {NEWMOVIE}\\n=================\")\n",
    "print(cmd)"
   ]
  },
  {
   "cell_type": "code",
   "execution_count": 18,
   "metadata": {},
   "outputs": [],
   "source": [
    "subprocess.run(f\"start cmd /c {cmd} ^& pause\", shell=True)\n",
    "None"
   ]
  },
  {
   "cell_type": "code",
   "execution_count": 24,
   "metadata": {},
   "outputs": [
    {
     "name": "stdout",
     "output_type": "stream",
     "text": [
      "Capture x264\n",
      "[quote][font=Lucida Console]\n",
      ".Release.Info\n",
      "ENCODER...................: PTH\n",
      "RELEASE NAME..............: Forrest.Gump.1994.Remastered.1080p.Blu-ray.x264.Atmos.TrueHD.7.1-louco@PTHome\n",
      "RELEASE DATE..............: 2021-01-21\n",
      "RELEASE SiZE..............: 17.69 GB\n",
      "SOURCE....................: \n",
      "\n",
      ".Media.Info\n",
      "RUNTiME...................: 2 h 22 min\n",
      "ViDEO CODEC...............: x264 High@L4.1 @ 13.35Mb/s\n",
      "RESOLUTiON................: 1920x800\n",
      "DiSPLAY ASPECT RATiO......: 2.400\n",
      "FRAME RATE................: 23.976\n",
      "BIT DEPTH.................: 8 bits\n",
      "AUDiO CODEC...............: English MLP FBA 8 @ 4271.44Kb/s \n",
      " \n",
      "SUBTiTLES.................: S_HDMV/PGS : Chinese(chs&eng)\n",
      "SUBTiTLES.................: S_HDMV/PGS : Chinese(cht&eng)\n",
      "SUBTiTLES.................: S_HDMV/PGS : Chinese(chs)\n",
      "SUBTiTLES.................: S_HDMV/PGS : Chinese(cht)\n",
      "SUBTiTLES.................: S_HDMV/PGS : English(eng)\n",
      "\n",
      "\n",
      ".x264.Info\n",
      "[/quote]\n"
     ]
    },
    {
     "data": {
      "text/plain": [
       "'[quote][font=Lucida Console]\\n.Release.Info\\nENCODER...................: PTH\\nRELEASE NAME..............: Forrest.Gump.1994.Remastered.1080p.Blu-ray.x264.Atmos.TrueHD.7.1-louco@PTHome\\nRELEASE DATE..............: 2021-01-21\\nRELEASE SiZE..............: 17.69 GB\\nSOURCE....................: \\n\\n.Media.Info\\nRUNTiME...................: 2 h 22 min\\nViDEO CODEC...............: x264 High@L4.1 @ 13.35Mb/s\\nRESOLUTiON................: 1920x800\\nDiSPLAY ASPECT RATiO......: 2.400\\nFRAME RATE................: 23.976\\nBIT DEPTH.................: 8 bits\\nAUDiO CODEC...............: English MLP FBA 8 @ 4271.44Kb/s \\n \\nSUBTiTLES.................: S_HDMV/PGS : Chinese(chs&eng)\\nSUBTiTLES.................: S_HDMV/PGS : Chinese(cht&eng)\\nSUBTiTLES.................: S_HDMV/PGS : Chinese(chs)\\nSUBTiTLES.................: S_HDMV/PGS : Chinese(cht)\\nSUBTiTLES.................: S_HDMV/PGS : English(eng)\\n\\n\\n.x264.Info\\n[/quote]'"
      ]
     },
     "execution_count": 24,
     "metadata": {},
     "output_type": "execute_result"
    }
   ],
   "source": [
    "get_captures(\"x264\", x264_filename)\n",
    "generate_videoinfo(f'{x264_foldername}\\\\{x264_filename}',\"x264.log\")"
   ]
  },
  {
   "cell_type": "markdown",
   "metadata": {},
   "source": [
    "## x265"
   ]
  },
  {
   "cell_type": "code",
   "execution_count": 26,
   "metadata": {},
   "outputs": [
    {
     "name": "stdout",
     "output_type": "stream",
     "text": [
      "即将执行: \n",
      "   [剩] C:\\Users\\heber\\Music\\Forrest.Gump.1994.Remastered.1080p.Blu-ray.REMUX.AVC.Atmos.TrueHD.7.1-louco@PTHome\\Forrest.Gump.1994.Remastered.1080p.Blu-ray.REMUX.AVC.Atmos.TrueHD.7.1-louco@PTHome.mkv\n",
      " + [视] C:\\Users\\heber\\Documents\\Compressor\\265.mkv\n",
      "-> [全] C:\\Users\\heber\\Music\\Forrest.Gump.1994.Remastered.1080p.Blu-ray.x265.10bit.Atmos.TrueHD.7.1-louco@PTHome\\Forrest.Gump.1994.Remastered.1080p.Blu-ray.x265.10bit.Atmos.TrueHD.7.1-louco@PTHome.mkv\n",
      "=================\n",
      "mkdir C:\\Users\\heber\\Music\\Forrest.Gump.1994.Remastered.1080p.Blu-ray.x265.10bit.Atmos.TrueHD.7.1-louco@PTHome ^& C:\\Users\\heber\\Documents\\Compressor\\mkvtoolnix\\mkvmerge.exe -o \"C:\\Users\\heber\\Music\\Forrest.Gump.1994.Remastered.1080p.Blu-ray.x265.10bit.Atmos.TrueHD.7.1-louco@PTHome\\Forrest.Gump.1994.Remastered.1080p.Blu-ray.x265.10bit.Atmos.TrueHD.7.1-louco@PTHome.mkv\" -D ( \"C:\\Users\\heber\\Music\\Forrest.Gump.1994.Remastered.1080p.Blu-ray.REMUX.AVC.Atmos.TrueHD.7.1-louco@PTHome\\Forrest.Gump.1994.Remastered.1080p.Blu-ray.REMUX.AVC.Atmos.TrueHD.7.1-louco@PTHome.mkv\" )    -A -S -T -M -B --no-chapters ( \"C:\\Users\\heber\\Documents\\Compressor\\265.mkv\" )\n"
     ]
    }
   ],
   "source": [
    "x265_filename=\"\".join(re.findall(r'([^\\\\]*$)', MOVIE)).replace(\"REMUX.AVC\", \"x265.10bit\")\n",
    "x265_foldername=PROCUCT_DEST_DIR+\"\\\\\"+x265_filename.replace(\".mkv\",'')\n",
    "NEWMOVIE=f'{x265_foldername}\\\\{x265_filename}'\n",
    "x265_fullpath=NEWMOVIE\n",
    "cmd=f'mkdir {x265_foldername} ^& '\n",
    "cmd+=f'{os. getcwd()}\\\\mkvtoolnix\\\\mkvmerge.exe -o \"{NEWMOVIE}\" -D ( \"{MOVIE}\" )\\\n",
    "    -A -S -T -M -B --no-chapters ( \"{os. getcwd()}\\\\265.mkv\" )'\n",
    "pyperclip.copy(cmd)\n",
    "print(f\"即将执行: \\n   [剩] {MOVIE}\\n + [视] {os. getcwd()}\\\\265.mkv\\n-> [全] {NEWMOVIE}\\n=================\")\n",
    "print(cmd)"
   ]
  },
  {
   "cell_type": "code",
   "execution_count": 11,
   "metadata": {},
   "outputs": [
    {
     "data": {
      "text/plain": [
       "CompletedProcess(args='start cmd /c mkdir C:\\\\Users\\\\heber\\\\Music\\\\Get.Out.2017.UHD.Blu-Ray.2160p.x265.10bit.DTS-louco@PTH ^& C:\\\\Users\\\\heber\\\\Documents\\\\Compressor\\\\mkvtoolnix\\\\mkvmerge.exe -o \"C:\\\\Users\\\\heber\\\\Music\\\\Get.Out.2017.UHD.Blu-Ray.2160p.x265.10bit.DTS-louco@PTH\\\\Get.Out.2017.UHD.Blu-Ray.2160p.x265.10bit.DTS-louco@PTH.mkv\" -D ( \"C:\\\\Users\\\\heber\\\\Music\\\\Get.Out.2017.UHD.Blu-Ray.2160p.REMUX.DTS-louco@PTH.mkv\" )    -A -S -T -M -B --no-chapters ( \"C:\\\\Users\\\\heber\\\\Documents\\\\Compressor\\\\265.mkv\" ) ^& pause', returncode=0)"
      ]
     },
     "execution_count": 11,
     "metadata": {},
     "output_type": "execute_result"
    }
   ],
   "source": [
    "subprocess.run(f\"start cmd /c {cmd} ^& pause\", shell=True)"
   ]
  },
  {
   "cell_type": "code",
   "execution_count": 27,
   "metadata": {},
   "outputs": [
    {
     "name": "stdout",
     "output_type": "stream",
     "text": [
      "[quote][font=Lucida Console]\n",
      ".Release.Info\n",
      "ENCODER...................: PTH\n",
      "RELEASE NAME..............: Forrest.Gump.1994.Remastered.1080p.Blu-ray.x265.10bit.Atmos.TrueHD.7.1-louco@PTHome\n",
      "RELEASE DATE..............: 2021-01-21\n",
      "RELEASE SiZE..............: 16.885 GB\n",
      "SOURCE....................: \n",
      "\n",
      ".Media.Info\n",
      "RUNTiME...................: 2 h 22 min\n",
      "ViDEO CODEC...............: x265 Main 10@L5.1@High @ 12.54Mb/s\n",
      "RESOLUTiON................: 1920x800\n",
      "DiSPLAY ASPECT RATiO......: 2.400\n",
      "FRAME RATE................: 23.976\n",
      "BIT DEPTH.................: 10 bits\n",
      "AUDiO CODEC...............: English MLP FBA 8 @ 4271.44Kb/s \n",
      " \n",
      "SUBTiTLES.................: S_HDMV/PGS : Chinese(chs&eng)\n",
      "SUBTiTLES.................: S_HDMV/PGS : Chinese(cht&eng)\n",
      "SUBTiTLES.................: S_HDMV/PGS : Chinese(chs)\n",
      "SUBTiTLES.................: S_HDMV/PGS : Chinese(cht)\n",
      "SUBTiTLES.................: S_HDMV/PGS : English(eng)\n",
      "\n",
      "\n",
      ".x265.Info\n",
      "x265 [info]: Main 10 profile, Level-5.1 (High tier)\n",
      "x265 [info]: frame I:   1505, Avg QP:17.73  kb/s: 29780.76\n",
      "x265 [info]: frame P:  22883, Avg QP:18.93  kb/s: 16949.42\n",
      "x265 [info]: frame B: 125348, Avg QP:23.04  kb/s: 2669.28 \n",
      "x265 [info]: Weighted P-Frames: Y:4.1% UV:1.5%\n",
      "x265 [info]: Weighted B-Frames: Y:3.7% UV:1.0%\n",
      "x265 [info]: consecutive B-frames: 9.5% 3.8% 4.5% 16.3% 7.3% 23.3% 4.8% 6.5% 7.5% 3.1% 2.9% 10.5% \n",
      "[/quote]\n",
      "Forrest.Gump.1994.Remastered.1080p.Blu-ray.x265.10bit.Atmos.TrueHD.7.1-louco@PTHome.mkv\n",
      "Capture x265\n"
     ]
    }
   ],
   "source": [
    "generate_videoinfo(x265_fullpath,\"x265.log\")\n",
    "print(x265_filename)\n",
    "get_captures(\"x265\", x265_fullpath)"
   ]
  },
  {
   "cell_type": "markdown",
   "metadata": {},
   "source": [
    "# Step5 发布"
   ]
  },
  {
   "cell_type": "code",
   "execution_count": 28,
   "metadata": {},
   "outputs": [],
   "source": [
    "# https://api.rhilip.info/ptgen.html\n",
    "\n",
    "def get_bbcode(file, src=\"\",logname=\"\", title=None):\n",
    "    print(\"Title:\", file.replace(\".\",\" \"))\n",
    "#     由ZERO13@PTHome字幕组完成校对、调整。\n",
    "    picbed='''\n",
    "[url=https://sm.ms/image/s5faT6HditZRAmz][img]https://i.loli.net/2021/01/21/s5faT6HditZRAmz.jpg[/img][/url]\n",
    "[url=https://sm.ms/image/FowetS7KdhRJAnX][img]https://i.loli.net/2021/01/21/FowetS7KdhRJAnX.jpg[/img][/url]\n",
    "[url=https://sm.ms/image/Mkl9qzc3mn7ZeRi][img]https://i.loli.net/2021/01/21/Mkl9qzc3mn7ZeRi.jpg[/img][/url]\n",
    "[url=https://sm.ms/image/LW5bq8ofTm1FrDg][img]https://i.loli.net/2021/01/21/LW5bq8ofTm1FrDg.jpg[/img][/url]\n",
    "[url=https://sm.ms/image/eJrCinxz9G7Dh4P][img]https://i.loli.net/2021/01/21/eJrCinxz9G7Dh4P.jpg[/img][/url]\n",
    "[url=https://sm.ms/image/U5YzARxu4qWiMtg][img]https://i.loli.net/2021/01/21/U5YzARxu4qWiMtg.jpg[/img][/url]\n",
    "    '''\n",
    "    if \"REMUX\" in file:\n",
    "        picbed='''\n",
    "[url=https://sm.ms/image/DXSGehZUtavp51n][img]https://i.loli.net/2021/01/21/DXSGehZUtavp51n.jpg[/img][/url]\n",
    "[url=https://sm.ms/image/5tGfhgXBnrQCO1b][img]https://i.loli.net/2021/01/21/5tGfhgXBnrQCO1b.jpg[/img][/url]\n",
    "[url=https://sm.ms/image/13UCdleYK7vAioP][img]https://i.loli.net/2021/01/21/13UCdleYK7vAioP.jpg[/img][/url]\n",
    "[url=https://sm.ms/image/gFnQiyUTY4uH1Xj][img]https://i.loli.net/2021/01/21/gFnQiyUTY4uH1Xj.jpg[/img][/url]\n",
    "[url=https://sm.ms/image/bpewl6C1vnYX5cF][img]https://i.loli.net/2021/01/21/bpewl6C1vnYX5cF.jpg[/img][/url]\n",
    "[url=https://sm.ms/image/VpQHfztGyUBN2jX][img]https://i.loli.net/2021/01/21/VpQHfztGyUBN2jX.jpg[/img][/url]\n",
    "    '''\n",
    "    bbcode='''\n",
    "[quote][size=5][color=RoyalBlue]原盘来自TAiCHi，字幕素材来自字幕库\n",
    "字幕转载务必注意礼节，请保留原作者信息，谢绝二次提取修改！\n",
    "在此感谢各位原作者及分享者！如有侵权请联系删除！[/color][/size][/quote]\n",
    "\n",
    "[img]https://pic.imgdb.cn/item/6009723a3ffa7d37b37938c8.jpg[/img]\n",
    "\n",
    "◎译　　名　阿甘正传 / 福雷斯特·冈普\n",
    "◎片　　名　Forrest Gump\n",
    "◎年　　代　1994\n",
    "◎产　　地　美国\n",
    "◎类　　别　剧情 / 爱情\n",
    "◎语　　言　英语\n",
    "◎上映日期　1994-06-23(洛杉矶首映) / 1994-07-06(美国)\n",
    "◎IMDb评分  8.8/10 from 1762374 users\n",
    "◎IMDb链接  https://www.imdb.com/title/tt0109830\n",
    "◎豆瓣评分　9.5/10 from 1623538 users\n",
    "◎豆瓣链接　https://movie.douban.com/subject/1292720/\n",
    "◎片　　长　142分钟\n",
    "◎导　　演　罗伯特·泽米吉斯 Robert Zemeckis\n",
    "◎编　　剧　艾瑞克·罗斯 Eric Roth / 温斯顿·格鲁姆 Winston Groom\n",
    "◎主　　演　汤姆·汉克斯 Tom Hanks\n",
    "　　　　　  罗宾·怀特 Robin Wright\n",
    "　　　　　  加里·西尼斯 Gary Sinise\n",
    "　　　　　  麦凯尔泰·威廉逊 Mykelti Williamson\n",
    "　　　　　  莎莉·菲尔德 Sally Field\n",
    "　　　　　  海利·乔·奥斯蒙 Haley Joel Osment\n",
    "　　　　　  迈克尔·康纳·亨弗里斯 Michael Conner Humphreys\n",
    "　　　　　  哈罗德·G·赫瑟姆 Harold G. Herthum\n",
    "　　　　　  山姆·安德森 Sam Anderson\n",
    "　　　　　  伊俄涅·M·特雷奇 Ione M. Telech\n",
    "　　　　　  彼得·道博森 Peter Dobson\n",
    "　　　　　  希芳·法隆 Siobhan Fallon\n",
    "　　　　　  伊丽莎白·汉克斯 Elizabeth Hanks\n",
    "　　　　　  汉娜·豪尔 Hanna Hall\n",
    "　　　　　  克里斯托弗·琼斯 Christopher Jones\n",
    "　　　　　  罗布·兰德里 Rob Landry\n",
    "　　　　　  杰森·麦克奎尔 Jason McGuire\n",
    "　　　　　  桑尼·施罗耶 Sonny Shroyer\n",
    "　　　　　  艾德·戴维斯 Ed Davis\n",
    "　　　　　  丹尼尔C.斯瑞派克 Daniel C. Striepeke\n",
    "　　　　　  大卫·布里斯宾 David Brisbin\n",
    "　　　　　  德博拉·麦克蒂尔 Deborah McTeer\n",
    "　　　　　  艾尔·哈林顿 Al Harrington\n",
    "　　　　　  阿非莫·奥米拉 Afemo Omilami\n",
    "　　　　　  约翰·沃德斯塔德 John Voldstad\n",
    "　　　　　  迈克尔·伯吉斯 Michael Burgess\n",
    "　　　　　  埃里克·安德伍德 Eric Underwood\n",
    "　　　　　  拜伦·明斯 Byron Minns\n",
    "　　　　　  斯蒂芬·布吉格沃特 Stephen Bridgewater\n",
    "　　　　　  约翰·威廉·高尔特 John William Galt\n",
    "　　　　　  希拉里·沙普兰 Hilary Chaplain\n",
    "　　　　　  伊莎贝尔·罗斯 Isabel Rose\n",
    "　　　　　  理查德·达历山德罗 Richard D&#39;Alessandro\n",
    "　　　　　  迪克·史迪威 Dick Stilwell\n",
    "　　　　　  迈克尔-杰斯 Michael Jace\n",
    "　　　　　  杰弗里·布莱克 Geoffrey Blake\n",
    "　　　　　  瓦妮莎·罗斯 Vanessa Roth\n",
    "　　　　　  迪克·卡维特 Dick Cavett\n",
    "　　　　　  马拉·苏查雷特扎 Marla Sucharetza\n",
    "　　　　　  乔·阿拉斯奇 Joe Alaskey\n",
    "　　　　　  W·本森·泰瑞 W. Benson Terry\n",
    "　　　　　  约翰·列侬 John Lennon\n",
    "　　　　　  埃尔维斯·普雷斯利 Elvis Presley\n",
    "　　　　　  罗纳德·里根 Ronald Reagan\n",
    "　　　　　  鲍勃·霍普 Bob Hope\n",
    "　　　　　  约翰·肯尼迪 John F. Kennedy\n",
    "　　　　　  理查德·尼克松 Richard Nixon\n",
    "　　　　　  吴俊全 Junquan Wu\n",
    "　　　　　  蒂莫西·麦克尼尔 Timothy McNeil\n",
    "　　　　　  杰拉尔德·福特 Gerald Ford\n",
    "　　　　　  布雷特·赖斯 Brett Rice\n",
    "\n",
    "\n",
    "◎标　　签　励志 | 经典 | 人生 | 成长 | 美国 | 信念 | 剧情 | 人性\n",
    "\n",
    "◎简　　介  \n",
    "\n",
    "　　公汽车站，一位跑鞋破旧但干净的中年人（汤姆·汉克斯 饰）回忆起了自己的第一双鞋。少时的 Forrest Gump（迈克·康纳·汉弗莱 饰）因身体原因必须戴着腿部支架行走，加上智商只有75，入学后免不了被欺负。在同学 Jenny Curran（汉娜·豪尔 饰）的提醒下，Forrest 奔跑起来。奇迹发生了，支架散落后，Forrest 跑得像风一样快。长大后，Forrest 更是将天赋发挥到了极致。他成了橄榄球星、大学毕业生、战争英雄、外交使者、捕虾船长、慈善家。他目睹了战友 Benjamin Buford Blue（梅克尔蒂·威廉森 饰）阵亡，Dan Taylor 中尉（加里·辛尼斯 饰）与上帝和解，母亲（萨莉·菲尔德 饰）病逝。而当夜晚来临，他总会思念 Jenny（罗宾·赖特 饰）……\n",
    "\n",
    "◎获奖情况  \n",
    "\n",
    "　　第67届奥斯卡金像奖(1995)\n",
    "　　最佳影片 史蒂夫·蒂彻 / 温迪·芬德曼 / 史蒂夫·斯达克\n",
    "　　最佳导演 罗伯特·泽米吉斯\n",
    "　　最佳男主角 汤姆·汉克斯\n",
    "　　最佳男配角(提名) 加里·西尼斯\n",
    "　　最佳改编剧本 艾瑞克·罗斯\n",
    "　　最佳摄影(提名) 唐·伯吉斯\n",
    "　　最佳剪辑 阿瑟·施密特\n",
    "　　最佳视觉效果 斯蒂芬·罗森包姆 / 肯·拉斯顿 / 乔治·墨菲 / 艾伦·霍尔\n",
    "　　最佳音效剪辑(提名) 兰迪·汤姆 / 格洛里亚·S·博德尔斯\n",
    "　　最佳音响(提名) 兰迪·汤姆 / 威廉·B·卡普兰 / 丹尼斯·S·桑兹 / 汤姆·约翰逊\n",
    "　　最佳艺术指导(提名) 南茜·黑格 / 瑞克·卡特\n",
    "　　最佳化妆(提名) 丹尼尔C.斯瑞派克 / 霍利·达莫尔 / 朱迪斯·A·科里\n",
    "　　最佳原创配乐(提名) 亚伦·史维斯查\n",
    "\n",
    "　　第48届英国电影学院奖(1995)\n",
    "　　电影奖 最佳影片(提名) 温迪·芬德曼 / 史蒂夫·斯达克 / 史蒂夫·蒂彻 / 罗伯特·泽米吉斯\n",
    "　　电影奖 最佳导演(提名) 罗伯特·泽米吉斯\n",
    "　　电影奖 最佳男主角(提名) 汤姆·汉克斯\n",
    "　　电影奖 最佳女配角(提名) 莎莉·菲尔德\n",
    "　　电影奖 最佳改编剧本(提名) 艾瑞克·罗斯\n",
    "　　电影奖 最佳摄影(提名) 唐·伯吉斯\n",
    "　　电影奖 最佳剪辑(提名) 阿瑟·施密特\n",
    "　　电影奖 最佳特殊视觉效果 江道格 / 肯·拉斯顿 / 斯蒂芬·罗森包姆 / 乔治·墨菲 / 艾伦·霍尔\n",
    "\n",
    "　　第19届日本电影学院奖(1996)\n",
    "　　最佳外语片(提名)\n",
    "\n",
    "　　第16届中国电影金鸡奖(1996)\n",
    "　　最佳外国影片译制奖\n",
    "\n",
    "[img]https://images2.imgbox.com/04/6b/Ggp5ReQb_o.png[/img]\n",
    "\n",
    "\n",
    "\n",
    "'''+f'{generate_videoinfo(file,logname,src=src)}\\n{picbed}\\n{get_mediainfo(file)}'\n",
    "    pyperclip.copy(bbcode)\n",
    "SRC=r\"Get Out 2017 UHD Blu-Ray 2160p&1080p HEVC&AVC DTS-X 7.1&5.1-CHDBits\".replace(\" \",\".\")"
   ]
  },
  {
   "cell_type": "code",
   "execution_count": 7,
   "metadata": {},
   "outputs": [
    {
     "name": "stdout",
     "output_type": "stream",
     "text": [
      "Title: C:\\Users\\heber\\Music\\Get Out 2017 UHD Blu-Ray 2160p HEVC REMUX DTS-HD M A -louco@PTH\\Get Out 2017 UHD Blu-Ray 2160p HEVC REMUX DTS-HD M A-louco@PTH mkv\n",
      "[quote][font=Lucida Console]\n",
      ".Release.Info\n",
      "ENCODER...................: PTH\n",
      "RELEASE NAME..............: Get.Out.2017.UHD.Blu-Ray.2160p.HEVC.REMUX.DTS-HD.M.A-louco@PTH\n",
      "RELEASE DATE..............: 2021-01-21\n",
      "RELEASE SiZE..............: 53.345 GB\n",
      "SOURCE....................: Get.Out.2017.UHD.Blu-Ray.2160p&1080p.HEVC&AVC.DTS-X.7.1&5.1-CHDBits\n",
      "\n",
      ".Media.Info\n",
      "RUNTiME...................: 1 h 44 min\n",
      "ViDEO CODEC...............: ? Main 10@L5.1@High @ 67.84Mb/s\n",
      "RESOLUTiON................: 3840x2160\n",
      "DiSPLAY ASPECT RATiO......: 1.778\n",
      "FRAME RATE................: 23.976\n",
      "BIT DEPTH.................: 10 bits\n",
      "AUDiO CODEC...............: English DTS-HD MA 8 @ 5476.73Kb/s \n",
      " \n",
      "SUBTiTLES.................: S_TEXT/ASS : Chinese(chs&eng)\n",
      "SUBTiTLES.................: S_TEXT/ASS : Chinese(cht&eng)\n",
      "SUBTiTLES.................: S_TEXT/ASS : Chinese(chs)\n",
      "SUBTiTLES.................: S_TEXT/ASS : Chinese(cht)\n",
      "SUBTiTLES.................: S_TEXT/UTF8 : English(eng)\n",
      "\n",
      "\n",
      "[/quote]\n",
      "Copy Mediainfo\n"
     ]
    }
   ],
   "source": [
    "from utils import *\n",
    "REMUX=r\"C:\\Users\\heber\\Music\\Get.Out.2017.UHD.Blu-Ray.2160p.HEVC.REMUX.DTS-HD.M.A.-louco@PTH\\Get.Out.2017.UHD.Blu-Ray.2160p.HEVC.REMUX.DTS-HD.M.A-louco@PTH.mkv\"\n",
    "get_bbcode(REMUX,src=SRC)"
   ]
  },
  {
   "cell_type": "code",
   "execution_count": 47,
   "metadata": {},
   "outputs": [
    {
     "name": "stdout",
     "output_type": "stream",
     "text": [
      "Title: C:\\Users\\heber\\Music\\A Good Old Fashioned Orgy 2011 Blu-ray RUS 1080p x264 DTS-louco@PTH\\A Good Old Fashioned Orgy 2011 Blu-ray RUS 1080p x264 DTS-louco@PTH mkv\n",
      "[quote][font=Lucida Console]\n",
      ".Release.Info\n",
      "ENCODER...................: PTH\n",
      "RELEASE NAME..............: A.Good.Old.Fashioned.Orgy.2011.Blu-ray.RUS.1080p.x264.DTS-louco@PTH\n",
      "RELEASE DATE..............: 2021-01-06\n",
      "RELEASE SiZE..............: 11.457 GB\n",
      "SOURCE....................: A Good Old Fashioned Orgy 2011 Blu-ray RUS 1080p AVC DTS-HD 5.1-hdsng@HDSky\n",
      "\n",
      ".Media.Info\n",
      "RUNTiME...................: 1 h 34 min\n",
      "ViDEO CODEC...............: x264 High@L4.1 @ 16.47Mb/s\n",
      "RESOLUTiON................: 1920x1036\n",
      "DiSPLAY ASPECT RATiO......: 1.853\n",
      "FRAME RATE................: 24.000\n",
      "BIT DEPTH.................: 8 bits\n",
      "AUDiO CODEC...............: Russian DTS 5.1 @ 768.0Kb/s \n",
      " \n",
      "SUBTiTLES.................: S_HDMV/PGS : Chinese(zhs)\n",
      "SUBTiTLES.................: S_HDMV/PGS : Chinese(zht)\n",
      "SUBTiTLES.................: S_HDMV/PGS : Russian(ru)\n",
      "\n",
      "\n",
      ".x264.Info\n",
      "x264 [info]: profile High, level 4.1, 4:2:0, 8-bit\n",
      "x264 [info]: frame I:1092  Avg QP:19.43  size:240300\n",
      "x264 [info]: frame P:25746 Avg QP:20.80  size:148331\n",
      "x264 [info]: frame B:109504 Avg QP:23.07  size: 69524\n",
      "x264 [info]: consecutive B-frames:  1.4%  1.3%  4.1% 10.9% 14.2% 51.2%  9.1%  1.6%  3.2%  1.5%  0.8%  0.6%\n",
      "x264 [info]: Weighted P-Frames: Y:2.6% UV:1.1%\n",
      "[/quote]\n",
      "Copy Mediainfo\n"
     ]
    }
   ],
   "source": [
    "X264FINAL=r\"C:\\Users\\heber\\Music\\A.Good.Old.Fashioned.Orgy.2011.Blu-ray.RUS.1080p.x264.DTS-louco@PTH\\A.Good.Old.Fashioned.Orgy.2011.Blu-ray.RUS.1080p.x264.DTS-louco@PTH.mkv\"\n",
    "get_bbcode(X264FINAL,src=SRC,logname=\"x264.log\")"
   ]
  },
  {
   "cell_type": "code",
   "execution_count": 15,
   "metadata": {},
   "outputs": [
    {
     "name": "stdout",
     "output_type": "stream",
     "text": [
      "Title: C:\\Users\\heber\\Music\\Get Out 2017 UHD Blu-Ray 2160p x265 10bit DTS-louco@PTH\\Get Out 2017 UHD Blu-Ray 2160p x265 10bit DTS-louco@PTH mkv\n",
      "[quote][font=Lucida Console]\n",
      ".Release.Info\n",
      "ENCODER...................: PTH\n",
      "RELEASE NAME..............: Get.Out.2017.UHD.Blu-Ray.2160p.x265.10bit.DTS-louco@PTH\n",
      "RELEASE DATE..............: 2021-01-21\n",
      "RELEASE SiZE..............: 4.867 GB\n",
      "SOURCE....................: Get.Out.2017.UHD.Blu-Ray.2160p&1080p.HEVC&AVC.DTS-X.7.1&5.1-CHDBits\n",
      "\n",
      ".Media.Info\n",
      "RUNTiME...................: 1 h 44 min\n",
      "ViDEO CODEC...............: x265 Main 10@L5.1@High @ 5.13Mb/s\n",
      "RESOLUTiON................: 3840x1600\n",
      "DiSPLAY ASPECT RATiO......: 2.400\n",
      "FRAME RATE................: 23.976\n",
      "BIT DEPTH.................: 10 bits\n",
      "AUDiO CODEC...............: English DTS 5.1 @ 1509.0Kb/s \n",
      " \n",
      "SUBTiTLES.................: S_TEXT/ASS : Chinese(chs&eng)\n",
      "SUBTiTLES.................: S_TEXT/ASS : Chinese(cht&eng)\n",
      "SUBTiTLES.................: S_TEXT/ASS : Chinese(chs)\n",
      "SUBTiTLES.................: S_TEXT/ASS : Chinese(cht)\n",
      "SUBTiTLES.................: S_TEXT/UTF8 : English(eng)\n",
      "\n",
      "\n",
      ".x265.Info\n",
      "x265 [info]: Main 10 profile, Level-5.1 (High tier)\n",
      "x265 [info]: frame I:   1505, Avg QP:17.73  kb/s: 29780.76\n",
      "x265 [info]: frame P:  22883, Avg QP:18.93  kb/s: 16949.42\n",
      "x265 [info]: frame B: 125348, Avg QP:23.04  kb/s: 2669.28 \n",
      "x265 [info]: Weighted P-Frames: Y:4.1% UV:1.5%\n",
      "x265 [info]: Weighted B-Frames: Y:3.7% UV:1.0%\n",
      "x265 [info]: consecutive B-frames: 9.5% 3.8% 4.5% 16.3% 7.3% 23.3% 4.8% 6.5% 7.5% 3.1% 2.9% 10.5% \n",
      "[/quote]\n",
      "Copy Mediainfo\n"
     ]
    }
   ],
   "source": [
    "get_bbcode(x265_fullpath,src=SRC,logname=\"x265.log\")"
   ]
  },
  {
   "cell_type": "markdown",
   "metadata": {},
   "source": [
    "# 备忘录"
   ]
  },
  {
   "cell_type": "code",
   "execution_count": null,
   "metadata": {},
   "outputs": [],
   "source": []
  }
 ],
 "metadata": {
  "kernelspec": {
   "display_name": "Python 3",
   "language": "python",
   "name": "python3"
  },
  "language_info": {
   "codemirror_mode": {
    "name": "ipython",
    "version": 3
   },
   "file_extension": ".py",
   "mimetype": "text/x-python",
   "name": "python",
   "nbconvert_exporter": "python",
   "pygments_lexer": "ipython3",
   "version": "3.8.3"
  }
 },
 "nbformat": 4,
 "nbformat_minor": 4
}
