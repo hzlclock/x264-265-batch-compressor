{
 "cells": [
  {
   "cell_type": "code",
   "execution_count": 17,
   "metadata": {},
   "outputs": [
    {
     "name": "stdout",
     "output_type": "stream",
     "text": [
      "Elevenfourteen.2003.Bluray.1080p.VC-1.Remux.DTS-HD.MA.5.1-PTH ==> Elevenfourteen.2003.Bluray.1080p.REMUX.DTS-PTH\n"
     ]
    }
   ],
   "source": [
    "import os, re, subprocess, requests, json, random\n",
    "from pymediainfo import MediaInfo\n",
    "from datetime import datetime\n",
    "import subprocess\n",
    "from smms import *\n",
    "from utils import *\n",
    "import base64, zlib\n",
    "crf=20.0\n",
    "qcomp=0.6\n",
    "aq_mode=3\n",
    "aq_s=0.7\n",
    "newline=\"\\r\\n\"\n",
    "\n",
    "PROCUCT_DEST_DIR=r'/home/lind/BT'\n",
    "\n",
    "#https://api.rhilip.info/ptgen.html\n",
    "DOUBAN_ID=\"1451391\"\n",
    "\n",
    "SRC=\"Elevenfourteen 2003 BluRay 1080p VC-1 DTS-HD MA 5.1-DIY@PTHome \".strip().replace(\" \",\".\")\n",
    "REMUX_DIRNAME=\"Elevenfourteen.2003.Bluray.1080p.VC-1.Remux.DTS-HD.MA.5.1-PTH\"\n",
    "if \"AVC.Remux\" in REMUX_DIRNAME and \"DTS-HD.MA\" in REMUX_DIRNAME:\n",
    "    ENCODE_FILENAME=REMUX_DIRNAME.replace(\"AVC.Remux\",\"REMUX\").replace(\"DTS-HD.MA.5.1\",\"DTS\").replace(\"DTS-HD.MA.7.1\",\"DTS\")+\".mkv\"\n",
    "else:\n",
    "    ENCODE_FILENAME=\"Elevenfourteen.2003.Bluray.1080p.REMUX.DTS-PTH\"\n",
    "\n",
    "print(REMUX_DIRNAME,\"==>\",ENCODE_FILENAME)\n",
    "MOVIE=os.path.join(PROCUCT_DEST_DIR, REMUX_DIRNAME, REMUX_DIRNAME+\".mkv\")\n",
    "\n",
    "ACKNOWLEDGEMENT='''1.原盘来自后缀FREEDONOR，Thanks\n",
    "2.新增2条中文字幕，来自字幕库，由PTHome字幕组完成校对调整\n",
    "'''\n",
    "\n",
    "SOUNDTRACK=\"【德语】【简|繁|英|德字幕】\"\n",
    "# SOUNDTRACK=\"【英语】【简|繁|简英|繁英|英字幕】\"\n",
    "\n",
    "SUBTITLE_GZ=1 #官字组\n",
    "\n",
    "LOG_DIR=os.getcwd()"
   ]
  },
  {
   "cell_type": "code",
   "execution_count": null,
   "metadata": {},
   "outputs": [],
   "source": []
  },
  {
   "cell_type": "code",
   "execution_count": 20,
   "metadata": {},
   "outputs": [
    {
     "name": "stdout",
     "output_type": "stream",
     "text": [
      "bash Elevenfourteen.2003.Bluray.1080p.x264.DTS-PTH.sh;\n",
      "bash Elevenfourteen.2003.Bluray.1080p.x265.10bit.DTS-PTH.sh;\n",
      "bash Elevenfourteen.2003.Bluray.1080p.VC-1.Remux.DTS-HD.MA.5.1-PTH.mkv.sh;\n"
     ]
    }
   ],
   "source": [
    "cropx=0\n",
    "cropy=0\n",
    "\n",
    "x264_filename=ENCODE_FILENAME.replace(\"REMUX\", \"x264\")\n",
    "x264_dirname=x264_filename.replace(\".mkv\",\"\")\n",
    "x264_fullpath=os.path.join(PROCUCT_DEST_DIR, x264_dirname, x264_filename)\n",
    "# x265_filename=\"\".join(re.findall(r'([^/\\\\]*$)', MOVIE)).replace(\"REMUX\", \"x265.10bit\")\n",
    "x265_filename=ENCODE_FILENAME.replace(\"REMUX\", \"x265.10bit\")\n",
    "x265_dirname=x265_filename.replace(\".mkv\",\"\")\n",
    "x265_fullpath=os.path.join(PROCUCT_DEST_DIR, x265_dirname, x265_filename)\n",
    "\n",
    "remux_filename=REMUX_DIRNAME+\".mkv\"\n",
    "remux_fullpath=os.path.join(PROCUCT_DEST_DIR, REMUX_DIRNAME, REMUX_DIRNAME+\".mkv\")\n",
    "\n",
    "cmdcommon_before=f'''source pthvs.sh\n",
    "export CRF={crf}\n",
    "export QC={qcomp}\n",
    "export AQS={aq_s}\n",
    "export REMUX_FILE={remux_fullpath}\n",
    "export CROPX={cropx}\n",
    "export CROPY={cropy}\n",
    "export ISREMUX=False'''\n",
    "\n",
    "cmdcommon_after=\"\"\n",
    "cmd264=\"\"\n",
    "cmd265=\"\"\n",
    "\n",
    "cmd264+=f'''\n",
    "export STREAM_FILE={x264_filename}.264\n",
    "export PRODUCT_FILE={x264_fullpath}\n",
    "pthpipe -i $REMUX_FILE -cx $CROPX -cy $CROPY|pth264 -crf $CRF -qc $QC -aqs $AQS -o $STREAM_FILE\n",
    "'''\n",
    "\n",
    "cmd265+=f'''\n",
    "export STREAM_FILE={x265_filename}.265\n",
    "export PRODUCT_FILE={x265_fullpath}\n",
    "pthpipe -i $REMUX_FILE -10 -cx $CROPX -cy $CROPY|pth264 -crf $CRF -qc $QC -aqs $AQS -o $STREAM_FILE\n",
    "'''\n",
    "\n",
    "cmdremux=f'export PRODUCT_FILE={remux_fullpath}\\nexport ISREMUX=True\\n'\n",
    "\n",
    "if \"DTS\" in REMUX_DIRNAME:\n",
    "    transcodecmd=f\"ffmpeg -y -c:a dca -core_only true -i $STREAM_FILE -i $REMUX_FILE -c:v copy \\\n",
    "-max_muxing_queue_size 1024 -bsf:a dca_core -c:a copy -c:s copy -max_muxing_queue_size 1024 \\\n",
    "-map 0 -map -v -map V $PRODUCT_FILE\\n\"\n",
    "\n",
    "else:\n",
    "    if \"LPCM\" in REMUX_DIRNAME:\n",
    "        acodec=\"-c:a flac\"\n",
    "    else:\n",
    "        acodec=\"-bsf:a dca_core -c:a dts\"\n",
    "    transcodecmd=f\"ffmpeg -y -i $STREAM_FILE -i $REMUX_FILE -c:v copy \\\n",
    "-max_muxing_queue_size 1024 {acodec} -c:s copy -max_muxing_queue_size 1024 \\\n",
    "-map 0 -map -v -map V -strict -2 $PRODUCT_FILE \\n\"\n",
    "    \n",
    "transcodecmd+=\"mkvpropedit $PRODUCT_FILE --add-track-statistics-tags\\n\"\n",
    "cmdcommon_after+=get_captures(\"$dirname($PRODUCT_FILE).captures\",\"$PRODUCT_FILE\")+\"\\n\"\n",
    "cmdcommon_after+=f\"transmission-create -p -o $(dirname $PRODUCT_FILE).torrent -t https://www.pthome.net/announce.php $(dirname $PRODUCT_FILE)\"   \n",
    "\n",
    "cmdcommon_after+=f'''\n",
    "python3 <<!\n",
    "import os, re, subprocess, requests, json, random\n",
    "from pymediainfo import MediaInfo\n",
    "from datetime import datetime\n",
    "from smms import *\n",
    "from utils import *\n",
    "import base64, zlib\n",
    "\n",
    "DOUBAN_ID=\"{DOUBAN_ID}\"\n",
    "ACKNOWLEDGEMENT=\"\"\"{ACKNOWLEDGEMENT}\"\"\"\n",
    "SOUNDTRACK=\"{SOUNDTRACK}\"\n",
    "SUBTITLE_GZ={SUBTITLE_GZ}\n",
    "\n",
    "metainfo=getmetainfo(DOUBAN_ID)\n",
    "smms = SMMS('hzlclock', 'Hezl1996')\n",
    "smms.get_api_token()\n",
    "picbed=upload_folder(\"CAPTURE.$PRODUCT_FILE\",smms)\n",
    "\n",
    "with open(f\"$(dirname $PRODUCT_FILE).bbcode.base64.txt\",\"w\") as f:\n",
    "    f.write(getbase64json($PRODUCT_FILE, src=SRC, logname=\"$(dirname $PRODUCT_FILE).log\",\\\n",
    "            picbed=picbed, metainfo=metainfo, is_remux=$ISREMUX,\\\n",
    "            tracks=SOUNDTRACK,gz=SUBTITLE_GZ,ack=ACKNOWLEDGEMENT))\n",
    "!\n",
    "'''\n",
    "\n",
    "with open(x264_filename+\".sh\",\"w\") as f:\n",
    "    f.write(f\"{cmdcommon_before}\\n{cmd264}\\n{transcodecmd}\\n{cmdcommon_after}\")\n",
    "with open(x265_filename+\".sh\",\"w\") as f:\n",
    "    f.write(f\"{cmdcommon_before}\\n{cmd265}\\n{transcodecmd}\\n{cmdcommon_after}\")\n",
    "with open(remux_filename+\".sh\",\"w\") as f:\n",
    "    f.write(f\"{cmdcommon_before}\\n{cmdremux}\\n{cmdcommon_after}\")\n",
    "    \n",
    "print(f'bash {x264_filename}.sh;\\nbash {x265_filename}.sh;\\nbash {remux_filename}.sh;')\n",
    "\n",
    "#ffmpeg -i dest.mkv -i remux.mkv -map 0:v -map 0:s -map 1:a -c:v copy -c:a dts -strict -2 dtsout.mkv\n"
   ]
  },
  {
   "cell_type": "code",
   "execution_count": 128,
   "metadata": {},
   "outputs": [
    {
     "name": "stdout",
     "output_type": "stream",
     "text": [
      "Kurz.Und.schmerzlos.1998.1080p.Bluray.REMUX.DTS-HD.MA.5.1-PTH.mkv\n",
      "===UPLOAD===\n",
      "https://i.loli.net/2021/04/23/MYcK2FUqsLiW5Op.jpg\n",
      "https://i.loli.net/2021/04/23/nyqaKewIUNZXjrk.jpg\n",
      "https://i.loli.net/2021/04/23/H1CfVqxjht6pG9v.jpg\n",
      "https://i.loli.net/2021/04/23/LTWNJRFlXnACVcu.jpg\n",
      "https://i.loli.net/2021/04/23/KDZhqkJTpAwcuM3.jpg\n",
      "https://i.loli.net/2021/04/23/2xjLBKYbQa31ZOU.jpg\n"
     ]
    }
   ],
   "source": [
    "print(ENCODE_FILENAME)\n",
    "encode_picbed=upload_folder(\"x265_captures\",smms)"
   ]
  },
  {
   "cell_type": "code",
   "execution_count": 129,
   "metadata": {},
   "outputs": [
    {
     "name": "stdout",
     "output_type": "stream",
     "text": [
      "Kurz.Und.schmerzlos.1998.1080p.Bluray.AVC.Remux.DTS-HD.MA.5.1-PTH\n",
      "===UPLOAD===\n",
      "https://i.loli.net/2021/04/23/JQTxqYtagk8hsAL.jpg\n",
      "https://i.loli.net/2021/04/23/NPdtaBwuUgi9xp8.jpg\n",
      "https://i.loli.net/2021/04/23/qzHQxPD7VG5Bioe.jpg\n",
      "https://i.loli.net/2021/04/23/ZwPUAtc2eNvh7o6.jpg\n",
      "https://i.loli.net/2021/04/23/ptoZzA2hKnCO7Bg.jpg\n",
      "https://i.loli.net/2021/04/23/1gaqEhsouL4wPD6.jpg\n"
     ]
    }
   ],
   "source": [
    "print(REMUX_DIRNAME)\n",
    "remux_picbed=upload_folder(\"REMUX_captures\",smms)"
   ]
  },
  {
   "cell_type": "code",
   "execution_count": 135,
   "metadata": {},
   "outputs": [
    {
     "name": "stdout",
     "output_type": "stream",
     "text": [
      "Title: /home/lind/BT/Kurz Und schmerzlos 1998 1080p Bluray x264 DTS-PTH/Kurz Und schmerzlos 1998 1080p Bluray x264 DTS-PTH mkv\n",
      "Title: /home/lind/BT/Kurz Und schmerzlos 1998 1080p Bluray x265 10bit DTS-PTH/Kurz Und schmerzlos 1998 1080p Bluray x265 10bit DTS-PTH mkv\n",
      "Title: /home/lind/BT/Kurz Und schmerzlos 1998 1080p Bluray AVC Remux DTS-HD MA 5 1-PTH/Kurz Und schmerzlos 1998 1080p Bluray AVC Remux DTS-HD MA 5 1-PTH mkv\n"
     ]
    }
   ],
   "source": [
    "# del get_bbcode\n",
    "with open(f\"x264.bbcode.txt\",\"w\") as f:\n",
    "    f.write(get_bbcode(x264_fullpath, src=SRC, logname=\"x264.log\", picbed=encode_picbed, metainfo=metainfo,ack=ACKNOWLEDGEMENT))\n",
    "with open(f\"x265.bbcode.txt\",\"w\") as f:\n",
    "    f.write(get_bbcode(x265_fullpath, src=SRC, logname=\"x265.log\", picbed=encode_picbed, metainfo=metainfo,ack=ACKNOWLEDGEMENT))\n",
    "with open(f\"remux.bbcode.txt\",\"w\") as f:\n",
    "    f.write(get_bbcode(remux_fullpath, src=SRC, picbed=encode_picbed, metainfo=metainfo,ack=ACKNOWLEDGEMENT))"
   ]
  },
  {
   "cell_type": "code",
   "execution_count": 136,
   "metadata": {},
   "outputs": [
    {
     "name": "stdout",
     "output_type": "stream",
     "text": [
      "Title: /home/lind/BT/Kurz Und schmerzlos 1998 1080p Bluray x264 DTS-PTH/Kurz Und schmerzlos 1998 1080p Bluray x264 DTS-PTH mkv\n",
      "Title: /home/lind/BT/Kurz Und schmerzlos 1998 1080p Bluray x265 10bit DTS-PTH/Kurz Und schmerzlos 1998 1080p Bluray x265 10bit DTS-PTH mkv\n",
      "Title: /home/lind/BT/Kurz Und schmerzlos 1998 1080p Bluray AVC Remux DTS-HD MA 5 1-PTH/Kurz Und schmerzlos 1998 1080p Bluray AVC Remux DTS-HD MA 5 1-PTH mkv\n"
     ]
    }
   ],
   "source": [
    "with open(f\"x264.bbcode.base64.txt\",\"w\") as f:\n",
    "    f.write(getbase64json(x264_fullpath, src=SRC, logname=\"x264.log\",\\\n",
    "                          picbed=encode_picbed, metainfo=metainfo, tracks=SOUNDTRACK,gz=SUBTITLE_GZ,ack=ACKNOWLEDGEMENT))\n",
    "with open(f\"x265.bbcode.base64.txt\",\"w\") as f:\n",
    "    f.write(getbase64json(x265_fullpath, src=SRC, logname=\"x265.log\",\\\n",
    "                          picbed=encode_picbed, metainfo=metainfo, tracks=SOUNDTRACK,gz=SUBTITLE_GZ,ack=ACKNOWLEDGEMENT))\n",
    "with open(f\"remux.bbcode.base64.txt\",\"w\") as f:\n",
    "    f.write(getbase64json(remux_fullpath, src=SRC, logname=\"\",\\\n",
    "                          picbed=remux_picbed, metainfo=metainfo, is_remux=True, tracks=SOUNDTRACK,gz=SUBTITLE_GZ,ack=ACKNOWLEDGEMENT))"
   ]
  },
  {
   "cell_type": "code",
   "execution_count": null,
   "metadata": {},
   "outputs": [],
   "source": []
  }
 ],
 "metadata": {
  "kernelspec": {
   "display_name": "Python 3",
   "language": "python",
   "name": "python3"
  },
  "language_info": {
   "codemirror_mode": {
    "name": "ipython",
    "version": 3
   },
   "file_extension": ".py",
   "mimetype": "text/x-python",
   "name": "python",
   "nbconvert_exporter": "python",
   "pygments_lexer": "ipython3",
   "version": "3.8.5"
  }
 },
 "nbformat": 4,
 "nbformat_minor": 4
}
