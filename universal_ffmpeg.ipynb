{
 "cells": [
  {
   "cell_type": "code",
   "execution_count": 5,
   "metadata": {},
   "outputs": [],
   "source": [
    "import os, re, subprocess, requests, json, random\n",
    "from pymediainfo import MediaInfo\n",
    "from datetime import datetime\n",
    "import subprocess\n",
    "from smms import *\n",
    "from utils import *\n",
    "crf=15.0\n",
    "qcomp=0.8\n",
    "aq_mode=3\n",
    "aq_s=0.8\n",
    "newline=\"\\r\\n\"\n",
    "\n",
    "PROCUCT_DEST_DIR=r'/home/lind/BT'\n",
    "\n",
    "#https://api.rhilip.info/ptgen.html\n",
    "DOUBAN_ID=\"34869495\"\n",
    "\n",
    "SRC=\"Umibe no Etranger 2020 V1 JPN Blu-Ray 1080p AVC DTS-HD MA 5.1-¿@PTHome \".replace(\" \",\".\")\n",
    "REMUX_DIRNAME=\"Umibe.no.Etranger.2020.Bluray.1080p.AVC.Remux.DTS-HD.MA.5.1-PTH\"\n",
    "ENCODE_FILENAME=\"Umibe.no.Etranger.2020.Bluray.1080p.REMUX.DTS-PTH.mkv\"\n",
    "MOVIE=os.path.join(PROCUCT_DEST_DIR, REMUX_DIRNAME, REMUX_DIRNAME+\".mkv\")\n",
    "\n",
    "ACKNOWLEDGEMENT='''1. 原盤來自dennis1011，感謝自購大佬\n",
    "2. 字幕來自SweetSub，感謝SweetSub字幕組\n",
    "'''\n",
    "\n",
    "SOUNDTRACK=\"【日语】【简|繁字幕】\"\n",
    "# SOUNDTRACK=\"【英语】【简|繁|简英|繁英|英字幕】\"\n",
    "\n",
    "SUBTITLE_GZ=1 #官字组\n",
    "\n",
    "LOG_DIR=os.getcwd()"
   ]
  },
  {
   "cell_type": "code",
   "execution_count": 3,
   "metadata": {},
   "outputs": [],
   "source": [
    "metainfo=getmetainfo(DOUBAN_ID)\n",
    "smms = SMMS('hzlclock', 'Hezl1996')\n",
    "smms.get_api_token()"
   ]
  },
  {
   "cell_type": "code",
   "execution_count": 4,
   "metadata": {},
   "outputs": [
    {
     "name": "stdout",
     "output_type": "stream",
     "text": [
      "0\n"
     ]
    },
    {
     "data": {
      "text/plain": [
       "'\\nbash x264.sh; bash x265.sh;bash remux.sh;\\n'"
      ]
     },
     "execution_count": 4,
     "metadata": {},
     "output_type": "execute_result"
    }
   ],
   "source": [
    "# crop=subprocess.getoutput(\"ffmpeg -i \"+MOVIE+\" -t 1 -vf cropdetect -f null - 2>&1\")\n",
    "#ffmpeg -i $MOVIE -t 1 -vf cropdetect -f null - 2>&1 | awk '/crop/ { print $NF }' | tail -1\n",
    "# try: crop=\"-filter:v \\\"\"+re.findall(r'crop=.*',crop)[-1]+\"\\\"\"\n",
    "# except: pass\n",
    "# MOVIE=r\"/sdcard/Freaky.2020.1080p.BluRay.REMUX.DTS-louco@PTH.mkv\"\n",
    "\n",
    "#deinterlace: yadif\n",
    "#denoise: hqdn3d\n",
    "# crop: crop=in_w-480:in_h,\n",
    "\n",
    "crop=\"\"\n",
    "# crop='-filter:v \"hqdn3d=12.0\"'\n",
    "# crop='-filter:v \"crop=in_w:in_h-280\"'\n",
    "test=\"\"\n",
    "\n",
    "#bt2020\n",
    "# hdrmeta='--colorprim 9 --colormatrix 9 --transfer 16 --hdr10 --max-cll \"800,279\" \\\n",
    "# --master-display G(8500,39850)B(6550,2300)R(35400,14600)WP(15635,16450)L(40000000,20)'\n",
    "#p3\n",
    "# hdrmeta='--colorprim 9 --colormatrix 9 --transfer 16 --hdr10 \\\n",
    "# --master-display G(13250,34500)B(7500,3000)R(34000,16000)WP(15635,16450)L(10000000,1)'\n",
    "hdrmeta=\"\"\n",
    "\n",
    "#--demuxer y4m --preset slower --profile high --level 4.1\n",
    "x264_stmt=f\"x264  --ref 4 \\\n",
    "--crf {crf} --qcomp {qcomp} --aq-mode {aq_mode} --aq-strength {aq_s} --bframes 11 --me umh  --subme 11 \\\n",
    "--merange 48 --no-fast-pskip --no-dct-decimate --direct auto --psy-rd 1.00:0.00 \\\n",
    "--vbv-bufsize 78125 --vbv-maxrate 62500 --deblock -3:-3 --b-adapt 2 --keyint 240 \\\n",
    "--min-keyint 1 --no-mbtree --trellis 2 --chroma-qp-offset -1 --rc-lookahead 72 --output 264.mkv -\"\n",
    "\n",
    "# --y4m -D 10 --profile main10 --level-idc 5.1 --high-tier --preset slower\n",
    "# --pools 12\n",
    "x265_stmt=f\"x265 \\\n",
    "--crf {crf} --qcomp {qcomp} --aq-mode {aq_mode} --aq-strength {aq_s} --pools 36 --numa 48 \\\n",
    "--rd 4 --psy-rd 2.0 --psy-rdoq 1.0 --rdoq-level 2 --deblock -1:-1 --cbqpoffs -1 --crqpoffs -3 --ctu 32 \\\n",
    "--qg-size 8 --no-sao --no-sao-non-deblock --selective-sao 0 --tu-intra-depth 4 --tu-inter-depth 4 --no-opt-qp-pps \\\n",
    "--no-opt-ref-list-length-pps --aud --repeat-headers --me 3 --subme 5 --merange 48 --b-intra --limit-tu 0 --no-rect \\\n",
    "--no-amp --no-open-gop --pools + --keyint 240 --min-keyint 1 --bframes 8 --max-merge 4 --ref 4 --weightb --rc-lookahead 72 \\\n",
    "--scenecut 40 --no-strong-intra-smoothing --vbv-bufsize 160000 --vbv-maxrate 160000 --input-depth 10 {hdrmeta} --output 265.mkv -\"\n",
    "\n",
    "# test=\"-ss 3700 -t 60\"\n",
    "\n",
    "_args=x264_stmt.replace(\" --\",\"\\n --\").split(\"\\n\")[1:-1]\n",
    "args=[]\n",
    "for i in _args:\n",
    "    newitem=i.strip().replace(\"--\",\"\").replace(\" \",\"=\").replace(\":\",\",\")\n",
    "    if \"=\" not in newitem:\n",
    "        newitem+=\"=1\"\n",
    "    args.append(newitem)\n",
    "# args=[i.strip().replace(\"--\",\"\").replace(\" \",\"=\").replace(\":\",\",\") for i in args]\n",
    "\n",
    "_args5=x265_stmt.replace(\" --\",\"\\n --\").split(\"\\n\")[1:-1]\n",
    "args5=[]\n",
    "for i in _args5:\n",
    "    newitem=i.strip().replace(\"--\",\"\").replace(\" \",\"=\").replace(\":\",\",\")\n",
    "    if \"=\" not in newitem:\n",
    "        newitem+=\"=1\"\n",
    "    args5.append(newitem)\n",
    "        \n",
    "# args5=[i.strip().replace(\"--\",\"\").replace(\" \",\"=\").replace(\":\",\",\") for i in args5]\n",
    "\n",
    "# x264_filename=\"\".join(re.findall(r'([^/\\\\]*$)', MOVIE)).replace(\"REMUX\", \"x264\")\n",
    "x264_filename=ENCODE_FILENAME.replace(\"REMUX\", \"x264\")\n",
    "x264_dirname=x264_filename.replace(\".mkv\",\"\")\n",
    "x264_fullpath=os.path.join(PROCUCT_DEST_DIR, x264_dirname, x264_filename)\n",
    "# x265_filename=\"\".join(re.findall(r'([^/\\\\]*$)', MOVIE)).replace(\"REMUX\", \"x265.10bit\")\n",
    "x265_filename=ENCODE_FILENAME.replace(\"REMUX\", \"x265.10bit\")\n",
    "x265_dirname=x265_filename.replace(\".mkv\",\"\")\n",
    "x265_fullpath=os.path.join(PROCUCT_DEST_DIR, x265_dirname, x265_filename)\n",
    "\n",
    "if not os.path.exists(os.path.join(PROCUCT_DEST_DIR, x264_dirname)):\n",
    "    os.mkdir(os.path.join(PROCUCT_DEST_DIR, x264_dirname))\n",
    "if not os.path.exists(os.path.join(PROCUCT_DEST_DIR, x265_dirname)):\n",
    "    os.mkdir(os.path.join(PROCUCT_DEST_DIR, x265_dirname))\n",
    "\n",
    "torrent264=f\"transmission-create -p -o {os.path.join(PROCUCT_DEST_DIR,x264_dirname)}.torrent -t https://www.pthome.net/announce.php \\\n",
    "{os.path.join(PROCUCT_DEST_DIR, x264_dirname)}\"\n",
    "torrent265=f\"transmission-create -p -o {os.path.join(PROCUCT_DEST_DIR,x265_dirname)}.torrent -t https://www.pthome.net/announce.php \\\n",
    "{os.path.join(PROCUCT_DEST_DIR, x265_dirname)}\"\n",
    "\n",
    "if \"DTS\" in REMUX_DIRNAME:\n",
    "    cmd264=f\"ffmpeg -y -c:a dca -core_only true {test} -i {MOVIE} -c:v libx264 \\\n",
    "-profile:v high {crop} -preset slower -x264-params '{':'.join(args)}' \\\n",
    "-max_muxing_queue_size 1024 -bsf:a dca_core -c:a copy -c:s copy -max_muxing_queue_size 1024 \\\n",
    "-map 0 -map -v -map V  -report {x264_fullpath} 2>&1 | tee x264.log \\n\\\n",
    "mkvpropedit {x264_fullpath} --add-track-statistics-tags\\n\"\n",
    "\n",
    "    cmd265=f\"ffmpeg -y -c:a dca -core_only true {test} -i {MOVIE} \\\n",
    "-pix_fmt yuv420p10le -c:v libx265 -profile:v main10 {crop} -preset slower -x265-params '{':'.join(args5)}' \\\n",
    "-max_muxing_queue_size 1024 -bsf:a dca_core -c:a copy -c:s copy -max_muxing_queue_size 1024 \\\n",
    "-map 0 -map -v -map V  -report {x265_fullpath} 2>&1 | tee x265.log \\n\\\n",
    "mkvpropedit {x265_fullpath} --add-track-statistics-tags\\n\"\n",
    "else:\n",
    "    cmd264=f\"ffmpeg -y {test} -i {MOVIE} -c:v libx264 \\\n",
    "-profile:v high {crop} -preset slower -x264-params '{':'.join(args)}' \\\n",
    "-max_muxing_queue_size 1024 -bsf:a dca_core -c:a dts -c:s copy -max_muxing_queue_size 1024 \\\n",
    "-map 0 -map -v -map V -strict -2 -report {x264_fullpath} 2>&1 | tee x264.log \\n\\\n",
    "mkvpropedit {x264_fullpath} --add-track-statistics-tags\\n\"\n",
    "\n",
    "    cmd265=f\"ffmpeg -y {test} -i {MOVIE} \\\n",
    "-pix_fmt yuv420p10le -c:v libx265 -profile:v main10 {crop} -preset slower -x265-params '{':'.join(args5)}' \\\n",
    "-max_muxing_queue_size 1024 -bsf:a dca_core -c:a dts  -c:s copy -max_muxing_queue_size 1024 \\\n",
    "-map 0 -map -v -map V -strict -2 -report {x265_fullpath} 2>&1 | tee x265.log \\n\\\n",
    "mkvpropedit {x265_fullpath} --add-track-statistics-tags\\n\"\n",
    "    \n",
    "print(len(test))\n",
    "if len(test)==0:\n",
    "    cmd264_2=get_captures(\"x264\",x264_fullpath)+\"\\n\"+torrent264+\"\\n\"\n",
    "    cmd265_2=get_captures(\"x265\",x265_fullpath)+\"\\n\"+torrent265+\"\\n\"\n",
    "else:\n",
    "    cmd264_2=\"\"\n",
    "    cmd265_2=\"\"\n",
    "    print(cmd265_2)\n",
    "\n",
    "\n",
    "    \n",
    "remux_fullpath=os.path.join(PROCUCT_DEST_DIR, REMUX_DIRNAME, REMUX_DIRNAME+\".mkv\")\n",
    "cmdremux=get_captures(\"REMUX\",remux_fullpath)\n",
    "cmdremux+=f\"transmission-create -p -o {PROCUCT_DEST_DIR}/{REMUX_DIRNAME}.torrent -t https://www.pthome.net/announce.php \\\n",
    "{os.path.join(PROCUCT_DEST_DIR, REMUX_DIRNAME)}\"\n",
    "\n",
    "# with open(\"x264.sh\",\"w\") as f:\n",
    "#     f.write(f\"export FFREPORT=file=x264.log:level=32\\n{cmd264}\\nunset FFREPORT\\n{cmd264_2}\")\n",
    "# with open(\"x265.sh\",\"w\") as f:\n",
    "#     f.write(f\"export FFREPORT=file=x265.log:level=32\\n{cmd265}\\nunset FFREPORT\\n{cmd265_2}\")\n",
    "# with open(\"x264.bat\",\"w\") as f:\n",
    "#     f.write(f\"SET FFREPORT=file=x264.log:level=32\\n{cmd264}\\nSET \\\"FFREPORT=\\\"\\n{cmd264_2}\")\n",
    "# with open(\"x265.bat\",\"w\") as f:\n",
    "#     f.write(f\"SET FFREPORT=file=x265.log:level=32\\n{cmd265}\\nSET \\\"FFREPORT=\\\"\\n{cmd265_2}\")    \n",
    "\n",
    "with open(\"x264.sh\",\"w\") as f:\n",
    "    f.write(f\"{cmd264}\\n{cmd264_2}\")\n",
    "with open(\"x265.sh\",\"w\") as f:\n",
    "    f.write(f\"{cmd265}\\n{cmd265_2}\")\n",
    "with open(\"x264.bat\",\"w\") as f:\n",
    "    f.write(f\"{cmd264}\\n{cmd264_2}\")\n",
    "with open(\"x265.bat\",\"w\") as f:\n",
    "    f.write(f\"{cmd265}\\n{cmd265_2}\") \n",
    "    \n",
    "with open(\"remux.sh\",\"w\") as f:\n",
    "    f.write(cmdremux)\n",
    "with open(\"remux.bat\",\"w\") as f:\n",
    "    f.write(cmdremux)\n",
    "    \n",
    "'''\n",
    "bash x264.sh; bash x265.sh;bash remux.sh;\n",
    "'''\n",
    "\n",
    "#ffmpeg -i dest.mkv -i remux.mkv -map 0:v -map 0:s -map 1:a -c:v copy -c:a dts -strict -2 dtsout.mkv\n"
   ]
  },
  {
   "cell_type": "code",
   "execution_count": 6,
   "metadata": {},
   "outputs": [
    {
     "name": "stdout",
     "output_type": "stream",
     "text": [
      "===UPLOAD===\n",
      "https://i.loli.net/2021/04/08/MHDOwYn5BtVNPhf.jpg\n",
      "https://i.loli.net/2021/04/08/YybwOV6mDcrqSWe.jpg\n",
      "https://i.loli.net/2021/04/08/2gceRFlVukOQPsf.jpg\n",
      "https://i.loli.net/2021/04/08/xl7wip2AX8YfnWu.jpg\n",
      "https://i.loli.net/2021/04/08/k8BuSTWmI9ocEpq.jpg\n",
      "https://i.loli.net/2021/04/08/MPp64xEB3ZKVaQm.jpg\n"
     ]
    }
   ],
   "source": [
    "encode_picbed=upload_folder(\"x265_captures\",smms)"
   ]
  },
  {
   "cell_type": "code",
   "execution_count": 7,
   "metadata": {},
   "outputs": [
    {
     "name": "stdout",
     "output_type": "stream",
     "text": [
      "===UPLOAD===\n",
      "https://i.loli.net/2021/04/08/VlWzvFjkx238IUa.jpg\n",
      "https://i.loli.net/2021/04/08/GaNCgvHSm1cin9T.jpg\n",
      "https://i.loli.net/2021/04/08/Us9cClzywmX2RVh.jpg\n",
      "https://i.loli.net/2021/04/08/nPRwirguvMIU7mT.jpg\n",
      "https://i.loli.net/2021/04/08/OvulGjeq2AgWiSx.jpg\n",
      "https://i.loli.net/2021/04/08/NsgMavKto12QBwD.jpg\n"
     ]
    }
   ],
   "source": [
    "remux_picbed=upload_folder(\"REMUX_captures\",smms)"
   ]
  },
  {
   "cell_type": "code",
   "execution_count": 8,
   "metadata": {},
   "outputs": [
    {
     "name": "stdout",
     "output_type": "stream",
     "text": [
      "Title: /home/lind/BT/Umibe no Etranger 2020 Bluray 1080p x264 DTS-PTH/Umibe no Etranger 2020 Bluray 1080p x264 DTS-PTH mkv\n",
      "Title: /home/lind/BT/Umibe no Etranger 2020 Bluray 1080p x265 10bit DTS-PTH/Umibe no Etranger 2020 Bluray 1080p x265 10bit DTS-PTH mkv\n",
      "Title: /home/lind/BT/Umibe no Etranger 2020 Bluray 1080p AVC Remux DTS-HD MA 5 1-PTH/Umibe no Etranger 2020 Bluray 1080p AVC Remux DTS-HD MA 5 1-PTH mkv\n"
     ]
    }
   ],
   "source": [
    "# del get_bbcode\n",
    "with open(f\"x264.bbcode.txt\",\"w\") as f:\n",
    "    f.write(get_bbcode(x264_fullpath, src=SRC, logname=\"x264.log\", picbed=encode_picbed, metainfo=metainfo,ack=ACKNOWLEDGEMENT))\n",
    "with open(f\"x265.bbcode.txt\",\"w\") as f:\n",
    "    f.write(get_bbcode(x265_fullpath, src=SRC, logname=\"x265.log\", picbed=encode_picbed, metainfo=metainfo,ack=ACKNOWLEDGEMENT))\n",
    "with open(f\"remux.bbcode.txt\",\"w\") as f:\n",
    "    f.write(get_bbcode(remux_fullpath, src=SRC, picbed=encode_picbed, metainfo=metainfo,ack=ACKNOWLEDGEMENT))"
   ]
  },
  {
   "cell_type": "code",
   "execution_count": 9,
   "metadata": {},
   "outputs": [
    {
     "name": "stdout",
     "output_type": "stream",
     "text": [
      "Title: /home/lind/BT/Umibe no Etranger 2020 Bluray 1080p x264 DTS-PTH/Umibe no Etranger 2020 Bluray 1080p x264 DTS-PTH mkv\n",
      "Title: /home/lind/BT/Umibe no Etranger 2020 Bluray 1080p x265 10bit DTS-PTH/Umibe no Etranger 2020 Bluray 1080p x265 10bit DTS-PTH mkv\n",
      "Title: /home/lind/BT/Umibe no Etranger 2020 Bluray 1080p AVC Remux DTS-HD MA 5 1-PTH/Umibe no Etranger 2020 Bluray 1080p AVC Remux DTS-HD MA 5 1-PTH mkv\n"
     ]
    }
   ],
   "source": [
    "with open(f\"x264.bbcode.base64.txt\",\"w\") as f:\n",
    "    f.write(getbase64json(x264_fullpath, src=SRC, logname=\"x264.log\",\\\n",
    "                          picbed=encode_picbed, metainfo=metainfo, tracks=SOUNDTRACK,gz=SUBTITLE_GZ,ack=ACKNOWLEDGEMENT))\n",
    "with open(f\"x265.bbcode.base64.txt\",\"w\") as f:\n",
    "    f.write(getbase64json(x265_fullpath, src=SRC, logname=\"x265.log\",\\\n",
    "                          picbed=encode_picbed, metainfo=metainfo, tracks=SOUNDTRACK,gz=SUBTITLE_GZ,ack=ACKNOWLEDGEMENT))\n",
    "with open(f\"remux.bbcode.base64.txt\",\"w\") as f:\n",
    "    f.write(getbase64json(remux_fullpath, src=SRC, logname=\"\",\\\n",
    "                          picbed=remux_picbed, metainfo=metainfo, is_remux=True, tracks=SOUNDTRACK,gz=SUBTITLE_GZ,ack=ACKNOWLEDGEMENT))"
   ]
  },
  {
   "cell_type": "code",
   "execution_count": null,
   "metadata": {},
   "outputs": [],
   "source": []
  },
  {
   "cell_type": "code",
   "execution_count": null,
   "metadata": {},
   "outputs": [],
   "source": []
  },
  {
   "cell_type": "code",
   "execution_count": null,
   "metadata": {},
   "outputs": [],
   "source": []
  },
  {
   "cell_type": "code",
   "execution_count": null,
   "metadata": {},
   "outputs": [],
   "source": []
  }
 ],
 "metadata": {
  "kernelspec": {
   "display_name": "Python 3",
   "language": "python",
   "name": "python3"
  },
  "language_info": {
   "codemirror_mode": {
    "name": "ipython",
    "version": 3
   },
   "file_extension": ".py",
   "mimetype": "text/x-python",
   "name": "python",
   "nbconvert_exporter": "python",
   "pygments_lexer": "ipython3",
   "version": "3.8.5"
  }
 },
 "nbformat": 4,
 "nbformat_minor": 4
}
