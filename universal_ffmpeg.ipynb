{
 "cells": [
  {
   "cell_type": "code",
   "execution_count": 21,
   "metadata": {},
   "outputs": [],
   "source": [
    "import os, pyperclip, re, subprocess, requests, json, random\n",
    "from pymediainfo import MediaInfo\n",
    "from datetime import datetime\n",
    "import subprocess\n",
    "from smms import *\n",
    "from utils import *\n",
    "crf=21.0\n",
    "qcomp=0.6\n",
    "aq_mode=3\n",
    "aq_s=0.7\n",
    "newline=\"\\r\\n\"\n",
    "\n",
    "# PROCUCT_DEST_DIR=r\"/home/qianyi/Downloads/\"\n",
    "PROCUCT_DEST_DIR=r'E:\\BT'\n",
    "# MOVIE=r\"/BT/The.Villainess.2017.1080p.Blu-ray.REMUX.DTS-PTH.mkv\"\n",
    "\n",
    "#https://api.rhilip.info/ptgen.html\n",
    "DOUBAN_ID=\"1293793\"\n",
    "\n",
    "SRC=\"The.Limey.1999.2160p.UHD.Blu-ray.HEVC.DTS-HD.MA.5.1-TPKHD@PTHome\".replace(\" \",\".\")\n",
    "REMUX_DIRNAME=\"The.Limey.1999.2160p.UHD.Blu-ray.HEVC.REMUX.DTS-HD.MA.5.1-PTH\"\n",
    "ENCODE_FILENAME=\"The.Limey.1999.2160p.UHD.Blu-ray.REMUX.DTS-PTH.mkv\"\n",
    "MOVIE=os.path.join(PROCUCT_DEST_DIR, REMUX_DIRNAME, REMUX_DIRNAME+\".mkv\")\n",
    "\n",
    "ACKNOWLEDGEMENT='''原盘@BLIMEY，字幕素材@字幕库，感谢原发布者。\n",
    "由PTHome字幕组@TPKHD完成校对、调整及特效处理。\n",
    "'''\n",
    "\n",
    "# SOUNDTRACK=\"\"\n",
    "SOUNDTRACK=\"【法语】【简|繁|法字幕】\"\n",
    "# SOUNDTRACK=\"【韩语】【简|繁|简英|繁英|英字幕】\"\n",
    "\n",
    "SUBTITLE_GZ=1 #官字组\n",
    "\n",
    "LOG_DIR=os.getcwd()"
   ]
  },
  {
   "cell_type": "code",
   "execution_count": 2,
   "metadata": {},
   "outputs": [],
   "source": [
    "metainfo=getmetainfo(DOUBAN_ID)\n",
    "smms = SMMS('hzlclock', 'Hezl1996')\n",
    "smms.get_api_token()"
   ]
  },
  {
   "cell_type": "code",
   "execution_count": 23,
   "metadata": {},
   "outputs": [
    {
     "name": "stdout",
     "output_type": "stream",
     "text": [
      "0\n"
     ]
    }
   ],
   "source": [
    "# crop=subprocess.getoutput(\"ffmpeg -i \"+MOVIE+\" -t 1 -vf cropdetect -f null - 2>&1\")\n",
    "#ffmpeg -i $MOVIE -t 1 -vf cropdetect -f null - 2>&1 | awk '/crop/ { print $NF }' | tail -1\n",
    "# try: crop=\"-filter:v \\\"\"+re.findall(r'crop=.*',crop)[-1]+\"\\\"\"\n",
    "# except: pass\n",
    "# MOVIE=r\"/sdcard/Freaky.2020.1080p.BluRay.REMUX.DTS-louco@PTH.mkv\"\n",
    "\n",
    "#deinterlace: yadif\n",
    "#denoise: hqdn3d\n",
    "# crop: crop=in_w-480:in_h,\n",
    "\n",
    "crop=\"\"\n",
    "# crop='-filter:v \"hqdn3d=12.0\"'\n",
    "# crop='-filter:v \"crop=in_w:in_h-560\"'\n",
    "test=\"\"\n",
    "\n",
    "#bt2020\n",
    "# hdrmeta='--colorprim 9 --colormatrix 9 --transfer 16 --hdr10 --max-cll \"800,279\" \\\n",
    "# --master-display G(8500,39850)B(6550,2300)R(35400,14600)WP(15635,16450)L(40000000,20)'\n",
    "#p3\n",
    "hdrmeta='--colorprim 9 --colormatrix 9 --transfer 16 --hdr10 \\\n",
    "--master-display G(13250,34500)B(7500,3000)R(34000,16000)WP(15635,16450)L(10000000,1)'\n",
    "\n",
    "#--demuxer y4m --preset slower --profile high --level 4.1\n",
    "x264_stmt=f\"x264  --ref 4 \\\n",
    "--crf {crf} --qcomp {qcomp} --aq-mode {aq_mode} --aq-strength {aq_s} --bframes 11 --me umh  --subme 11 \\\n",
    "--merange 48 --no-fast-pskip --no-dct-decimate --direct auto --psy-rd 1.00:0.00 \\\n",
    "--vbv-bufsize 78125 --vbv-maxrate 62500 --deblock -3:-3 --b-adapt 2 --keyint 240 \\\n",
    "--min-keyint 1 --no-mbtree --trellis 2 --chroma-qp-offset -1 --rc-lookahead 72 --output 264.mkv -\"\n",
    "\n",
    "# --y4m -D 10 --profile main10 --level-idc 5.1 --high-tier --preset slower\n",
    "# --pools 12\n",
    "x265_stmt=f\"x265 \\\n",
    "--crf {crf} --qcomp {qcomp} --aq-mode {aq_mode} --aq-strength {aq_s} --pools 36 --numa 48 \\\n",
    "--rd 4 --psy-rd 2.0 --psy-rdoq 1.0 --rdoq-level 2 --deblock -1:-1 --cbqpoffs -1 --crqpoffs -3 --ctu 32 \\\n",
    "--qg-size 8 --no-sao --no-sao-non-deblock --selective-sao 0 --tu-intra-depth 4 --tu-inter-depth 4 --no-opt-qp-pps \\\n",
    "--no-opt-ref-list-length-pps --aud --repeat-headers --me 3 --subme 5 --merange 48 --b-intra --limit-tu 0 --no-rect \\\n",
    "--no-amp --no-open-gop --pools + --keyint 240 --min-keyint 1 --bframes 8 --max-merge 4 --ref 4 --weightb --rc-lookahead 72 \\\n",
    "--scenecut 40 --no-strong-intra-smoothing --vbv-bufsize 160000 --vbv-maxrate 160000 --input-depth 10 {hdrmeta} --output 265.mkv -\"\n",
    "\n",
    "# test=\"-ss 3700 -t 60\"\n",
    "\n",
    "_args=x264_stmt.replace(\" --\",\"\\n --\").split(\"\\n\")[1:-1]\n",
    "args=[]\n",
    "for i in _args:\n",
    "    newitem=i.strip().replace(\"--\",\"\").replace(\" \",\"=\").replace(\":\",\",\")\n",
    "    if \"=\" not in newitem:\n",
    "        newitem+=\"=1\"\n",
    "    args.append(newitem)\n",
    "# args=[i.strip().replace(\"--\",\"\").replace(\" \",\"=\").replace(\":\",\",\") for i in args]\n",
    "\n",
    "_args5=x265_stmt.replace(\" --\",\"\\n --\").split(\"\\n\")[1:-1]\n",
    "args5=[]\n",
    "for i in _args5:\n",
    "    newitem=i.strip().replace(\"--\",\"\").replace(\" \",\"=\").replace(\":\",\",\")\n",
    "    if \"=\" not in newitem:\n",
    "        newitem+=\"=1\"\n",
    "    args5.append(newitem)\n",
    "        \n",
    "# args5=[i.strip().replace(\"--\",\"\").replace(\" \",\"=\").replace(\":\",\",\") for i in args5]\n",
    "\n",
    "# x264_filename=\"\".join(re.findall(r'([^/\\\\]*$)', MOVIE)).replace(\"REMUX\", \"x264\")\n",
    "x264_filename=ENCODE_FILENAME.replace(\"REMUX\", \"x264\")\n",
    "x264_dirname=x264_filename.replace(\".mkv\",\"\")\n",
    "x264_fullpath=os.path.join(PROCUCT_DEST_DIR, x264_dirname, x264_filename)\n",
    "# x265_filename=\"\".join(re.findall(r'([^/\\\\]*$)', MOVIE)).replace(\"REMUX\", \"x265.10bit\")\n",
    "x265_filename=ENCODE_FILENAME.replace(\"REMUX\", \"x265.10bit\")\n",
    "x265_dirname=x265_filename.replace(\".mkv\",\"\")\n",
    "x265_fullpath=os.path.join(PROCUCT_DEST_DIR, x265_dirname, x265_filename)\n",
    "\n",
    "if not os.path.exists(os.path.join(PROCUCT_DEST_DIR, x264_dirname)):\n",
    "    os.mkdir(os.path.join(PROCUCT_DEST_DIR, x264_dirname))\n",
    "if not os.path.exists(os.path.join(PROCUCT_DEST_DIR, x265_dirname)):\n",
    "    os.mkdir(os.path.join(PROCUCT_DEST_DIR, x265_dirname))\n",
    "\n",
    "torrent264=f\"transmission-create -p -o {os.path.join(PROCUCT_DEST_DIR,x264_dirname)}.torrent -t https://www.pthome.net/announce.php \\\n",
    "{os.path.join(PROCUCT_DEST_DIR, x264_dirname)}\"\n",
    "torrent265=f\"transmission-create -p -o {os.path.join(PROCUCT_DEST_DIR,x265_dirname)}.torrent -t https://www.pthome.net/announce.php \\\n",
    "{os.path.join(PROCUCT_DEST_DIR, x265_dirname)}\"\n",
    "\n",
    "cmd264=f\"ffmpeg -hwaccel nvdec -c:a dca -core_only true {test} -i {MOVIE} -c:v libx264 \\\n",
    "-profile:v high {crop} -preset slower -x264-params {':'.join(args)} \\\n",
    "-max_muxing_queue_size 1024 -bsf:a dca_core -c:a copy -c:s copy -max_muxing_queue_size 1024 \\\n",
    "-map 0 -map -v -map V -report {x264_fullpath} 2>&1 | wtee x264.log \\n\\\n",
    "mkvpropedit {x264_fullpath} --add-track-statistics-tags\\n\"\n",
    "\n",
    "cmd265=f\"ffmpeg -hwaccel nvdec -c:a dca -core_only true {test} -i {MOVIE} \\\n",
    "-pix_fmt yuv420p10le -c:v libx265 -profile:v main10 {crop} -preset slower -x265-params {':'.join(args5)} \\\n",
    "-max_muxing_queue_size 1024 -bsf:a dca_core -c:a copy -c:s copy -max_muxing_queue_size 1024 \\\n",
    "-map 0 -map -v -map V -report {x265_fullpath} 2>&1 | wtee x265.log \\n\\\n",
    "mkvpropedit {x265_fullpath} --add-track-statistics-tags\\n\"\n",
    "\n",
    "print(len(test))\n",
    "if len(test)==0:\n",
    "    cmd264_2=get_captures(\"x264\",x264_fullpath)+\"\\n\"+torrent264+\"\\n\"\n",
    "    cmd265_2=get_captures(\"x265\",x265_fullpath)+\"\\n\"+torrent265+\"\\n\"\n",
    "else:\n",
    "    cmd264_2=\"\"\n",
    "    cmd265_2=\"\"\n",
    "    print(cmd265_2)\n",
    "\n",
    "\n",
    "    \n",
    "remux_fullpath=os.path.join(PROCUCT_DEST_DIR, REMUX_DIRNAME, REMUX_DIRNAME+\".mkv\")\n",
    "cmdremux=get_captures(\"REMUX\",remux_fullpath)\n",
    "cmdremux+=f\"transmission-create -p -o {PROCUCT_DEST_DIR}/{REMUX_DIRNAME}.torrent -t https://www.pthome.net/announce.php \\\n",
    "{os.path.join(PROCUCT_DEST_DIR, REMUX_DIRNAME)}\"\n",
    "\n",
    "# with open(\"x264.sh\",\"w\") as f:\n",
    "#     f.write(f\"export FFREPORT=file=x264.log:level=32\\n{cmd264}\\nunset FFREPORT\\n{cmd264_2}\")\n",
    "# with open(\"x265.sh\",\"w\") as f:\n",
    "#     f.write(f\"export FFREPORT=file=x265.log:level=32\\n{cmd265}\\nunset FFREPORT\\n{cmd265_2}\")\n",
    "# with open(\"x264.bat\",\"w\") as f:\n",
    "#     f.write(f\"SET FFREPORT=file=x264.log:level=32\\n{cmd264}\\nSET \\\"FFREPORT=\\\"\\n{cmd264_2}\")\n",
    "# with open(\"x265.bat\",\"w\") as f:\n",
    "#     f.write(f\"SET FFREPORT=file=x265.log:level=32\\n{cmd265}\\nSET \\\"FFREPORT=\\\"\\n{cmd265_2}\")    \n",
    "\n",
    "with open(\"x264.sh\",\"w\") as f:\n",
    "    f.write(f\"export FFREPORT=file=x264.log:level=32\\n{cmd264}\\nunset FFREPORT\\n{cmd264_2}\")\n",
    "with open(\"x265.sh\",\"w\") as f:\n",
    "    f.write(f\"export FFREPORT=file=x265.log:level=32\\n{cmd265}\\nunset FFREPORT\\n{cmd265_2}\")\n",
    "with open(\"x264.bat\",\"w\") as f:\n",
    "    f.write(f\"{cmd264}\\n{cmd264_2}\")\n",
    "with open(\"x265.bat\",\"w\") as f:\n",
    "    f.write(f\"{cmd265}\\n{cmd265_2}\") \n",
    "    \n",
    "with open(\"remux.sh\",\"w\") as f:\n",
    "    f.write(cmdremux)\n",
    "with open(\"remux.bat\",\"w\") as f:\n",
    "    f.write(cmdremux)\n",
    "\n"
   ]
  },
  {
   "cell_type": "code",
   "execution_count": 4,
   "metadata": {},
   "outputs": [
    {
     "name": "stdout",
     "output_type": "stream",
     "text": [
      "===UPLOAD===\n",
      "https://i.loli.net/2021/02/25/TfQRAaxvl3SoGU4.jpg\n",
      "https://i.loli.net/2021/02/25/9AN8hdswvu3HixU.jpg\n",
      "https://i.loli.net/2021/02/25/6kpu7acesKfDhxq.jpg\n",
      "https://i.loli.net/2021/02/25/MLqtRWYxNAydoB4.jpg\n",
      "https://i.loli.net/2021/02/25/kVLSuT2ciPHgn38.jpg\n",
      "https://i.loli.net/2021/02/25/5p6h8GikBejVx4t.jpg\n"
     ]
    }
   ],
   "source": [
    "encode_picbed=upload_folder(\"x264_captures\",smms)"
   ]
  },
  {
   "cell_type": "code",
   "execution_count": 5,
   "metadata": {},
   "outputs": [
    {
     "name": "stdout",
     "output_type": "stream",
     "text": [
      "===UPLOAD===\n",
      "https://i.loli.net/2021/02/25/IFOcyaDtwh5xnTz.jpg\n",
      "https://i.loli.net/2021/02/25/MTYOSp1Z8BxCREX.jpg\n",
      "https://i.loli.net/2021/02/25/UpzW1YDXbIovlFR.jpg\n",
      "https://i.loli.net/2021/02/25/uxoaSN8QbZEiyhC.jpg\n",
      "https://i.loli.net/2021/02/25/iUyHnZMgxPl9WLq.jpg\n",
      "https://i.loli.net/2021/02/25/s27E9IxnfPBiwau.jpg\n"
     ]
    }
   ],
   "source": [
    "remux_picbed=upload_folder(\"REMUX_captures\",smms)"
   ]
  },
  {
   "cell_type": "code",
   "execution_count": 6,
   "metadata": {},
   "outputs": [
    {
     "name": "stdout",
     "output_type": "stream",
     "text": [
      "Title: E:\\BT\\Glass 2019 2160p EUR UHD Blu-ray x264 TrueHD 7 1 Atmos-PTH\\Glass 2019 2160p EUR UHD Blu-ray x264 TrueHD 7 1 Atmos-PTH mkv\n"
     ]
    },
    {
     "ename": "FileNotFoundError",
     "evalue": "E:\\BT\\Glass.2019.2160p.EUR.UHD.Blu-ray.x264.TrueHD.7.1.Atmos-PTH\\Glass.2019.2160p.EUR.UHD.Blu-ray.x264.TrueHD.7.1.Atmos-PTH.mkv",
     "output_type": "error",
     "traceback": [
      "\u001b[1;31m---------------------------------------------------------------------------\u001b[0m",
      "\u001b[1;31mFileNotFoundError\u001b[0m                         Traceback (most recent call last)",
      "\u001b[1;32m<ipython-input-6-fcbee207830e>\u001b[0m in \u001b[0;36m<module>\u001b[1;34m\u001b[0m\n\u001b[0;32m      1\u001b[0m \u001b[1;31m# del get_bbcode\u001b[0m\u001b[1;33m\u001b[0m\u001b[1;33m\u001b[0m\u001b[1;33m\u001b[0m\u001b[0m\n\u001b[0;32m      2\u001b[0m \u001b[1;32mwith\u001b[0m \u001b[0mopen\u001b[0m\u001b[1;33m(\u001b[0m\u001b[1;34mf\"x264.bbcode.txt\"\u001b[0m\u001b[1;33m,\u001b[0m\u001b[1;34m\"w\"\u001b[0m\u001b[1;33m)\u001b[0m \u001b[1;32mas\u001b[0m \u001b[0mf\u001b[0m\u001b[1;33m:\u001b[0m\u001b[1;33m\u001b[0m\u001b[1;33m\u001b[0m\u001b[0m\n\u001b[1;32m----> 3\u001b[1;33m     \u001b[0mf\u001b[0m\u001b[1;33m.\u001b[0m\u001b[0mwrite\u001b[0m\u001b[1;33m(\u001b[0m\u001b[0mget_bbcode\u001b[0m\u001b[1;33m(\u001b[0m\u001b[0mx264_fullpath\u001b[0m\u001b[1;33m,\u001b[0m \u001b[0msrc\u001b[0m\u001b[1;33m=\u001b[0m\u001b[0mSRC\u001b[0m\u001b[1;33m,\u001b[0m \u001b[0mlogname\u001b[0m\u001b[1;33m=\u001b[0m\u001b[1;34m\"x264.log\"\u001b[0m\u001b[1;33m,\u001b[0m \u001b[0mpicbed\u001b[0m\u001b[1;33m=\u001b[0m\u001b[0mencode_picbed\u001b[0m\u001b[1;33m,\u001b[0m \u001b[0mmetainfo\u001b[0m\u001b[1;33m=\u001b[0m\u001b[0mmetainfo\u001b[0m\u001b[1;33m,\u001b[0m\u001b[0mack\u001b[0m\u001b[1;33m=\u001b[0m\u001b[0mACKNOWLEDGEMENT\u001b[0m\u001b[1;33m)\u001b[0m\u001b[1;33m)\u001b[0m\u001b[1;33m\u001b[0m\u001b[1;33m\u001b[0m\u001b[0m\n\u001b[0m\u001b[0;32m      4\u001b[0m \u001b[1;32mwith\u001b[0m \u001b[0mopen\u001b[0m\u001b[1;33m(\u001b[0m\u001b[1;34mf\"x265.bbcode.txt\"\u001b[0m\u001b[1;33m,\u001b[0m\u001b[1;34m\"w\"\u001b[0m\u001b[1;33m)\u001b[0m \u001b[1;32mas\u001b[0m \u001b[0mf\u001b[0m\u001b[1;33m:\u001b[0m\u001b[1;33m\u001b[0m\u001b[1;33m\u001b[0m\u001b[0m\n\u001b[0;32m      5\u001b[0m     \u001b[0mf\u001b[0m\u001b[1;33m.\u001b[0m\u001b[0mwrite\u001b[0m\u001b[1;33m(\u001b[0m\u001b[0mget_bbcode\u001b[0m\u001b[1;33m(\u001b[0m\u001b[0mx265_fullpath\u001b[0m\u001b[1;33m,\u001b[0m \u001b[0msrc\u001b[0m\u001b[1;33m=\u001b[0m\u001b[0mSRC\u001b[0m\u001b[1;33m,\u001b[0m \u001b[0mlogname\u001b[0m\u001b[1;33m=\u001b[0m\u001b[1;34m\"x265.log\"\u001b[0m\u001b[1;33m,\u001b[0m \u001b[0mpicbed\u001b[0m\u001b[1;33m=\u001b[0m\u001b[0mencode_picbed\u001b[0m\u001b[1;33m,\u001b[0m \u001b[0mmetainfo\u001b[0m\u001b[1;33m=\u001b[0m\u001b[0mmetainfo\u001b[0m\u001b[1;33m,\u001b[0m\u001b[0mack\u001b[0m\u001b[1;33m=\u001b[0m\u001b[0mACKNOWLEDGEMENT\u001b[0m\u001b[1;33m)\u001b[0m\u001b[1;33m)\u001b[0m\u001b[1;33m\u001b[0m\u001b[1;33m\u001b[0m\u001b[0m\n",
      "\u001b[1;32mE:\\BT\\qb_profile\\x264-265-batch-compressor\\utils.py\u001b[0m in \u001b[0;36mget_bbcode\u001b[1;34m(file, src, logname, picbed, metainfo, ack)\u001b[0m\n\u001b[0;32m    133\u001b[0m \u001b[0m在此感谢各位原作者及分享者\u001b[0m\u001b[0;31m！\u001b[0m\u001b[0m如有侵权请联系删除\u001b[0m\u001b[0;31m！\u001b[0m\u001b[1;33m\u001b[0m\u001b[1;33m\u001b[0m\u001b[0m\n\u001b[0;32m    134\u001b[0m \u001b[1;33m[\u001b[0m\u001b[1;33m/\u001b[0m\u001b[0mquote\u001b[0m\u001b[1;33m]\u001b[0m\u001b[1;33m\u001b[0m\u001b[1;33m\u001b[0m\u001b[0m\n\u001b[1;32m--> 135\u001b[1;33m '''+f'{metainfo[\"format\"]}\\n{generate_videoinfo(file,logname,src=src)}\\n{picbed}\\n{get_mediainfo(file)}'\n\u001b[0m\u001b[0;32m    136\u001b[0m     \u001b[1;32mreturn\u001b[0m \u001b[0mbbcode\u001b[0m\u001b[1;33m\u001b[0m\u001b[1;33m\u001b[0m\u001b[0m\n\u001b[0;32m    137\u001b[0m \u001b[1;33m\u001b[0m\u001b[0m\n",
      "\u001b[1;32mE:\\BT\\qb_profile\\x264-265-batch-compressor\\utils.py\u001b[0m in \u001b[0;36mgenerate_videoinfo\u001b[1;34m(filename, logname, src)\u001b[0m\n\u001b[0;32m     23\u001b[0m \u001b[1;33m\u001b[0m\u001b[0m\n\u001b[0;32m     24\u001b[0m \u001b[1;32mdef\u001b[0m \u001b[0mgenerate_videoinfo\u001b[0m\u001b[1;33m(\u001b[0m\u001b[0mfilename\u001b[0m\u001b[1;33m,\u001b[0m \u001b[0mlogname\u001b[0m\u001b[1;33m=\u001b[0m\u001b[1;34m\"\"\u001b[0m\u001b[1;33m,\u001b[0m \u001b[0msrc\u001b[0m\u001b[1;33m=\u001b[0m\u001b[1;34m\"\"\u001b[0m\u001b[1;33m)\u001b[0m\u001b[1;33m:\u001b[0m\u001b[1;33m\u001b[0m\u001b[1;33m\u001b[0m\u001b[0m\n\u001b[1;32m---> 25\u001b[1;33m     \u001b[0mmedia_info\u001b[0m \u001b[1;33m=\u001b[0m \u001b[0mMediaInfo\u001b[0m\u001b[1;33m.\u001b[0m\u001b[0mparse\u001b[0m\u001b[1;33m(\u001b[0m\u001b[0mfilename\u001b[0m\u001b[1;33m)\u001b[0m\u001b[1;33m\u001b[0m\u001b[1;33m\u001b[0m\u001b[0m\n\u001b[0m\u001b[0;32m     26\u001b[0m     \u001b[1;32mfor\u001b[0m \u001b[0mt\u001b[0m \u001b[1;32min\u001b[0m \u001b[0mmedia_info\u001b[0m\u001b[1;33m.\u001b[0m\u001b[0mvideo_tracks\u001b[0m\u001b[1;33m:\u001b[0m\u001b[1;33m\u001b[0m\u001b[1;33m\u001b[0m\u001b[0m\n\u001b[0;32m     27\u001b[0m         \u001b[0mprops\u001b[0m\u001b[1;33m=\u001b[0m\u001b[0mnullabledict\u001b[0m\u001b[1;33m(\u001b[0m\u001b[0mt\u001b[0m\u001b[1;33m.\u001b[0m\u001b[0mto_data\u001b[0m\u001b[1;33m(\u001b[0m\u001b[1;33m)\u001b[0m\u001b[1;33m)\u001b[0m\u001b[1;33m\u001b[0m\u001b[1;33m\u001b[0m\u001b[0m\n",
      "\u001b[1;32m~\\miniconda3\\lib\\site-packages\\pymediainfo\\__init__.py\u001b[0m in \u001b[0;36mparse\u001b[1;34m(cls, filename, library_file, cover_data, encoding_errors, parse_speed, full, legacy_stream_display, mediainfo_options, output)\u001b[0m\n\u001b[0;32m    482\u001b[0m                 \u001b[1;31m# If filename doesn't look like a URL and doesn't exist\u001b[0m\u001b[1;33m\u001b[0m\u001b[1;33m\u001b[0m\u001b[1;33m\u001b[0m\u001b[0m\n\u001b[0;32m    483\u001b[0m                 \u001b[1;32mif\u001b[0m \u001b[1;34m\"://\"\u001b[0m \u001b[1;32mnot\u001b[0m \u001b[1;32min\u001b[0m \u001b[0mfilename\u001b[0m \u001b[1;32mand\u001b[0m \u001b[1;32mnot\u001b[0m \u001b[0mos\u001b[0m\u001b[1;33m.\u001b[0m\u001b[0mpath\u001b[0m\u001b[1;33m.\u001b[0m\u001b[0mexists\u001b[0m\u001b[1;33m(\u001b[0m\u001b[0mfilename\u001b[0m\u001b[1;33m)\u001b[0m\u001b[1;33m:\u001b[0m\u001b[1;33m\u001b[0m\u001b[1;33m\u001b[0m\u001b[0m\n\u001b[1;32m--> 484\u001b[1;33m                     \u001b[1;32mraise\u001b[0m \u001b[0mFileNotFoundError\u001b[0m\u001b[1;33m(\u001b[0m\u001b[0mfilename\u001b[0m\u001b[1;33m)\u001b[0m\u001b[1;33m\u001b[0m\u001b[1;33m\u001b[0m\u001b[0m\n\u001b[0m\u001b[0;32m    485\u001b[0m                 \u001b[1;31m# We ran into another kind of error\u001b[0m\u001b[1;33m\u001b[0m\u001b[1;33m\u001b[0m\u001b[1;33m\u001b[0m\u001b[0m\n\u001b[0;32m    486\u001b[0m                 raise RuntimeError(\n",
      "\u001b[1;31mFileNotFoundError\u001b[0m: E:\\BT\\Glass.2019.2160p.EUR.UHD.Blu-ray.x264.TrueHD.7.1.Atmos-PTH\\Glass.2019.2160p.EUR.UHD.Blu-ray.x264.TrueHD.7.1.Atmos-PTH.mkv"
     ]
    }
   ],
   "source": [
    "# del get_bbcode\n",
    "with open(f\"x264.bbcode.txt\",\"w\") as f:\n",
    "    f.write(get_bbcode(x264_fullpath, src=SRC, logname=\"x264.log\", picbed=encode_picbed, metainfo=metainfo,ack=ACKNOWLEDGEMENT))\n",
    "with open(f\"x265.bbcode.txt\",\"w\") as f:\n",
    "    f.write(get_bbcode(x265_fullpath, src=SRC, logname=\"x265.log\", picbed=encode_picbed, metainfo=metainfo,ack=ACKNOWLEDGEMENT))\n",
    "with open(f\"remux.bbcode.txt\",\"w\") as f:\n",
    "    f.write(get_bbcode(remux_fullpath, src=SRC, picbed=encode_picbed, metainfo=metainfo,ack=ACKNOWLEDGEMENT))"
   ]
  },
  {
   "cell_type": "code",
   "execution_count": 7,
   "metadata": {},
   "outputs": [
    {
     "name": "stdout",
     "output_type": "stream",
     "text": [
      "Title: E:\\BT\\Glass 2019 2160p EUR UHD Blu-ray x265 10bit TrueHD 7 1 Atmos-PTH\\Glass 2019 2160p EUR UHD Blu-ray x265 10bit TrueHD 7 1 Atmos-PTH mkv\n",
      "Title: E:\\BT\\Glass 2019 2160p EUR UHD Blu-ray HEVC REMUX TrueHD 7 1 Atmos-PTH\\Glass 2019 2160p EUR UHD Blu-ray HEVC REMUX TrueHD 7 1 Atmos-PTH mkv\n"
     ]
    }
   ],
   "source": [
    "# with open(f\"x264.bbcode.base64.txt\",\"w\") as f:\n",
    "#     f.write(getbase64json(x264_fullpath, src=SRC, logname=\"x264.log\",\\\n",
    "#                           picbed=encode_picbed, metainfo=metainfo, tracks=SOUNDTRACK,gz=SUBTITLE_GZ,ack=ACKNOWLEDGEMENT))\n",
    "with open(f\"x265.bbcode.base64.txt\",\"w\") as f:\n",
    "    f.write(getbase64json(x265_fullpath, src=SRC, logname=\"x265.log\",\\\n",
    "                          picbed=encode_picbed, metainfo=metainfo, tracks=SOUNDTRACK,gz=SUBTITLE_GZ,ack=ACKNOWLEDGEMENT))\n",
    "with open(f\"remux.bbcode.base64.txt\",\"w\") as f:\n",
    "    f.write(getbase64json(remux_fullpath, src=SRC, logname=\"\",\\\n",
    "                          picbed=remux_picbed, metainfo=metainfo, is_remux=True, tracks=SOUNDTRACK,gz=SUBTITLE_GZ,ack=ACKNOWLEDGEMENT))"
   ]
  },
  {
   "cell_type": "code",
   "execution_count": null,
   "metadata": {},
   "outputs": [],
   "source": []
  },
  {
   "cell_type": "code",
   "execution_count": null,
   "metadata": {},
   "outputs": [],
   "source": []
  },
  {
   "cell_type": "code",
   "execution_count": null,
   "metadata": {},
   "outputs": [],
   "source": []
  },
  {
   "cell_type": "code",
   "execution_count": null,
   "metadata": {},
   "outputs": [],
   "source": []
  }
 ],
 "metadata": {
  "kernelspec": {
   "display_name": "Python 3",
   "language": "python",
   "name": "python3"
  },
  "language_info": {
   "codemirror_mode": {
    "name": "ipython",
    "version": 3
   },
   "file_extension": ".py",
   "mimetype": "text/x-python",
   "name": "python",
   "nbconvert_exporter": "python",
   "pygments_lexer": "ipython3",
   "version": "3.8.3"
  }
 },
 "nbformat": 4,
 "nbformat_minor": 4
}
