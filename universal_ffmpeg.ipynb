{
 "cells": [
  {
   "cell_type": "code",
   "execution_count": 25,
   "metadata": {},
   "outputs": [],
   "source": [
    "import os, pyperclip, re, subprocess, requests, json, random\n",
    "from pymediainfo import MediaInfo\n",
    "from datetime import datetime\n",
    "import subprocess\n",
    "from smms import *\n",
    "from utils import *\n",
    "crf=19.0\n",
    "qcomp=0.7\n",
    "aq_mode=3\n",
    "aq_s=0.7\n",
    "bitdepth=8\n",
    "newline=\"\\r\\n\"\n",
    "\n",
    "# PROCUCT_DEST_DIR=r\"/home/qianyi/Downloads/\"\n",
    "PROCUCT_DEST_DIR=r\"$HOME/Downloads/\"\n",
    "MOVIE=r\"/home/qianyi/Downloads/Freaky.2020.1080p.BluRay.REMUX.DTS-louco@PTH.mkv\"\n",
    "\n",
    "#https://api.rhilip.info/ptgen.html\n",
    "DOUBAN_ID=\"34954336\"\n",
    "\n",
    "SRC=\"Freaky.2020.1080p.BluRay.AVC.DTS.HD-MA.5.1-hc@PTHome\"\n",
    "\n",
    "REMUX_DIRNAME=\"Freaky.2020.1080p.BluRay.AVC.REMUX.DTS-HD.MA.5.1-louco@PTH\"\n",
    "\n",
    "ACKNOWLEDGEMENT='''原盘@无后缀，字幕素材@字幕库，感谢原发布者。\n",
    "由PTHome字幕组@hc拖拉机完成校对、调整及特效处理。'''\n",
    "\n",
    "SOUNDTRACK=\"【英语】【简|繁|简英|繁英|英字幕】\"\n",
    "\n",
    "SUBTITLE_GZ=1 #官字组\n",
    "\n",
    "LOG_DIR=\".\""
   ]
  },
  {
   "cell_type": "code",
   "execution_count": 17,
   "metadata": {},
   "outputs": [],
   "source": [
    "metainfo=getmetainfo(DOUBAN_ID)\n",
    "smms = SMMS('hzlclock', 'Hezl1996')\n",
    "smms.get_api_token()"
   ]
  },
  {
   "cell_type": "code",
   "execution_count": 30,
   "metadata": {},
   "outputs": [],
   "source": [
    "# crop=subprocess.getoutput(\"ffmpeg -i \"+MOVIE+\" -t 1 -vf cropdetect -f null - 2>&1\")\n",
    "#ffmpeg -i $MOVIE -t 1 -vf cropdetect -f null - 2>&1 | awk '/crop/ { print $NF }' | tail -1\n",
    "# try: crop=\"-filter:v \\\"\"+re.findall(r'crop=.*',crop)[-1]+\"\\\"\"\n",
    "# except: pass\n",
    "# MOVIE=r\"/sdcard/Freaky.2020.1080p.BluRay.REMUX.DTS-louco@PTH.mkv\"\n",
    "crop='-filter:v \"crop=in_w:in_h-280\"'\n",
    "test=\"\"\n",
    "#--demuxer y4m --preset slower --profile high --level 4.1\n",
    "x264_stmt=f\"x264  --ref 4 \\\n",
    "--crf {crf} --qcomp {qcomp} --aq-mode {aq_mode} --aq-strength {aq_s} --bframes 11 --me umh  --subme 11 \\\n",
    "--merange 48 --no-fast-pskip --no-dct-decimate --direct auto --psy-rd 1.00:0.00 \\\n",
    "--vbv-bufsize 78125 --vbv-maxrate 62500 --deblock -3:-3 --b-adapt 2 --keyint 240 \\\n",
    "--min-keyint 1 --no-mbtree --trellis 2 --chroma-qp-offset -1 --rc-lookahead 72 --output 264.mkv -\"\n",
    "\n",
    "# --y4m -D 10 --profile main10 --level-idc 5.1 --high-tier --preset slower\n",
    "# --pools 12\n",
    "x265_stmt=f\"x265 \\\n",
    "--crf {crf} --qcomp {qcomp} --aq-mode {aq_mode} --aq-strength {aq_s} --pools 36 \\\n",
    "--rd 4 --psy-rd 2.0 --psy-rdoq 1.0 --rdoq-level 2 --deblock -1:-1 --cbqpoffs -1 --crqpoffs -3 --ctu 32 \\\n",
    "--qg-size 8 --no-sao --no-sao-non-deblock --selective-sao 0 --tu-intra-depth 4 --tu-inter-depth 4 --no-opt-qp-pps \\\n",
    "--no-opt-ref-list-length-pps --aud --repeat-headers --me 3 --subme 5 --merange 48 --b-intra --limit-tu 0 --no-rect \\\n",
    "--no-amp --no-open-gop --pools + --keyint 240 --min-keyint 1 --bframes 8 --max-merge 4 --ref 4 --weightb --rc-lookahead 72 \\\n",
    "--scenecut 40 --no-strong-intra-smoothing --vbv-bufsize 160000 --vbv-maxrate 160000 --input-depth 10 --output 265.mkv -\"\n",
    "\n",
    "# test=\"-ss 3900 -t 60\"\n",
    "\n",
    "_args=x264_stmt.replace(\" --\",\"\\n --\").split(\"\\n\")[1:-1]\n",
    "args=[]\n",
    "for i in _args:\n",
    "    newitem=i.strip().replace(\"--\",\"\").replace(\" \",\"=\").replace(\":\",\",\")\n",
    "    if \"=\" not in newitem:\n",
    "        newitem+=\"=1\"\n",
    "    args.append(newitem)\n",
    "# args=[i.strip().replace(\"--\",\"\").replace(\" \",\"=\").replace(\":\",\",\") for i in args]\n",
    "\n",
    "_args5=x265_stmt.replace(\" --\",\"\\n --\").split(\"\\n\")[1:-1]\n",
    "args5=[]\n",
    "for i in _args5:\n",
    "    newitem=i.strip().replace(\"--\",\"\").replace(\" \",\"=\").replace(\":\",\",\")\n",
    "    if \"=\" not in newitem:\n",
    "        newitem+=\"=1\"\n",
    "    args5.append(newitem)\n",
    "        \n",
    "# args5=[i.strip().replace(\"--\",\"\").replace(\" \",\"=\").replace(\":\",\",\") for i in args5]\n",
    "\n",
    "x264_filename=\"\".join(re.findall(r'([^/\\\\]*$)', MOVIE)).replace(\"REMUX\", \"x264\")\n",
    "x264_dirname=x264_filename.replace(\".mkv\",\"\")\n",
    "x264_fullpath=os.path.join(PROCUCT_DEST_DIR, x264_dirname, x264_filename)\n",
    "x265_filename=\"\".join(re.findall(r'([^/\\\\]*$)', MOVIE)).replace(\"REMUX\", \"x265.10bit\")\n",
    "x265_dirname=x265_filename.replace(\".mkv\",\"\")\n",
    "x265_fullpath=os.path.join(PROCUCT_DEST_DIR, x265_dirname, x265_filename)\n",
    "\n",
    "cmd264=f\"mkdir -p {os.path.join(PROCUCT_DEST_DIR, x264_dirname)}\\n\"\n",
    "cmd265=f\"mkdir -p {os.path.join(PROCUCT_DEST_DIR, x265_dirname)}\\n\"\n",
    "\n",
    "torrent264=f\"transmission-create -p -o {PROCUCT_DEST_DIR}/{x264_dirname}.torrent -t https://www.pthome.net/announce.php \\\n",
    "{os.path.join(PROCUCT_DEST_DIR, x264_dirname)}\"\n",
    "torrent265=f\"transmission-create -p -o {PROCUCT_DEST_DIR}/{x265_dirname}.torrent -t https://www.pthome.net/announce.php \\\n",
    "{os.path.join(PROCUCT_DEST_DIR, x265_dirname)}\"\n",
    "\n",
    "cmd264+=f\"ffmpeg {test} -i {MOVIE} -c:v libx264 -profile:v high {crop} -preset slow -x264-params {':'.join(args)} \\\n",
    "-max_muxing_queue_size 1024 -c:a copy -c:s copy -max_muxing_queue_size 1024 -map 0 -map -v -map V {x264_fullpath} 2>&1|\\\n",
    "tee {LOG_DIR}/x264.log\\nmkvpropedit {x264_fullpath} --add-track-statistics-tags\\n\"\n",
    "cmd264+=get_captures(\"x264\",x264_fullpath)+\"\\n\"\n",
    "cmd264+=torrent264+\"\\n\"\n",
    "\n",
    "cmd265+=f\"ffmpeg {test} -i {MOVIE} -c:v libx265 -profile:v main10 {crop} -preset slow -x265-params {':'.join(args5)} \\\n",
    "-max_muxing_queue_size 1024 -c:a copy -c:s copy -max_muxing_queue_size 1024 -map 0 -map -v -map V {x265_fullpath} 2>&1|\\\n",
    "tee {LOG_DIR}/x265.log\\nmkvpropedit {x265_fullpath} --add-track-statistics-tags\\n\"+get_captures(\"x265\",x265_fullpath)\n",
    "cmd265+=get_captures(\"x264\",x265_fullpath)+\"\\n\"\n",
    "cmd265+=torrent265+\"\\n\"\n",
    "\n",
    "remux_fullpath=f\"{PROCUCT_DEST_DIR}/{REMUX_DIRNAME}/{REMUX_DIRNAME}.mkv\"\n",
    "cmdremux=get_captures(\"REMUX\",remux_fullpath)\n",
    "cmdremux+=f\"transmission-create -p -o {PROCUCT_DEST_DIR}/{REMUX_DIRNAME}.torrent -t https://www.pthome.net/announce.php \\\n",
    "{os.path.join(PROCUCT_DEST_DIR, REMUX_DIRNAME)}\"\n",
    "\n",
    "with open(\"x264.sh\",\"w\") as f:\n",
    "    f.write(cmd264)\n",
    "with open(\"x265.sh\",\"w\") as f:\n",
    "    f.write(cmd265)\n",
    "with open(\"remux.sh\",\"w\") as f:\n",
    "    f.write(cmdremux)"
   ]
  },
  {
   "cell_type": "code",
   "execution_count": 4,
   "metadata": {},
   "outputs": [
    {
     "name": "stdout",
     "output_type": "stream",
     "text": [
      "===UPLOAD===\n",
      "https://i.loli.net/2021/02/02/p6H4UNXG1qIRzao.jpg\n",
      "https://i.loli.net/2021/02/02/Dan1trMB58CLlFQ.jpg\n",
      "https://i.loli.net/2021/02/02/TXfehvF5qntOHED.jpg\n",
      "https://i.loli.net/2021/02/02/67WNQHBZr8pJ1kU.jpg\n",
      "https://i.loli.net/2021/02/02/Hs6xz9jXBQ2kAwD.jpg\n",
      "https://i.loli.net/2021/02/02/Dan1trMB58CLlFQ.jpg\n"
     ]
    }
   ],
   "source": [
    "encode_picbed=upload_folder(\"x264_captures\",smms)"
   ]
  },
  {
   "cell_type": "code",
   "execution_count": 5,
   "metadata": {},
   "outputs": [
    {
     "name": "stdout",
     "output_type": "stream",
     "text": [
      "===UPLOAD===\n",
      "https://i.loli.net/2021/02/02/l8xaLQVbmOIZkTh.jpg\n",
      "https://i.loli.net/2021/02/02/CutWN3QIwclskZ6.jpg\n",
      "https://i.loli.net/2021/02/02/uk1gPri7VNIqvaE.jpg\n",
      "https://i.loli.net/2021/02/02/mks2bw6z9ClhAJr.jpg\n",
      "https://i.loli.net/2021/02/02/uk1gPri7VNIqvaE.jpg\n",
      "https://i.loli.net/2021/02/02/cMLJgeIyvfwtFlB.jpg\n"
     ]
    }
   ],
   "source": [
    "remux_picbed=upload_folder(\"REMUX_captures\",smms)"
   ]
  },
  {
   "cell_type": "code",
   "execution_count": 6,
   "metadata": {},
   "outputs": [
    {
     "name": "stdout",
     "output_type": "stream",
     "text": [
      "Title: /home/qianyi/Downloads/The Devil Wears Prada 2006 ENG Blu-ray 1080p x264 DTS-louco@PTH/The Devil Wears Prada 2006 ENG Blu-ray 1080p x264 DTS-louco@PTH mkv\n",
      "Title: /home/qianyi/Downloads/The Devil Wears Prada 2006 ENG Blu-ray 1080p x265 10bit DTS-louco@PTH/The Devil Wears Prada 2006 ENG Blu-ray 1080p x265 10bit DTS-louco@PTH mkv\n",
      "Title: /home/qianyi/Downloads//The Devil Wears Prada 2006 ENG Blu-ray 1080p AVC REMUX DTS-HD MA5 1-louco@PTH/The Devil Wears Prada 2006 ENG Blu-ray 1080p AVC REMUX DTS-HD MA5 1-louco@PTH mkv\n"
     ]
    }
   ],
   "source": [
    "# del get_bbcode\n",
    "with open(f\"x264.bbcode.txt\",\"w\") as f:\n",
    "    f.write(get_bbcode(x264_fullpath, src=SRC, logname=\"x264.log\", picbed=encode_picbed, metainfo=metainfo,ack=ACKNOWLEDGEMENT))\n",
    "with open(f\"x265.bbcode.txt\",\"w\") as f:\n",
    "    f.write(get_bbcode(x265_fullpath, src=SRC, logname=\"x265.log\", picbed=encode_picbed, metainfo=metainfo,ack=ACKNOWLEDGEMENT))\n",
    "with open(f\"remux.bbcode.txt\",\"w\") as f:\n",
    "    f.write(get_bbcode(remux_fullpath, src=SRC, picbed=encode_picbed, metainfo=metainfo,ack=ACKNOWLEDGEMENT))"
   ]
  },
  {
   "cell_type": "code",
   "execution_count": 7,
   "metadata": {},
   "outputs": [
    {
     "name": "stdout",
     "output_type": "stream",
     "text": [
      "Title: /home/qianyi/Downloads/The Devil Wears Prada 2006 ENG Blu-ray 1080p x264 DTS-louco@PTH/The Devil Wears Prada 2006 ENG Blu-ray 1080p x264 DTS-louco@PTH mkv\n",
      "Title: /home/qianyi/Downloads/The Devil Wears Prada 2006 ENG Blu-ray 1080p x265 10bit DTS-louco@PTH/The Devil Wears Prada 2006 ENG Blu-ray 1080p x265 10bit DTS-louco@PTH mkv\n",
      "Title: /home/qianyi/Downloads//The Devil Wears Prada 2006 ENG Blu-ray 1080p AVC REMUX DTS-HD MA5 1-louco@PTH/The Devil Wears Prada 2006 ENG Blu-ray 1080p AVC REMUX DTS-HD MA5 1-louco@PTH mkv\n"
     ]
    }
   ],
   "source": [
    "with open(f\"x264.bbcode.base64.txt\",\"w\") as f:\n",
    "    f.write(getbase64json(x264_fullpath, src=SRC, logname=\"x264.log\",\\\n",
    "                          picbed=encode_picbed, metainfo=metainfo, tracks=SOUNDTRACK,gz=SUBTITLE_GZ,ack=ACKNOWLEDGEMENT))\n",
    "with open(f\"x265.bbcode.base64.txt\",\"w\") as f:\n",
    "    f.write(getbase64json(x265_fullpath, src=SRC, logname=\"x265.log\",\\\n",
    "                          picbed=encode_picbed, metainfo=metainfo, tracks=SOUNDTRACK,gz=SUBTITLE_GZ,ack=ACKNOWLEDGEMENT))\n",
    "with open(f\"remux.bbcode.base64.txt\",\"w\") as f:\n",
    "    f.write(getbase64json(remux_fullpath, src=SRC, logname=\"\",\\\n",
    "                          picbed=remux_picbed, metainfo=metainfo, is_remux=True, tracks=SOUNDTRACK,gz=SUBTITLE_GZ,ack=ACKNOWLEDGEMENT))"
   ]
  },
  {
   "cell_type": "code",
   "execution_count": null,
   "metadata": {},
   "outputs": [],
   "source": []
  },
  {
   "cell_type": "code",
   "execution_count": null,
   "metadata": {},
   "outputs": [],
   "source": []
  },
  {
   "cell_type": "code",
   "execution_count": null,
   "metadata": {},
   "outputs": [],
   "source": []
  },
  {
   "cell_type": "code",
   "execution_count": null,
   "metadata": {},
   "outputs": [],
   "source": []
  }
 ],
 "metadata": {
  "kernelspec": {
   "display_name": "Python 3",
   "language": "python",
   "name": "python3"
  },
  "language_info": {
   "codemirror_mode": {
    "name": "ipython",
    "version": 3
   },
   "file_extension": ".py",
   "mimetype": "text/x-python",
   "name": "python",
   "nbconvert_exporter": "python",
   "pygments_lexer": "ipython3",
   "version": "3.8.5"
  }
 },
 "nbformat": 4,
 "nbformat_minor": 4
}
