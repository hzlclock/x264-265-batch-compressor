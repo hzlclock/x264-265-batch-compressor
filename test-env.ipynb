{
 "cells": [
  {
   "cell_type": "markdown",
   "metadata": {},
   "source": [
    "# Step0: Install environment"
   ]
  },
  {
   "cell_type": "raw",
   "metadata": {},
   "source": [
    "set PYTHONHOME=%CONDA_PREFIX\n",
    "python vsrepo.py install havsfunc ffms2 d2v lsmas\n",
    "pip install git+https://git.concertos.live/AHD/awsmfunc.git"
   ]
  },
  {
   "cell_type": "raw",
   "metadata": {},
   "source": [
    "cd $HOME/.installs\n",
    "git clone https://github.com/l-smash/l-smash.git\n",
    "cd l-smash\n",
    "./configure  --prefix=/usr --enable-shared\n",
    "make lib\n",
    "sudo make install-lib\n",
    "\n",
    "cd $HOME/.installs\n",
    "git clone https://github.com/sekrit-twc/zimg.git\n",
    "cd zimg\n",
    "./autogen.sh\n",
    "./configure --prefix=/usr\n",
    "make\n",
    "sudo make install\n",
    "\n",
    "cd $HOME/.installs\n",
    "wget https://www.imagemagick.org/download/ImageMagick.tar.gz\n",
    "tar xvzf ImageMagick.tar.gz\n",
    "cd ImageMagick*/\n",
    "./configure --prefix=/usr\n",
    "make\n",
    "sudo make install\n",
    "\n",
    "git clone https://github.com/vapoursynth/vapoursynth.git\n",
    "cd vapoursynth\n",
    "./autogen.sh\n",
    "./configure\n",
    "make\n",
    "make install\n",
    "sudo ldconfig"
   ]
  },
  {
   "cell_type": "code",
   "execution_count": 2,
   "metadata": {},
   "outputs": [],
   "source": [
    "import vapoursynth as vs\n",
    "import havsfunc as haf\n",
    "import mvsfunc as mvf\n",
    "from vapoursynth import core\n",
    "import awsmfunc as awsf"
   ]
  },
  {
   "cell_type": "markdown",
   "metadata": {},
   "source": [
    "# Step1: Select BDMV Largest M2TS and its MLPS"
   ]
  },
  {
   "cell_type": "code",
   "execution_count": null,
   "metadata": {},
   "outputs": [],
   "source": []
  },
  {
   "cell_type": "markdown",
   "metadata": {},
   "source": [
    "# Step2: BDMV to MKV"
   ]
  },
  {
   "cell_type": "raw",
   "metadata": {},
   "source": [
    ".\\mkvmerge.exe -o $OUTPUT_FILE $INPUT_MLPS"
   ]
  },
  {
   "cell_type": "code",
   "execution_count": 86,
   "metadata": {},
   "outputs": [
    {
     "name": "stdout",
     "output_type": "stream",
     "text": [
      "Capture REMUX\n"
     ]
    }
   ],
   "source": [
    "get_captures(\"REMUX\", MOVIE)"
   ]
  },
  {
   "cell_type": "markdown",
   "metadata": {},
   "source": [
    "# Step3: Transcode"
   ]
  },
  {
   "cell_type": "code",
   "execution_count": 51,
   "metadata": {},
   "outputs": [],
   "source": [
    "import os, pyperclip, re, subprocess\n",
    "from pymediainfo import MediaInfo\n",
    "from datetime import datetime\n",
    "crf=17.0\n",
    "qcomp=0.7\n",
    "aq_mode=3\n",
    "aq_s=0.7\n",
    "bitdepth=8\n",
    "MOVIE=r\"C:\\Users\\heber\\Music\\A Gentleman.2017.1080p.BluRay.REMUX.AVC.DTS-louco@PTH.mkv\""
   ]
  },
  {
   "cell_type": "markdown",
   "metadata": {},
   "source": [
    "## H264"
   ]
  },
  {
   "cell_type": "code",
   "execution_count": 3,
   "metadata": {},
   "outputs": [
    {
     "name": "stdout",
     "output_type": "stream",
     "text": [
      "x264 参数：\n",
      " --aq-mode 3\n",
      " --aq-strength 0.7\n",
      " --b-adapt 2\n",
      " --bframes 11\n",
      " --chroma-qp-offset -1\n",
      " --crf 17.0\n",
      " --deblock -3:-3\n",
      " --demuxer y4m\n",
      " --direct auto\n",
      " --keyint 240\n",
      " --level 4.1\n",
      " --me umh \n",
      " --merange 48\n",
      " --min-keyint 1\n",
      " --no-dct-decimate\n",
      " --no-fast-pskip\n",
      " --no-mbtree\n",
      " --output 264.mkv -\n",
      " --preset slower\n",
      " --profile high\n",
      " --psy-rd 1.00:0.00\n",
      " --qcomp 0.7\n",
      " --rc-lookahead 72\n",
      " --ref 4\n",
      " --subme 11\n",
      " --trellis 2\n",
      " --vbv-bufsize 78125\n",
      " --vbv-maxrate 62500\n",
      "==========\n",
      "远程执行编码 x264:\n",
      "set MOVIE=C:\\Users\\heber\\Music\\A Gentleman.2017.1080p.BluRay.REMUX.AVC-louco.mkv\n",
      "set TEST=YES\n",
      "vspipe.exe --y4m \"C:\\Users\\heber\\Documents\\Compressor\\vs.py\" - |zstd -0|python C:\\Users\\heber\\Documents\\Compressor\\aio_buffer.py|ssh ubuntu20local \"python3 /media/lind/SSD/compressor/aio_buffer.py|zstdcat|~/anaconda3/bin/x264 --demuxer y4m --preset slower --profile high --level 4.1 --ref 4 --crf 17.0 --qcomp 0.7 --aq-mode 3 --aq-strength 0.7 --bframes 11 --me umh  --subme 11 --merange 48 --no-fast-pskip --no-dct-decimate --direct auto --psy-rd 1.00:0.00 --vbv-bufsize 78125 --vbv-maxrate 62500 --deblock -3:-3 --b-adapt 2 --keyint 240 --min-keyint 1 --no-mbtree --trellis 2 --chroma-qp-offset -1 --rc-lookahead 72 --output 264.mkv - 2>&1 | tee x264.log\"\n",
      "scp seclab:~/264.mkv C:\\Users\\heber\\Documents\\Compressor\\264.mkv\n",
      "scp seclab:~/264.mkv D:\\BT\\samples\\264.mkv\n",
      "pause\n",
      "\n"
     ]
    }
   ],
   "source": [
    "newline=\"\\r\\n\"\n",
    "remotecwd=\"/media/lind/SSD/compressor\"\n",
    "remotehost=\"ubuntu20local\"\n",
    "\n",
    "x264_stmt=f\"x264 --demuxer y4m --preset slower --profile high --level 4.1 --ref 4 \\\n",
    "--crf {crf} --qcomp {qcomp} --aq-mode {aq_mode} --aq-strength {aq_s} --bframes 11 --me umh  --subme 11 \\\n",
    "--merange 48 --no-fast-pskip --no-dct-decimate --direct auto --psy-rd 1.00:0.00 \\\n",
    "--vbv-bufsize 78125 --vbv-maxrate 62500 --deblock -3:-3 --b-adapt 2 --keyint 240 \\\n",
    "--min-keyint 1 --no-mbtree --trellis 2 --chroma-qp-offset -1 --rc-lookahead 72 --output 264.mkv -\"\n",
    "\n",
    "args=x264_stmt.replace(\" --\",\"\\n --\").split(\"\\n\")[1:]\n",
    "args=sorted(args)\n",
    "print(\"\\n\".join([\"x264 参数：\"]+args))\n",
    "\n",
    "remote_x264stmt=f'vspipe.exe --y4m \"{os. getcwd()}\\\\vs.py\" - |zstd -0|python {os. getcwd()}\\\\aio_buffer.py|\\\n",
    "ssh {remotehost} \"python3 {remotecwd}/aio_buffer.py|zstdcat|~/anaconda3/bin/{x264_stmt} 2>&1 | tee x264.log\"{newline}'\n",
    "\n",
    "print(\"==========\\n远程执行编码 x264:\")\n",
    "cmd=f'set MOVIE={MOVIE}{newline}'\n",
    "cmd+=f'set TEST=YES{newline}'\n",
    "cmd+=remote_x264stmt\n",
    "cmd+=f'scp seclab:~/264.mkv {os. getcwd()}\\\\264.mkv{newline}'\n",
    "cmd+=f'scp seclab:~/264.mkv D:\\\\BT\\\\samples\\\\264.mkv{newline}'\n",
    "cmd+=f'pause{newline}'\n",
    "pyperclip.copy(cmd)\n",
    "print(cmd)"
   ]
  },
  {
   "cell_type": "markdown",
   "metadata": {},
   "source": [
    "## H265"
   ]
  },
  {
   "cell_type": "code",
   "execution_count": 626,
   "metadata": {
    "collapsed": true,
    "jupyter": {
     "outputs_hidden": true
    }
   },
   "outputs": [
    {
     "name": "stdout",
     "output_type": "stream",
     "text": [
      "x265 参数：\n",
      " --aq-mode 1\n",
      " --aq-strength 0.6\n",
      " --aud\n",
      " --b-intra\n",
      " --bframes 8\n",
      " --cbqpoffs -1\n",
      " --crf 20.0\n",
      " --crqpoffs -3\n",
      " --ctu 32\n",
      " --deblock -1:-1\n",
      " --high-tier\n",
      " --input-depth 10\n",
      " --keyint 240\n",
      " --level-idc 5.1\n",
      " --limit-tu 0\n",
      " --max-merge 4\n",
      " --me 3\n",
      " --merange 48\n",
      " --min-keyint 1\n",
      " --no-amp\n",
      " --no-open-gop\n",
      " --no-opt-qp-pps\n",
      " --no-opt-ref-list-length-pps\n",
      " --no-rect\n",
      " --no-sao\n",
      " --no-sao-non-deblock\n",
      " --no-strong-intra-smoothing\n",
      " --output 265.mkv -\n",
      " --pools +\n",
      " --preset slower\n",
      " --profile main10\n",
      " --psy-rd 2.0\n",
      " --psy-rdoq 1.0\n",
      " --qcomp 0.7\n",
      " --qg-size 8\n",
      " --rc-lookahead 72\n",
      " --rd 4\n",
      " --rdoq-level 2\n",
      " --ref 4\n",
      " --repeat-headers\n",
      " --scenecut 40\n",
      " --selective-sao 0\n",
      " --subme 5\n",
      " --tu-inter-depth 4\n",
      " --tu-intra-depth 4\n",
      " --vbv-bufsize 160000\n",
      " --vbv-maxrate 160000\n",
      " --weightb\n",
      " --y4m -D 10\n",
      "==========\n",
      "远程执行编码 x265:\n",
      "set MOVIE=C:\\Users\\heber\\Music\\The.Apartment.1960.Remastered.1080p.GBR.Blu-ray.AVC.DTS-HD.MA.5.1-ShawnQiang@PTHome.mkv\n",
      "vspipe.exe --y4m \"C:\\Users\\heber\\Documents\\Compressor\\vs.py\" - |pigz --fast|python C:\\Users\\heber\\Documents\\Compressor\\aio_buffer.py|ssh seclab \"python3 /home/seclab/hezhongling/compressor/aio_buffer.py|pigz -dc|x265 --y4m -D 10 --profile main10 --level-idc 5.1 --high-tier --preset slower --crf 20.0 --qcomp 0.7 --aq-mode 1 --aq-strength 0.6 --rd 4 --psy-rd 2.0 --psy-rdoq 1.0 --rdoq-level 2 --deblock -1:-1 --cbqpoffs -1 --crqpoffs -3 --ctu 32 --qg-size 8 --no-sao --no-sao-non-deblock --selective-sao 0 --tu-intra-depth 4 --tu-inter-depth 4 --no-opt-qp-pps --no-opt-ref-list-length-pps --aud --repeat-headers --me 3 --subme 5 --merange 48 --b-intra --limit-tu 0 --no-rect --no-amp --no-open-gop --pools + --keyint 240 --min-keyint 1 --bframes 8 --max-merge 4 --ref 4 --weightb --rc-lookahead 72 --scenecut 40 --no-strong-intra-smoothing --vbv-bufsize 160000 --vbv-maxrate 160000 --input-depth 10 --output 265.mkv - 2>&1 | tee x265.log\"\n",
      "scp seclab:~/265.mkv C:\\Users\\heber\\Documents\\Compressor\\265.mkv\n",
      "scp seclab:~/265.mkv D:\\BT\\samples\\265.mkv\n",
      "pause\n",
      "\n"
     ]
    }
   ],
   "source": [
    "x265_stmt=f\"x265 --y4m -D 10 --profile main10 --level-idc 5.1 --high-tier --preset slower --crf {crf} --qcomp {qcomp} --aq-mode {aq_mode} \\\n",
    "--aq-strength {aq_s} --rd 4 --psy-rd 2.0 --psy-rdoq 1.0 --rdoq-level 2 --deblock -1:-1 --cbqpoffs -1 --crqpoffs -3 --ctu 32 \\\n",
    "--qg-size 8 --no-sao --no-sao-non-deblock --selective-sao 0 --tu-intra-depth 4 --tu-inter-depth 4 --no-opt-qp-pps \\\n",
    "--no-opt-ref-list-length-pps --aud --repeat-headers --me 3 --subme 5 --merange 48 --b-intra --limit-tu 0 --no-rect \\\n",
    "--no-amp --no-open-gop --pools + --keyint 240 --min-keyint 1 --bframes 8 --max-merge 4 --ref 4 --weightb --rc-lookahead 72 \\\n",
    "--scenecut 40 --no-strong-intra-smoothing --vbv-bufsize 160000 --vbv-maxrate 160000 --input-depth 10 --output 265.mkv -\"\n",
    "#--input-depth 10 \n",
    "\n",
    "remote_x265stmt=f'vspipe.exe --y4m \"{os. getcwd()}\\\\vs.py\" - |pigz --fast|python {os. getcwd()}\\\\aio_buffer.py|\\\n",
    "ssh seclab \"python3 {remotecwd}/aio_buffer.py|pigz -dc|{x265_stmt} 2>&1 | tee x265.log\"{newline}'\n",
    "\n",
    "# remote_x265stmt=f'vspipe.exe --y4m \"{os. getcwd()}\\\\vs.py\" - |{x265_stmt}\"{newline}'\n",
    "\n",
    "args=x265_stmt.replace(\" --\",\"\\n --\").split(\"\\n\")[1:]\n",
    "args=sorted(args)\n",
    "print(\"\\n\".join([\"x265 参数：\"]+args))\n",
    "\n",
    "print(\"==========\\n远程执行编码 x265:\")\n",
    "cmd=f'set MOVIE={MOVIE}{newline}'\n",
    "cmd+=remote_x265stmt\n",
    "cmd+=f'scp seclab:~/265.mkv {os. getcwd()}\\\\265.mkv{newline}'\n",
    "cmd+=f'scp seclab:~/265.mkv D:\\\\BT\\\\samples\\\\265.mkv{newline}'\n",
    "cmd+=f'pause{newline}'\n",
    "pyperclip.copy(cmd)\n",
    "print(cmd)"
   ]
  },
  {
   "cell_type": "markdown",
   "metadata": {},
   "source": [
    "## H264&H265"
   ]
  },
  {
   "cell_type": "code",
   "execution_count": 5,
   "metadata": {},
   "outputs": [
    {
     "name": "stdout",
     "output_type": "stream",
     "text": [
      "==========\n",
      "远程执行编码 x264+x265:\n",
      "set TEST=NO\n",
      "vspipe.exe --y4m \"C:\\Users\\heber\\Documents\\Compressor\\vs.py\" - |zstd -0 -T4|python C:\\Users\\heber\\Documents\\Compressor\\aio_buffer.py|ssh ubuntu20local \"python3 /media/lind/SSD/compressor/aio_buffer.py|zstdcat| tee >(x264 --demuxer y4m --preset slower --profile high --level 4.1 --ref 4 --crf 17.0 --qcomp 0.7 --aq-mode 3 --aq-strength 0.7 --bframes 11 --me umh  --subme 11 --merange 48 --no-fast-pskip --no-dct-decimate --direct auto --psy-rd 1.00:0.00 --vbv-bufsize 78125 --vbv-maxrate 62500 --deblock -3:-3 --b-adapt 2 --keyint 240 --min-keyint 1 --no-mbtree --trellis 2 --chroma-qp-offset -1 --rc-lookahead 72 --output 264.mkv - 2>&1 | tee x264.log) >(x265 --y4m -D 10 --profile main10 --level-idc 5.1 --high-tier --preset slower --crf 17.0 --qcomp 0.7 --aq-mode 3 --aq-strength 0.7 --rd 4 --psy-rd 2.0 --psy-rdoq 1.0 --rdoq-level 2 --deblock -1:-1 --cbqpoffs -1 --crqpoffs -3 --ctu 32 --qg-size 8 --no-sao --no-sao-non-deblock --selective-sao 0 --tu-intra-depth 4 --tu-inter-depth 4 --no-opt-qp-pps --no-opt-ref-list-length-pps --aud --repeat-headers --me 3 --subme 5 --merange 48 --b-intra --limit-tu 0 --no-rect --no-amp --no-open-gop --pools + --keyint 240 --min-keyint 1 --bframes 8 --max-merge 4 --ref 4 --weightb --rc-lookahead 72 --scenecut 40 --no-strong-intra-smoothing --vbv-bufsize 160000 --vbv-maxrate 160000 --input-depth 10 --output 265.mkv - 2>&1 | tee x265.log) >/dev/null\n",
      "scp ubuntu20local:~/264.mkv C:\\Users\\heber\\Documents\\Compressor\\264.mkv\n",
      "scp ubuntu20local:~/265.mkv C:\\Users\\heber\\Documents\\Compressor\\265.mkv\n",
      "ssh ubuntu20local \"cat x264.log|sed \\\"s/.*\\r//g\\\" \" >C:\\Users\\heber\\Documents\\Compressor\\x264.log & ssh ubuntu20local \"cat x265.log|sed \\\"s/.*\\r//g\\\" \" >C:\\Users\\heber\\Documents\\Compressor\\x265.log\n",
      "pause\n",
      "\n"
     ]
    }
   ],
   "source": [
    "x264_stmt=f\"x264 --demuxer y4m --preset slower --profile high --level 4.1 --ref 4 \\\n",
    "--crf {crf} --qcomp {qcomp} --aq-mode {aq_mode} --aq-strength {aq_s} --bframes 11 --me umh  --subme 11 \\\n",
    "--merange 48 --no-fast-pskip --no-dct-decimate --direct auto --psy-rd 1.00:0.00 \\\n",
    "--vbv-bufsize 78125 --vbv-maxrate 62500 --deblock -3:-3 --b-adapt 2 --keyint 240 \\\n",
    "--min-keyint 1 --no-mbtree --trellis 2 --chroma-qp-offset -1 --rc-lookahead 72 --output 264.mkv -\"\n",
    "\n",
    "x265_stmt=f\"x265 --y4m -D 10 --profile main10 --level-idc 5.1 --high-tier --preset slower --crf {crf} --qcomp {qcomp} --aq-mode {aq_mode} \\\n",
    "--aq-strength {aq_s} --rd 4 --psy-rd 2.0 --psy-rdoq 1.0 --rdoq-level 2 --deblock -1:-1 --cbqpoffs -1 --crqpoffs -3 --ctu 32 \\\n",
    "--qg-size 8 --no-sao --no-sao-non-deblock --selective-sao 0 --tu-intra-depth 4 --tu-inter-depth 4 --no-opt-qp-pps \\\n",
    "--no-opt-ref-list-length-pps --aud --repeat-headers --me 3 --subme 5 --merange 48 --b-intra --limit-tu 0 --no-rect \\\n",
    "--no-amp --no-open-gop --pools + --keyint 240 --min-keyint 1 --bframes 8 --max-merge 4 --ref 4 --weightb --rc-lookahead 72 \\\n",
    "--scenecut 40 --no-strong-intra-smoothing --vbv-bufsize 160000 --vbv-maxrate 160000 --input-depth 10 --output 265.mkv -\"\n",
    "\n",
    "\n",
    "remote_stmt=f'vspipe.exe --y4m \"{os. getcwd()}\\\\vs.py\" - |zstd -0 -T4|python {os. getcwd()}\\\\aio_buffer.py|\\\n",
    "ssh {remotehost} \"python3 {remotecwd}/aio_buffer.py|zstdcat| tee \\\n",
    ">({x264_stmt} 2>&1 | tee x264.log) \\\n",
    ">({x265_stmt} 2>&1 | tee x265.log) \\\n",
    ">/dev/null{newline}'\n",
    "\n",
    "\n",
    "print(\"==========\\n远程执行编码 x264+x265:\")\n",
    "cmd=f'set MOVIE={MOVIE}{newline}'\n",
    "cmd=f'set TEST=NO{newline}'\n",
    "cmd+=remote_stmt\n",
    "cmd+=f'scp {remotehost}:~/264.mkv {os. getcwd()}\\\\264.mkv{newline}'\n",
    "cmd+=f'scp {remotehost}:~/265.mkv {os. getcwd()}\\\\265.mkv{newline}'\n",
    "\n",
    "cmd+=f'ssh {remotehost} \"cat x264.log|sed \\\\\"s/.*\\\\r//g\\\\\" \" >{os. getcwd()}\\\\x264.log & '\n",
    "cmd+=f'ssh {remotehost} \"cat x265.log|sed \\\\\"s/.*\\\\r//g\\\\\" \" >{os. getcwd()}\\\\x265.log{newline}'\n",
    "cmd+=f'pause{newline}'\n",
    "pyperclip.copy(cmd)\n",
    "print(cmd)"
   ]
  },
  {
   "cell_type": "markdown",
   "metadata": {},
   "source": [
    "# Step4: Remux MKV\n",
    "## x264"
   ]
  },
  {
   "cell_type": "code",
   "execution_count": 75,
   "metadata": {},
   "outputs": [],
   "source": [
    "from pymediainfo import MediaInfo\n",
    "from datetime import datetime\n",
    "import os\n",
    "\n",
    "class nullabledict:\n",
    "    def __init__(self, input_dict):\n",
    "        self.data=input_dict\n",
    "    def __getitem__(self, key):\n",
    "        if key in self.data:\n",
    "            return self.data[key]\n",
    "        else: return \"?\"\n",
    "    def __contains__(self, key):\n",
    "        if key in self.data: return True\n",
    "        else : return False\n",
    "\n",
    "def generate_videoinfo(filename, logname=\"\", src=\"\"):\n",
    "    media_info = MediaInfo.parse(filename)\n",
    "    for t in media_info.video_tracks:\n",
    "        props=nullabledict(t.to_data())\n",
    "#         for i in props.items(): print(i)\n",
    "        video_codec=f\"{props['encoded_library_name']} {props['format_profile']} @ {str(round(props['bit_rate'] / (1024 * 1024), 2))}Mb/s\"\n",
    "        runtime=props['other_duration'][0]\n",
    "        resolution=f\"{props['sampled_width']}x{props['sampled_height']}\"\n",
    "        display_aspect_ratio=props['display_aspect_ratio']\n",
    "        frame_rate=props[\"frame_rate\"]\n",
    "        bit_depth=props[\"other_bit_depth\"][0]\n",
    "    audio_codec=[]\n",
    "    for t in media_info.audio_tracks:\n",
    "        props=nullabledict(t.to_data())\n",
    "#         for i in t.to_data().items(): print(i)\n",
    "        chns=props['channel_s']\n",
    "        if chns==6: chns=\"5.1\"\n",
    "        dtsma=\"\"\n",
    "        if props['commercial_name']=='DTS-HD Master Audio':dtsma=\"-HD MA\"\n",
    "        audio_codec.append(f\"{props['other_language'][0]} {props['format']}{dtsma} {chns}\\\n",
    " @ {str(round(props['bit_rate'] / (1024), 2))}Kb/s\")\n",
    "    audioinfo=\"\"    \n",
    "    for ac in audio_codec:\n",
    "        audioinfo+=f'AUDiO CODEC...............: {ac} \\n'\n",
    "    chscnt=0\n",
    "    subtitledesc=''\n",
    "    for t in media_info.text_tracks:\n",
    "        props=nullabledict(t.to_data())\n",
    "    #     for i in props.items(): print(i)\n",
    "        if 'title' in props:\n",
    "            title=props['title']\n",
    "        else: title=props['language']\n",
    "        \n",
    "        if title=='zh': \n",
    "            title='chs';chscnt+=1\n",
    "            if chscnt>2: title='cht'\n",
    "            if chscnt%2==0: title+='&eng'\n",
    "        subtitlefmt=f\"{props['codec_id']} : {props['other_language'][0]}({title})\"\n",
    "        subtitledesc+=f\"SUBTiTLES.................: {subtitlefmt}\\n\"\n",
    "    NEWMOVIE_size=str(round(os.path.getsize(filename) / (1024 * 1024 * 1024), 3)) + ' GB'\n",
    "    MOVIE_filename=\"\".join(re.findall(r'([^\\\\]*$)', MOVIE))\n",
    "    RELEASE_filename=\"\".join(re.findall(r\"([^\\\\]*$)\", filename.replace(\".mkv\",\"\")))\n",
    "    if len(src)>0: MOVIE_filename=\"\".join(re.findall(r'([^\\\\]*$)', src))\n",
    "    \n",
    "    transcodelog=\"\"\n",
    "    if len(logname)>0:\n",
    "        transcodelog=f'.{logname.replace(\".log\",\"\")}.Info\\n'\n",
    "        with open(logname) as f:\n",
    "            lines=f.readlines()\n",
    "            for line in lines:\n",
    "                if '[info]' in line:\n",
    "                    if 'Avg QP' in line or 'profile' in line or 'rames:' in line:\n",
    "                        transcodelog+=line\n",
    "    release_info=f'''[quote][font=Lucida Console]\n",
    ".Release.Info\n",
    "ENCODER...................: PTH\n",
    "RELEASE NAME..............: {RELEASE_filename}\n",
    "RELEASE DATE..............: {datetime.today().strftime('%Y-%m-%d')}\n",
    "RELEASE SiZE..............: {NEWMOVIE_size}\n",
    "SOURCE....................: {MOVIE_filename.replace(\".mkv\",\"\")}\n",
    "\n",
    ".Media.Info\n",
    "RUNTiME...................: {runtime}\n",
    "ViDEO CODEC...............: {video_codec}\n",
    "RESOLUTiON................: {resolution}\n",
    "DiSPLAY ASPECT RATiO......: {display_aspect_ratio}\n",
    "FRAME RATE................: {frame_rate}\n",
    "BIT DEPTH.................: {bit_depth}\n",
    "{audioinfo} \n",
    "{subtitledesc}\n",
    "\n",
    "{transcodelog}[/quote]'''\n",
    "    print(release_info)\n",
    "    pyperclip.copy(release_info)\n",
    "    return release_info\n",
    "    \n",
    "def get_captures(codec, filename):\n",
    "    if \"\\\\\" not in filename:\n",
    "        filename=f\"{os.getcwd()}\\\\{filename}\"\n",
    "    if not os.path.exists(f\"{codec}_captures\"):\n",
    "        os.mkdir(f\"{codec}_captures\")\n",
    "    ffmpeg_extract_cmd=''\n",
    "    for i in range(0,12):\n",
    "        time=f'0{int(i/6)}:{i%6}2'\n",
    "        ffmpeg_extract_cmd+=f'ffmpeg -y -ss {time}:00 -i \"{filename}\" -vframes 1\\\n",
    "        -q:v 2 {os.getcwd()}\\\\{codec}_captures\\\\{codec}_capture_{i*2}.jpg & '\n",
    "        time=f'0{int(i/6)}:{i%6}7'\n",
    "        ffmpeg_extract_cmd+=f'ffmpeg -y -ss {time}:00 -i \"{filename}\" -vframes 1\\\n",
    "        -q:v 2 {os.getcwd()}\\\\{codec}_captures\\\\{codec}_capture_{i*2+1}.jpg & '\n",
    "    pyperclip.copy(ffmpeg_extract_cmd)\n",
    "    ffmpeg_extract_cmd+=\"pause\"\n",
    "    subprocess.run(f\"start cmd /c {ffmpeg_extract_cmd} ^& pause\", shell=True)\n",
    "    print(\"Capture\",codec)\n",
    "    \n",
    "def get_mediainfo(filename):\n",
    "    nfo=subprocess.check_output(f'mediainfo\\mediainfo.exe \"{filename}\"').decode(\"utf-8\")\n",
    "    pyperclip.copy(f'[hide][font=Lucida Console]\\n{nfo}[/hide]')\n",
    "    print(\"Copy Mediainfo\")\n",
    "    return f'[hide][font=Lucida Console]\\n{nfo}[/hide]'"
   ]
  },
  {
   "cell_type": "code",
   "execution_count": 52,
   "metadata": {},
   "outputs": [
    {
     "name": "stdout",
     "output_type": "stream",
     "text": [
      "A Gentleman.2017.1080p.BluRay.x264.DTS-louco@PTH.mkv\n",
      "即将执行: \n",
      "   [剩] C:\\Users\\heber\\Music\\A Gentleman.2017.1080p.BluRay.REMUX.AVC.DTS-louco@PTH.mkv\n",
      " + [视] C:\\Users\\heber\\Documents\\Compressor\\264.mkv\n",
      "-> [全] C:\\Users\\heber\\Documents\\Compressor\\A Gentleman.2017.1080p.BluRay.x264.DTS-louco@PTH.mkv\n",
      "=================\n",
      "C:\\Users\\heber\\Documents\\Compressor\\mkvtoolnix\\mkvmerge.exe -o \"C:\\Users\\heber\\Documents\\Compressor\\A Gentleman.2017.1080p.BluRay.x264.DTS-louco@PTH.mkv\" -D ( \"C:\\Users\\heber\\Music\\A Gentleman.2017.1080p.BluRay.REMUX.AVC.DTS-louco@PTH.mkv\" )    -A -S -T -M -B --no-chapters ( \"C:\\Users\\heber\\Documents\\Compressor\\264.mkv\" )\n"
     ]
    }
   ],
   "source": [
    "# title=\"\".join(re.findall(r'([^\\\\]*\\d{4}p)', MOVIE))\n",
    "# NEWMOVIE=f'{os.getcwd()}\\\\{title}.BluRay.x264.DTS-PTH.mkv'\n",
    "x264_filename=\"\".join(re.findall(r'([^\\\\]*$)', MOVIE)).replace(\"REMUX.AVC\", \"x264\")\n",
    "NEWMOVIE=f'{os.getcwd()}\\\\{x264_filename}'\n",
    "print(x264_filename)\n",
    "\n",
    "cmd=f'{os. getcwd()}\\\\mkvtoolnix\\\\mkvmerge.exe -o \"{NEWMOVIE}\" -D ( \"{MOVIE}\" )\\\n",
    "    -A -S -T -M -B --no-chapters ( \"{os. getcwd()}\\\\264.mkv\" )'\n",
    "pyperclip.copy(cmd)\n",
    "print(f\"即将执行: \\n   [剩] {MOVIE}\\n + [视] {os. getcwd()}\\\\264.mkv\\n-> [全] {NEWMOVIE}\\n=================\")\n",
    "print(cmd)"
   ]
  },
  {
   "cell_type": "code",
   "execution_count": 53,
   "metadata": {},
   "outputs": [],
   "source": [
    "subprocess.run(f\"start cmd /c {cmd} ^& pause\", shell=True)\n",
    "None"
   ]
  },
  {
   "cell_type": "code",
   "execution_count": 54,
   "metadata": {},
   "outputs": [
    {
     "name": "stdout",
     "output_type": "stream",
     "text": [
      "[quote][font=Lucida Console]\n",
      ".Release.Info\n",
      "ENCODER...................: PTH\n",
      "RELEASE NAME..............: A Gentleman.2017.1080p.BluRay.x264.DTS-louco@PTH\n",
      "RELEASE DATE..............: 2020-12-15\n",
      "RELEASE SiZE..............: 14.613 GB\n",
      "SOURCE....................: A Gentleman.2017.1080p.BluRay.REMUX.AVC.DTS-louco@PTH\n",
      "\n",
      ".Media.Info\n",
      "RUNTiME...................: 2 h 12 min\n",
      "ViDEO CODEC...............: x264 High@L4.1 @ 13.61Mb/s\n",
      "RESOLUTiON................: 1920x800\n",
      "DiSPLAY ASPECT RATiO......: 2.400\n",
      "FRAME RATE................: 24.000\n",
      "BIT DEPTH.................: 8 bits\n",
      "AUDiO CODEC...............: Hindi DTS 5.1 @ 1473.63Kb/s \n",
      " \n",
      "SUBTiTLES.................: S_HDMV/PGS : English(en)\n",
      "SUBTiTLES.................: S_TEXT/ASS : Chinese(cht&eng)\n",
      "SUBTiTLES.................: S_TEXT/ASS : Chinese(cht)\n",
      "SUBTiTLES.................: S_TEXT/ASS : Chinese(chs&eng)\n",
      "SUBTiTLES.................: S_TEXT/ASS : Chinese(chs)\n",
      "\n",
      "\n",
      ".x264.Info\n",
      "x264 [info]: profile High, level 4.1\n",
      "x264 [info]: frame I:2045  Avg QP:14.84  size:254902\n",
      "x264 [info]: frame P:47120 Avg QP:16.48  size:117790\n",
      "x264 [info]: frame B:141513 Avg QP:18.35  size: 57231\n",
      "x264 [info]: consecutive B-frames:  4.4%  5.3% 11.8% 17.2% 17.0% 38.3%  3.7%  0.7%  0.5%  0.3%  0.3%  0.6%\n",
      "x264 [info]: Weighted P-Frames: Y:2.7% UV:2.0%\n",
      "[/quote]\n"
     ]
    }
   ],
   "source": [
    "generate_videoinfo(x264_filename,\"x264.log\")\n",
    "None"
   ]
  },
  {
   "cell_type": "code",
   "execution_count": 21,
   "metadata": {},
   "outputs": [
    {
     "name": "stdout",
     "output_type": "stream",
     "text": [
      "Capture x264\n"
     ]
    }
   ],
   "source": [
    "get_captures(\"x264\", x264_filename)"
   ]
  },
  {
   "cell_type": "code",
   "execution_count": 25,
   "metadata": {},
   "outputs": [
    {
     "name": "stdout",
     "output_type": "stream",
     "text": [
      "Copy Mediainfo\n"
     ]
    }
   ],
   "source": [
    "get_mediainfo(x264_filename)\n",
    "None"
   ]
  },
  {
   "cell_type": "markdown",
   "metadata": {},
   "source": [
    "## x265"
   ]
  },
  {
   "cell_type": "code",
   "execution_count": 55,
   "metadata": {},
   "outputs": [
    {
     "name": "stdout",
     "output_type": "stream",
     "text": [
      "即将执行: \n",
      "   [剩] C:\\Users\\heber\\Music\\A Gentleman.2017.1080p.BluRay.REMUX.AVC.DTS-louco@PTH.mkv\n",
      " + [视] C:\\Users\\heber\\Documents\\Compressor\\265.mkv\n",
      "-> [全] C:\\Users\\heber\\Documents\\Compressor\\A Gentleman.2017.1080p.BluRay.x265.10bit.DTS-louco@PTH.mkv\n",
      "=================\n",
      "C:\\Users\\heber\\Documents\\Compressor\\mkvtoolnix\\mkvmerge.exe -o \"C:\\Users\\heber\\Documents\\Compressor\\A Gentleman.2017.1080p.BluRay.x265.10bit.DTS-louco@PTH.mkv\" -D ( \"C:\\Users\\heber\\Music\\A Gentleman.2017.1080p.BluRay.REMUX.AVC.DTS-louco@PTH.mkv\" )    -A -S -T -M -B --no-chapters ( \"C:\\Users\\heber\\Documents\\Compressor\\265.mkv\" )\n"
     ]
    }
   ],
   "source": [
    "x265_filename=\"\".join(re.findall(r'([^\\\\]*$)', MOVIE)).replace(\"REMUX.AVC\", \"x265.10bit\")\n",
    "NEWMOVIE=f'{os.getcwd()}\\\\{x265_filename}'\n",
    "\n",
    "cmd=f'{os. getcwd()}\\\\mkvtoolnix\\\\mkvmerge.exe -o \"{NEWMOVIE}\" -D ( \"{MOVIE}\" )\\\n",
    "    -A -S -T -M -B --no-chapters ( \"{os. getcwd()}\\\\265.mkv\" )'\n",
    "pyperclip.copy(cmd)\n",
    "print(f\"即将执行: \\n   [剩] {MOVIE}\\n + [视] {os. getcwd()}\\\\265.mkv\\n-> [全] {NEWMOVIE}\\n=================\")\n",
    "print(cmd)"
   ]
  },
  {
   "cell_type": "code",
   "execution_count": 56,
   "metadata": {},
   "outputs": [
    {
     "data": {
      "text/plain": [
       "CompletedProcess(args='start cmd /c C:\\\\Users\\\\heber\\\\Documents\\\\Compressor\\\\mkvtoolnix\\\\mkvmerge.exe -o \"C:\\\\Users\\\\heber\\\\Documents\\\\Compressor\\\\A Gentleman.2017.1080p.BluRay.x265.10bit.DTS-louco@PTH.mkv\" -D ( \"C:\\\\Users\\\\heber\\\\Music\\\\A Gentleman.2017.1080p.BluRay.REMUX.AVC.DTS-louco@PTH.mkv\" )    -A -S -T -M -B --no-chapters ( \"C:\\\\Users\\\\heber\\\\Documents\\\\Compressor\\\\265.mkv\" ) ^& pause', returncode=0)"
      ]
     },
     "execution_count": 56,
     "metadata": {},
     "output_type": "execute_result"
    }
   ],
   "source": [
    "subprocess.run(f\"start cmd /c {cmd} ^& pause\", shell=True)"
   ]
  },
  {
   "cell_type": "code",
   "execution_count": 32,
   "metadata": {},
   "outputs": [
    {
     "name": "stdout",
     "output_type": "stream",
     "text": [
      "[quote][font=Lucida Console]\n",
      ".Release.Info\n",
      "ENCODER...................: PTH\n",
      "RELEASE NAME..............: A Gentleman.2017.1080p.BluRay.x265.10bit-louco@PTH\n",
      "RELEASE DATE..............: 2020-12-15\n",
      "RELEASE SiZE..............: 10.446 GB\n",
      "SOURCE....................: A Gentleman.2017.1080p.BluRay.REMUX.AVC-louco@PTH\n",
      "\n",
      ".Media.Info\n",
      "RUNTiME...................: 2 h 12 min\n",
      "ViDEO CODEC...............: x265 Main 10@L5.1@High @ 9.31Mb/s\n",
      "RESOLUTiON................: 1920x800\n",
      "DiSPLAY ASPECT RATiO......: 2.400\n",
      "FRAME RATE................: 24.000\n",
      "BIT DEPTH.................: 10 bits\n",
      "AUDiO CODEC...............: Hindi DTS 5.1 @ 1473.63Kb/s \n",
      " \n",
      "SUBTiTLES.................: S_HDMV/PGS : English(en)\n",
      "SUBTiTLES.................: S_TEXT/ASS : Chinese(cht&eng)\n",
      "SUBTiTLES.................: S_TEXT/ASS : Chinese(cht)\n",
      "SUBTiTLES.................: S_TEXT/ASS : Chinese(chs&eng)\n",
      "SUBTiTLES.................: S_TEXT/ASS : Chinese(chs)\n",
      "\n",
      "\n",
      ".x265.Info\n",
      "[/quote]\n"
     ]
    }
   ],
   "source": [
    "generate_videoinfo(x265_filename,\"x265.log\")\n",
    "None"
   ]
  },
  {
   "cell_type": "code",
   "execution_count": 33,
   "metadata": {},
   "outputs": [
    {
     "name": "stdout",
     "output_type": "stream",
     "text": [
      "Capture x265\n"
     ]
    }
   ],
   "source": [
    "get_captures(\"x265\", x265_filename)"
   ]
  },
  {
   "cell_type": "code",
   "execution_count": 34,
   "metadata": {},
   "outputs": [
    {
     "name": "stdout",
     "output_type": "stream",
     "text": [
      "Copy Mediainfo\n"
     ]
    }
   ],
   "source": [
    "get_mediainfo(x265_filename)\n",
    "None"
   ]
  },
  {
   "cell_type": "markdown",
   "metadata": {},
   "source": [
    "# Step5 小修小补"
   ]
  },
  {
   "cell_type": "code",
   "execution_count": null,
   "metadata": {},
   "outputs": [],
   "source": []
  },
  {
   "cell_type": "markdown",
   "metadata": {},
   "source": [
    "## 音频转码为FLAC x264"
   ]
  },
  {
   "cell_type": "code",
   "execution_count": null,
   "metadata": {},
   "outputs": [],
   "source": []
  },
  {
   "cell_type": "code",
   "execution_count": 597,
   "metadata": {},
   "outputs": [],
   "source": [
    "# filename=x264_filename\n",
    "def getcmd_convertflac(filename):\n",
    "    cmds=[]\n",
    "    media_info = MediaInfo.parse(filename)\n",
    "    for i in media_info.audio_tracks:\n",
    "        datas=i.to_data()\n",
    "        lang=datas['language']\n",
    "        audio_trackno=int(datas[\"stream_identifier\"])+1\n",
    "        if \"streamorder\" in datas:\n",
    "#             print(datas)\n",
    "            cmds.append(f'{os.getcwd()}\\\\mkvtoolnix\\\\mkvextract.exe {os.getcwd()}\\\\{filename}\\\n",
    "     tracks {datas[\"streamorder\"]}:{os.getcwd()}\\\\audio')\n",
    "            cmds.append(f'{os.getcwd()}\\\\eac3to\\\\eac3to.exe {os.getcwd()}\\\\audio {os.getcwd()}\\\\audio.flac')\n",
    "\n",
    "            oldname=filename.split(\".\")\n",
    "            for idx,part in enumerate(oldname):\n",
    "                if datas['other_format'][0] in part:\n",
    "                    oldname[idx]='FLAC'\n",
    "            newname=\".\".join(oldname)\n",
    "\n",
    "            cmds.append(f'{os. getcwd()}\\\\mkvtoolnix\\\\mkvmerge.exe -o \"{os. getcwd()}\\\\{newname}\" -A\\\n",
    " ( \"{os. getcwd()}\\\\{filename}\" ) -D -S -T -M -B --no-chapters ( \"{os. getcwd()}\\\\audio.flac\" )')\n",
    "            cmds.append(f'{os.getcwd()}\\\\mkvtoolnix\\\\mkvpropedit.exe \"{os.getcwd()}\\\\{newname}\" \\\n",
    "--edit track:a{audio_trackno} --set language={lang}')\n",
    "            \n",
    "    print(f\"即将执行:\\n [A{audio_trackno}] {filename}\\n->    audio [{lang}]\\n=eac3to=> audio.flac [{lang}]\\n +[V] {filename}\\n->    {newname}\")\n",
    "    print(\"=============\")\n",
    "    cmd=\" ^& \".join(cmds)\n",
    "    print(cmd)\n",
    "    return cmd, newname, lang"
   ]
  },
  {
   "cell_type": "code",
   "execution_count": 598,
   "metadata": {},
   "outputs": [
    {
     "name": "stdout",
     "output_type": "stream",
     "text": [
      "即将执行:\n",
      " [A1] La.grande.bouffe.1973.1080p.Blu-ray.x264.LPCM.1.0-PTH.mkv\n",
      "->    audio [fr]\n",
      "=eac3to=> audio.flac [fr]\n",
      " +[V] La.grande.bouffe.1973.1080p.Blu-ray.x264.LPCM.1.0-PTH.mkv\n",
      "->    La.grande.bouffe.1973.1080p.Blu-ray.x264.FLAC.1.0-PTH.mkv\n",
      "=============\n",
      "C:\\Users\\heber\\Documents\\Compressor\\mkvtoolnix\\mkvextract.exe C:\\Users\\heber\\Documents\\Compressor\\La.grande.bouffe.1973.1080p.Blu-ray.x264.LPCM.1.0-PTH.mkv     tracks 0:C:\\Users\\heber\\Documents\\Compressor\\audio ^& C:\\Users\\heber\\Documents\\Compressor\\eac3to\\eac3to.exe C:\\Users\\heber\\Documents\\Compressor\\audio C:\\Users\\heber\\Documents\\Compressor\\audio.flac ^& C:\\Users\\heber\\Documents\\Compressor\\mkvtoolnix\\mkvmerge.exe -o \"C:\\Users\\heber\\Documents\\Compressor\\La.grande.bouffe.1973.1080p.Blu-ray.x264.FLAC.1.0-PTH.mkv\" -A ( \"C:\\Users\\heber\\Documents\\Compressor\\La.grande.bouffe.1973.1080p.Blu-ray.x264.LPCM.1.0-PTH.mkv\" ) -D -S -T -M -B --no-chapters ( \"C:\\Users\\heber\\Documents\\Compressor\\audio.flac\" ) ^& C:\\Users\\heber\\Documents\\Compressor\\mkvtoolnix\\mkvpropedit.exe \"C:\\Users\\heber\\Documents\\Compressor\\La.grande.bouffe.1973.1080p.Blu-ray.x264.FLAC.1.0-PTH.mkv\" --edit track:a1 --set language=fr\n"
     ]
    }
   ],
   "source": [
    "cmd, x264_filename_new, lang=getcmd_convertflac(x264_filename)"
   ]
  },
  {
   "cell_type": "code",
   "execution_count": 599,
   "metadata": {},
   "outputs": [
    {
     "data": {
      "text/plain": [
       "CompletedProcess(args='start cmd /c C:\\\\Users\\\\heber\\\\Documents\\\\Compressor\\\\mkvtoolnix\\\\mkvextract.exe C:\\\\Users\\\\heber\\\\Documents\\\\Compressor\\\\La.grande.bouffe.1973.1080p.Blu-ray.x264.LPCM.1.0-PTH.mkv     tracks 0:C:\\\\Users\\\\heber\\\\Documents\\\\Compressor\\\\audio ^& C:\\\\Users\\\\heber\\\\Documents\\\\Compressor\\\\eac3to\\\\eac3to.exe C:\\\\Users\\\\heber\\\\Documents\\\\Compressor\\\\audio C:\\\\Users\\\\heber\\\\Documents\\\\Compressor\\\\audio.flac ^& C:\\\\Users\\\\heber\\\\Documents\\\\Compressor\\\\mkvtoolnix\\\\mkvmerge.exe -o \"C:\\\\Users\\\\heber\\\\Documents\\\\Compressor\\\\La.grande.bouffe.1973.1080p.Blu-ray.x264.FLAC.1.0-PTH.mkv\" -A ( \"C:\\\\Users\\\\heber\\\\Documents\\\\Compressor\\\\La.grande.bouffe.1973.1080p.Blu-ray.x264.LPCM.1.0-PTH.mkv\" ) -D -S -T -M -B --no-chapters ( \"C:\\\\Users\\\\heber\\\\Documents\\\\Compressor\\\\audio.flac\" ) ^& C:\\\\Users\\\\heber\\\\Documents\\\\Compressor\\\\mkvtoolnix\\\\mkvpropedit.exe \"C:\\\\Users\\\\heber\\\\Documents\\\\Compressor\\\\La.grande.bouffe.1973.1080p.Blu-ray.x264.FLAC.1.0-PTH.mkv\" --edit track:a1 --set language=fr ^& pause', returncode=0)"
      ]
     },
     "execution_count": 599,
     "metadata": {},
     "output_type": "execute_result"
    }
   ],
   "source": [
    "subprocess.run(f\"start cmd /c {cmd} ^& pause\", shell=True) "
   ]
  },
  {
   "cell_type": "markdown",
   "metadata": {},
   "source": [
    "## 音频转码为FLAC x265"
   ]
  },
  {
   "cell_type": "code",
   "execution_count": 600,
   "metadata": {},
   "outputs": [
    {
     "name": "stdout",
     "output_type": "stream",
     "text": [
      "即将执行:\n",
      " [A1] La.grande.bouffe.1973.1080p.Blu-ray.x265.10bit.LPCM.1.0-PTH.mkv\n",
      "->    audio [fr]\n",
      "=eac3to=> audio.flac [fr]\n",
      " +[V] La.grande.bouffe.1973.1080p.Blu-ray.x265.10bit.LPCM.1.0-PTH.mkv\n",
      "->    La.grande.bouffe.1973.1080p.Blu-ray.x265.10bit.FLAC.1.0-PTH.mkv\n",
      "=============\n",
      "C:\\Users\\heber\\Documents\\Compressor\\mkvtoolnix\\mkvextract.exe C:\\Users\\heber\\Documents\\Compressor\\La.grande.bouffe.1973.1080p.Blu-ray.x265.10bit.LPCM.1.0-PTH.mkv     tracks 0:C:\\Users\\heber\\Documents\\Compressor\\audio ^& C:\\Users\\heber\\Documents\\Compressor\\eac3to\\eac3to.exe C:\\Users\\heber\\Documents\\Compressor\\audio C:\\Users\\heber\\Documents\\Compressor\\audio.flac ^& C:\\Users\\heber\\Documents\\Compressor\\mkvtoolnix\\mkvmerge.exe -o \"C:\\Users\\heber\\Documents\\Compressor\\La.grande.bouffe.1973.1080p.Blu-ray.x265.10bit.FLAC.1.0-PTH.mkv\" -A ( \"C:\\Users\\heber\\Documents\\Compressor\\La.grande.bouffe.1973.1080p.Blu-ray.x265.10bit.LPCM.1.0-PTH.mkv\" ) -D -S -T -M -B --no-chapters ( \"C:\\Users\\heber\\Documents\\Compressor\\audio.flac\" ) ^& C:\\Users\\heber\\Documents\\Compressor\\mkvtoolnix\\mkvpropedit.exe \"C:\\Users\\heber\\Documents\\Compressor\\La.grande.bouffe.1973.1080p.Blu-ray.x265.10bit.FLAC.1.0-PTH.mkv\" --edit track:a1 --set language=fr\n"
     ]
    }
   ],
   "source": [
    "cmd, x265_filename_new, lang=getcmd_convertflac(x265_filename)"
   ]
  },
  {
   "cell_type": "code",
   "execution_count": 47,
   "metadata": {},
   "outputs": [],
   "source": [
    "subprocess.run(f\"start cmd /c {cmd} ^& pause\", shell=True) \n",
    "None"
   ]
  },
  {
   "cell_type": "code",
   "execution_count": null,
   "metadata": {},
   "outputs": [],
   "source": []
  },
  {
   "cell_type": "markdown",
   "metadata": {},
   "source": [
    "## 修改字幕标题和顺序"
   ]
  },
  {
   "cell_type": "code",
   "execution_count": 76,
   "metadata": {},
   "outputs": [],
   "source": [
    "def improve_subtitle(filename):\n",
    "    filename=os.getcwd()+\"\\\\\"+filename\n",
    "    edittable={}\n",
    "    mkvpropeditcmd=\"\"\n",
    "\n",
    "    print(\"即将执行:\")\n",
    "    print(filename)\n",
    "    textsort=[]#(textid, position)\n",
    "    media_info = MediaInfo.parse(filename)\n",
    "    for t in media_info.text_tracks:\n",
    "        datas=dict(t.to_data())\n",
    "#         print(datas)\n",
    "        title=datas['other_language'][0]\n",
    "        if \"title\" in datas:\n",
    "            lang=None\n",
    "            title=datas[\"title\"]\n",
    "            \n",
    "            if \"简\" in datas[\"title\"] or datas[\"title\"]==\"Chinese\": \n",
    "                lang=\"CHS\"\n",
    "            if \"繁\" in datas[\"title\"]: \n",
    "                lang=\"CHT\"\n",
    "            if \"chs\" in datas[\"title\"].lower() or lang==\"CHS\":\n",
    "                textsort.append((datas['stream_identifier']+1, 0, title))\n",
    "            elif \"cht\" in datas[\"title\"].lower() or lang==\"CHT\":\n",
    "                textsort.append((datas['stream_identifier']+1, 1, title))\n",
    "            else:\n",
    "                textsort.append((datas['stream_identifier']+1, 2, title))\n",
    "            if lang is not None:\n",
    "                mkvpropeditcmd+=f'--edit track:s{datas[\"stream_identifier\"]+1} --set name={lang} '\n",
    "                print(f'   字幕轨{datas[\"stream_identifier\"]+1}: [{datas[\"title\"]}] => [{lang}]')\n",
    "        elif datas[\"language\"]==\"zh\":\n",
    "            textsort.append((datas['stream_identifier']+1, 1, title))\n",
    "        else :\n",
    "            textsort.append((datas['stream_identifier']+1, 2, title))\n",
    "\n",
    "\n",
    "    newpos=1\n",
    "    textsortcmd=[]\n",
    "    for textid, pos, title in sorted(textsort, key=lambda x: x[1]):\n",
    "        if newpos==1: textsortcmd.append(f'--edit track:s{textid} --set flag-default=1')\n",
    "        else: textsortcmd.append(f'--edit track:s{textid} --set flag-default=0')\n",
    "#         textsortcmd+=f'--edit track:s{textid} --set flag-default=0 '\n",
    "#         textsortcmd.append(f'--edit track:s{textid} --set track-number={newpos}')\n",
    "        print(f'[S{textid}] {title} \\t -> [S{textid}] 默认[{\"*\" if newpos==1 else \" \"}]')\n",
    "        newpos+=1\n",
    "    cmd=f'{os. getcwd()}\\\\mkvtoolnix\\\\mkvpropedit.exe \"{filename}\" {mkvpropeditcmd} '\n",
    "    cmd+=\" \".join(textsortcmd)\n",
    "    print(\"================\")\n",
    "    print(cmd)\n",
    "    return cmd"
   ]
  },
  {
   "cell_type": "code",
   "execution_count": 58,
   "metadata": {},
   "outputs": [
    {
     "name": "stdout",
     "output_type": "stream",
     "text": [
      "即将执行:\n",
      "C:\\Users\\heber\\Documents\\Compressor\\A Gentleman.2017.1080p.BluRay.x264.DTS-louco@PTH.mkv\n",
      "[S4] chs&eng \t -> [S4] 默认[*]\n",
      "[S5] chs \t -> [S5] 默认[ ]\n",
      "[S2] cht&eng \t -> [S2] 默认[ ]\n",
      "[S3] cht \t -> [S3] 默认[ ]\n",
      "[S1] English \t -> [S1] 默认[ ]\n",
      "================\n",
      "C:\\Users\\heber\\Documents\\Compressor\\mkvtoolnix\\mkvpropedit.exe \"C:\\Users\\heber\\Documents\\Compressor\\A Gentleman.2017.1080p.BluRay.x264.DTS-louco@PTH.mkv\"  --edit track:s4 --set flag-default=1 --edit track:s5 --set flag-default=0 --edit track:s2 --set flag-default=0 --edit track:s3 --set flag-default=0 --edit track:s1 --set flag-default=0\n"
     ]
    },
    {
     "data": {
      "text/plain": [
       "CompletedProcess(args='start cmd /c pause ^& C:\\\\Users\\\\heber\\\\Documents\\\\Compressor\\\\mkvtoolnix\\\\mkvpropedit.exe \"C:\\\\Users\\\\heber\\\\Documents\\\\Compressor\\\\A Gentleman.2017.1080p.BluRay.x264.DTS-louco@PTH.mkv\"  --edit track:s4 --set flag-default=1 --edit track:s5 --set flag-default=0 --edit track:s2 --set flag-default=0 --edit track:s3 --set flag-default=0 --edit track:s1 --set flag-default=0 ^& pause', returncode=0)"
      ]
     },
     "execution_count": 58,
     "metadata": {},
     "output_type": "execute_result"
    }
   ],
   "source": [
    "cmd=improve_subtitle(x264_filename)\n",
    "subprocess.run(f\"start cmd /c pause ^& {cmd} ^& pause\", shell=True)"
   ]
  },
  {
   "cell_type": "code",
   "execution_count": 59,
   "metadata": {},
   "outputs": [
    {
     "name": "stdout",
     "output_type": "stream",
     "text": [
      "即将执行:\n",
      "C:\\Users\\heber\\Documents\\Compressor\\A Gentleman.2017.1080p.BluRay.x265.10bit.DTS-louco@PTH.mkv\n",
      "[S4] chs&eng \t -> [S4] 默认[*]\n",
      "[S5] chs \t -> [S5] 默认[ ]\n",
      "[S2] cht&eng \t -> [S2] 默认[ ]\n",
      "[S3] cht \t -> [S3] 默认[ ]\n",
      "[S1] English \t -> [S1] 默认[ ]\n",
      "================\n",
      "C:\\Users\\heber\\Documents\\Compressor\\mkvtoolnix\\mkvpropedit.exe \"C:\\Users\\heber\\Documents\\Compressor\\A Gentleman.2017.1080p.BluRay.x265.10bit.DTS-louco@PTH.mkv\"  --edit track:s4 --set flag-default=1 --edit track:s5 --set flag-default=0 --edit track:s2 --set flag-default=0 --edit track:s3 --set flag-default=0 --edit track:s1 --set flag-default=0\n"
     ]
    },
    {
     "data": {
      "text/plain": [
       "CompletedProcess(args='start cmd /c pause ^& C:\\\\Users\\\\heber\\\\Documents\\\\Compressor\\\\mkvtoolnix\\\\mkvpropedit.exe \"C:\\\\Users\\\\heber\\\\Documents\\\\Compressor\\\\A Gentleman.2017.1080p.BluRay.x265.10bit.DTS-louco@PTH.mkv\"  --edit track:s4 --set flag-default=1 --edit track:s5 --set flag-default=0 --edit track:s2 --set flag-default=0 --edit track:s3 --set flag-default=0 --edit track:s1 --set flag-default=0 ^& pause', returncode=0)"
      ]
     },
     "execution_count": 59,
     "metadata": {},
     "output_type": "execute_result"
    }
   ],
   "source": [
    "cmd=improve_subtitle(x265_filename)\n",
    "subprocess.run(f\"start cmd /c pause ^& {cmd} ^& pause\", shell=True)"
   ]
  },
  {
   "cell_type": "markdown",
   "metadata": {},
   "source": [
    "## 获取新文件的信息"
   ]
  },
  {
   "cell_type": "code",
   "execution_count": 33,
   "metadata": {},
   "outputs": [
    {
     "ename": "NameError",
     "evalue": "name 'x264_filename_new' is not defined",
     "output_type": "error",
     "traceback": [
      "\u001b[1;31m------------------------------------------------------------\u001b[0m",
      "\u001b[1;31mNameError\u001b[0m                  Traceback (most recent call last)",
      "\u001b[1;32m<ipython-input-33-31306d447209>\u001b[0m in \u001b[0;36m<module>\u001b[1;34m\u001b[0m\n\u001b[1;32m----> 1\u001b[1;33m \u001b[0mgenerate_videoinfo\u001b[0m\u001b[1;33m(\u001b[0m\u001b[0mx264_filename_new\u001b[0m\u001b[1;33m,\u001b[0m\u001b[1;34m\"x264.log\"\u001b[0m\u001b[1;33m)\u001b[0m\u001b[1;33m\u001b[0m\u001b[1;33m\u001b[0m\u001b[0m\n\u001b[0m",
      "\u001b[1;31mNameError\u001b[0m: name 'x264_filename_new' is not defined"
     ]
    }
   ],
   "source": [
    "generate_videoinfo(x264_filename_new,\"x264.log\")"
   ]
  },
  {
   "cell_type": "code",
   "execution_count": 612,
   "metadata": {},
   "outputs": [
    {
     "name": "stdout",
     "output_type": "stream",
     "text": [
      "Copy Mediainfo\n"
     ]
    }
   ],
   "source": [
    "get_mediainfo(x264_filename_new)"
   ]
  },
  {
   "cell_type": "code",
   "execution_count": 609,
   "metadata": {},
   "outputs": [
    {
     "name": "stdout",
     "output_type": "stream",
     "text": [
      "[quote][font=Lucida Console]\n",
      ".Release.Info\n",
      "ENCODER...................: PTH\n",
      "RELEASE NAME..............: La.grande.bouffe.1973.1080p.Blu-ray.x265.10bit.FLAC.1.0-PTH\n",
      "RELEASE DATE..............: 2020-11-29\n",
      "RELEASE SiZE..............: 8.786 GB\n",
      "SOURCE....................: La.grande.bouffe.1973.1080p.Blu-ray.REMUX.AVC.LPCM.1.0-PTH\n",
      "\n",
      ".Media.Info\n",
      "RUNTiME...................: 2 h 9 min\n",
      "ViDEO CODEC...............: x265 Main 10@L5.1@High @ 8.59Mb/s\n",
      "RESOLUTiON................: 1800x1080\n",
      "DiSPLAY ASPECT RATiO......: 1.667\n",
      "FRAME RATE................: 23.976\n",
      "BIT DEPTH.................: 10 bits\n",
      "AUDiO CODEC...............: French FLAC 1 @ 637.03Kb/s \n",
      "SUBTiTLES.................: S_HDMV/PGS : English(en)\n",
      "SUBTiTLES.................: S_HDMV/PGS : Chinese(CHS)\n",
      "SUBTiTLES.................: S_HDMV/PGS : Chinese(CHT)\n",
      "\n",
      "\n",
      ".x265.Info\n",
      "x265 [info]: Main 10 profile, Level-5.1 (High tier)\n",
      "x265 [info]: frame I:    916, Avg QP:20.38  kb/s: 25581.97\n",
      "x265 [info]: frame P:  28949, Avg QP:21.29  kb/s: 20294.95\n",
      "x265 [info]: frame B: 157053, Avg QP:26.03  kb/s: 6823.12 \n",
      "x265 [info]: Weighted P-Frames: Y:10.7% UV:2.6%\n",
      "x265 [info]: Weighted B-Frames: Y:6.0% UV:0.9%\n",
      "x265 [info]: consecutive B-frames: 3.8% 0.5% 0.9% 10.0% 9.9% 33.2% 13.8% 18.2% 9.7% \n",
      "encoded 186918 frames in 49010.59s (3.81 fps), 9001.50 kb/s, Avg QP:25.27\n",
      "[/quote]\n"
     ]
    }
   ],
   "source": [
    "generate_videoinfo(x265_filename_new,\"x265.log\")"
   ]
  },
  {
   "cell_type": "code",
   "execution_count": 610,
   "metadata": {},
   "outputs": [
    {
     "name": "stdout",
     "output_type": "stream",
     "text": [
      "Copy Mediainfo\n"
     ]
    }
   ],
   "source": [
    "get_mediainfo(x265_filename_new)"
   ]
  },
  {
   "cell_type": "code",
   "execution_count": null,
   "metadata": {},
   "outputs": [],
   "source": []
  },
  {
   "cell_type": "code",
   "execution_count": 82,
   "metadata": {},
   "outputs": [],
   "source": [
    "def get_bbcode(file, src=\"\",logname=\"\"):\n",
    "    print(\"Title:\", file.replace(\".\",\" \"))\n",
    "    \n",
    "    picbed='''\n",
    "    [img]https://img.dragonhd.xyz/images/2020/12/15/7b6d5a8e1ed37ac1e687b8e3f87dd67a.jpg[/img]\n",
    "    [img]https://img.dragonhd.xyz/images/2020/12/15/6cf3c3885df3138f4893c4f19ea3af45.jpg[/img]\n",
    "    [img]https://img.dragonhd.xyz/images/2020/12/15/9553c945b832a40cd575eb02af548d40.jpg[/img]\n",
    "    [img]https://img.dragonhd.xyz/images/2020/12/15/cb6612f30dedc0a000b745f1d06f6e29.jpg[/img]\n",
    "    [img]https://img.dragonhd.xyz/images/2020/12/15/c99c7a7b54e99db2283a97b9e1d42749.jpg[/img]\n",
    "    [img]https://img.dragonhd.xyz/images/2020/12/15/226756933255b37b1e656fd72dcd75a8.jpg[/img]\n",
    "    [img]https://img.dragonhd.xyz/images/2020/12/15/9c6e4ac87dfe5f6075f6079bb725ad07.jpg[/img]\n",
    "    '''\n",
    "    if \"REMUX\" in file:\n",
    "        picbed='''\n",
    "    [img]https://cdn.longdoer.com/2020/11/30/REMUX_capture_1257be8ce9d7a6f27c.jpg[/img]\n",
    "    [img]https://cdn.longdoer.com/2020/11/30/REMUX_capture_8e879ff3e0c3fc1af.jpg[/img]\n",
    "    [img]https://cdn.longdoer.com/2020/11/30/REMUX_capture_3f9b9b25794869e86.jpg[/img]\n",
    "    [img]https://cdn.longdoer.com/2020/11/30/REMUX_capture_50aca2c1e4633b49f.jpg[/img]\n",
    "    [img]https://cdn.longdoer.com/2020/11/30/REMUX_capture_1007a6d22651cbe258.jpg[/img]\n",
    "    '''\n",
    "    bbcode='''\n",
    "[quote]\n",
    "制作说明：\n",
    "原盘来自@DRs，字幕素材来自字幕库\n",
    "由柠檬做柠檬水@PTHome字幕组完成校对、调整。\n",
    "字幕转载务必注意礼节，请保留原作者信息，谢绝二次提取修改！\n",
    "在此感谢各位原作者及分享者！如有侵权请联系删除！\n",
    "[/quote]\n",
    "[img]https://img9.doubanio.com/view/photo/l_ratio_poster/public/p2497633053.jpg[/img]\n",
    "◎译　　名　绅士特工 / A Gentleman / Not Bang Bang 2!\n",
    "◎片　　名　Reloaded\n",
    "◎年　　代　2017\n",
    "◎产　　地　印度\n",
    "◎类　　别　喜剧 / 动作 / 爱情\n",
    "◎语　　言　印地语\n",
    "◎上映日期　2017-08-25(印度)\n",
    "◎IMDb评分  6.2/10 from 4725 users\n",
    "◎IMDb链接  https://www.imdb.com/title/tt5613834\n",
    "◎豆瓣评分　5.8/10 from 558 users\n",
    "◎豆瓣链接　https://movie.douban.com/subject/26904129/\n",
    "◎片　　长　145分钟\n",
    "◎导　　演　克里希纳·D·K Krishna D.K. / 拉杰·尼迪莫卢 Raj Nidimoru\n",
    "◎编　　剧　拉杰·尼迪莫卢 Raj Nidimoru / 克里希纳·D·K Krishna D.K. / 西塔·梅诺 Sita Menon / 萨米特·巴特加 Sumit Batheja\n",
    "◎主　　演　施坦·马洛萨 Sidharth Malhotra\n",
    "　　　　　  杰奎琳·费南德斯 Jaqueline Fernandes\n",
    "　　　　　  达山·库马尔 Darshan Kumar\n",
    "　　　　　  侯赛因·达拉尔 Hussain Dalal\n",
    "　　　　　  阿米特·米斯特里 Amit Mistry\n",
    "　　　　　  拉吉特·卡普尔 Rajit Kapoor\n",
    "　　　　　  苏普丽雅·皮尔加卡尔 Supriya Pilgaonkar\n",
    "　　　　　  桑尼尔·谢迪 Sunil Shetty\n",
    "　　　　　  沙希德·伍兹 Shaheed K. Woods\n",
    "　　　　　  扎卡里·柯芬 Zachary Coffin\n",
    "　　　　　  库沙·庞加比 Kushal Punjabi\n",
    "\n",
    "\n",
    "◎标　　签　印度 | 动作 | 喜剧 | 爱情 | 2017 | 特工 | 绅士特工 | 宝莱坞\n",
    "\n",
    "◎简　　介  \n",
    "\n",
    "　　格拉夫是个五好青年，在迈阿密有工作有房有车，就差个女朋友。而他心仪的女孩卡维雅却觉得这个男孩太过于安全，不是自己喜欢的类型。\n",
    "　　格拉夫有个在特工身份叫瑞希，在X部队执行任务。从小没有父母的他渴望拥有一个家庭，无奈头儿不让他离开这个组织。最终经过抵抗，头儿同意让他执行完最后一次任务就可以离开，过他的人生。\n",
    "　　在这边，格拉夫的老板也让他去印度完成一笔交易，故事会往哪个方向发展呢？瑞希能不能得到梦想人生？格拉夫能不能得到卡维雅的芳心？\n",
    "'''+f'{generate_videoinfo(file,logname,src=src)}\\n{picbed}\\n{get_mediainfo(file)}'\n",
    "    pyperclip.copy(bbcode)"
   ]
  },
  {
   "cell_type": "code",
   "execution_count": 83,
   "metadata": {},
   "outputs": [
    {
     "name": "stdout",
     "output_type": "stream",
     "text": [
      "Title: C:\\Users\\heber\\Music\\A Gentleman 2017 1080p BluRay REMUX AVC DTS MA 5 1-louco@PTH\\A Gentleman 2017 1080p BluRay REMUX AVC DTS MA 5 1-louco@PTH mkv\n",
      "[quote][font=Lucida Console]\n",
      ".Release.Info\n",
      "ENCODER...................: PTH\n",
      "RELEASE NAME..............: A Gentleman.2017.1080p.BluRay.REMUX.AVC.DTS.MA.5.1-louco@PTH\n",
      "RELEASE DATE..............: 2020-12-15\n",
      "RELEASE SiZE..............: 31.326 GB\n",
      "SOURCE....................: A Gentleman.2017.BD50.Untouched  BluRay.ULTRA.DRs\n",
      "\n",
      ".Media.Info\n",
      "RUNTiME...................: 2 h 12 min\n",
      "ViDEO CODEC...............: ? High@L4.1 @ 28.61Mb/s\n",
      "RESOLUTiON................: 1920x1080\n",
      "DiSPLAY ASPECT RATiO......: 1.778\n",
      "FRAME RATE................: 24.000\n",
      "BIT DEPTH.................: 8 bits\n",
      "AUDiO CODEC...............: Hindi AC-3 5.1 @ 625.0Kb/s \n",
      "AUDiO CODEC...............: Hindi DTS-HD MA 5.1 @ 4067.37Kb/s \n",
      " \n",
      "SUBTiTLES.................: S_HDMV/PGS : English(en)\n",
      "SUBTiTLES.................: S_TEXT/ASS : Chinese(cht&eng)\n",
      "SUBTiTLES.................: S_TEXT/ASS : Chinese(cht)\n",
      "SUBTiTLES.................: S_TEXT/ASS : Chinese(chs&eng)\n",
      "SUBTiTLES.................: S_TEXT/ASS : Chinese(chs)\n",
      "\n",
      "\n",
      "[/quote]\n",
      "Copy Mediainfo\n"
     ]
    }
   ],
   "source": [
    "REMUX=r\"C:\\Users\\heber\\Music\\A Gentleman.2017.1080p.BluRay.REMUX.AVC.DTS.MA.5.1-louco@PTH\\A Gentleman.2017.1080p.BluRay.REMUX.AVC.DTS.MA.5.1-louco@PTH.mkv\"\n",
    "SRC=r\"A Gentleman.2017.BD50.Untouched  BluRay.ULTRA.DRs\"\n",
    "get_bbcode(REMUX,src=SRC)"
   ]
  },
  {
   "cell_type": "code",
   "execution_count": 84,
   "metadata": {},
   "outputs": [
    {
     "name": "stdout",
     "output_type": "stream",
     "text": [
      "Title: A Gentleman 2017 1080p BluRay x264 DTS-louco@PTH mkv\n",
      "[quote][font=Lucida Console]\n",
      ".Release.Info\n",
      "ENCODER...................: PTH\n",
      "RELEASE NAME..............: A Gentleman.2017.1080p.BluRay.x264.DTS-louco@PTH\n",
      "RELEASE DATE..............: 2020-12-15\n",
      "RELEASE SiZE..............: 14.613 GB\n",
      "SOURCE....................: A Gentleman.2017.BD50.Untouched  BluRay.ULTRA.DRs\n",
      "\n",
      ".Media.Info\n",
      "RUNTiME...................: 2 h 12 min\n",
      "ViDEO CODEC...............: x264 High@L4.1 @ 13.61Mb/s\n",
      "RESOLUTiON................: 1920x800\n",
      "DiSPLAY ASPECT RATiO......: 2.400\n",
      "FRAME RATE................: 24.000\n",
      "BIT DEPTH.................: 8 bits\n",
      "AUDiO CODEC...............: Hindi DTS 5.1 @ 1473.63Kb/s \n",
      " \n",
      "SUBTiTLES.................: S_HDMV/PGS : English(en)\n",
      "SUBTiTLES.................: S_TEXT/ASS : Chinese(cht&eng)\n",
      "SUBTiTLES.................: S_TEXT/ASS : Chinese(cht)\n",
      "SUBTiTLES.................: S_TEXT/ASS : Chinese(chs&eng)\n",
      "SUBTiTLES.................: S_TEXT/ASS : Chinese(chs)\n",
      "\n",
      "\n",
      ".x264.Info\n",
      "x264 [info]: profile High, level 4.1\n",
      "x264 [info]: frame I:2045  Avg QP:14.84  size:254902\n",
      "x264 [info]: frame P:47120 Avg QP:16.48  size:117790\n",
      "x264 [info]: frame B:141513 Avg QP:18.35  size: 57231\n",
      "x264 [info]: consecutive B-frames:  4.4%  5.3% 11.8% 17.2% 17.0% 38.3%  3.7%  0.7%  0.5%  0.3%  0.3%  0.6%\n",
      "x264 [info]: Weighted P-Frames: Y:2.7% UV:2.0%\n",
      "[/quote]\n",
      "Copy Mediainfo\n"
     ]
    }
   ],
   "source": [
    "get_bbcode(x264_filename,src=SRC,logname=\"x264.log\")"
   ]
  },
  {
   "cell_type": "code",
   "execution_count": 85,
   "metadata": {},
   "outputs": [
    {
     "name": "stdout",
     "output_type": "stream",
     "text": [
      "Title: A Gentleman 2017 1080p BluRay x265 10bit DTS-louco@PTH mkv\n",
      "[quote][font=Lucida Console]\n",
      ".Release.Info\n",
      "ENCODER...................: PTH\n",
      "RELEASE NAME..............: A Gentleman.2017.1080p.BluRay.x265.10bit.DTS-louco@PTH\n",
      "RELEASE DATE..............: 2020-12-15\n",
      "RELEASE SiZE..............: 10.446 GB\n",
      "SOURCE....................: A Gentleman.2017.BD50.Untouched  BluRay.ULTRA.DRs\n",
      "\n",
      ".Media.Info\n",
      "RUNTiME...................: 2 h 12 min\n",
      "ViDEO CODEC...............: x265 Main 10@L5.1@High @ 9.31Mb/s\n",
      "RESOLUTiON................: 1920x800\n",
      "DiSPLAY ASPECT RATiO......: 2.400\n",
      "FRAME RATE................: 24.000\n",
      "BIT DEPTH.................: 10 bits\n",
      "AUDiO CODEC...............: Hindi DTS 5.1 @ 1473.63Kb/s \n",
      " \n",
      "SUBTiTLES.................: S_HDMV/PGS : English(en)\n",
      "SUBTiTLES.................: S_TEXT/ASS : Chinese(cht&eng)\n",
      "SUBTiTLES.................: S_TEXT/ASS : Chinese(cht)\n",
      "SUBTiTLES.................: S_TEXT/ASS : Chinese(chs&eng)\n",
      "SUBTiTLES.................: S_TEXT/ASS : Chinese(chs)\n",
      "\n",
      "\n",
      ".x265.Info\n",
      "x265 [info]: Main 10 profile, Level-5.1 (High tier)\n",
      "x265 [info]: frame I:   3007, Avg QP:15.40  kb/s: 36282.52\n",
      "x265 [info]: frame P:  40739, Avg QP:16.65  kb/s: 20436.52\n",
      "x265 [info]: frame B: 146932, Avg QP:20.47  kb/s: 6252.93 \n",
      "x265 [info]: Weighted P-Frames: Y:3.9% UV:3.2%\n",
      "x265 [info]: Weighted B-Frames: Y:2.9% UV:2.2%\n",
      "x265 [info]: consecutive B-frames: 13.8% 10.0% 7.5% 25.6% 9.8% 18.4% 5.2% 6.0% 3.7% \n",
      "[/quote]\n",
      "Copy Mediainfo\n"
     ]
    }
   ],
   "source": [
    "get_bbcode(x265_filename,src=SRC,logname=\"x265.log\")"
   ]
  },
  {
   "cell_type": "markdown",
   "metadata": {},
   "source": [
    "# 备忘录"
   ]
  },
  {
   "cell_type": "raw",
   "metadata": {},
   "source": [
    "The Apartment 1960 Remastered 1080p Blu-ray x264 DTS-HD 5.1-PTH"
   ]
  },
  {
   "cell_type": "raw",
   "metadata": {},
   "source": []
  },
  {
   "cell_type": "code",
   "execution_count": 720,
   "metadata": {},
   "outputs": [
    {
     "name": "stdout",
     "output_type": "stream",
     "text": [
      "[quote][font=Lucida Console]\n",
      ".Release.Info\n",
      "ENCODER...................: PTH\n",
      "RELEASE NAME..............: C:\\Users\\heber\\Music\\The.Apartment.1960.Remastered.1080p.Blu-ray.REMUX.AVC.DTS-HD.5.1-louco-PTH\n",
      "RELEASE DATE..............: 2020-11-30\n",
      "RELEASE SiZE..............: 28.875 GB\n",
      "SOURCE....................: La.grande.bouffe.1973.1080p.Blu-ray.REMUX.AVC.LPCM.1.0-PTH\n",
      "\n",
      ".Media.Info\n",
      "RUNTiME...................: 2 h 4 min\n",
      "ViDEO CODEC...............: x264 High@L4.1 @ 30.52Mb/s\n",
      "RESOLUTiON................: 1920x1080\n",
      "DiSPLAY ASPECT RATiO......: 1.778\n",
      "FRAME RATE................: 23.976\n",
      "BIT DEPTH.................: 8 bits\n",
      "AUDiO CODEC...............: English DTS 5.1 @ 750.0Kb/s \n",
      "AUDiO CODEC...............: Chinese AC-3 2 @ 218.75Kb/s \n",
      " \n",
      "SUBTiTLES.................: S_HDMV/PGS : English(en)\n",
      "SUBTiTLES.................: S_HDMV/PGS : Chinese(zh)\n",
      "SUBTiTLES.................: S_HDMV/PGS : Chinese(zh)\n",
      "SUBTiTLES.................: S_HDMV/PGS : Chinese(zh)\n",
      "SUBTiTLES.................: S_HDMV/PGS : Chinese(zh)\n",
      "\n",
      "\n",
      "[/quote]\n"
     ]
    }
   ],
   "source": [
    "generate_videoinfo(r\"C:\\Users\\heber\\Music\\The.Apartment.1960.Remastered.1080p.Blu-ray.REMUX.AVC.DTS-HD.5.1-louco-PTH.mkv\")"
   ]
  },
  {
   "cell_type": "code",
   "execution_count": null,
   "metadata": {},
   "outputs": [],
   "source": []
  }
 ],
 "metadata": {
  "kernelspec": {
   "display_name": "Python 3",
   "language": "python",
   "name": "python3"
  },
  "language_info": {
   "codemirror_mode": {
    "name": "ipython",
    "version": 3
   },
   "file_extension": ".py",
   "mimetype": "text/x-python",
   "name": "python",
   "nbconvert_exporter": "python",
   "pygments_lexer": "ipython3",
   "version": "3.8.3"
  }
 },
 "nbformat": 4,
 "nbformat_minor": 4
}
